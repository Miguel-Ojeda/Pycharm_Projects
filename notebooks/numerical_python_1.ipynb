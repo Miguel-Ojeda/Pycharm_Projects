{
 "cells": [
  {
   "cell_type": "markdown",
   "id": "0fa6b660-cc0d-4020-b30d-53169b73d818",
   "metadata": {},
   "source": [
    "# Numerical Python (libro)"
   ]
  },
  {
   "cell_type": "code",
   "execution_count": 1,
   "id": "bf2245f1-eb7b-4e9a-9885-628939550e13",
   "metadata": {},
   "outputs": [],
   "source": [
    "import numpy as np"
   ]
  },
  {
   "cell_type": "code",
   "execution_count": 2,
   "id": "60975c4f-4a4e-49f3-a15e-62b83eb51a3f",
   "metadata": {},
   "outputs": [
    {
     "data": {
      "text/plain": [
       "array([[0., 0., 0., 0., 0.],\n",
       "       [0., 0., 0., 0., 0.]])"
      ]
     },
     "execution_count": 2,
     "metadata": {},
     "output_type": "execute_result"
    }
   ],
   "source": [
    "np.zeros((2, 5))"
   ]
  },
  {
   "cell_type": "code",
   "execution_count": 3,
   "id": "b6b44341-8a51-4e4f-95e1-21318a2494af",
   "metadata": {},
   "outputs": [
    {
     "data": {
      "text/plain": [
       "array([1., 1., 1., 1., 1., 1., 1., 1., 1., 1., 1., 1., 1., 1., 1.])"
      ]
     },
     "execution_count": 3,
     "metadata": {},
     "output_type": "execute_result"
    }
   ],
   "source": [
    "np.ones(15)"
   ]
  },
  {
   "cell_type": "code",
   "execution_count": 5,
   "id": "58535772-055e-497d-8f4b-b1b2832baf00",
   "metadata": {},
   "outputs": [
    {
     "data": {
      "text/plain": [
       "array([[1., 1., 1., 1., 1.],\n",
       "       [1., 1., 1., 1., 1.],\n",
       "       [1., 1., 1., 1., 1.]])"
      ]
     },
     "execution_count": 5,
     "metadata": {},
     "output_type": "execute_result"
    }
   ],
   "source": [
    "np.ones((3, 5))"
   ]
  },
  {
   "cell_type": "code",
   "execution_count": 6,
   "id": "b2d15dd6-67f0-41ca-a9b5-47e1cc6472b0",
   "metadata": {},
   "outputs": [
    {
     "data": {
      "text/plain": [
       "array([[1, 1, 1, 1],\n",
       "       [1, 1, 1, 1]], dtype=int8)"
      ]
     },
     "execution_count": 6,
     "metadata": {},
     "output_type": "execute_result"
    }
   ],
   "source": [
    "np.ones((2, 4), dtype=np.int8)"
   ]
  },
  {
   "cell_type": "code",
   "execution_count": 7,
   "id": "2ff2525a-41ca-457c-be62-c40f0a8d538f",
   "metadata": {},
   "outputs": [],
   "source": [
    "unos = np.ones(15)"
   ]
  },
  {
   "cell_type": "code",
   "execution_count": 8,
   "id": "b758b110-a405-47ab-9bb2-4b343295c91a",
   "metadata": {},
   "outputs": [
    {
     "data": {
      "text/plain": [
       "array([1., 1., 1., 1., 1., 1., 1., 1., 1., 1., 1., 1., 1., 1., 1.])"
      ]
     },
     "execution_count": 8,
     "metadata": {},
     "output_type": "execute_result"
    }
   ],
   "source": [
    "unos"
   ]
  },
  {
   "cell_type": "code",
   "execution_count": 14,
   "id": "88bd0c65-bea2-4dc0-b923-afa5dedc62b1",
   "metadata": {},
   "outputs": [
    {
     "data": {
      "text/plain": [
       "array([2., 2., 2., 2., 2., 2., 2., 2., 2., 2., 2., 2., 2., 2., 2.])"
      ]
     },
     "execution_count": 14,
     "metadata": {},
     "output_type": "execute_result"
    }
   ],
   "source": [
    "dos = 2 * unos\n",
    "dos"
   ]
  },
  {
   "cell_type": "code",
   "execution_count": 13,
   "id": "0c8531e7-6ee6-4cfe-b763-6258a200a068",
   "metadata": {},
   "outputs": [
    {
     "data": {
      "text/plain": [
       "array([[3., 3., 3.],\n",
       "       [3., 3., 3.],\n",
       "       [3., 3., 3.],\n",
       "       [3., 3., 3.],\n",
       "       [3., 3., 3.]])"
      ]
     },
     "execution_count": 13,
     "metadata": {},
     "output_type": "execute_result"
    }
   ],
   "source": [
    "    tres = (3 * unos).reshape((5, 3))\n",
    "    tres"
   ]
  },
  {
   "cell_type": "code",
   "execution_count": 15,
   "id": "36a34896-7dca-4f72-b294-49196007385b",
   "metadata": {},
   "outputs": [
    {
     "data": {
      "text/plain": [
       "array([5.4, 5.4, 5.4, 5.4, 5.4, 5.4, 5.4, 5.4, 5.4, 5.4])"
      ]
     },
     "execution_count": 15,
     "metadata": {},
     "output_type": "execute_result"
    }
   ],
   "source": [
    "np.full(10, 5.4)"
   ]
  },
  {
   "cell_type": "code",
   "execution_count": 18,
   "id": "a1a71089-c00c-483f-a521-56a400fb03af",
   "metadata": {},
   "outputs": [
    {
     "data": {
      "text/plain": [
       "array([[5.4, 5.4, 5.4, 5.4, 5.4],\n",
       "       [5.4, 5.4, 5.4, 5.4, 5.4]])"
      ]
     },
     "execution_count": 18,
     "metadata": {},
     "output_type": "execute_result"
    }
   ],
   "source": [
    "np.full((2, 5), 5.4)"
   ]
  },
  {
   "cell_type": "code",
   "execution_count": 19,
   "id": "62166ba6-4bd9-4958-a6da-5defc111ad07",
   "metadata": {},
   "outputs": [],
   "source": [
    "x1 = np.empty(5)"
   ]
  },
  {
   "cell_type": "code",
   "execution_count": 20,
   "id": "533be017-ce50-49dd-9df9-1c0bb40630ec",
   "metadata": {},
   "outputs": [
    {
     "data": {
      "text/plain": [
       "array([2.12199579e-314, 8.86994241e-312, 5.41495948e-321, 1.06099793e-313,\n",
       "       2.29178816e-312])"
      ]
     },
     "execution_count": 20,
     "metadata": {},
     "output_type": "execute_result"
    }
   ],
   "source": [
    "x1  # No tiene valores inicialmente!!"
   ]
  },
  {
   "cell_type": "code",
   "execution_count": 22,
   "id": "b0353616-1b1a-480b-9aa8-ce239f30816e",
   "metadata": {},
   "outputs": [
    {
     "data": {
      "text/plain": [
       "array([3., 3., 3., 3., 3.])"
      ]
     },
     "execution_count": 22,
     "metadata": {},
     "output_type": "execute_result"
    }
   ],
   "source": [
    "x1.fill(3.0)\n",
    "x1"
   ]
  },
  {
   "cell_type": "markdown",
   "id": "85319557-9e41-4994-9fe6-7b4cd29b9448",
   "metadata": {
    "tags": []
   },
   "source": [
    "# Arrays Filled with Incremental Sequences"
   ]
  },
  {
   "cell_type": "code",
   "execution_count": 23,
   "id": "e26e4573-9c3e-42d4-9e0e-0213c9da8415",
   "metadata": {},
   "outputs": [
    {
     "data": {
      "text/plain": [
       "array([0., 1., 2., 3., 4., 5., 6., 7., 8., 9.])"
      ]
     },
     "execution_count": 23,
     "metadata": {},
     "output_type": "execute_result"
    }
   ],
   "source": [
    "np.arange(0.0, 10, 1)"
   ]
  },
  {
   "cell_type": "code",
   "execution_count": 24,
   "id": "d3f96544-1f8e-437c-93ba-a6cb219a41a4",
   "metadata": {},
   "outputs": [
    {
     "data": {
      "text/plain": [
       "array([0. , 0.5, 1. , 1.5, 2. , 2.5, 3. , 3.5, 4. , 4.5, 5. , 5.5, 6. ,\n",
       "       6.5, 7. , 7.5, 8. , 8.5, 9. , 9.5])"
      ]
     },
     "execution_count": 24,
     "metadata": {},
     "output_type": "execute_result"
    }
   ],
   "source": [
    "np.arange(0.0, 10, 0.5)"
   ]
  },
  {
   "cell_type": "code",
   "execution_count": 25,
   "id": "7a7968bd-2f35-43f5-8a0e-a26815de6c88",
   "metadata": {},
   "outputs": [
    {
     "data": {
      "text/plain": [
       "array([ 0.        ,  0.71428571,  1.42857143,  2.14285714,  2.85714286,\n",
       "        3.57142857,  4.28571429,  5.        ,  5.71428571,  6.42857143,\n",
       "        7.14285714,  7.85714286,  8.57142857,  9.28571429, 10.        ])"
      ]
     },
     "execution_count": 25,
     "metadata": {},
     "output_type": "execute_result"
    }
   ],
   "source": [
    "np.linspace(0, 10, 15)   # Genera 15 valores del 0 al 10 igualmente espaciados"
   ]
  },
  {
   "cell_type": "markdown",
   "id": "2a6a3721-216e-4395-8974-14cdc152ffca",
   "metadata": {
    "tags": []
   },
   "source": [
    "# Arrays Filled with Logarithmic Sequences"
   ]
  },
  {
   "cell_type": "code",
   "execution_count": 26,
   "id": "b7b90a5e-1fe5-479e-8647-2ac7029c8daf",
   "metadata": {},
   "outputs": [
    {
     "data": {
      "text/plain": [
       "array([  1.        ,   3.16227766,  10.        ,  31.6227766 ,\n",
       "       100.        ])"
      ]
     },
     "execution_count": 26,
     "metadata": {},
     "output_type": "execute_result"
    }
   ],
   "source": [
    "# Generate an array with logarithmically distributed values between 1 and 100\n",
    "np.logspace(0, 2, 5) # 5 data points between 10**0=1 to 10**2=100"
   ]
  },
  {
   "cell_type": "code",
   "execution_count": 27,
   "id": "d5e929fe-8893-4f6f-961b-c9a92db88eb9",
   "metadata": {},
   "outputs": [],
   "source": [
    "# Por defecto utiliza base 10, pero se pueden utilizar otras bases"
   ]
  },
  {
   "cell_type": "code",
   "execution_count": 28,
   "id": "065baf18-12bc-48ce-ae2f-a2b1fb77e0d3",
   "metadata": {},
   "outputs": [
    {
     "data": {
      "text/plain": [
       "\u001b[1;31mSignature:\u001b[0m\n",
       "\u001b[0mnp\u001b[0m\u001b[1;33m.\u001b[0m\u001b[0mlogspace\u001b[0m\u001b[1;33m(\u001b[0m\u001b[1;33m\n",
       "\u001b[0m    \u001b[0mstart\u001b[0m\u001b[1;33m,\u001b[0m\u001b[1;33m\n",
       "\u001b[0m    \u001b[0mstop\u001b[0m\u001b[1;33m,\u001b[0m\u001b[1;33m\n",
       "\u001b[0m    \u001b[0mnum\u001b[0m\u001b[1;33m=\u001b[0m\u001b[1;36m50\u001b[0m\u001b[1;33m,\u001b[0m\u001b[1;33m\n",
       "\u001b[0m    \u001b[0mendpoint\u001b[0m\u001b[1;33m=\u001b[0m\u001b[1;32mTrue\u001b[0m\u001b[1;33m,\u001b[0m\u001b[1;33m\n",
       "\u001b[0m    \u001b[0mbase\u001b[0m\u001b[1;33m=\u001b[0m\u001b[1;36m10.0\u001b[0m\u001b[1;33m,\u001b[0m\u001b[1;33m\n",
       "\u001b[0m    \u001b[0mdtype\u001b[0m\u001b[1;33m=\u001b[0m\u001b[1;32mNone\u001b[0m\u001b[1;33m,\u001b[0m\u001b[1;33m\n",
       "\u001b[0m    \u001b[0maxis\u001b[0m\u001b[1;33m=\u001b[0m\u001b[1;36m0\u001b[0m\u001b[1;33m,\u001b[0m\u001b[1;33m\n",
       "\u001b[0m\u001b[1;33m)\u001b[0m\u001b[1;33m\u001b[0m\u001b[1;33m\u001b[0m\u001b[0m\n",
       "\u001b[1;31mDocstring:\u001b[0m\n",
       "Return numbers spaced evenly on a log scale.\n",
       "\n",
       "In linear space, the sequence starts at ``base ** start``\n",
       "(`base` to the power of `start`) and ends with ``base ** stop``\n",
       "(see `endpoint` below).\n",
       "\n",
       ".. versionchanged:: 1.16.0\n",
       "    Non-scalar `start` and `stop` are now supported.\n",
       "\n",
       "Parameters\n",
       "----------\n",
       "start : array_like\n",
       "    ``base ** start`` is the starting value of the sequence.\n",
       "stop : array_like\n",
       "    ``base ** stop`` is the final value of the sequence, unless `endpoint`\n",
       "    is False.  In that case, ``num + 1`` values are spaced over the\n",
       "    interval in log-space, of which all but the last (a sequence of\n",
       "    length `num`) are returned.\n",
       "num : integer, optional\n",
       "    Number of samples to generate.  Default is 50.\n",
       "endpoint : boolean, optional\n",
       "    If true, `stop` is the last sample. Otherwise, it is not included.\n",
       "    Default is True.\n",
       "base : array_like, optional\n",
       "    The base of the log space. The step size between the elements in\n",
       "    ``ln(samples) / ln(base)`` (or ``log_base(samples)``) is uniform.\n",
       "    Default is 10.0.\n",
       "dtype : dtype\n",
       "    The type of the output array.  If `dtype` is not given, the data type\n",
       "    is inferred from `start` and `stop`. The inferred type will never be\n",
       "    an integer; `float` is chosen even if the arguments would produce an\n",
       "    array of integers.\n",
       "axis : int, optional\n",
       "    The axis in the result to store the samples.  Relevant only if start\n",
       "    or stop are array-like.  By default (0), the samples will be along a\n",
       "    new axis inserted at the beginning. Use -1 to get an axis at the end.\n",
       "\n",
       "    .. versionadded:: 1.16.0\n",
       "\n",
       "\n",
       "Returns\n",
       "-------\n",
       "samples : ndarray\n",
       "    `num` samples, equally spaced on a log scale.\n",
       "\n",
       "See Also\n",
       "--------\n",
       "arange : Similar to linspace, with the step size specified instead of the\n",
       "         number of samples. Note that, when used with a float endpoint, the\n",
       "         endpoint may or may not be included.\n",
       "linspace : Similar to logspace, but with the samples uniformly distributed\n",
       "           in linear space, instead of log space.\n",
       "geomspace : Similar to logspace, but with endpoints specified directly.\n",
       "\n",
       "Notes\n",
       "-----\n",
       "Logspace is equivalent to the code\n",
       "\n",
       ">>> y = np.linspace(start, stop, num=num, endpoint=endpoint)\n",
       "... # doctest: +SKIP\n",
       ">>> power(base, y).astype(dtype)\n",
       "... # doctest: +SKIP\n",
       "\n",
       "Examples\n",
       "--------\n",
       ">>> np.logspace(2.0, 3.0, num=4)\n",
       "array([ 100.        ,  215.443469  ,  464.15888336, 1000.        ])\n",
       ">>> np.logspace(2.0, 3.0, num=4, endpoint=False)\n",
       "array([100.        ,  177.827941  ,  316.22776602,  562.34132519])\n",
       ">>> np.logspace(2.0, 3.0, num=4, base=2.0)\n",
       "array([4.        ,  5.0396842 ,  6.34960421,  8.        ])\n",
       "\n",
       "Graphical illustration:\n",
       "\n",
       ">>> import matplotlib.pyplot as plt\n",
       ">>> N = 10\n",
       ">>> x1 = np.logspace(0.1, 1, N, endpoint=True)\n",
       ">>> x2 = np.logspace(0.1, 1, N, endpoint=False)\n",
       ">>> y = np.zeros(N)\n",
       ">>> plt.plot(x1, y, 'o')\n",
       "[<matplotlib.lines.Line2D object at 0x...>]\n",
       ">>> plt.plot(x2, y + 0.5, 'o')\n",
       "[<matplotlib.lines.Line2D object at 0x...>]\n",
       ">>> plt.ylim([-0.5, 1])\n",
       "(-0.5, 1)\n",
       ">>> plt.show()\n",
       "\u001b[1;31mFile:\u001b[0m      c:\\users\\miguel\\appdata\\local\\programs\\python\\python310\\lib\\site-packages\\numpy\\core\\function_base.py\n",
       "\u001b[1;31mType:\u001b[0m      function\n"
      ]
     },
     "metadata": {},
     "output_type": "display_data"
    }
   ],
   "source": [
    "np.logspace?"
   ]
  },
  {
   "cell_type": "markdown",
   "id": "ef05cc59-1b70-4153-bec5-310a14db8477",
   "metadata": {
    "tags": []
   },
   "source": [
    "# Meshgrid Arrays\n",
    "Multidimensional coordinate grids can be generated using the function np.meshgrid.  \n",
    "Given two one-dimensional coordinate arrays, we can generate two-dimensional coordinate arrays using the np.meshgrid function."
   ]
  },
  {
   "cell_type": "code",
   "execution_count": 29,
   "id": "604db3e5-b7e5-4a2f-b77a-06bb2ba35517",
   "metadata": {},
   "outputs": [],
   "source": [
    "x = np.array([-1, 0, 1])\n",
    "y = np.array([-2, 0, 2])\n",
    "X, Y = np.meshgrid(x, y)"
   ]
  },
  {
   "cell_type": "code",
   "execution_count": 37,
   "id": "f2af4c02-1a78-4002-9c32-7433279df2e8",
   "metadata": {},
   "outputs": [
    {
     "data": {
      "text/plain": [
       "array([[-1,  0,  1],\n",
       "       [-1,  0,  1],\n",
       "       [-1,  0,  1]])"
      ]
     },
     "execution_count": 37,
     "metadata": {},
     "output_type": "execute_result"
    }
   ],
   "source": [
    "X\n",
    "# si imaginamos el grid, que va a tener 9 puntos, nos da los valores x de cada uno de los puntos"
   ]
  },
  {
   "cell_type": "code",
   "execution_count": 39,
   "id": "c7f15559-f7d7-4702-bca6-e99d3f1a7bdf",
   "metadata": {},
   "outputs": [
    {
     "data": {
      "text/plain": [
       "array([[-2, -2, -2],\n",
       "       [ 0,  0,  0],\n",
       "       [ 2,  2,  2]])"
      ]
     },
     "execution_count": 39,
     "metadata": {},
     "output_type": "execute_result"
    }
   ],
   "source": [
    "Y\n",
    "# si imaginamos el grid, nos da los valores y de cada uno de los puntos"
   ]
  },
  {
   "cell_type": "code",
   "execution_count": 32,
   "id": "5d445ac6-269f-4779-926b-a9d048fbdf28",
   "metadata": {},
   "outputs": [],
   "source": [
    "grid = np.meshgrid(x, y)"
   ]
  },
  {
   "cell_type": "code",
   "execution_count": 33,
   "id": "017dea75-b3ad-48ae-ad7b-846d661d2b9e",
   "metadata": {},
   "outputs": [
    {
     "data": {
      "text/plain": [
       "[array([[-1,  0,  1],\n",
       "        [-1,  0,  1],\n",
       "        [-1,  0,  1]]),\n",
       " array([[-2, -2, -2],\n",
       "        [ 0,  0,  0],\n",
       "        [ 2,  2,  2]])]"
      ]
     },
     "execution_count": 33,
     "metadata": {},
     "output_type": "execute_result"
    }
   ],
   "source": [
    "grid"
   ]
  },
  {
   "cell_type": "markdown",
   "id": "6ddfaedb-f9ed-4135-8d4b-24d35a3f1333",
   "metadata": {
    "tags": []
   },
   "source": [
    "A common use-case of the two-dimensional coordinate arrays, like X and Y in this example, is to evaluate functions over two variables x and y.  \n",
    "For example, to evaluate the expression (x+y)2"
   ]
  },
  {
   "cell_type": "code",
   "execution_count": 35,
   "id": "6297a9e6-9f92-4e78-be4f-324e59ff8fb5",
   "metadata": {},
   "outputs": [
    {
     "data": {
      "text/plain": [
       "array([[9, 4, 1],\n",
       "       [1, 0, 1],\n",
       "       [1, 4, 9]])"
      ]
     },
     "execution_count": 35,
     "metadata": {},
     "output_type": "execute_result"
    }
   ],
   "source": [
    "Z = (X + Y) ** 2\n",
    "Z"
   ]
  },
  {
   "cell_type": "code",
   "execution_count": 42,
   "id": "4d465e9b-5680-476a-9dc4-c2a41cc28cce",
   "metadata": {},
   "outputs": [
    {
     "data": {
      "text/plain": [
       "array([[ 2,  5,  4],\n",
       "       [ 3,  2,  4],\n",
       "       [ 5,  2,  7],\n",
       "       [ 2, -2,  4]])"
      ]
     },
     "execution_count": 42,
     "metadata": {},
     "output_type": "execute_result"
    }
   ],
   "source": [
    "A = np.array([[2, 5, 4], [3, 2, 4], [5, 2, 7], [2, -2, 4]])\n",
    "A"
   ]
  },
  {
   "cell_type": "code",
   "execution_count": 44,
   "id": "cf76670f-0051-4ef4-adeb-61fe84fefcc2",
   "metadata": {},
   "outputs": [
    {
     "data": {
      "text/plain": [
       "array([[1, 1, 1],\n",
       "       [1, 1, 1],\n",
       "       [1, 1, 1],\n",
       "       [1, 1, 1]])"
      ]
     },
     "execution_count": 44,
     "metadata": {},
     "output_type": "execute_result"
    }
   ],
   "source": [
    "np.ones_like(A)  # nos crea un array con la misma estructura que A, pero lleno de unos"
   ]
  },
  {
   "cell_type": "code",
   "execution_count": 46,
   "id": "de387d26-50a2-4280-bdac-f8271f9b1a60",
   "metadata": {},
   "outputs": [
    {
     "data": {
      "text/plain": [
       "array([[0, 0, 0],\n",
       "       [0, 0, 0],\n",
       "       [0, 0, 0],\n",
       "       [0, 0, 0]])"
      ]
     },
     "execution_count": 46,
     "metadata": {},
     "output_type": "execute_result"
    }
   ],
   "source": [
    "np.zeros_like(A)  # lo mismo, pero lleno de ceros"
   ]
  },
  {
   "cell_type": "code",
   "execution_count": 47,
   "id": "04fb8599-955e-42a2-b308-2233947aa584",
   "metadata": {},
   "outputs": [
    {
     "data": {
      "text/plain": [
       "array([[1., 0., 0., 0.],\n",
       "       [0., 1., 0., 0.],\n",
       "       [0., 0., 1., 0.],\n",
       "       [0., 0., 0., 1.]])"
      ]
     },
     "execution_count": 47,
     "metadata": {},
     "output_type": "execute_result"
    }
   ],
   "source": [
    "# creando matriz identidad\n",
    "np.identity(4)"
   ]
  },
  {
   "cell_type": "code",
   "execution_count": 48,
   "id": "297b7a55-66f3-4b5d-8d84-510c24e6f4fe",
   "metadata": {},
   "outputs": [
    {
     "data": {
      "text/plain": [
       "array([[0., 1., 0.],\n",
       "       [0., 0., 1.],\n",
       "       [0., 0., 0.]])"
      ]
     },
     "execution_count": 48,
     "metadata": {},
     "output_type": "execute_result"
    }
   ],
   "source": [
    "# podemos hacer lo mismo exactamente con eye, que además permite un k de desplazamiento\n",
    "np.eye(3, k=1)"
   ]
  },
  {
   "cell_type": "code",
   "execution_count": 49,
   "id": "87c5d89a-2e17-4ce5-a34f-cc65042b7090",
   "metadata": {},
   "outputs": [
    {
     "data": {
      "text/plain": [
       "array([[0., 0., 0.],\n",
       "       [1., 0., 0.],\n",
       "       [0., 1., 0.]])"
      ]
     },
     "execution_count": 49,
     "metadata": {},
     "output_type": "execute_result"
    }
   ],
   "source": [
    "np.eye(3, k= -1)"
   ]
  },
  {
   "cell_type": "code",
   "execution_count": 51,
   "id": "fbf8bcef-920a-4332-a6cc-b9b5583237e1",
   "metadata": {},
   "outputs": [
    {
     "data": {
      "text/plain": [
       "array([[ 1,  0,  0],\n",
       "       [ 0,  2,  0],\n",
       "       [ 0,  0, -4]])"
      ]
     },
     "execution_count": 51,
     "metadata": {},
     "output_type": "execute_result"
    }
   ],
   "source": [
    "# matrices diagonales\n",
    "np.diag((1, 2, -4))"
   ]
  },
  {
   "cell_type": "code",
   "execution_count": 53,
   "id": "268c3291-831e-4584-a448-976c180c7d56",
   "metadata": {},
   "outputs": [
    {
     "data": {
      "text/plain": [
       "array([[ 0,  0,  0,  0],\n",
       "       [ 0,  5,  0,  0],\n",
       "       [ 0,  0, 10,  0],\n",
       "       [ 0,  0,  0, 15]])"
      ]
     },
     "execution_count": 53,
     "metadata": {},
     "output_type": "execute_result"
    }
   ],
   "source": [
    "np.diag(np.arange(0, 20, 5))  # como parámetro le podemos meter cualquier secuencia"
   ]
  },
  {
   "cell_type": "code",
   "execution_count": 55,
   "id": "5902b7cb-3b56-4acb-b764-a1e775ad6a8d",
   "metadata": {},
   "outputs": [
    {
     "data": {
      "text/plain": [
       "array([ 0,  1,  2,  3,  4,  5,  6,  7,  8,  9, 10])"
      ]
     },
     "execution_count": 55,
     "metadata": {},
     "output_type": "execute_result"
    }
   ],
   "source": [
    "a = np.arange(0, 11)\n",
    "a"
   ]
  },
  {
   "cell_type": "code",
   "execution_count": 56,
   "id": "c7f57e27-51a6-494d-ad28-a9c330fe3318",
   "metadata": {},
   "outputs": [
    {
     "data": {
      "text/plain": [
       "array([1, 2, 3, 4, 5, 6, 7, 8, 9])"
      ]
     },
     "execution_count": 56,
     "metadata": {},
     "output_type": "execute_result"
    }
   ],
   "source": [
    "a[1:-1]"
   ]
  },
  {
   "cell_type": "code",
   "execution_count": 57,
   "id": "bc18d006-eca2-40d3-80e5-17219c19cd50",
   "metadata": {},
   "outputs": [
    {
     "data": {
      "text/plain": [
       "array([1, 3, 5, 7, 9])"
      ]
     },
     "execution_count": 57,
     "metadata": {},
     "output_type": "execute_result"
    }
   ],
   "source": [
    "a[1:-1:2]"
   ]
  },
  {
   "cell_type": "code",
   "execution_count": 58,
   "id": "c63067f3-31b2-4b8a-9ae8-e228111b49db",
   "metadata": {},
   "outputs": [
    {
     "data": {
      "text/plain": [
       "array([10,  8,  6,  4,  2,  0])"
      ]
     },
     "execution_count": 58,
     "metadata": {},
     "output_type": "execute_result"
    }
   ],
   "source": [
    "a[::-2]"
   ]
  },
  {
   "cell_type": "code",
   "execution_count": 59,
   "id": "2b827d4d-df78-45e5-8494-2f284effb173",
   "metadata": {},
   "outputs": [],
   "source": [
    "# vamos a crear un array multidimensional desde una función\n",
    "f = lambda m, n: n + 10 * m\n",
    "A = np.fromfunction(f, (6, 6), dtype=int)"
   ]
  },
  {
   "cell_type": "code",
   "execution_count": 60,
   "id": "3e9fb2d4-3afa-4218-8d40-e2d86730a83a",
   "metadata": {},
   "outputs": [
    {
     "data": {
      "text/plain": [
       "array([[ 0,  1,  2,  3,  4,  5],\n",
       "       [10, 11, 12, 13, 14, 15],\n",
       "       [20, 21, 22, 23, 24, 25],\n",
       "       [30, 31, 32, 33, 34, 35],\n",
       "       [40, 41, 42, 43, 44, 45],\n",
       "       [50, 51, 52, 53, 54, 55]])"
      ]
     },
     "execution_count": 60,
     "metadata": {},
     "output_type": "execute_result"
    }
   ],
   "source": [
    "A"
   ]
  },
  {
   "cell_type": "code",
   "execution_count": 61,
   "id": "1499c34b-9371-48b3-b3c2-800f2722f159",
   "metadata": {},
   "outputs": [
    {
     "data": {
      "text/plain": [
       "array([ 1, 11, 21, 31, 41, 51])"
      ]
     },
     "execution_count": 61,
     "metadata": {},
     "output_type": "execute_result"
    }
   ],
   "source": [
    "A[:, 1] # the second column"
   ]
  },
  {
   "cell_type": "code",
   "execution_count": 63,
   "id": "936f965f-1e30-44b7-ad3a-054980446750",
   "metadata": {},
   "outputs": [
    {
     "data": {
      "text/plain": [
       "array([[ 0,  1],\n",
       "       [10, 11],\n",
       "       [20, 21]])"
      ]
     },
     "execution_count": 63,
     "metadata": {},
     "output_type": "execute_result"
    }
   ],
   "source": [
    "A[:3, :2] # upper half diagonal block matrix\n",
    "# O sea, primero indicamos las filas, 0:3, o sea, desde el principio hasta la 3 (sin coger)\n",
    "# Lo mismo para la columna, 0:2"
   ]
  },
  {
   "cell_type": "code",
   "execution_count": 64,
   "id": "fb0109c0-f76c-4a2b-8950-ed78f64b8e00",
   "metadata": {},
   "outputs": [
    {
     "data": {
      "text/plain": [
       "array([[ 0,  2,  4],\n",
       "       [20, 22, 24],\n",
       "       [40, 42, 44]])"
      ]
     },
     "execution_count": 64,
     "metadata": {},
     "output_type": "execute_result"
    }
   ],
   "source": [
    "A[::2, ::2] # every second element starting from 0, 0"
   ]
  },
  {
   "cell_type": "code",
   "execution_count": 66,
   "id": "aeb3e15e-6db6-4e10-af40-7bfc85ed97a9",
   "metadata": {},
   "outputs": [
    {
     "data": {
      "text/plain": [
       "array([[10, 12, 14],\n",
       "       [20, 22, 24],\n",
       "       [30, 32, 34]])"
      ]
     },
     "execution_count": 66,
     "metadata": {},
     "output_type": "execute_result"
    }
   ],
   "source": [
    "A[1:4, ::2] # las filas de la 1 hasta la 3 incluidos, las columnas saltando de 2 en dos"
   ]
  },
  {
   "cell_type": "markdown",
   "id": "b20b31a0-b77a-4b01-90d5-75d4e5860298",
   "metadata": {
    "tags": []
   },
   "source": [
    "# Views...\n",
    "Son distintas formas de ver un mismo array\n",
    "El array no cambia en memoria, lo que cambia es nuestro punto de vista"
   ]
  },
  {
   "cell_type": "code",
   "execution_count": 68,
   "id": "d874db57-eb35-49f9-8b17-cb8c244b8514",
   "metadata": {},
   "outputs": [
    {
     "data": {
      "text/plain": [
       "array([[11, 12, 13, 14],\n",
       "       [21, 22, 23, 24],\n",
       "       [31, 32, 33, 34],\n",
       "       [41, 42, 43, 44]])"
      ]
     },
     "execution_count": 68,
     "metadata": {},
     "output_type": "execute_result"
    }
   ],
   "source": [
    "B = A[1:5, 1:5]\n",
    "B"
   ]
  },
  {
   "cell_type": "code",
   "execution_count": 69,
   "id": "2016cb44-91ba-4117-95d6-3e0bda2a6afd",
   "metadata": {},
   "outputs": [],
   "source": [
    "# Realmente el array b no es nada nuevo, tan solo una vista de A, q se restringe\n",
    "# al rango al que estamos mirando, no se crea ningún nuevo objeto"
   ]
  },
  {
   "cell_type": "code",
   "execution_count": 70,
   "id": "6d503530-54f2-4a88-bde6-27c3759a042a",
   "metadata": {},
   "outputs": [],
   "source": [
    "B[:, :] = 0"
   ]
  },
  {
   "cell_type": "code",
   "execution_count": 71,
   "id": "feedd8af-154f-4ad6-b6ef-55f5a68b9d91",
   "metadata": {},
   "outputs": [
    {
     "data": {
      "text/plain": [
       "array([[ 0,  1,  2,  3,  4,  5],\n",
       "       [10,  0,  0,  0,  0, 15],\n",
       "       [20,  0,  0,  0,  0, 25],\n",
       "       [30,  0,  0,  0,  0, 35],\n",
       "       [40,  0,  0,  0,  0, 45],\n",
       "       [50, 51, 52, 53, 54, 55]])"
      ]
     },
     "execution_count": 71,
     "metadata": {},
     "output_type": "execute_result"
    }
   ],
   "source": [
    "A"
   ]
  },
  {
   "cell_type": "code",
   "execution_count": 75,
   "id": "fb28c8d9-15bc-4128-b2bb-d5d289873961",
   "metadata": {},
   "outputs": [],
   "source": [
    "# Si de verdad quisiéramos crear un nuevo objeto, habría que usar .copy()\n",
    "C = B[1:3, 1:3].copy()"
   ]
  },
  {
   "cell_type": "code",
   "execution_count": 76,
   "id": "af0911bd-05c2-4a4b-ba27-04b146f99ca7",
   "metadata": {},
   "outputs": [],
   "source": [
    "C[:, :] = 1"
   ]
  },
  {
   "cell_type": "code",
   "execution_count": 77,
   "id": "df8469a8-b653-4023-b2fb-b22e3e20e12e",
   "metadata": {},
   "outputs": [
    {
     "data": {
      "text/plain": [
       "array([[1, 1],\n",
       "       [1, 1]])"
      ]
     },
     "execution_count": 77,
     "metadata": {},
     "output_type": "execute_result"
    }
   ],
   "source": [
    "C"
   ]
  },
  {
   "cell_type": "code",
   "execution_count": 78,
   "id": "936e6454-4f55-4ce2-91e6-1d12599e3a0d",
   "metadata": {},
   "outputs": [
    {
     "data": {
      "text/plain": [
       "array([[0, 0, 0, 0],\n",
       "       [0, 0, 0, 0],\n",
       "       [0, 0, 0, 0],\n",
       "       [0, 0, 0, 0]])"
      ]
     },
     "execution_count": 78,
     "metadata": {},
     "output_type": "execute_result"
    }
   ],
   "source": [
    "B"
   ]
  },
  {
   "cell_type": "code",
   "execution_count": 79,
   "id": "d317c63d-fd39-43ed-a48a-dc6f295ac989",
   "metadata": {},
   "outputs": [],
   "source": [
    "# También los views sirve para las traspuestas por ejemplo\n",
    "# sería el mismo objeto, pero cambiamos el orden de movernos...\n",
    "# para el reshape..."
   ]
  },
  {
   "cell_type": "markdown",
   "id": "ca0464cf-14a9-41a0-b50d-2d17d3e3d5fa",
   "metadata": {
    "tags": []
   },
   "source": [
    "### Fancy Indexing and Boolean-Valued Indexing"
   ]
  },
  {
   "cell_type": "code",
   "execution_count": null,
   "id": "69d86672-1be7-4bf2-b555-e35d84d6bf50",
   "metadata": {},
   "outputs": [],
   "source": []
  }
 ],
 "metadata": {
  "kernelspec": {
   "display_name": "Python 3 (ipykernel)",
   "language": "python",
   "name": "python3"
  },
  "language_info": {
   "codemirror_mode": {
    "name": "ipython",
    "version": 3
   },
   "file_extension": ".py",
   "mimetype": "text/x-python",
   "name": "python",
   "nbconvert_exporter": "python",
   "pygments_lexer": "ipython3",
   "version": "3.10.1"
  }
 },
 "nbformat": 4,
 "nbformat_minor": 5
}

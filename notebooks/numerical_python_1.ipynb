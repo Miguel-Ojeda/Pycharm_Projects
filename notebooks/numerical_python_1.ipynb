{
 "cells": [
  {
   "cell_type": "markdown",
   "id": "0fa6b660-cc0d-4020-b30d-53169b73d818",
   "metadata": {},
   "source": [
    "# Numerical Python (libro)"
   ]
  },
  {
   "cell_type": "code",
   "execution_count": 1,
   "id": "bf2245f1-eb7b-4e9a-9885-628939550e13",
   "metadata": {},
   "outputs": [],
   "source": [
    "import numpy as np"
   ]
  },
  {
   "cell_type": "code",
   "execution_count": 3,
   "id": "60975c4f-4a4e-49f3-a15e-62b83eb51a3f",
   "metadata": {},
   "outputs": [
    {
     "data": {
      "text/plain": [
       "array([[0., 0., 0., 0., 0.],\n",
       "       [0., 0., 0., 0., 0.]])"
      ]
     },
     "execution_count": 3,
     "metadata": {},
     "output_type": "execute_result"
    }
   ],
   "source": [
    "np.zeros((2, 5))"
   ]
  },
  {
   "cell_type": "code",
   "execution_count": 4,
   "id": "b6b44341-8a51-4e4f-95e1-21318a2494af",
   "metadata": {},
   "outputs": [
    {
     "data": {
      "text/plain": [
       "array([1., 1., 1., 1., 1., 1., 1., 1., 1., 1., 1., 1., 1., 1., 1.])"
      ]
     },
     "execution_count": 4,
     "metadata": {},
     "output_type": "execute_result"
    }
   ],
   "source": [
    "np.ones(15)"
   ]
  },
  {
   "cell_type": "code",
   "execution_count": 5,
   "id": "58535772-055e-497d-8f4b-b1b2832baf00",
   "metadata": {},
   "outputs": [
    {
     "data": {
      "text/plain": [
       "array([[1., 1., 1., 1., 1.],\n",
       "       [1., 1., 1., 1., 1.],\n",
       "       [1., 1., 1., 1., 1.]])"
      ]
     },
     "execution_count": 5,
     "metadata": {},
     "output_type": "execute_result"
    }
   ],
   "source": [
    "np.ones((3, 5))"
   ]
  },
  {
   "cell_type": "code",
   "execution_count": 6,
   "id": "b2d15dd6-67f0-41ca-a9b5-47e1cc6472b0",
   "metadata": {},
   "outputs": [
    {
     "data": {
      "text/plain": [
       "array([[1, 1, 1, 1],\n",
       "       [1, 1, 1, 1]], dtype=int8)"
      ]
     },
     "execution_count": 6,
     "metadata": {},
     "output_type": "execute_result"
    }
   ],
   "source": [
    "np.ones((2, 4), dtype=np.int8)"
   ]
  },
  {
   "cell_type": "code",
   "execution_count": 7,
   "id": "2ff2525a-41ca-457c-be62-c40f0a8d538f",
   "metadata": {},
   "outputs": [],
   "source": [
    "unos = np.ones(15)"
   ]
  },
  {
   "cell_type": "code",
   "execution_count": 8,
   "id": "b758b110-a405-47ab-9bb2-4b343295c91a",
   "metadata": {},
   "outputs": [
    {
     "data": {
      "text/plain": [
       "array([1., 1., 1., 1., 1., 1., 1., 1., 1., 1., 1., 1., 1., 1., 1.])"
      ]
     },
     "execution_count": 8,
     "metadata": {},
     "output_type": "execute_result"
    }
   ],
   "source": [
    "unos"
   ]
  },
  {
   "cell_type": "code",
   "execution_count": 9,
   "id": "88bd0c65-bea2-4dc0-b923-afa5dedc62b1",
   "metadata": {},
   "outputs": [
    {
     "data": {
      "text/plain": [
       "array([2., 2., 2., 2., 2., 2., 2., 2., 2., 2., 2., 2., 2., 2., 2.])"
      ]
     },
     "execution_count": 9,
     "metadata": {},
     "output_type": "execute_result"
    }
   ],
   "source": [
    "dos = 2 * unos\n",
    "dos"
   ]
  },
  {
   "cell_type": "code",
   "execution_count": 10,
   "id": "0c8531e7-6ee6-4cfe-b763-6258a200a068",
   "metadata": {},
   "outputs": [
    {
     "data": {
      "text/plain": [
       "array([[3., 3., 3.],\n",
       "       [3., 3., 3.],\n",
       "       [3., 3., 3.],\n",
       "       [3., 3., 3.],\n",
       "       [3., 3., 3.]])"
      ]
     },
     "execution_count": 10,
     "metadata": {},
     "output_type": "execute_result"
    }
   ],
   "source": [
    "    tres = (3 * unos).reshape((5, 3))\n",
    "    tres"
   ]
  },
  {
   "cell_type": "code",
   "execution_count": 11,
   "id": "36a34896-7dca-4f72-b294-49196007385b",
   "metadata": {},
   "outputs": [
    {
     "data": {
      "text/plain": [
       "array([5.4, 5.4, 5.4, 5.4, 5.4, 5.4, 5.4, 5.4, 5.4, 5.4])"
      ]
     },
     "execution_count": 11,
     "metadata": {},
     "output_type": "execute_result"
    }
   ],
   "source": [
    "np.full(10, 5.4)"
   ]
  },
  {
   "cell_type": "code",
   "execution_count": 12,
   "id": "a1a71089-c00c-483f-a521-56a400fb03af",
   "metadata": {},
   "outputs": [
    {
     "data": {
      "text/plain": [
       "array([[5.4, 5.4, 5.4, 5.4, 5.4],\n",
       "       [5.4, 5.4, 5.4, 5.4, 5.4]])"
      ]
     },
     "execution_count": 12,
     "metadata": {},
     "output_type": "execute_result"
    }
   ],
   "source": [
    "np.full((2, 5), 5.4)"
   ]
  },
  {
   "cell_type": "code",
   "execution_count": 13,
   "id": "62166ba6-4bd9-4958-a6da-5defc111ad07",
   "metadata": {},
   "outputs": [],
   "source": [
    "x1 = np.empty(5)"
   ]
  },
  {
   "cell_type": "code",
   "execution_count": 14,
   "id": "533be017-ce50-49dd-9df9-1c0bb40630ec",
   "metadata": {},
   "outputs": [
    {
     "data": {
      "text/plain": [
       "array([6.23042070e-307, 4.67296746e-307, 1.69121096e-306, 1.02360527e-306,\n",
       "       2.29178816e-312])"
      ]
     },
     "execution_count": 14,
     "metadata": {},
     "output_type": "execute_result"
    }
   ],
   "source": [
    "x1  # No tiene valores inicialmente!!"
   ]
  },
  {
   "cell_type": "code",
   "execution_count": 15,
   "id": "b0353616-1b1a-480b-9aa8-ce239f30816e",
   "metadata": {},
   "outputs": [
    {
     "data": {
      "text/plain": [
       "array([3., 3., 3., 3., 3.])"
      ]
     },
     "execution_count": 15,
     "metadata": {},
     "output_type": "execute_result"
    }
   ],
   "source": [
    "x1.fill(3.0)\n",
    "x1"
   ]
  },
  {
   "cell_type": "markdown",
   "id": "85319557-9e41-4994-9fe6-7b4cd29b9448",
   "metadata": {
    "tags": []
   },
   "source": [
    "# Arrays Filled with Incremental Sequences"
   ]
  },
  {
   "cell_type": "code",
   "execution_count": 16,
   "id": "e26e4573-9c3e-42d4-9e0e-0213c9da8415",
   "metadata": {},
   "outputs": [
    {
     "data": {
      "text/plain": [
       "array([0., 1., 2., 3., 4., 5., 6., 7., 8., 9.])"
      ]
     },
     "execution_count": 16,
     "metadata": {},
     "output_type": "execute_result"
    }
   ],
   "source": [
    "np.arange(0.0, 10, 1)"
   ]
  },
  {
   "cell_type": "code",
   "execution_count": 17,
   "id": "d3f96544-1f8e-437c-93ba-a6cb219a41a4",
   "metadata": {},
   "outputs": [
    {
     "data": {
      "text/plain": [
       "array([0. , 0.5, 1. , 1.5, 2. , 2.5, 3. , 3.5, 4. , 4.5, 5. , 5.5, 6. ,\n",
       "       6.5, 7. , 7.5, 8. , 8.5, 9. , 9.5])"
      ]
     },
     "execution_count": 17,
     "metadata": {},
     "output_type": "execute_result"
    }
   ],
   "source": [
    "np.arange(0.0, 10, 0.5)"
   ]
  },
  {
   "cell_type": "code",
   "execution_count": 18,
   "id": "7a7968bd-2f35-43f5-8a0e-a26815de6c88",
   "metadata": {},
   "outputs": [
    {
     "data": {
      "text/plain": [
       "array([ 0.        ,  0.71428571,  1.42857143,  2.14285714,  2.85714286,\n",
       "        3.57142857,  4.28571429,  5.        ,  5.71428571,  6.42857143,\n",
       "        7.14285714,  7.85714286,  8.57142857,  9.28571429, 10.        ])"
      ]
     },
     "execution_count": 18,
     "metadata": {},
     "output_type": "execute_result"
    }
   ],
   "source": [
    "np.linspace(0, 10, 15)   # Genera 15 valores del 0 al 10 igualmente espaciados"
   ]
  },
  {
   "cell_type": "markdown",
   "id": "2a6a3721-216e-4395-8974-14cdc152ffca",
   "metadata": {
    "tags": []
   },
   "source": [
    "# Arrays Filled with Logarithmic Sequences"
   ]
  },
  {
   "cell_type": "code",
   "execution_count": 19,
   "id": "b7b90a5e-1fe5-479e-8647-2ac7029c8daf",
   "metadata": {},
   "outputs": [
    {
     "data": {
      "text/plain": [
       "array([  1.        ,   3.16227766,  10.        ,  31.6227766 ,\n",
       "       100.        ])"
      ]
     },
     "execution_count": 19,
     "metadata": {},
     "output_type": "execute_result"
    }
   ],
   "source": [
    "# Generate an array with logarithmically distributed values between 1 and 100\n",
    "np.logspace(0, 2, 5) # 5 data points between 10**0=1 to 10**2=100"
   ]
  },
  {
   "cell_type": "code",
   "execution_count": 20,
   "id": "d5e929fe-8893-4f6f-961b-c9a92db88eb9",
   "metadata": {},
   "outputs": [],
   "source": [
    "# Por defecto utiliza base 10, pero se pueden utilizar otras bases"
   ]
  },
  {
   "cell_type": "code",
   "execution_count": 21,
   "id": "065baf18-12bc-48ce-ae2f-a2b1fb77e0d3",
   "metadata": {},
   "outputs": [
    {
     "data": {
      "text/plain": [
       "\u001b[1;31mSignature:\u001b[0m\n",
       "\u001b[0mnp\u001b[0m\u001b[1;33m.\u001b[0m\u001b[0mlogspace\u001b[0m\u001b[1;33m(\u001b[0m\u001b[1;33m\n",
       "\u001b[0m    \u001b[0mstart\u001b[0m\u001b[1;33m,\u001b[0m\u001b[1;33m\n",
       "\u001b[0m    \u001b[0mstop\u001b[0m\u001b[1;33m,\u001b[0m\u001b[1;33m\n",
       "\u001b[0m    \u001b[0mnum\u001b[0m\u001b[1;33m=\u001b[0m\u001b[1;36m50\u001b[0m\u001b[1;33m,\u001b[0m\u001b[1;33m\n",
       "\u001b[0m    \u001b[0mendpoint\u001b[0m\u001b[1;33m=\u001b[0m\u001b[1;32mTrue\u001b[0m\u001b[1;33m,\u001b[0m\u001b[1;33m\n",
       "\u001b[0m    \u001b[0mbase\u001b[0m\u001b[1;33m=\u001b[0m\u001b[1;36m10.0\u001b[0m\u001b[1;33m,\u001b[0m\u001b[1;33m\n",
       "\u001b[0m    \u001b[0mdtype\u001b[0m\u001b[1;33m=\u001b[0m\u001b[1;32mNone\u001b[0m\u001b[1;33m,\u001b[0m\u001b[1;33m\n",
       "\u001b[0m    \u001b[0maxis\u001b[0m\u001b[1;33m=\u001b[0m\u001b[1;36m0\u001b[0m\u001b[1;33m,\u001b[0m\u001b[1;33m\n",
       "\u001b[0m\u001b[1;33m)\u001b[0m\u001b[1;33m\u001b[0m\u001b[1;33m\u001b[0m\u001b[0m\n",
       "\u001b[1;31mDocstring:\u001b[0m\n",
       "Return numbers spaced evenly on a log scale.\n",
       "\n",
       "In linear space, the sequence starts at ``base ** start``\n",
       "(`base` to the power of `start`) and ends with ``base ** stop``\n",
       "(see `endpoint` below).\n",
       "\n",
       ".. versionchanged:: 1.16.0\n",
       "    Non-scalar `start` and `stop` are now supported.\n",
       "\n",
       "Parameters\n",
       "----------\n",
       "start : array_like\n",
       "    ``base ** start`` is the starting value of the sequence.\n",
       "stop : array_like\n",
       "    ``base ** stop`` is the final value of the sequence, unless `endpoint`\n",
       "    is False.  In that case, ``num + 1`` values are spaced over the\n",
       "    interval in log-space, of which all but the last (a sequence of\n",
       "    length `num`) are returned.\n",
       "num : integer, optional\n",
       "    Number of samples to generate.  Default is 50.\n",
       "endpoint : boolean, optional\n",
       "    If true, `stop` is the last sample. Otherwise, it is not included.\n",
       "    Default is True.\n",
       "base : array_like, optional\n",
       "    The base of the log space. The step size between the elements in\n",
       "    ``ln(samples) / ln(base)`` (or ``log_base(samples)``) is uniform.\n",
       "    Default is 10.0.\n",
       "dtype : dtype\n",
       "    The type of the output array.  If `dtype` is not given, the data type\n",
       "    is inferred from `start` and `stop`. The inferred type will never be\n",
       "    an integer; `float` is chosen even if the arguments would produce an\n",
       "    array of integers.\n",
       "axis : int, optional\n",
       "    The axis in the result to store the samples.  Relevant only if start\n",
       "    or stop are array-like.  By default (0), the samples will be along a\n",
       "    new axis inserted at the beginning. Use -1 to get an axis at the end.\n",
       "\n",
       "    .. versionadded:: 1.16.0\n",
       "\n",
       "\n",
       "Returns\n",
       "-------\n",
       "samples : ndarray\n",
       "    `num` samples, equally spaced on a log scale.\n",
       "\n",
       "See Also\n",
       "--------\n",
       "arange : Similar to linspace, with the step size specified instead of the\n",
       "         number of samples. Note that, when used with a float endpoint, the\n",
       "         endpoint may or may not be included.\n",
       "linspace : Similar to logspace, but with the samples uniformly distributed\n",
       "           in linear space, instead of log space.\n",
       "geomspace : Similar to logspace, but with endpoints specified directly.\n",
       "\n",
       "Notes\n",
       "-----\n",
       "Logspace is equivalent to the code\n",
       "\n",
       ">>> y = np.linspace(start, stop, num=num, endpoint=endpoint)\n",
       "... # doctest: +SKIP\n",
       ">>> power(base, y).astype(dtype)\n",
       "... # doctest: +SKIP\n",
       "\n",
       "Examples\n",
       "--------\n",
       ">>> np.logspace(2.0, 3.0, num=4)\n",
       "array([ 100.        ,  215.443469  ,  464.15888336, 1000.        ])\n",
       ">>> np.logspace(2.0, 3.0, num=4, endpoint=False)\n",
       "array([100.        ,  177.827941  ,  316.22776602,  562.34132519])\n",
       ">>> np.logspace(2.0, 3.0, num=4, base=2.0)\n",
       "array([4.        ,  5.0396842 ,  6.34960421,  8.        ])\n",
       "\n",
       "Graphical illustration:\n",
       "\n",
       ">>> import matplotlib.pyplot as plt\n",
       ">>> N = 10\n",
       ">>> x1 = np.logspace(0.1, 1, N, endpoint=True)\n",
       ">>> x2 = np.logspace(0.1, 1, N, endpoint=False)\n",
       ">>> y = np.zeros(N)\n",
       ">>> plt.plot(x1, y, 'o')\n",
       "[<matplotlib.lines.Line2D object at 0x...>]\n",
       ">>> plt.plot(x2, y + 0.5, 'o')\n",
       "[<matplotlib.lines.Line2D object at 0x...>]\n",
       ">>> plt.ylim([-0.5, 1])\n",
       "(-0.5, 1)\n",
       ">>> plt.show()\n",
       "\u001b[1;31mFile:\u001b[0m      c:\\users\\miguel\\appdata\\local\\programs\\python\\python310\\lib\\site-packages\\numpy\\core\\function_base.py\n",
       "\u001b[1;31mType:\u001b[0m      function\n"
      ]
     },
     "metadata": {},
     "output_type": "display_data"
    }
   ],
   "source": [
    "np.logspace?"
   ]
  },
  {
   "cell_type": "markdown",
   "id": "ef05cc59-1b70-4153-bec5-310a14db8477",
   "metadata": {
    "tags": []
   },
   "source": [
    "# Meshgrid Arrays\n",
    "Multidimensional coordinate grids can be generated using the function np.meshgrid.  \n",
    "Given two one-dimensional coordinate arrays, we can generate two-dimensional coordinate arrays using the np.meshgrid function."
   ]
  },
  {
   "cell_type": "code",
   "execution_count": 22,
   "id": "604db3e5-b7e5-4a2f-b77a-06bb2ba35517",
   "metadata": {},
   "outputs": [],
   "source": [
    "x = np.array([-1, 0, 1])\n",
    "y = np.array([-2, 0, 2])\n",
    "X, Y = np.meshgrid(x, y)"
   ]
  },
  {
   "cell_type": "code",
   "execution_count": 23,
   "id": "f2af4c02-1a78-4002-9c32-7433279df2e8",
   "metadata": {},
   "outputs": [
    {
     "data": {
      "text/plain": [
       "array([[-1,  0,  1],\n",
       "       [-1,  0,  1],\n",
       "       [-1,  0,  1]])"
      ]
     },
     "execution_count": 23,
     "metadata": {},
     "output_type": "execute_result"
    }
   ],
   "source": [
    "X\n",
    "# si imaginamos el grid, que va a tener 9 puntos, nos da los valores x de cada uno de los puntos"
   ]
  },
  {
   "cell_type": "code",
   "execution_count": 24,
   "id": "c7f15559-f7d7-4702-bca6-e99d3f1a7bdf",
   "metadata": {},
   "outputs": [
    {
     "data": {
      "text/plain": [
       "array([[-2, -2, -2],\n",
       "       [ 0,  0,  0],\n",
       "       [ 2,  2,  2]])"
      ]
     },
     "execution_count": 24,
     "metadata": {},
     "output_type": "execute_result"
    }
   ],
   "source": [
    "Y\n",
    "# si imaginamos el grid, nos da los valores y de cada uno de los puntos"
   ]
  },
  {
   "cell_type": "code",
   "execution_count": 25,
   "id": "5d445ac6-269f-4779-926b-a9d048fbdf28",
   "metadata": {},
   "outputs": [],
   "source": [
    "grid = np.meshgrid(x, y)"
   ]
  },
  {
   "cell_type": "code",
   "execution_count": 26,
   "id": "017dea75-b3ad-48ae-ad7b-846d661d2b9e",
   "metadata": {},
   "outputs": [
    {
     "data": {
      "text/plain": [
       "[array([[-1,  0,  1],\n",
       "        [-1,  0,  1],\n",
       "        [-1,  0,  1]]),\n",
       " array([[-2, -2, -2],\n",
       "        [ 0,  0,  0],\n",
       "        [ 2,  2,  2]])]"
      ]
     },
     "execution_count": 26,
     "metadata": {},
     "output_type": "execute_result"
    }
   ],
   "source": [
    "grid"
   ]
  },
  {
   "cell_type": "markdown",
   "id": "6ddfaedb-f9ed-4135-8d4b-24d35a3f1333",
   "metadata": {
    "tags": []
   },
   "source": [
    "A common use-case of the two-dimensional coordinate arrays, like X and Y in this example, is to evaluate functions over two variables x and y.  \n",
    "For example, to evaluate the expression (x+y)2"
   ]
  },
  {
   "cell_type": "code",
   "execution_count": 27,
   "id": "6297a9e6-9f92-4e78-be4f-324e59ff8fb5",
   "metadata": {},
   "outputs": [
    {
     "data": {
      "text/plain": [
       "array([[9, 4, 1],\n",
       "       [1, 0, 1],\n",
       "       [1, 4, 9]])"
      ]
     },
     "execution_count": 27,
     "metadata": {},
     "output_type": "execute_result"
    }
   ],
   "source": [
    "Z = (X + Y) ** 2\n",
    "Z"
   ]
  },
  {
   "cell_type": "code",
   "execution_count": 28,
   "id": "4d465e9b-5680-476a-9dc4-c2a41cc28cce",
   "metadata": {},
   "outputs": [
    {
     "data": {
      "text/plain": [
       "array([[ 2,  5,  4],\n",
       "       [ 3,  2,  4],\n",
       "       [ 5,  2,  7],\n",
       "       [ 2, -2,  4]])"
      ]
     },
     "execution_count": 28,
     "metadata": {},
     "output_type": "execute_result"
    }
   ],
   "source": [
    "A = np.array([[2, 5, 4], [3, 2, 4], [5, 2, 7], [2, -2, 4]])\n",
    "A"
   ]
  },
  {
   "cell_type": "code",
   "execution_count": 29,
   "id": "cf76670f-0051-4ef4-adeb-61fe84fefcc2",
   "metadata": {},
   "outputs": [
    {
     "data": {
      "text/plain": [
       "array([[1, 1, 1],\n",
       "       [1, 1, 1],\n",
       "       [1, 1, 1],\n",
       "       [1, 1, 1]])"
      ]
     },
     "execution_count": 29,
     "metadata": {},
     "output_type": "execute_result"
    }
   ],
   "source": [
    "np.ones_like(A)  # nos crea un array con la misma estructura que A, pero lleno de unos"
   ]
  },
  {
   "cell_type": "code",
   "execution_count": 30,
   "id": "de387d26-50a2-4280-bdac-f8271f9b1a60",
   "metadata": {},
   "outputs": [
    {
     "data": {
      "text/plain": [
       "array([[0, 0, 0],\n",
       "       [0, 0, 0],\n",
       "       [0, 0, 0],\n",
       "       [0, 0, 0]])"
      ]
     },
     "execution_count": 30,
     "metadata": {},
     "output_type": "execute_result"
    }
   ],
   "source": [
    "np.zeros_like(A)  # lo mismo, pero lleno de ceros"
   ]
  },
  {
   "cell_type": "code",
   "execution_count": 31,
   "id": "04fb8599-955e-42a2-b308-2233947aa584",
   "metadata": {},
   "outputs": [
    {
     "data": {
      "text/plain": [
       "array([[1., 0., 0., 0.],\n",
       "       [0., 1., 0., 0.],\n",
       "       [0., 0., 1., 0.],\n",
       "       [0., 0., 0., 1.]])"
      ]
     },
     "execution_count": 31,
     "metadata": {},
     "output_type": "execute_result"
    }
   ],
   "source": [
    "# creando matriz identidad\n",
    "np.identity(4)"
   ]
  },
  {
   "cell_type": "code",
   "execution_count": 32,
   "id": "297b7a55-66f3-4b5d-8d84-510c24e6f4fe",
   "metadata": {},
   "outputs": [
    {
     "data": {
      "text/plain": [
       "array([[0., 1., 0.],\n",
       "       [0., 0., 1.],\n",
       "       [0., 0., 0.]])"
      ]
     },
     "execution_count": 32,
     "metadata": {},
     "output_type": "execute_result"
    }
   ],
   "source": [
    "# podemos hacer lo mismo exactamente con eye, que además permite un k de desplazamiento\n",
    "np.eye(3, k=1)"
   ]
  },
  {
   "cell_type": "code",
   "execution_count": 33,
   "id": "87c5d89a-2e17-4ce5-a34f-cc65042b7090",
   "metadata": {},
   "outputs": [
    {
     "data": {
      "text/plain": [
       "array([[0., 0., 0.],\n",
       "       [1., 0., 0.],\n",
       "       [0., 1., 0.]])"
      ]
     },
     "execution_count": 33,
     "metadata": {},
     "output_type": "execute_result"
    }
   ],
   "source": [
    "np.eye(3, k= -1)"
   ]
  },
  {
   "cell_type": "code",
   "execution_count": 34,
   "id": "fbf8bcef-920a-4332-a6cc-b9b5583237e1",
   "metadata": {},
   "outputs": [
    {
     "data": {
      "text/plain": [
       "array([[ 1,  0,  0],\n",
       "       [ 0,  2,  0],\n",
       "       [ 0,  0, -4]])"
      ]
     },
     "execution_count": 34,
     "metadata": {},
     "output_type": "execute_result"
    }
   ],
   "source": [
    "# matrices diagonales\n",
    "np.diag((1, 2, -4))"
   ]
  },
  {
   "cell_type": "code",
   "execution_count": 35,
   "id": "268c3291-831e-4584-a448-976c180c7d56",
   "metadata": {},
   "outputs": [
    {
     "data": {
      "text/plain": [
       "array([[ 0,  0,  0,  0],\n",
       "       [ 0,  5,  0,  0],\n",
       "       [ 0,  0, 10,  0],\n",
       "       [ 0,  0,  0, 15]])"
      ]
     },
     "execution_count": 35,
     "metadata": {},
     "output_type": "execute_result"
    }
   ],
   "source": [
    "np.diag(np.arange(0, 20, 5))  # como parámetro le podemos meter cualquier secuencia"
   ]
  },
  {
   "cell_type": "code",
   "execution_count": 36,
   "id": "5902b7cb-3b56-4acb-b764-a1e775ad6a8d",
   "metadata": {},
   "outputs": [
    {
     "data": {
      "text/plain": [
       "array([ 0,  1,  2,  3,  4,  5,  6,  7,  8,  9, 10])"
      ]
     },
     "execution_count": 36,
     "metadata": {},
     "output_type": "execute_result"
    }
   ],
   "source": [
    "a = np.arange(0, 11)\n",
    "a"
   ]
  },
  {
   "cell_type": "code",
   "execution_count": 37,
   "id": "c7f57e27-51a6-494d-ad28-a9c330fe3318",
   "metadata": {},
   "outputs": [
    {
     "data": {
      "text/plain": [
       "array([1, 2, 3, 4, 5, 6, 7, 8, 9])"
      ]
     },
     "execution_count": 37,
     "metadata": {},
     "output_type": "execute_result"
    }
   ],
   "source": [
    "a[1:-1]"
   ]
  },
  {
   "cell_type": "code",
   "execution_count": 38,
   "id": "bc18d006-eca2-40d3-80e5-17219c19cd50",
   "metadata": {},
   "outputs": [
    {
     "data": {
      "text/plain": [
       "array([1, 3, 5, 7, 9])"
      ]
     },
     "execution_count": 38,
     "metadata": {},
     "output_type": "execute_result"
    }
   ],
   "source": [
    "a[1:-1:2]"
   ]
  },
  {
   "cell_type": "code",
   "execution_count": 39,
   "id": "c63067f3-31b2-4b8a-9ae8-e228111b49db",
   "metadata": {},
   "outputs": [
    {
     "data": {
      "text/plain": [
       "array([10,  8,  6,  4,  2,  0])"
      ]
     },
     "execution_count": 39,
     "metadata": {},
     "output_type": "execute_result"
    }
   ],
   "source": [
    "a[::-2]"
   ]
  },
  {
   "cell_type": "code",
   "execution_count": 40,
   "id": "2b827d4d-df78-45e5-8494-2f284effb173",
   "metadata": {},
   "outputs": [],
   "source": [
    "# vamos a crear un array multidimensional desde una función\n",
    "f = lambda m, n: n + 10 * m\n",
    "A = np.fromfunction(f, (6, 6), dtype=int)"
   ]
  },
  {
   "cell_type": "code",
   "execution_count": 41,
   "id": "3e9fb2d4-3afa-4218-8d40-e2d86730a83a",
   "metadata": {},
   "outputs": [
    {
     "data": {
      "text/plain": [
       "array([[ 0,  1,  2,  3,  4,  5],\n",
       "       [10, 11, 12, 13, 14, 15],\n",
       "       [20, 21, 22, 23, 24, 25],\n",
       "       [30, 31, 32, 33, 34, 35],\n",
       "       [40, 41, 42, 43, 44, 45],\n",
       "       [50, 51, 52, 53, 54, 55]])"
      ]
     },
     "execution_count": 41,
     "metadata": {},
     "output_type": "execute_result"
    }
   ],
   "source": [
    "A"
   ]
  },
  {
   "cell_type": "code",
   "execution_count": 42,
   "id": "1499c34b-9371-48b3-b3c2-800f2722f159",
   "metadata": {},
   "outputs": [
    {
     "data": {
      "text/plain": [
       "array([ 1, 11, 21, 31, 41, 51])"
      ]
     },
     "execution_count": 42,
     "metadata": {},
     "output_type": "execute_result"
    }
   ],
   "source": [
    "A[:, 1] # the second column"
   ]
  },
  {
   "cell_type": "code",
   "execution_count": 43,
   "id": "936f965f-1e30-44b7-ad3a-054980446750",
   "metadata": {},
   "outputs": [
    {
     "data": {
      "text/plain": [
       "array([[ 0,  1],\n",
       "       [10, 11],\n",
       "       [20, 21]])"
      ]
     },
     "execution_count": 43,
     "metadata": {},
     "output_type": "execute_result"
    }
   ],
   "source": [
    "A[:3, :2] # upper half diagonal block matrix\n",
    "# O sea, primero indicamos las filas, 0:3, o sea, desde el principio hasta la 3 (sin coger)\n",
    "# Lo mismo para la columna, 0:2"
   ]
  },
  {
   "cell_type": "code",
   "execution_count": 44,
   "id": "fb0109c0-f76c-4a2b-8950-ed78f64b8e00",
   "metadata": {},
   "outputs": [
    {
     "data": {
      "text/plain": [
       "array([[ 0,  2,  4],\n",
       "       [20, 22, 24],\n",
       "       [40, 42, 44]])"
      ]
     },
     "execution_count": 44,
     "metadata": {},
     "output_type": "execute_result"
    }
   ],
   "source": [
    "A[::2, ::2] # every second element starting from 0, 0"
   ]
  },
  {
   "cell_type": "code",
   "execution_count": 45,
   "id": "aeb3e15e-6db6-4e10-af40-7bfc85ed97a9",
   "metadata": {},
   "outputs": [
    {
     "data": {
      "text/plain": [
       "array([[10, 12, 14],\n",
       "       [20, 22, 24],\n",
       "       [30, 32, 34]])"
      ]
     },
     "execution_count": 45,
     "metadata": {},
     "output_type": "execute_result"
    }
   ],
   "source": [
    "A[1:4, ::2] # las filas de la 1 hasta la 3 incluidos, las columnas saltando de 2 en dos"
   ]
  },
  {
   "cell_type": "markdown",
   "id": "b20b31a0-b77a-4b01-90d5-75d4e5860298",
   "metadata": {
    "tags": []
   },
   "source": [
    "# Views...\n",
    "Son distintas formas de ver un mismo array\n",
    "El array no cambia en memoria, lo que cambia es nuestro punto de vista"
   ]
  },
  {
   "cell_type": "code",
   "execution_count": 46,
   "id": "d874db57-eb35-49f9-8b17-cb8c244b8514",
   "metadata": {},
   "outputs": [
    {
     "data": {
      "text/plain": [
       "array([[11, 12, 13, 14],\n",
       "       [21, 22, 23, 24],\n",
       "       [31, 32, 33, 34],\n",
       "       [41, 42, 43, 44]])"
      ]
     },
     "execution_count": 46,
     "metadata": {},
     "output_type": "execute_result"
    }
   ],
   "source": [
    "B = A[1:5, 1:5]\n",
    "B"
   ]
  },
  {
   "cell_type": "code",
   "execution_count": 47,
   "id": "2016cb44-91ba-4117-95d6-3e0bda2a6afd",
   "metadata": {},
   "outputs": [],
   "source": [
    "# Realmente el array b no es nada nuevo, tan solo una vista de A, q se restringe\n",
    "# al rango al que estamos mirando, no se crea ningún nuevo objeto"
   ]
  },
  {
   "cell_type": "code",
   "execution_count": 48,
   "id": "6d503530-54f2-4a88-bde6-27c3759a042a",
   "metadata": {},
   "outputs": [],
   "source": [
    "B[:, :] = 0"
   ]
  },
  {
   "cell_type": "code",
   "execution_count": 49,
   "id": "feedd8af-154f-4ad6-b6ef-55f5a68b9d91",
   "metadata": {},
   "outputs": [
    {
     "data": {
      "text/plain": [
       "array([[ 0,  1,  2,  3,  4,  5],\n",
       "       [10,  0,  0,  0,  0, 15],\n",
       "       [20,  0,  0,  0,  0, 25],\n",
       "       [30,  0,  0,  0,  0, 35],\n",
       "       [40,  0,  0,  0,  0, 45],\n",
       "       [50, 51, 52, 53, 54, 55]])"
      ]
     },
     "execution_count": 49,
     "metadata": {},
     "output_type": "execute_result"
    }
   ],
   "source": [
    "A"
   ]
  },
  {
   "cell_type": "code",
   "execution_count": 50,
   "id": "fb28c8d9-15bc-4128-b2bb-d5d289873961",
   "metadata": {},
   "outputs": [],
   "source": [
    "# Si de verdad quisiéramos crear un nuevo objeto, habría que usar .copy()\n",
    "C = B[1:3, 1:3].copy()"
   ]
  },
  {
   "cell_type": "code",
   "execution_count": 51,
   "id": "af0911bd-05c2-4a4b-ba27-04b146f99ca7",
   "metadata": {},
   "outputs": [],
   "source": [
    "C[:, :] = 1"
   ]
  },
  {
   "cell_type": "code",
   "execution_count": 52,
   "id": "df8469a8-b653-4023-b2fb-b22e3e20e12e",
   "metadata": {},
   "outputs": [
    {
     "data": {
      "text/plain": [
       "array([[1, 1],\n",
       "       [1, 1]])"
      ]
     },
     "execution_count": 52,
     "metadata": {},
     "output_type": "execute_result"
    }
   ],
   "source": [
    "C"
   ]
  },
  {
   "cell_type": "code",
   "execution_count": 53,
   "id": "936e6454-4f55-4ce2-91e6-1d12599e3a0d",
   "metadata": {},
   "outputs": [
    {
     "data": {
      "text/plain": [
       "array([[0, 0, 0, 0],\n",
       "       [0, 0, 0, 0],\n",
       "       [0, 0, 0, 0],\n",
       "       [0, 0, 0, 0]])"
      ]
     },
     "execution_count": 53,
     "metadata": {},
     "output_type": "execute_result"
    }
   ],
   "source": [
    "B"
   ]
  },
  {
   "cell_type": "code",
   "execution_count": 54,
   "id": "d317c63d-fd39-43ed-a48a-dc6f295ac989",
   "metadata": {},
   "outputs": [],
   "source": [
    "# También los views sirve para las traspuestas por ejemplo\n",
    "# sería el mismo objeto, pero cambiamos el orden de movernos...\n",
    "# para el reshape..."
   ]
  },
  {
   "cell_type": "markdown",
   "id": "ca0464cf-14a9-41a0-b50d-2d17d3e3d5fa",
   "metadata": {
    "tags": []
   },
   "source": [
    "### Fancy Indexing and Boolean-Valued Indexing"
   ]
  },
  {
   "cell_type": "markdown",
   "id": "e952fbf3-b6ec-4077-a7b2-2ba9ea4d68f7",
   "metadata": {
    "tags": []
   },
   "source": [
    "Fancy indexing  \n",
    "Consiste en usar un array para indexar a otro array!!"
   ]
  },
  {
   "cell_type": "code",
   "execution_count": 57,
   "id": "c8e3456c-912a-450e-987f-f7a67418ae2a",
   "metadata": {},
   "outputs": [
    {
     "data": {
      "text/plain": [
       "array([0. , 0.1, 0.2, 0.3, 0.4, 0.5, 0.6, 0.7, 0.8, 0.9, 1. ])"
      ]
     },
     "execution_count": 57,
     "metadata": {},
     "output_type": "execute_result"
    }
   ],
   "source": [
    "A = np.linspace(0, 1, 11)\n",
    "A"
   ]
  },
  {
   "cell_type": "code",
   "execution_count": 59,
   "id": "11df72f8-f953-4a0c-ad21-c3d9d871b4f1",
   "metadata": {},
   "outputs": [
    {
     "data": {
      "text/plain": [
       "array([0. , 0.2, 0.4])"
      ]
     },
     "execution_count": 59,
     "metadata": {},
     "output_type": "execute_result"
    }
   ],
   "source": [
    "A[[0, 2, 4]]"
   ]
  },
  {
   "cell_type": "code",
   "execution_count": 60,
   "id": "bc9793a6-7f5a-4c77-bda2-766d9ca09da0",
   "metadata": {},
   "outputs": [
    {
     "data": {
      "text/plain": [
       "array([0. , 0.2, 0.4])"
      ]
     },
     "execution_count": 60,
     "metadata": {},
     "output_type": "execute_result"
    }
   ],
   "source": [
    "# Podemos conseguir lo mismo con fancy indexing...\n",
    "A[np.array([0, 2, 4])]"
   ]
  },
  {
   "cell_type": "code",
   "execution_count": 61,
   "id": "f81854b8-39dd-402e-8e2f-d0cdde0965b4",
   "metadata": {},
   "outputs": [],
   "source": [
    "# Boolean-value indexing...\n",
    "# Consiste en pasar elementos tipo bool (True o False) y según sean pues indicará \n",
    "# que cogemos el valor o no..."
   ]
  },
  {
   "cell_type": "code",
   "execution_count": 62,
   "id": "3e484d6d-e959-4377-a90b-8c905b4891a7",
   "metadata": {},
   "outputs": [
    {
     "data": {
      "text/plain": [
       "array([False, False, False, False, False, False,  True,  True,  True,\n",
       "        True,  True])"
      ]
     },
     "execution_count": 62,
     "metadata": {},
     "output_type": "execute_result"
    }
   ],
   "source": [
    "A > 0.5"
   ]
  },
  {
   "cell_type": "code",
   "execution_count": 64,
   "id": "a81ff2f5-7abd-4d86-83b7-61b14cdbffcc",
   "metadata": {},
   "outputs": [
    {
     "data": {
      "text/plain": [
       "array([False, False, False, False, False, False,  True,  True,  True,\n",
       "        True,  True])"
      ]
     },
     "execution_count": 64,
     "metadata": {},
     "output_type": "execute_result"
    }
   ],
   "source": [
    "b = A > 0.5\n",
    "b"
   ]
  },
  {
   "cell_type": "code",
   "execution_count": 66,
   "id": "e2b8d37c-582c-4944-b2d5-2663d81e0237",
   "metadata": {},
   "outputs": [
    {
     "data": {
      "text/plain": [
       "array([0.6, 0.7, 0.8, 0.9, 1. ])"
      ]
     },
     "execution_count": 66,
     "metadata": {},
     "output_type": "execute_result"
    }
   ],
   "source": [
    "A[b]  # esto hace que sólo seleccionemos de A los índices que son True\n",
    "# Es lo mismo que poner A[A > 0.5]"
   ]
  },
  {
   "cell_type": "code",
   "execution_count": 68,
   "id": "f148e3ed-0c14-4054-baf2-d70f607b156d",
   "metadata": {},
   "outputs": [
    {
     "data": {
      "text/plain": [
       "array([0, 1, 2, 3, 4, 5, 6, 7, 8, 9])"
      ]
     },
     "execution_count": 68,
     "metadata": {},
     "output_type": "execute_result"
    }
   ],
   "source": [
    "A = np.arange(10)\n",
    "A"
   ]
  },
  {
   "cell_type": "code",
   "execution_count": 70,
   "id": "dfbb8089-a3a1-42c8-89c7-d393fec47f6b",
   "metadata": {},
   "outputs": [
    {
     "data": {
      "text/plain": [
       "array([2, 4, 6])"
      ]
     },
     "execution_count": 70,
     "metadata": {},
     "output_type": "execute_result"
    }
   ],
   "source": [
    "indices = [2, 4, 6]\n",
    "A[indices]"
   ]
  },
  {
   "cell_type": "markdown",
   "id": "9d22672a-b2fe-4aca-a7ed-cef3d6641b68",
   "metadata": {},
   "source": [
    "Observar que los arrays conseguidos con fancy o value indexing...    \n",
    "a diferencia de los conseguidos con slices, son independientes, son copias..   \n",
    "o por tanto su modificación no afecta al original"
   ]
  },
  {
   "cell_type": "code",
   "execution_count": 74,
   "id": "212587ca-b254-4c1a-a11f-0f34071c2509",
   "metadata": {},
   "outputs": [
    {
     "data": {
      "text/plain": [
       "array([2, 4, 6])"
      ]
     },
     "execution_count": 74,
     "metadata": {},
     "output_type": "execute_result"
    }
   ],
   "source": [
    "B = A[indices]  # es una copia, no un view...\n",
    "B"
   ]
  },
  {
   "cell_type": "code",
   "execution_count": 75,
   "id": "a2c24560-8874-4c18-8289-819d090c3a98",
   "metadata": {},
   "outputs": [
    {
     "data": {
      "text/plain": [
       "array([0, 0, 0])"
      ]
     },
     "execution_count": 75,
     "metadata": {},
     "output_type": "execute_result"
    }
   ],
   "source": [
    "B[:] = 0\n",
    "B"
   ]
  },
  {
   "cell_type": "code",
   "execution_count": 77,
   "id": "795c6daa-913c-45b5-b130-13b8b3599457",
   "metadata": {},
   "outputs": [
    {
     "data": {
      "text/plain": [
       "array([0, 1, 2, 3, 4, 5, 6, 7, 8, 9])"
      ]
     },
     "execution_count": 77,
     "metadata": {},
     "output_type": "execute_result"
    }
   ],
   "source": [
    "A   # aquí comprobamos que A no ha cambiado... esto es pq B no es un view, sino un nuevo array"
   ]
  },
  {
   "cell_type": "code",
   "execution_count": 78,
   "id": "ed9976c8-9438-40fe-8ea2-799576021ed6",
   "metadata": {},
   "outputs": [
    {
     "data": {
      "text/plain": [
       "array([0, 1, 2, 3, 4, 5, 6, 7, 8, 9])"
      ]
     },
     "execution_count": 78,
     "metadata": {},
     "output_type": "execute_result"
    }
   ],
   "source": [
    "A"
   ]
  },
  {
   "cell_type": "code",
   "execution_count": 81,
   "id": "fc759679-017d-472b-bf37-0ab2edff0b72",
   "metadata": {},
   "outputs": [],
   "source": [
    "A[A<5] = 3"
   ]
  },
  {
   "cell_type": "code",
   "execution_count": 80,
   "id": "54589fb9-3e88-4afb-adf1-04320b2c8af4",
   "metadata": {},
   "outputs": [
    {
     "data": {
      "text/plain": [
       "array([3, 3, 3, 3, 3, 5, 6, 7, 8, 9])"
      ]
     },
     "execution_count": 80,
     "metadata": {},
     "output_type": "execute_result"
    }
   ],
   "source": [
    "A"
   ]
  },
  {
   "cell_type": "markdown",
   "id": "3556623a-3d45-4c78-aafc-3b18ad84af2f",
   "metadata": {
    "tags": []
   },
   "source": [
    "# Reshaping and Resizing\n",
    "Reshaping an array does not require modifying the underlying array data;   \n",
    "it only changes in how the data is interpreted, by redefining the array’s strides attribute  \n",
    "O sea, esto no creo objetos, sino views de esos objetos\n",
    "Si necesitamos una copia, hace falta utilizar el método .copy()"
   ]
  },
  {
   "cell_type": "code",
   "execution_count": 83,
   "id": "24642612-0911-4796-a398-7be25d013c03",
   "metadata": {},
   "outputs": [
    {
     "data": {
      "text/plain": [
       "array([[1, 2, 3, 4]])"
      ]
     },
     "execution_count": 83,
     "metadata": {},
     "output_type": "execute_result"
    }
   ],
   "source": [
    "# Podemos hacerlo de dos formas:\n",
    "# con la función np.reshape \n",
    "data = np.array([[1, 2], [3, 4]])\n",
    "np.reshape(data, (1, 4))"
   ]
  },
  {
   "cell_type": "code",
   "execution_count": 86,
   "id": "fda296df-1bb0-444a-abb8-2a8768d0da98",
   "metadata": {},
   "outputs": [
    {
     "data": {
      "text/plain": [
       "array([1, 2, 3, 4])"
      ]
     },
     "execution_count": 86,
     "metadata": {},
     "output_type": "execute_result"
    }
   ],
   "source": [
    "# y con el método .reshape\n",
    "data.reshape(4)"
   ]
  },
  {
   "cell_type": "code",
   "execution_count": 88,
   "id": "ab155936-b6d7-4576-80ff-faaf37225c11",
   "metadata": {},
   "outputs": [
    {
     "data": {
      "text/plain": [
       "array([[ 0,  1,  2,  3,  4],\n",
       "       [ 5,  6,  7,  8,  9],\n",
       "       [10, 11, 12, 13, 14],\n",
       "       [15, 16, 17, 18, 19],\n",
       "       [20, 21, 22, 23, 24]])"
      ]
     },
     "execution_count": 88,
     "metadata": {},
     "output_type": "execute_result"
    }
   ],
   "source": [
    "A"
   ]
  },
  {
   "cell_type": "code",
   "execution_count": 91,
   "id": "846dbdbb-c0ca-44ed-ad7c-160bc67e9c30",
   "metadata": {},
   "outputs": [
    {
     "data": {
      "text/plain": [
       "array([ 0,  1,  2,  3,  4,  5,  6,  7,  8,  9, 10, 11, 12, 13, 14, 15, 16,\n",
       "       17, 18, 19, 20, 21, 22, 23, 24])"
      ]
     },
     "execution_count": 91,
     "metadata": {},
     "output_type": "execute_result"
    }
   ],
   "source": [
    "# Crear un objeto unidimensional.... de dos formas:\n",
    "# con np.ravel o con el método .ravel, lo que se crea es un view\n",
    "A = np.arange(25).reshape(5, 5)\n",
    "view_unidimensional = A.ravel()\n",
    "view_unidimensional\n",
    "# Lo mismo sería view_unidimensional = np.ravel(A)"
   ]
  },
  {
   "cell_type": "code",
   "execution_count": 95,
   "id": "35b73db0-f23c-40d3-810a-3f8ade7e64c0",
   "metadata": {},
   "outputs": [
    {
     "data": {
      "text/plain": [
       "array([ 0,  1,  2,  3,  4,  5,  6,  7,  8,  9, 10, 11, 12, 13, 14, 15, 16,\n",
       "       17, 18, 19, 20, 21, 22, 23, 24])"
      ]
     },
     "execution_count": 95,
     "metadata": {},
     "output_type": "execute_result"
    }
   ],
   "source": [
    "# Si necesitamos una copia sería con el método o la función flatten\n",
    "copia_unidimensional = A.flatten()\n",
    "copia_unidimensional"
   ]
  },
  {
   "cell_type": "code",
   "execution_count": 100,
   "id": "42e77b68-9890-4654-880d-2bedffe0ebe5",
   "metadata": {},
   "outputs": [
    {
     "data": {
      "text/plain": [
       "array([[0],\n",
       "       [1],\n",
       "       [2],\n",
       "       [3],\n",
       "       [4]])"
      ]
     },
     "execution_count": 100,
     "metadata": {},
     "output_type": "execute_result"
    }
   ],
   "source": [
    "# aÑADIR dimensiones tb se puede hacer!! utilizando newaxis\n",
    "data = np.arange(0, 5)\n",
    "column = data[:, np.newaxis]\n",
    "column"
   ]
  },
  {
   "cell_type": "code",
   "execution_count": 101,
   "id": "3f9a2aef-9f83-4fcd-a2de-8f023cd3dd43",
   "metadata": {},
   "outputs": [
    {
     "data": {
      "text/plain": [
       "array([[0, 1, 2, 3, 4]])"
      ]
     },
     "execution_count": 101,
     "metadata": {},
     "output_type": "execute_result"
    }
   ],
   "source": [
    "# También podíamos haberlo hecho por filas... \n",
    "row = data[np.newaxis, :]\n",
    "row"
   ]
  },
  {
   "cell_type": "code",
   "execution_count": 102,
   "id": "05a1a767-c3c4-4be4-9c37-2f037e66a4f2",
   "metadata": {},
   "outputs": [],
   "source": [
    "# Podemos hacer esto con la función np.expand_dims...\n",
    "# data[:, np.newaxis] is equivalent to np.expand_dims(data, axis=1)\n",
    "# data[np.newaxis, :] is equivalent to np.expand_dims(data, axis=0)"
   ]
  },
  {
   "cell_type": "code",
   "execution_count": 103,
   "id": "e77aecf5-8897-4506-9d81-e3e26f63e227",
   "metadata": {},
   "outputs": [
    {
     "data": {
      "text/plain": [
       "array([0, 1, 2, 3, 4, 0, 1, 2, 3, 4, 0, 1, 2, 3, 4])"
      ]
     },
     "execution_count": 103,
     "metadata": {},
     "output_type": "execute_result"
    }
   ],
   "source": [
    "# Podemos ampliar un array utilizando np.hstack, np.vstack, np.concatenate\n",
    "# hstack añade horizontalmente / vstack añade verticalmente, concatenate...\n",
    "data = np.arange(5)\n",
    "np.hstack((data, data, data))"
   ]
  },
  {
   "cell_type": "code",
   "execution_count": null,
   "id": "12006fd6-c220-4d6f-b865-c4c4fa70b658",
   "metadata": {},
   "outputs": [
    {
     "data": {
      "text/plain": [
       "array([[0, 1, 2, 3, 4],\n",
       "       [0, 1, 2, 3, 4],\n",
       "       [0, 1, 2, 3, 4]])"
      ]
     },
     "execution_count": 104,
     "metadata": {},
     "output_type": "execute_result"
    }
   ],
   "source": [
    "np.vstack((data, data, data))"
   ]
  },
  {
   "cell_type": "markdown",
   "id": "8f6d2d90-0bd8-4488-b8d1-77668bdc79c8",
   "metadata": {
    "tags": []
   },
   "source": [
    "# Expresiones vectoriales"
   ]
  },
  {
   "cell_type": "code",
   "execution_count": 108,
   "id": "91fe07d4-441f-4404-bce0-36176ec92e84",
   "metadata": {},
   "outputs": [],
   "source": [
    "x = np.array([[1, 2], [3, 4]])\n",
    "y = np.array([[5, 6], [7, 8]])"
   ]
  },
  {
   "cell_type": "code",
   "execution_count": 109,
   "id": "a583fea4-04e6-4fb3-a110-f757770e62df",
   "metadata": {},
   "outputs": [
    {
     "data": {
      "text/plain": [
       "array([[ 6,  8],\n",
       "       [10, 12]])"
      ]
     },
     "execution_count": 109,
     "metadata": {},
     "output_type": "execute_result"
    }
   ],
   "source": [
    "x + y"
   ]
  },
  {
   "cell_type": "code",
   "execution_count": 110,
   "id": "9b612507-0fa7-40c0-9987-0e6b4a218aa4",
   "metadata": {},
   "outputs": [
    {
     "data": {
      "text/plain": [
       "array([[ 5, 12],\n",
       "       [21, 32]])"
      ]
     },
     "execution_count": 110,
     "metadata": {},
     "output_type": "execute_result"
    }
   ],
   "source": [
    "x * y"
   ]
  },
  {
   "cell_type": "code",
   "execution_count": 111,
   "id": "11008f9e-a756-4f15-9120-d42db9a2c77e",
   "metadata": {},
   "outputs": [
    {
     "data": {
      "text/plain": [
       "array([[2, 4],\n",
       "       [6, 8]])"
      ]
     },
     "execution_count": 111,
     "metadata": {},
     "output_type": "execute_result"
    }
   ],
   "source": [
    "x * 2"
   ]
  },
  {
   "cell_type": "code",
   "execution_count": 112,
   "id": "02bc2633-53d6-49cc-9dba-e8fd1f49642a",
   "metadata": {},
   "outputs": [
    {
     "data": {
      "text/plain": [
       "array([[2.5, 3. ],\n",
       "       [3.5, 4. ]])"
      ]
     },
     "execution_count": 112,
     "metadata": {},
     "output_type": "execute_result"
    }
   ],
   "source": [
    "y / 2"
   ]
  },
  {
   "cell_type": "code",
   "execution_count": 114,
   "id": "aad6b3c2-70d1-45b4-8560-d20a8a0b64ee",
   "metadata": {},
   "outputs": [
    {
     "data": {
      "text/plain": [
       "array([[0.6       , 0.5       ],\n",
       "       [0.42857143, 0.375     ]])"
      ]
     },
     "execution_count": 114,
     "metadata": {},
     "output_type": "execute_result"
    }
   ],
   "source": [
    "3 / y"
   ]
  },
  {
   "cell_type": "markdown",
   "id": "081496e0-0d10-49c5-91d2-7c4e5d816fa9",
   "metadata": {
    "tags": []
   },
   "source": [
    "# Elementwise Functions"
   ]
  },
  {
   "cell_type": "code",
   "execution_count": 115,
   "id": "5a5239f9-3448-44d8-8468-aa1fbd959c5a",
   "metadata": {},
   "outputs": [],
   "source": [
    "# Estas funciones se aplican a todos los elementos de la matriz... \n",
    "# hay muchas, coseno, seno, sqrt, exp... etc"
   ]
  },
  {
   "cell_type": "code",
   "execution_count": 117,
   "id": "172899bb-272a-46ed-98e6-b4cfa0cb1ce7",
   "metadata": {},
   "outputs": [
    {
     "data": {
      "text/plain": [
       "array([-1. , -0.8, -0.6, -0.4, -0.2,  0. ,  0.2,  0.4,  0.6,  0.8,  1. ])"
      ]
     },
     "execution_count": 117,
     "metadata": {},
     "output_type": "execute_result"
    }
   ],
   "source": [
    "x = np.linspace(-1, 1, 11)\n",
    "x"
   ]
  },
  {
   "cell_type": "code",
   "execution_count": 118,
   "id": "043dfb3a-ccd8-46fb-a949-a1ce7a7961ad",
   "metadata": {},
   "outputs": [
    {
     "data": {
      "text/plain": [
       "array([-0.    , -0.5878, -0.9511, -0.9511, -0.5878,  0.    ,  0.5878,\n",
       "        0.9511,  0.9511,  0.5878,  0.    ])"
      ]
     },
     "execution_count": 118,
     "metadata": {},
     "output_type": "execute_result"
    }
   ],
   "source": [
    "y = np.sin(np.pi * x)\n",
    "np.round(y, decimals=4)"
   ]
  },
  {
   "cell_type": "code",
   "execution_count": 119,
   "id": "f8080442-6127-4e79-a450-213249e1637e",
   "metadata": {},
   "outputs": [
    {
     "data": {
      "text/plain": [
       "array([1., 1., 1., 1., 1., 1., 1., 1., 1., 1., 1.])"
      ]
     },
     "execution_count": 119,
     "metadata": {},
     "output_type": "execute_result"
    }
   ],
   "source": [
    "np.add(np.sin(x) ** 2, np.cos(x) ** 2)"
   ]
  },
  {
   "cell_type": "code",
   "execution_count": 120,
   "id": "bb1ead2b-ad91-4b81-907c-069de7accf1e",
   "metadata": {},
   "outputs": [
    {
     "data": {
      "text/plain": [
       "array([1., 1., 1., 1., 1., 1., 1., 1., 1., 1., 1.])"
      ]
     },
     "execution_count": 120,
     "metadata": {},
     "output_type": "execute_result"
    }
   ],
   "source": [
    "np.sin(x) ** 2 + np.cos(x) ** 2"
   ]
  },
  {
   "cell_type": "markdown",
   "id": "11b1c5fc-ef9f-4f88-ac19-b429a7140b38",
   "metadata": {
    "tags": []
   },
   "source": [
    "# Aggregate Functions"
   ]
  },
  {
   "cell_type": "code",
   "execution_count": 2,
   "id": "044b9d97-f3b1-42a0-82c2-6fde6397f566",
   "metadata": {},
   "outputs": [
    {
     "name": "stdout",
     "output_type": "stream",
     "text": [
      "np\t \n"
     ]
    }
   ],
   "source": [
    "who"
   ]
  },
  {
   "cell_type": "code",
   "execution_count": 7,
   "id": "f661e41d-17a2-424d-8662-0768d79f9e67",
   "metadata": {},
   "outputs": [],
   "source": [
    "data = np.random.normal(size=(15,15))"
   ]
  },
  {
   "cell_type": "code",
   "execution_count": 5,
   "id": "7e1fb22b-9ff2-4b89-b3bf-71de07411829",
   "metadata": {},
   "outputs": [
    {
     "data": {
      "text/plain": [
       "225"
      ]
     },
     "execution_count": 5,
     "metadata": {},
     "output_type": "execute_result"
    }
   ],
   "source": [
    "data.size"
   ]
  },
  {
   "cell_type": "code",
   "execution_count": 8,
   "id": "c376f302-419a-497a-92b7-10926721987a",
   "metadata": {},
   "outputs": [
    {
     "data": {
      "text/plain": [
       "0.031756243643754546"
      ]
     },
     "execution_count": 8,
     "metadata": {},
     "output_type": "execute_result"
    }
   ],
   "source": [
    "# Para hallar la media 2 opciones, como en muchas ocasiones.. un método o una función np\n",
    "np.mean(data)\n",
    "# igual que data.mean()"
   ]
  },
  {
   "cell_type": "markdown",
   "id": "16e88d4f-ae80-4deb-b65b-f400355274c2",
   "metadata": {
    "tags": []
   },
   "source": [
    "Tenemos opciones para hallar:\n",
    "* media, desviación estándar, varianza, suma, producto, \n",
    "* suma acumulativa, producto acumulativo, minimo, máximo\n",
    "* índice con valor mínimo, índice de valor máximo, \n",
    "* np.all y np.any que retornan True o False según ..."
   ]
  },
  {
   "cell_type": "code",
   "execution_count": 10,
   "id": "4c7f39ed-6c9c-4898-8ed3-7bdd2ae8d16b",
   "metadata": {},
   "outputs": [
    {
     "data": {
      "text/plain": [
       "(10, 15)"
      ]
     },
     "execution_count": 10,
     "metadata": {},
     "output_type": "execute_result"
    }
   ],
   "source": [
    "data = np.random.normal(size=(5, 10, 15))\n",
    "data.sum(axis=0).shape \n",
    "# Indica que la agregación se lleva a cabo en el primer eje, con lo que el resultante es\n",
    "# una matriz de 10 x 15  (cada uno de esos 150 ítems lleva la suma a lo largo del eje x)"
   ]
  },
  {
   "cell_type": "code",
   "execution_count": 11,
   "id": "1c37ebdb-34df-492a-aa68-27b2bf9f16fb",
   "metadata": {},
   "outputs": [
    {
     "data": {
      "text/plain": [
       "(10,)"
      ]
     },
     "execution_count": 11,
     "metadata": {},
     "output_type": "execute_result"
    }
   ],
   "source": [
    "data.sum(axis=(0, 2)).shape  # aquí queremos suma en los ejes x , z.---- por tanto cada elemento y va a tener la suma de tods\n",
    "# los elementos... o sea el resultado será un vector, con vi = suma data[x,i,z] para todos los x del primer eje, z del tercer"
   ]
  },
  {
   "cell_type": "code",
   "execution_count": 15,
   "id": "d4b3a0de-6d18-44a9-9a1d-a3824ce1d1b7",
   "metadata": {},
   "outputs": [
    {
     "data": {
      "text/plain": [
       "array([  4.17860305,  -4.83902929,  -4.51636489,  -3.81875536,\n",
       "        -0.43929712,  -2.89075087,   1.20091363, -17.74322542,\n",
       "         6.98931954,   4.3620002 ])"
      ]
     },
     "execution_count": 15,
     "metadata": {},
     "output_type": "execute_result"
    }
   ],
   "source": [
    "data.sum(axis=(0, 2))"
   ]
  },
  {
   "cell_type": "code",
   "execution_count": 16,
   "id": "a06035b1-75e8-4c58-9b6b-a8418d2f4e5e",
   "metadata": {},
   "outputs": [
    {
     "data": {
      "text/plain": [
       "-17.516586528380095"
      ]
     },
     "execution_count": 16,
     "metadata": {},
     "output_type": "execute_result"
    }
   ],
   "source": [
    "data.sum() # pues suma todo  (o sea, en todos los ejes<9) y nos da un solo valor, la suma"
   ]
  },
  {
   "cell_type": "markdown",
   "id": "f926eb12-53be-4def-b161-e65136b61b33",
   "metadata": {
    "tags": []
   },
   "source": [
    "# Boolean Arrays and Conditional Expressions"
   ]
  },
  {
   "cell_type": "code",
   "execution_count": 17,
   "id": "b727b14f-92c9-4183-8245-00043e43b2d7",
   "metadata": {},
   "outputs": [
    {
     "data": {
      "text/plain": [
       "array([ True,  True, False, False])"
      ]
     },
     "execution_count": 17,
     "metadata": {},
     "output_type": "execute_result"
    }
   ],
   "source": [
    "a = np.array([1, 2, 3, 4])\n",
    "b = np.array([4, 3, 2, 1])\n",
    "a < b"
   ]
  },
  {
   "cell_type": "code",
   "execution_count": 18,
   "id": "202f63fd-276e-4c40-9dfb-1c6b99b05007",
   "metadata": {},
   "outputs": [
    {
     "data": {
      "text/plain": [
       "array([1, 2])"
      ]
     },
     "execution_count": 18,
     "metadata": {},
     "output_type": "execute_result"
    }
   ],
   "source": [
    "a[a < b]"
   ]
  },
  {
   "cell_type": "code",
   "execution_count": 24,
   "id": "2fb77b27-5e92-4170-be39-dd588dc6a1ad",
   "metadata": {},
   "outputs": [
    {
     "data": {
      "text/plain": [
       "array([False, False,  True,  True])"
      ]
     },
     "execution_count": 24,
     "metadata": {},
     "output_type": "execute_result"
    }
   ],
   "source": [
    "3 * a + 2 > a * b + 4"
   ]
  },
  {
   "cell_type": "code",
   "execution_count": 25,
   "id": "a8f298a8-16be-435a-a5c7-667eaf2ac10d",
   "metadata": {},
   "outputs": [
    {
     "data": {
      "text/plain": [
       "array([3, 4])"
      ]
     },
     "execution_count": 25,
     "metadata": {},
     "output_type": "execute_result"
    }
   ],
   "source": [
    "a[3 * a + 2 > a * b + 4]"
   ]
  },
  {
   "cell_type": "code",
   "execution_count": 26,
   "id": "a0deb411-da3f-4617-b840-fb373b035ddd",
   "metadata": {},
   "outputs": [
    {
     "data": {
      "text/plain": [
       "False"
      ]
     },
     "execution_count": 26,
     "metadata": {},
     "output_type": "execute_result"
    }
   ],
   "source": [
    "np.all(a < b)"
   ]
  },
  {
   "cell_type": "code",
   "execution_count": 27,
   "id": "3856ea1c-b2fc-4d1c-903a-171418b16998",
   "metadata": {},
   "outputs": [
    {
     "data": {
      "text/plain": [
       "True"
      ]
     },
     "execution_count": 27,
     "metadata": {},
     "output_type": "execute_result"
    }
   ],
   "source": [
    "np.any(a < b)"
   ]
  },
  {
   "cell_type": "code",
   "execution_count": 28,
   "id": "a08051d3-4b02-46e7-a2f1-1c2e5fa5dba3",
   "metadata": {},
   "outputs": [
    {
     "data": {
      "text/plain": [
       "array([False, False, False,  True,  True])"
      ]
     },
     "execution_count": 28,
     "metadata": {},
     "output_type": "execute_result"
    }
   ],
   "source": [
    "x = np.array([-2, -1, 0, 1, 2])\n",
    "x > 0"
   ]
  },
  {
   "cell_type": "code",
   "execution_count": 29,
   "id": "bac9da17-7ce0-4019-8b52-c1cb4c660858",
   "metadata": {},
   "outputs": [
    {
     "data": {
      "text/plain": [
       "array([0, 0, 0, 2, 2])"
      ]
     },
     "execution_count": 29,
     "metadata": {},
     "output_type": "execute_result"
    }
   ],
   "source": [
    "2 * (x > 0)"
   ]
  },
  {
   "cell_type": "code",
   "execution_count": 30,
   "id": "f707c8c3-78e6-4a50-a4fd-329b8848ad43",
   "metadata": {},
   "outputs": [
    {
     "data": {
      "text/plain": [
       "array([0, 0, 0, 1, 2])"
      ]
     },
     "execution_count": 30,
     "metadata": {},
     "output_type": "execute_result"
    }
   ],
   "source": [
    "x * (x > 0)  # es una forma de conseguir un vector donde solo están las componenetes positivas"
   ]
  },
  {
   "cell_type": "code",
   "execution_count": 33,
   "id": "8a1f5707-806d-4ea8-919f-2c2f7e2fe4b9",
   "metadata": {},
   "outputs": [
    {
     "data": {
      "text/plain": [
       "array([[-1,  2, -5],\n",
       "       [ 2, -1,  4],\n",
       "       [ 1, -2,  0]])"
      ]
     },
     "execution_count": 33,
     "metadata": {},
     "output_type": "execute_result"
    }
   ],
   "source": [
    "A = np.array([[-1, 2, -5], [2, -1, 4], [1, -2, 0]])\n",
    "A"
   ]
  },
  {
   "cell_type": "code",
   "execution_count": 34,
   "id": "cd2db37c-bc74-4bed-84a7-666eb034b98a",
   "metadata": {},
   "outputs": [
    {
     "data": {
      "text/plain": [
       "array([[0, 2, 0],\n",
       "       [2, 0, 4],\n",
       "       [1, 0, 0]])"
      ]
     },
     "execution_count": 34,
     "metadata": {},
     "output_type": "execute_result"
    }
   ],
   "source": [
    "A * (A > 0)"
   ]
  },
  {
   "cell_type": "markdown",
   "id": "08846498-fff7-4020-949d-988bb0e3c9b6",
   "metadata": {
    "tags": []
   },
   "source": [
    "The np.where function selects elements from two arrays (second and third arguments), given a Boolean-valued\n",
    "array condition (the first argument). For elements where the condition is True, the corresponding values from the array given as second argument are selected, and if the condition is False, elements from the third argument array are selected:"
   ]
  },
  {
   "cell_type": "code",
   "execution_count": 37,
   "id": "0e4609c3-6747-4040-9543-f56dd1070403",
   "metadata": {},
   "outputs": [
    {
     "data": {
      "text/plain": [
       "array([-4., -3., -2., -1.,  0.,  1.,  2.,  3.,  4.])"
      ]
     },
     "execution_count": 37,
     "metadata": {},
     "output_type": "execute_result"
    }
   ],
   "source": [
    "x = np.linspace(-4, 4, 9)\n",
    "x"
   ]
  },
  {
   "cell_type": "code",
   "execution_count": 36,
   "id": "ca2e216c-8748-4915-a1a6-cde05c975e69",
   "metadata": {},
   "outputs": [
    {
     "data": {
      "text/plain": [
       "array([16.,  9.,  4.,  1.,  0.,  1.,  8., 27., 64.])"
      ]
     },
     "execution_count": 36,
     "metadata": {},
     "output_type": "execute_result"
    }
   ],
   "source": [
    "np.where(x < 0, x**2, x**3)"
   ]
  },
  {
   "cell_type": "markdown",
   "id": "855670d7-397c-4db1-95b3-6208e25dc358",
   "metadata": {
    "tags": []
   },
   "source": [
    "Muchísimas funciones interesantes:\n",
    "* np.where: Chooses values from two arrays depending on the value of a condition array.\n",
    "* np.choose: Chooses values from a list of arrays depending on the values of a given index array.\n",
    "* np.select: Chooses values from a list of arrays depending on a list of conditions.\n",
    "* nonzero: returns an array with indices of nonzero elements\n",
    "* np.logical_and Performs an elementwise ANd operation.\n",
    "* np.logical_or, np.logical_xor elementwise or/Xor operations.\n",
    "* np.logical_not elementwise NoT operation (inverting).\n"
   ]
  },
  {
   "cell_type": "markdown",
   "id": "f228a0b3-57e9-4c6b-9bd6-10905161fff9",
   "metadata": {
    "tags": []
   },
   "source": [
    "# Set Operations"
   ]
  },
  {
   "cell_type": "code",
   "execution_count": 39,
   "id": "5a0712da-f9d9-4aca-9f07-72de39f3f088",
   "metadata": {},
   "outputs": [
    {
     "data": {
      "text/plain": [
       "array([1, 2, 3])"
      ]
     },
     "execution_count": 39,
     "metadata": {},
     "output_type": "execute_result"
    }
   ],
   "source": [
    "a = np.unique([1, 2, 3, 3])\n",
    "a"
   ]
  },
  {
   "cell_type": "code",
   "execution_count": 40,
   "id": "dd036e87-6ede-4349-a7af-c604474a2a56",
   "metadata": {},
   "outputs": [
    {
     "data": {
      "text/plain": [
       "array([2, 3, 4, 5, 6])"
      ]
     },
     "execution_count": 40,
     "metadata": {},
     "output_type": "execute_result"
    }
   ],
   "source": [
    "b = np.unique([2, 3, 4, 4, 5, 6, 5])\n",
    "b"
   ]
  },
  {
   "cell_type": "code",
   "execution_count": 41,
   "id": "0dfe7328-80b6-4308-b314-e13b3d83333b",
   "metadata": {},
   "outputs": [
    {
     "data": {
      "text/plain": [
       "array([False,  True,  True])"
      ]
     },
     "execution_count": 41,
     "metadata": {},
     "output_type": "execute_result"
    }
   ],
   "source": [
    "np.in1d(a, b)  # testea si cada uno de los valores del primer array existe en el segundo array... (no tienen por qué ser únicos)"
   ]
  },
  {
   "cell_type": "code",
   "execution_count": 43,
   "id": "5688f3df-329c-45fb-afda-04a1c36740a8",
   "metadata": {},
   "outputs": [
    {
     "data": {
      "text/plain": [
       "array([2, 3])"
      ]
     },
     "execution_count": 43,
     "metadata": {},
     "output_type": "execute_result"
    }
   ],
   "source": [
    "np.intersect1d(a, b)  # elements that are contained in two given arrays."
   ]
  },
  {
   "cell_type": "code",
   "execution_count": 45,
   "id": "fa50aa10-eba4-4bba-bf6d-f1709fecf053",
   "metadata": {},
   "outputs": [
    {
     "data": {
      "text/plain": [
       "array([1])"
      ]
     },
     "execution_count": 45,
     "metadata": {},
     "output_type": "execute_result"
    }
   ],
   "source": [
    "np.setdiff1d(a, b) # returns an array with elements that are contained in one\n",
    "# but not the other, of two given arrays."
   ]
  },
  {
   "cell_type": "code",
   "execution_count": 46,
   "id": "3ee168d4-8c15-4541-bd77-ba01755c5745",
   "metadata": {},
   "outputs": [
    {
     "data": {
      "text/plain": [
       "array([1, 2, 3, 4, 5, 6])"
      ]
     },
     "execution_count": 46,
     "metadata": {},
     "output_type": "execute_result"
    }
   ],
   "source": [
    "np.union1d(a, b)  # pues la unión\n"
   ]
  },
  {
   "cell_type": "code",
   "execution_count": 47,
   "id": "cf47eacc-5897-474e-92d5-57f2d80fe365",
   "metadata": {},
   "outputs": [
    {
     "data": {
      "text/plain": [
       "True"
      ]
     },
     "execution_count": 47,
     "metadata": {},
     "output_type": "execute_result"
    }
   ],
   "source": [
    "# También podemos usar \"in\" para testear si un valor está en un array\n",
    "1 in a"
   ]
  },
  {
   "cell_type": "code",
   "execution_count": 48,
   "id": "e800c260-8cc6-4091-8363-28effdedbf29",
   "metadata": {},
   "outputs": [
    {
     "data": {
      "text/plain": [
       "False"
      ]
     },
     "execution_count": 48,
     "metadata": {},
     "output_type": "execute_result"
    }
   ],
   "source": [
    "1 in b"
   ]
  },
  {
   "cell_type": "code",
   "execution_count": 49,
   "id": "5b63a5fe-d6de-497c-bb29-f78725d5c184",
   "metadata": {},
   "outputs": [
    {
     "data": {
      "text/plain": [
       "False"
      ]
     },
     "execution_count": 49,
     "metadata": {},
     "output_type": "execute_result"
    }
   ],
   "source": [
    "# Como testear si a es subconjunto de b??? Pues sencillo, si todos los elementos de a están en b...\n",
    "# O sea, np.in1d(a, b) debe ser todo True... que lo verificamos con all\n",
    "np.all(np.in1d(a, b))"
   ]
  },
  {
   "cell_type": "code",
   "execution_count": 50,
   "id": "db98eab6-6c0a-464c-9b97-5015e9844e2b",
   "metadata": {},
   "outputs": [
    {
     "data": {
      "text/plain": [
       "(1, 2, 3, 4, 5)"
      ]
     },
     "execution_count": 50,
     "metadata": {},
     "output_type": "execute_result"
    }
   ],
   "source": [
    "data = np.random.randn(1, 2, 3, 4, 5)\n",
    "data.shape"
   ]
  },
  {
   "cell_type": "code",
   "execution_count": 52,
   "id": "6ba04be9-56a0-4a58-8981-57711236fec2",
   "metadata": {},
   "outputs": [
    {
     "data": {
      "text/plain": [
       "(5, 4, 3, 2, 1)"
      ]
     },
     "execution_count": 52,
     "metadata": {},
     "output_type": "execute_result"
    }
   ],
   "source": [
    "# Podemoshacer la transpuesta con data.T o data.transpose\n",
    "data.T.shape"
   ]
  },
  {
   "cell_type": "code",
   "execution_count": 53,
   "id": "d8057ac5-ac6f-4a53-ab43-5c8e5f9cbba0",
   "metadata": {},
   "outputs": [],
   "source": [
    "# Método np.fliplr y np.flipud nos devuelven la matriz flipeada (creo que es un view, que no se crea nada nuevo)"
   ]
  },
  {
   "cell_type": "code",
   "execution_count": 54,
   "id": "956cffcd-0f5f-4f36-8f3f-a2d83e0b0d9c",
   "metadata": {},
   "outputs": [],
   "source": [
    "# similarmente np.rot90 rota..."
   ]
  },
  {
   "cell_type": "markdown",
   "id": "ed80824c-cb52-49c9-ac57-eafb7bf00e0d",
   "metadata": {
    "tags": []
   },
   "source": [
    "# Matrix and Vector Operations\n"
   ]
  },
  {
   "cell_type": "markdown",
   "id": "827a34f8-f77f-4369-8687-88ce2562e0ec",
   "metadata": {
    "tags": []
   },
   "source": [
    "Muchísimas funciones interesantes:\n",
    "* np.dot Matrix multiplication (dot product) between two given arrays representing vectors, arrays, or tensors.\n",
    "* np.inner scalar multiplication (inner product) between two arrays representing vectors.\n",
    "* np.cross The cross product between two arrays that represent vectors.\n",
    "* np.tensordot dot product along specified axes of multidimensional arrays.\n",
    "* np.outer outer product (tensor product of vectors) between two arrays representing vectors.\n",
    "* np.kron Kronecker product (tensor product of matrices) between arrays representing matrices and higher-dimensional arrays.\n",
    "* np.einsum evaluates einstein’s summation convention for multidimensional arrays."
   ]
  },
  {
   "cell_type": "code",
   "execution_count": 55,
   "id": "c30b4672-c595-46d2-b557-d2c4976a0191",
   "metadata": {},
   "outputs": [],
   "source": [
    "# Recordar que * es para elementwise multiplication\n",
    "# Para multiplicar matrices podemos usar el operador @ o simplemente la función np.dot"
   ]
  },
  {
   "cell_type": "code",
   "execution_count": 56,
   "id": "206e9265-bf7d-4072-9878-7804e89f8de6",
   "metadata": {},
   "outputs": [],
   "source": [
    "# Se puede liar bastante la cosa, simplemente para evaluar el producto  A' = B A B-1 de tres matrices...\n",
    "A = np.random.rand(3,3)\n",
    "B = np.random.rand(3,3)\n",
    "Ap = np.dot(B, np.dot(A, np.linalg.inv(B)))   ## uf es muy largo\n",
    "# también valdría Ap = B.dot(A.dot(np.linalg.inv(B)))"
   ]
  },
  {
   "cell_type": "code",
   "execution_count": 57,
   "id": "af251ad0-2532-437e-9399-09ebeab875a5",
   "metadata": {},
   "outputs": [],
   "source": [
    "# Para solucionar esto podemos tranformar una array de matriz A en un nuevo objeto matriz\n",
    "# que si interpreta el oeprador * como matriz... y además tiene una propiedad para la inversa\n",
    "A = np.matrix(A)\n",
    "B = np.matrix(B)\n",
    "Ap = B * A * B.I\n"
   ]
  },
  {
   "cell_type": "markdown",
   "id": "34fbc686-a65f-4fd9-84c1-b47c3d3b5f2e",
   "metadata": {
    "jupyter": {
     "outputs_hidden": true
    },
    "tags": []
   },
   "source": [
    "```This may seem like a practical compromise, but unfortunately using the matrix class\n",
    "does have a few disadvantages, and its use is therefore often discouraged. The main\n",
    "objection against using matrix is that expression like A * B is then context dependent:\n",
    "that is, it is not immediately clear if A * B denotes elementwise or matrix multiplication,\n",
    "because it depends on the type of A and B, and this creates another code-readability\n",
    "problem.```"
   ]
  },
  {
   "cell_type": "code",
   "execution_count": null,
   "id": "303ef27a-ab53-4a12-9867-b018d90f2ae3",
   "metadata": {},
   "outputs": [],
   "source": []
  }
 ],
 "metadata": {
  "kernelspec": {
   "display_name": "Python 3 (ipykernel)",
   "language": "python",
   "name": "python3"
  },
  "language_info": {
   "codemirror_mode": {
    "name": "ipython",
    "version": 3
   },
   "file_extension": ".py",
   "mimetype": "text/x-python",
   "name": "python",
   "nbconvert_exporter": "python",
   "pygments_lexer": "ipython3",
   "version": "3.10.1"
  }
 },
 "nbformat": 4,
 "nbformat_minor": 5
}

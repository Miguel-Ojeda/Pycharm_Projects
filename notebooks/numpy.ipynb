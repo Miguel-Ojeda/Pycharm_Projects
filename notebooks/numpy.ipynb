{
 "cells": [
  {
   "cell_type": "code",
   "execution_count": 1,
   "id": "1607e7d6-b386-41e5-b18f-145953bd8f79",
   "metadata": {},
   "outputs": [],
   "source": [
    "import numpy as np"
   ]
  },
  {
   "cell_type": "code",
   "execution_count": 2,
   "id": "7e8245b9-baaa-4190-8640-3ede07bb5a25",
   "metadata": {},
   "outputs": [],
   "source": [
    "data = np.array([[1, 2], [3, 4], [5, 6]])"
   ]
  },
  {
   "cell_type": "code",
   "execution_count": 3,
   "id": "f8f49f63-e136-42cf-bcce-b480a76dcd3e",
   "metadata": {},
   "outputs": [
    {
     "data": {
      "text/plain": [
       "numpy.ndarray"
      ]
     },
     "execution_count": 3,
     "metadata": {},
     "output_type": "execute_result"
    }
   ],
   "source": [
    "type(data)"
   ]
  },
  {
   "cell_type": "code",
   "execution_count": 4,
   "id": "a1fe055f-438b-45b2-a8e8-c22b34f4b9b3",
   "metadata": {},
   "outputs": [
    {
     "name": "stdout",
     "output_type": "stream",
     "text": [
      "Object `ndarray` not found.\n"
     ]
    }
   ],
   "source": [
    "ndarray??"
   ]
  },
  {
   "cell_type": "code",
   "execution_count": 5,
   "id": "bbbb404e-38a4-459b-979e-b0563e05292e",
   "metadata": {},
   "outputs": [
    {
     "data": {
      "text/plain": [
       "\u001b[1;31mInit signature:\u001b[0m \u001b[0mnp\u001b[0m\u001b[1;33m.\u001b[0m\u001b[0mndarray\u001b[0m\u001b[1;33m(\u001b[0m\u001b[0mself\u001b[0m\u001b[1;33m,\u001b[0m \u001b[1;33m/\u001b[0m\u001b[1;33m,\u001b[0m \u001b[1;33m*\u001b[0m\u001b[0margs\u001b[0m\u001b[1;33m,\u001b[0m \u001b[1;33m**\u001b[0m\u001b[0mkwargs\u001b[0m\u001b[1;33m)\u001b[0m\u001b[1;33m\u001b[0m\u001b[1;33m\u001b[0m\u001b[0m\n",
       "\u001b[1;31mDocstring:\u001b[0m     \n",
       "ndarray(shape, dtype=float, buffer=None, offset=0,\n",
       "        strides=None, order=None)\n",
       "\n",
       "An array object represents a multidimensional, homogeneous array\n",
       "of fixed-size items.  An associated data-type object describes the\n",
       "format of each element in the array (its byte-order, how many bytes it\n",
       "occupies in memory, whether it is an integer, a floating point number,\n",
       "or something else, etc.)\n",
       "\n",
       "Arrays should be constructed using `array`, `zeros` or `empty` (refer\n",
       "to the See Also section below).  The parameters given here refer to\n",
       "a low-level method (`ndarray(...)`) for instantiating an array.\n",
       "\n",
       "For more information, refer to the `numpy` module and examine the\n",
       "methods and attributes of an array.\n",
       "\n",
       "Parameters\n",
       "----------\n",
       "(for the __new__ method; see Notes below)\n",
       "\n",
       "shape : tuple of ints\n",
       "    Shape of created array.\n",
       "dtype : data-type, optional\n",
       "    Any object that can be interpreted as a numpy data type.\n",
       "buffer : object exposing buffer interface, optional\n",
       "    Used to fill the array with data.\n",
       "offset : int, optional\n",
       "    Offset of array data in buffer.\n",
       "strides : tuple of ints, optional\n",
       "    Strides of data in memory.\n",
       "order : {'C', 'F'}, optional\n",
       "    Row-major (C-style) or column-major (Fortran-style) order.\n",
       "\n",
       "Attributes\n",
       "----------\n",
       "T : ndarray\n",
       "    Transpose of the array.\n",
       "data : buffer\n",
       "    The array's elements, in memory.\n",
       "dtype : dtype object\n",
       "    Describes the format of the elements in the array.\n",
       "flags : dict\n",
       "    Dictionary containing information related to memory use, e.g.,\n",
       "    'C_CONTIGUOUS', 'OWNDATA', 'WRITEABLE', etc.\n",
       "flat : numpy.flatiter object\n",
       "    Flattened version of the array as an iterator.  The iterator\n",
       "    allows assignments, e.g., ``x.flat = 3`` (See `ndarray.flat` for\n",
       "    assignment examples; TODO).\n",
       "imag : ndarray\n",
       "    Imaginary part of the array.\n",
       "real : ndarray\n",
       "    Real part of the array.\n",
       "size : int\n",
       "    Number of elements in the array.\n",
       "itemsize : int\n",
       "    The memory use of each array element in bytes.\n",
       "nbytes : int\n",
       "    The total number of bytes required to store the array data,\n",
       "    i.e., ``itemsize * size``.\n",
       "ndim : int\n",
       "    The array's number of dimensions.\n",
       "shape : tuple of ints\n",
       "    Shape of the array.\n",
       "strides : tuple of ints\n",
       "    The step-size required to move from one element to the next in\n",
       "    memory. For example, a contiguous ``(3, 4)`` array of type\n",
       "    ``int16`` in C-order has strides ``(8, 2)``.  This implies that\n",
       "    to move from element to element in memory requires jumps of 2 bytes.\n",
       "    To move from row-to-row, one needs to jump 8 bytes at a time\n",
       "    (``2 * 4``).\n",
       "ctypes : ctypes object\n",
       "    Class containing properties of the array needed for interaction\n",
       "    with ctypes.\n",
       "base : ndarray\n",
       "    If the array is a view into another array, that array is its `base`\n",
       "    (unless that array is also a view).  The `base` array is where the\n",
       "    array data is actually stored.\n",
       "\n",
       "See Also\n",
       "--------\n",
       "array : Construct an array.\n",
       "zeros : Create an array, each element of which is zero.\n",
       "empty : Create an array, but leave its allocated memory unchanged (i.e.,\n",
       "        it contains \"garbage\").\n",
       "dtype : Create a data-type.\n",
       "numpy.typing.NDArray : An ndarray alias :term:`generic <generic type>`\n",
       "                       w.r.t. its `dtype.type <numpy.dtype.type>`.\n",
       "\n",
       "Notes\n",
       "-----\n",
       "There are two modes of creating an array using ``__new__``:\n",
       "\n",
       "1. If `buffer` is None, then only `shape`, `dtype`, and `order`\n",
       "   are used.\n",
       "2. If `buffer` is an object exposing the buffer interface, then\n",
       "   all keywords are interpreted.\n",
       "\n",
       "No ``__init__`` method is needed because the array is fully initialized\n",
       "after the ``__new__`` method.\n",
       "\n",
       "Examples\n",
       "--------\n",
       "These examples illustrate the low-level `ndarray` constructor.  Refer\n",
       "to the `See Also` section above for easier ways of constructing an\n",
       "ndarray.\n",
       "\n",
       "First mode, `buffer` is None:\n",
       "\n",
       ">>> np.ndarray(shape=(2,2), dtype=float, order='F')\n",
       "array([[0.0e+000, 0.0e+000], # random\n",
       "       [     nan, 2.5e-323]])\n",
       "\n",
       "Second mode:\n",
       "\n",
       ">>> np.ndarray((2,), buffer=np.array([1,2,3]),\n",
       "...            offset=np.int_().itemsize,\n",
       "...            dtype=int) # offset = 1*itemsize, i.e. skip first element\n",
       "array([2, 3])\n",
       "\u001b[1;31mFile:\u001b[0m           c:\\users\\miguel\\appdata\\local\\programs\\python\\python310\\lib\\site-packages\\numpy\\__init__.py\n",
       "\u001b[1;31mType:\u001b[0m           type\n",
       "\u001b[1;31mSubclasses:\u001b[0m     chararray, recarray, memmap, matrix, MaskedArray\n"
      ]
     },
     "metadata": {},
     "output_type": "display_data"
    }
   ],
   "source": [
    "np.ndarray?"
   ]
  },
  {
   "cell_type": "code",
   "execution_count": 6,
   "id": "ef32289e-8a59-4ecc-9e59-41ea6db63d40",
   "metadata": {},
   "outputs": [
    {
     "data": {
      "text/plain": [
       "\u001b[1;31mInit signature:\u001b[0m \u001b[0mnp\u001b[0m\u001b[1;33m.\u001b[0m\u001b[0mndarray\u001b[0m\u001b[1;33m(\u001b[0m\u001b[0mself\u001b[0m\u001b[1;33m,\u001b[0m \u001b[1;33m/\u001b[0m\u001b[1;33m,\u001b[0m \u001b[1;33m*\u001b[0m\u001b[0margs\u001b[0m\u001b[1;33m,\u001b[0m \u001b[1;33m**\u001b[0m\u001b[0mkwargs\u001b[0m\u001b[1;33m)\u001b[0m\u001b[1;33m\u001b[0m\u001b[1;33m\u001b[0m\u001b[0m\n",
       "\u001b[1;31mDocstring:\u001b[0m     \n",
       "ndarray(shape, dtype=float, buffer=None, offset=0,\n",
       "        strides=None, order=None)\n",
       "\n",
       "An array object represents a multidimensional, homogeneous array\n",
       "of fixed-size items.  An associated data-type object describes the\n",
       "format of each element in the array (its byte-order, how many bytes it\n",
       "occupies in memory, whether it is an integer, a floating point number,\n",
       "or something else, etc.)\n",
       "\n",
       "Arrays should be constructed using `array`, `zeros` or `empty` (refer\n",
       "to the See Also section below).  The parameters given here refer to\n",
       "a low-level method (`ndarray(...)`) for instantiating an array.\n",
       "\n",
       "For more information, refer to the `numpy` module and examine the\n",
       "methods and attributes of an array.\n",
       "\n",
       "Parameters\n",
       "----------\n",
       "(for the __new__ method; see Notes below)\n",
       "\n",
       "shape : tuple of ints\n",
       "    Shape of created array.\n",
       "dtype : data-type, optional\n",
       "    Any object that can be interpreted as a numpy data type.\n",
       "buffer : object exposing buffer interface, optional\n",
       "    Used to fill the array with data.\n",
       "offset : int, optional\n",
       "    Offset of array data in buffer.\n",
       "strides : tuple of ints, optional\n",
       "    Strides of data in memory.\n",
       "order : {'C', 'F'}, optional\n",
       "    Row-major (C-style) or column-major (Fortran-style) order.\n",
       "\n",
       "Attributes\n",
       "----------\n",
       "T : ndarray\n",
       "    Transpose of the array.\n",
       "data : buffer\n",
       "    The array's elements, in memory.\n",
       "dtype : dtype object\n",
       "    Describes the format of the elements in the array.\n",
       "flags : dict\n",
       "    Dictionary containing information related to memory use, e.g.,\n",
       "    'C_CONTIGUOUS', 'OWNDATA', 'WRITEABLE', etc.\n",
       "flat : numpy.flatiter object\n",
       "    Flattened version of the array as an iterator.  The iterator\n",
       "    allows assignments, e.g., ``x.flat = 3`` (See `ndarray.flat` for\n",
       "    assignment examples; TODO).\n",
       "imag : ndarray\n",
       "    Imaginary part of the array.\n",
       "real : ndarray\n",
       "    Real part of the array.\n",
       "size : int\n",
       "    Number of elements in the array.\n",
       "itemsize : int\n",
       "    The memory use of each array element in bytes.\n",
       "nbytes : int\n",
       "    The total number of bytes required to store the array data,\n",
       "    i.e., ``itemsize * size``.\n",
       "ndim : int\n",
       "    The array's number of dimensions.\n",
       "shape : tuple of ints\n",
       "    Shape of the array.\n",
       "strides : tuple of ints\n",
       "    The step-size required to move from one element to the next in\n",
       "    memory. For example, a contiguous ``(3, 4)`` array of type\n",
       "    ``int16`` in C-order has strides ``(8, 2)``.  This implies that\n",
       "    to move from element to element in memory requires jumps of 2 bytes.\n",
       "    To move from row-to-row, one needs to jump 8 bytes at a time\n",
       "    (``2 * 4``).\n",
       "ctypes : ctypes object\n",
       "    Class containing properties of the array needed for interaction\n",
       "    with ctypes.\n",
       "base : ndarray\n",
       "    If the array is a view into another array, that array is its `base`\n",
       "    (unless that array is also a view).  The `base` array is where the\n",
       "    array data is actually stored.\n",
       "\n",
       "See Also\n",
       "--------\n",
       "array : Construct an array.\n",
       "zeros : Create an array, each element of which is zero.\n",
       "empty : Create an array, but leave its allocated memory unchanged (i.e.,\n",
       "        it contains \"garbage\").\n",
       "dtype : Create a data-type.\n",
       "numpy.typing.NDArray : An ndarray alias :term:`generic <generic type>`\n",
       "                       w.r.t. its `dtype.type <numpy.dtype.type>`.\n",
       "\n",
       "Notes\n",
       "-----\n",
       "There are two modes of creating an array using ``__new__``:\n",
       "\n",
       "1. If `buffer` is None, then only `shape`, `dtype`, and `order`\n",
       "   are used.\n",
       "2. If `buffer` is an object exposing the buffer interface, then\n",
       "   all keywords are interpreted.\n",
       "\n",
       "No ``__init__`` method is needed because the array is fully initialized\n",
       "after the ``__new__`` method.\n",
       "\n",
       "Examples\n",
       "--------\n",
       "These examples illustrate the low-level `ndarray` constructor.  Refer\n",
       "to the `See Also` section above for easier ways of constructing an\n",
       "ndarray.\n",
       "\n",
       "First mode, `buffer` is None:\n",
       "\n",
       ">>> np.ndarray(shape=(2,2), dtype=float, order='F')\n",
       "array([[0.0e+000, 0.0e+000], # random\n",
       "       [     nan, 2.5e-323]])\n",
       "\n",
       "Second mode:\n",
       "\n",
       ">>> np.ndarray((2,), buffer=np.array([1,2,3]),\n",
       "...            offset=np.int_().itemsize,\n",
       "...            dtype=int) # offset = 1*itemsize, i.e. skip first element\n",
       "array([2, 3])\n",
       "\u001b[1;31mFile:\u001b[0m           c:\\users\\miguel\\appdata\\local\\programs\\python\\python310\\lib\\site-packages\\numpy\\__init__.py\n",
       "\u001b[1;31mType:\u001b[0m           type\n",
       "\u001b[1;31mSubclasses:\u001b[0m     chararray, recarray, memmap, matrix, MaskedArray\n"
      ]
     },
     "metadata": {},
     "output_type": "display_data"
    }
   ],
   "source": [
    "np.ndarray?"
   ]
  },
  {
   "cell_type": "code",
   "execution_count": 7,
   "id": "2a961097-e57c-4069-9aeb-4c26bd245c99",
   "metadata": {},
   "outputs": [
    {
     "ename": "AttributeError",
     "evalue": "'numpy.ndarray' object has no attribute 'Size'",
     "output_type": "error",
     "traceback": [
      "\u001b[1;31m---------------------------------------------------------------------------\u001b[0m",
      "\u001b[1;31mAttributeError\u001b[0m                            Traceback (most recent call last)",
      "Input \u001b[1;32mIn [7]\u001b[0m, in \u001b[0;36m<cell line: 1>\u001b[1;34m()\u001b[0m\n\u001b[1;32m----> 1\u001b[0m \u001b[43mdata\u001b[49m\u001b[38;5;241;43m.\u001b[39;49m\u001b[43mSize\u001b[49m\n",
      "\u001b[1;31mAttributeError\u001b[0m: 'numpy.ndarray' object has no attribute 'Size'"
     ]
    }
   ],
   "source": [
    "data.Size"
   ]
  },
  {
   "cell_type": "code",
   "execution_count": 8,
   "id": "b63234c0-0083-45fe-8901-3629fec99252",
   "metadata": {},
   "outputs": [
    {
     "data": {
      "text/plain": [
       "6"
      ]
     },
     "execution_count": 8,
     "metadata": {},
     "output_type": "execute_result"
    }
   ],
   "source": [
    "data.size"
   ]
  },
  {
   "cell_type": "code",
   "execution_count": 9,
   "id": "40e60b77-830e-4453-8dbd-3505be9e614c",
   "metadata": {},
   "outputs": [
    {
     "data": {
      "text/plain": [
       "24"
      ]
     },
     "execution_count": 9,
     "metadata": {},
     "output_type": "execute_result"
    }
   ],
   "source": [
    "data.nbytes"
   ]
  },
  {
   "cell_type": "code",
   "execution_count": 10,
   "id": "666e4e04-bada-48ba-a860-91ecb70dcfa3",
   "metadata": {},
   "outputs": [
    {
     "data": {
      "text/plain": [
       "dtype('int32')"
      ]
     },
     "execution_count": 10,
     "metadata": {},
     "output_type": "execute_result"
    }
   ],
   "source": [
    "data.dtype"
   ]
  },
  {
   "cell_type": "code",
   "execution_count": 11,
   "id": "806a8b71-2d34-4cbb-8558-ac44f0697eb6",
   "metadata": {},
   "outputs": [
    {
     "data": {
      "text/plain": [
       "(3, 2)"
      ]
     },
     "execution_count": 11,
     "metadata": {},
     "output_type": "execute_result"
    }
   ],
   "source": [
    "data.shape"
   ]
  },
  {
   "cell_type": "code",
   "execution_count": 12,
   "id": "c9e09662-a6b7-4d96-b006-bfcb1417d8ba",
   "metadata": {},
   "outputs": [
    {
     "data": {
      "text/plain": [
       "2"
      ]
     },
     "execution_count": 12,
     "metadata": {},
     "output_type": "execute_result"
    }
   ],
   "source": [
    "data.ndim"
   ]
  },
  {
   "cell_type": "code",
   "execution_count": 13,
   "id": "67ff67eb-b472-4f84-ae15-991e98f4ddff",
   "metadata": {},
   "outputs": [
    {
     "data": {
      "text/plain": [
       "array([[1, 2],\n",
       "       [3, 4],\n",
       "       [5, 6]])"
      ]
     },
     "execution_count": 13,
     "metadata": {},
     "output_type": "execute_result"
    }
   ],
   "source": [
    "data"
   ]
  },
  {
   "cell_type": "code",
   "execution_count": 14,
   "id": "3b51b37e-2bed-41e4-9681-e25e2cd86239",
   "metadata": {},
   "outputs": [
    {
     "data": {
      "text/plain": [
       "numpy.ndarray"
      ]
     },
     "execution_count": 14,
     "metadata": {},
     "output_type": "execute_result"
    }
   ],
   "source": [
    "type(data)"
   ]
  },
  {
   "cell_type": "code",
   "execution_count": 1,
   "id": "b8d6bfa5-d5a4-4be8-8aba-ac16be62b8c2",
   "metadata": {},
   "outputs": [
    {
     "ename": "NameError",
     "evalue": "name 'np' is not defined",
     "output_type": "error",
     "traceback": [
      "\u001b[1;31m---------------------------------------------------------------------------\u001b[0m",
      "\u001b[1;31mNameError\u001b[0m                                 Traceback (most recent call last)",
      "Input \u001b[1;32mIn [1]\u001b[0m, in \u001b[0;36m<cell line: 1>\u001b[1;34m()\u001b[0m\n\u001b[1;32m----> 1\u001b[0m x \u001b[38;5;241m=\u001b[39m \u001b[43mnp\u001b[49m\u001b[38;5;241m.\u001b[39marray([\u001b[38;5;241m1\u001b[39m, \u001b[38;5;241m2\u001b[39m, \u001b[38;5;241m3\u001b[39m])\n",
      "\u001b[1;31mNameError\u001b[0m: name 'np' is not defined"
     ]
    }
   ],
   "source": [
    "x = np.array([1, 2, 3])"
   ]
  },
  {
   "cell_type": "code",
   "execution_count": 2,
   "id": "6a2d436b-6b88-46fc-8c7a-df7cda91485d",
   "metadata": {},
   "outputs": [
    {
     "name": "stdout",
     "output_type": "stream",
     "text": [
      "Interactive namespace is empty.\n"
     ]
    }
   ],
   "source": [
    "who\n"
   ]
  },
  {
   "cell_type": "code",
   "execution_count": 3,
   "id": "450d652c-188b-45e2-b6f3-6cb61ce4dc1d",
   "metadata": {},
   "outputs": [],
   "source": [
    "import numpy as np"
   ]
  },
  {
   "cell_type": "code",
   "execution_count": 4,
   "id": "623d26aa-da2d-4cf9-ab04-de99321bdd38",
   "metadata": {},
   "outputs": [
    {
     "name": "stdout",
     "output_type": "stream",
     "text": [
      "np\t \n"
     ]
    }
   ],
   "source": [
    "who"
   ]
  },
  {
   "cell_type": "code",
   "execution_count": 5,
   "id": "dd5af3c5-7eba-4af3-bf17-cfd9505e1f0d",
   "metadata": {},
   "outputs": [],
   "source": [
    "x = np.array([1, 2, 3])"
   ]
  },
  {
   "cell_type": "code",
   "execution_count": 6,
   "id": "c35304a9-53ab-4c97-b53d-bffe049308e9",
   "metadata": {},
   "outputs": [
    {
     "data": {
      "text/plain": [
       "array([1, 2, 3])"
      ]
     },
     "execution_count": 6,
     "metadata": {},
     "output_type": "execute_result"
    }
   ],
   "source": [
    "x"
   ]
  },
  {
   "cell_type": "code",
   "execution_count": 7,
   "id": "ae07d105-9b25-4780-8222-55e43ade7ee5",
   "metadata": {},
   "outputs": [
    {
     "data": {
      "text/plain": [
       "(3,)"
      ]
     },
     "execution_count": 7,
     "metadata": {},
     "output_type": "execute_result"
    }
   ],
   "source": [
    "x.shape\n"
   ]
  },
  {
   "cell_type": "code",
   "execution_count": 8,
   "id": "85865914-d0fd-4a60-8651-c7a92490f172",
   "metadata": {},
   "outputs": [
    {
     "data": {
      "text/plain": [
       "\u001b[1;31mDocstring:\u001b[0m\n",
       "a.reshape(shape, order='C')\n",
       "\n",
       "Returns an array containing the same data with a new shape.\n",
       "\n",
       "Refer to `numpy.reshape` for full documentation.\n",
       "\n",
       "See Also\n",
       "--------\n",
       "numpy.reshape : equivalent function\n",
       "\n",
       "Notes\n",
       "-----\n",
       "Unlike the free function `numpy.reshape`, this method on `ndarray` allows\n",
       "the elements of the shape parameter to be passed in as separate arguments.\n",
       "For example, ``a.reshape(10, 11)`` is equivalent to\n",
       "``a.reshape((10, 11))``.\n",
       "\u001b[1;31mType:\u001b[0m      builtin_function_or_method\n"
      ]
     },
     "metadata": {},
     "output_type": "display_data"
    }
   ],
   "source": [
    "x.reshape?"
   ]
  },
  {
   "cell_type": "code",
   "execution_count": 9,
   "id": "ae61a7b9-f00f-4e6e-aac6-d9177fb66ca4",
   "metadata": {},
   "outputs": [
    {
     "data": {
      "text/plain": [
       "array([[1],\n",
       "       [2],\n",
       "       [3]])"
      ]
     },
     "execution_count": 9,
     "metadata": {},
     "output_type": "execute_result"
    }
   ],
   "source": [
    "x.reshape((3, 1))"
   ]
  },
  {
   "cell_type": "code",
   "execution_count": 10,
   "id": "9f9b0aed-6459-42ca-bf44-cbd7d57276e8",
   "metadata": {},
   "outputs": [],
   "source": [
    "y = x.reshape((3, 1))"
   ]
  },
  {
   "cell_type": "code",
   "execution_count": 11,
   "id": "bd0ad475-ffaf-4c54-8a50-f1b5bb7cce94",
   "metadata": {},
   "outputs": [
    {
     "data": {
      "text/plain": [
       "array([1, 2, 3])"
      ]
     },
     "execution_count": 11,
     "metadata": {},
     "output_type": "execute_result"
    }
   ],
   "source": [
    "x"
   ]
  },
  {
   "cell_type": "code",
   "execution_count": 12,
   "id": "1dad177e-e6c0-4668-a470-56f9c1b2fd0c",
   "metadata": {},
   "outputs": [
    {
     "data": {
      "text/plain": [
       "array([[1],\n",
       "       [2],\n",
       "       [3]])"
      ]
     },
     "execution_count": 12,
     "metadata": {},
     "output_type": "execute_result"
    }
   ],
   "source": [
    "y"
   ]
  },
  {
   "cell_type": "code",
   "execution_count": 13,
   "id": "02546cb8-94cf-43de-a0ab-933e01be0918",
   "metadata": {},
   "outputs": [
    {
     "data": {
      "text/plain": [
       "(3,)"
      ]
     },
     "execution_count": 13,
     "metadata": {},
     "output_type": "execute_result"
    }
   ],
   "source": [
    "x.shape"
   ]
  },
  {
   "cell_type": "code",
   "execution_count": 14,
   "id": "c3205bc4-6496-4555-8908-90fcf369beab",
   "metadata": {},
   "outputs": [
    {
     "data": {
      "text/plain": [
       "(3, 1)"
      ]
     },
     "execution_count": 14,
     "metadata": {},
     "output_type": "execute_result"
    }
   ],
   "source": [
    "y.shape"
   ]
  },
  {
   "cell_type": "code",
   "execution_count": 15,
   "id": "ddc76e49-f064-46f3-8fc1-414f80e299dd",
   "metadata": {},
   "outputs": [],
   "source": [
    "A = np.array([[1, 2, 3], [4, 5, 6], [7, 8, 9], [10, 11, 12]])"
   ]
  },
  {
   "cell_type": "code",
   "execution_count": 16,
   "id": "e1b27d6c-6a6a-410b-b91c-88a6798a0fca",
   "metadata": {},
   "outputs": [
    {
     "data": {
      "text/plain": [
       "array([[ 1,  2,  3],\n",
       "       [ 4,  5,  6],\n",
       "       [ 7,  8,  9],\n",
       "       [10, 11, 12]])"
      ]
     },
     "execution_count": 16,
     "metadata": {},
     "output_type": "execute_result"
    }
   ],
   "source": [
    "A"
   ]
  },
  {
   "cell_type": "code",
   "execution_count": 17,
   "id": "2f923698-0cf5-4839-a3de-15bf6df6ecda",
   "metadata": {},
   "outputs": [
    {
     "data": {
      "text/plain": [
       "(4, 3)"
      ]
     },
     "execution_count": 17,
     "metadata": {},
     "output_type": "execute_result"
    }
   ],
   "source": [
    "A.shape"
   ]
  },
  {
   "cell_type": "code",
   "execution_count": 18,
   "id": "6ea50e60-ea3e-4f3d-8082-2f56bd1e77d8",
   "metadata": {},
   "outputs": [],
   "source": [
    "a = np.array([[1, 2, 3]])"
   ]
  },
  {
   "cell_type": "code",
   "execution_count": 19,
   "id": "e68ded30-1e1a-4a82-b85c-2b19246c6692",
   "metadata": {},
   "outputs": [
    {
     "data": {
      "text/plain": [
       "array([[1, 2, 3]])"
      ]
     },
     "execution_count": 19,
     "metadata": {},
     "output_type": "execute_result"
    }
   ],
   "source": [
    "a"
   ]
  },
  {
   "cell_type": "code",
   "execution_count": 20,
   "id": "9e622330-2e5a-4719-8a06-dfe1037f1f0a",
   "metadata": {},
   "outputs": [
    {
     "data": {
      "text/plain": [
       "(1, 3)"
      ]
     },
     "execution_count": 20,
     "metadata": {},
     "output_type": "execute_result"
    }
   ],
   "source": [
    "a.shape"
   ]
  },
  {
   "cell_type": "code",
   "execution_count": 21,
   "id": "3f6e40d5-cf97-4fd2-8b40-97b758405cee",
   "metadata": {},
   "outputs": [
    {
     "data": {
      "text/plain": [
       "\u001b[1;31mDocstring:\u001b[0m\n",
       "arange([start,] stop[, step,], dtype=None, *, like=None)\n",
       "\n",
       "Return evenly spaced values within a given interval.\n",
       "\n",
       "Values are generated within the half-open interval ``[start, stop)``\n",
       "(in other words, the interval including `start` but excluding `stop`).\n",
       "For integer arguments the function is equivalent to the Python built-in\n",
       "`range` function, but returns an ndarray rather than a list.\n",
       "\n",
       "When using a non-integer step, such as 0.1, it is often better to use\n",
       "`numpy.linspace`. See the warnings section below for more information.\n",
       "\n",
       "Parameters\n",
       "----------\n",
       "start : integer or real, optional\n",
       "    Start of interval.  The interval includes this value.  The default\n",
       "    start value is 0.\n",
       "stop : integer or real\n",
       "    End of interval.  The interval does not include this value, except\n",
       "    in some cases where `step` is not an integer and floating point\n",
       "    round-off affects the length of `out`.\n",
       "step : integer or real, optional\n",
       "    Spacing between values.  For any output `out`, this is the distance\n",
       "    between two adjacent values, ``out[i+1] - out[i]``.  The default\n",
       "    step size is 1.  If `step` is specified as a position argument,\n",
       "    `start` must also be given.\n",
       "dtype : dtype\n",
       "    The type of the output array.  If `dtype` is not given, infer the data\n",
       "    type from the other input arguments.\n",
       "like : array_like\n",
       "    Reference object to allow the creation of arrays which are not\n",
       "    NumPy arrays. If an array-like passed in as ``like`` supports\n",
       "    the ``__array_function__`` protocol, the result will be defined\n",
       "    by it. In this case, it ensures the creation of an array object\n",
       "    compatible with that passed in via this argument.\n",
       "\n",
       "    .. versionadded:: 1.20.0\n",
       "\n",
       "Returns\n",
       "-------\n",
       "arange : ndarray\n",
       "    Array of evenly spaced values.\n",
       "\n",
       "    For floating point arguments, the length of the result is\n",
       "    ``ceil((stop - start)/step)``.  Because of floating point overflow,\n",
       "    this rule may result in the last element of `out` being greater\n",
       "    than `stop`.\n",
       "\n",
       "Warnings\n",
       "--------\n",
       "The length of the output might not be numerically stable.\n",
       "\n",
       "Another stability issue is due to the internal implementation of\n",
       "`numpy.arange`.\n",
       "The actual step value used to populate the array is\n",
       "``dtype(start + step) - dtype(start)`` and not `step`. Precision loss\n",
       "can occur here, due to casting or due to using floating points when\n",
       "`start` is much larger than `step`. This can lead to unexpected\n",
       "behaviour. For example::\n",
       "\n",
       "  >>> np.arange(0, 5, 0.5, dtype=int)\n",
       "  array([0, 0, 0, 0, 0, 0, 0, 0, 0, 0])\n",
       "  >>> np.arange(-3, 3, 0.5, dtype=int)\n",
       "  array([-3, -2, -1,  0,  1,  2,  3,  4,  5,  6,  7,  8])\n",
       "\n",
       "In such cases, the use of `numpy.linspace` should be preferred.\n",
       "\n",
       "See Also\n",
       "--------\n",
       "numpy.linspace : Evenly spaced numbers with careful handling of endpoints.\n",
       "numpy.ogrid: Arrays of evenly spaced numbers in N-dimensions.\n",
       "numpy.mgrid: Grid-shaped arrays of evenly spaced numbers in N-dimensions.\n",
       "\n",
       "Examples\n",
       "--------\n",
       ">>> np.arange(3)\n",
       "array([0, 1, 2])\n",
       ">>> np.arange(3.0)\n",
       "array([ 0.,  1.,  2.])\n",
       ">>> np.arange(3,7)\n",
       "array([3, 4, 5, 6])\n",
       ">>> np.arange(3,7,2)\n",
       "array([3, 5])\n",
       "\u001b[1;31mType:\u001b[0m      builtin_function_or_method\n"
      ]
     },
     "metadata": {},
     "output_type": "display_data"
    }
   ],
   "source": [
    "a = np.arange?"
   ]
  },
  {
   "cell_type": "code",
   "execution_count": null,
   "id": "77f93736-ccb3-46e4-aafa-088fee9ad5fc",
   "metadata": {},
   "outputs": [],
   "source": [
    "a = np.arange"
   ]
  },
  {
   "cell_type": "code",
   "execution_count": 25,
   "id": "faccc2f4-cfae-47ab-aaf9-8e02525fc041",
   "metadata": {},
   "outputs": [],
   "source": [
    "a = np.arange(0, 6, 0.5).reshape(4, 3)"
   ]
  },
  {
   "cell_type": "code",
   "execution_count": 26,
   "id": "3ae0c805-fa55-4a78-b3b8-dcb3dd6b3cd7",
   "metadata": {},
   "outputs": [
    {
     "data": {
      "text/plain": [
       "array([[0. , 0.5, 1. ],\n",
       "       [1.5, 2. , 2.5],\n",
       "       [3. , 3.5, 4. ],\n",
       "       [4.5, 5. , 5.5]])"
      ]
     },
     "execution_count": 26,
     "metadata": {},
     "output_type": "execute_result"
    }
   ],
   "source": [
    "a"
   ]
  },
  {
   "cell_type": "code",
   "execution_count": 27,
   "id": "88638e9e-deea-47f1-8034-7cdfabe6d24c",
   "metadata": {},
   "outputs": [
    {
     "data": {
      "text/plain": [
       "array([[ 1,  2,  3],\n",
       "       [ 4,  5,  6],\n",
       "       [ 7,  8,  9],\n",
       "       [10, 11, 12]])"
      ]
     },
     "execution_count": 27,
     "metadata": {},
     "output_type": "execute_result"
    }
   ],
   "source": [
    "A"
   ]
  },
  {
   "cell_type": "code",
   "execution_count": 29,
   "id": "5f6b9df4-7bdb-4fc1-b40c-be9c68fb95ea",
   "metadata": {},
   "outputs": [
    {
     "data": {
      "text/plain": [
       "8"
      ]
     },
     "execution_count": 29,
     "metadata": {},
     "output_type": "execute_result"
    }
   ],
   "source": [
    "A[2, 1]"
   ]
  },
  {
   "cell_type": "code",
   "execution_count": 30,
   "id": "f5677b25-baf9-4a06-a0a1-501d8a958df6",
   "metadata": {},
   "outputs": [
    {
     "data": {
      "text/plain": [
       "array([7, 8, 9])"
      ]
     },
     "execution_count": 30,
     "metadata": {},
     "output_type": "execute_result"
    }
   ],
   "source": [
    "A[2]"
   ]
  },
  {
   "cell_type": "code",
   "execution_count": 32,
   "id": "5b04cb8e-af4d-4cc6-afc6-12e89aead267",
   "metadata": {},
   "outputs": [
    {
     "data": {
      "text/plain": [
       "array([7, 8, 9])"
      ]
     },
     "execution_count": 32,
     "metadata": {},
     "output_type": "execute_result"
    }
   ],
   "source": [
    "A[2,]"
   ]
  },
  {
   "cell_type": "code",
   "execution_count": 34,
   "id": "503062e6-efdc-46cb-bce6-6886a774ccbe",
   "metadata": {},
   "outputs": [
    {
     "data": {
      "text/plain": [
       "<function ndarray.transpose>"
      ]
     },
     "execution_count": 34,
     "metadata": {},
     "output_type": "execute_result"
    }
   ],
   "source": [
    "A.transpose"
   ]
  },
  {
   "cell_type": "code",
   "execution_count": 35,
   "id": "1a72c1fd-c341-4ba5-a83a-a05a9e8724b8",
   "metadata": {},
   "outputs": [
    {
     "data": {
      "text/plain": [
       "array([[ 1,  4,  7, 10],\n",
       "       [ 2,  5,  8, 11],\n",
       "       [ 3,  6,  9, 12]])"
      ]
     },
     "execution_count": 35,
     "metadata": {},
     "output_type": "execute_result"
    }
   ],
   "source": [
    "A.transpose()"
   ]
  },
  {
   "cell_type": "code",
   "execution_count": 36,
   "id": "4870d819-d52e-43bf-9379-49aeb3171d3e",
   "metadata": {},
   "outputs": [],
   "source": [
    "A = np.arange(9).reshape(3, 3)"
   ]
  },
  {
   "cell_type": "code",
   "execution_count": 37,
   "id": "17f75759-b566-4527-8381-bcebd48acb9e",
   "metadata": {},
   "outputs": [
    {
     "data": {
      "text/plain": [
       "array([[0, 1, 2],\n",
       "       [3, 4, 5],\n",
       "       [6, 7, 8]])"
      ]
     },
     "execution_count": 37,
     "metadata": {},
     "output_type": "execute_result"
    }
   ],
   "source": [
    "A\n"
   ]
  },
  {
   "cell_type": "code",
   "execution_count": 38,
   "id": "147628cc-189c-424e-a4fb-876af176f2a9",
   "metadata": {},
   "outputs": [
    {
     "data": {
      "text/plain": [
       "<function ndarray.diagonal>"
      ]
     },
     "execution_count": 38,
     "metadata": {},
     "output_type": "execute_result"
    }
   ],
   "source": [
    "A.diagonal"
   ]
  },
  {
   "cell_type": "code",
   "execution_count": 39,
   "id": "0493dbbf-fa24-4f7a-81eb-d3e806a51a71",
   "metadata": {},
   "outputs": [
    {
     "data": {
      "text/plain": [
       "\u001b[1;31mDocstring:\u001b[0m\n",
       "a.diagonal(offset=0, axis1=0, axis2=1)\n",
       "\n",
       "Return specified diagonals. In NumPy 1.9 the returned array is a\n",
       "read-only view instead of a copy as in previous NumPy versions.  In\n",
       "a future version the read-only restriction will be removed.\n",
       "\n",
       "Refer to :func:`numpy.diagonal` for full documentation.\n",
       "\n",
       "See Also\n",
       "--------\n",
       "numpy.diagonal : equivalent function\n",
       "\u001b[1;31mType:\u001b[0m      builtin_function_or_method\n"
      ]
     },
     "metadata": {},
     "output_type": "display_data"
    }
   ],
   "source": [
    "A.diagonal?"
   ]
  },
  {
   "cell_type": "code",
   "execution_count": 40,
   "id": "7455ef46-1e8d-4173-a4f9-c92220b47717",
   "metadata": {},
   "outputs": [
    {
     "data": {
      "text/plain": [
       "array([0., 2., 4.])"
      ]
     },
     "execution_count": 40,
     "metadata": {},
     "output_type": "execute_result"
    }
   ],
   "source": [
    "a.diagonal()"
   ]
  },
  {
   "cell_type": "code",
   "execution_count": 41,
   "id": "2953ed0a-803f-41d0-ac7f-8dec41ff9bbc",
   "metadata": {},
   "outputs": [
    {
     "data": {
      "text/plain": [
       "array([[0. , 0.5, 1. ],\n",
       "       [1.5, 2. , 2.5],\n",
       "       [3. , 3.5, 4. ],\n",
       "       [4.5, 5. , 5.5]])"
      ]
     },
     "execution_count": 41,
     "metadata": {},
     "output_type": "execute_result"
    }
   ],
   "source": [
    "a"
   ]
  },
  {
   "cell_type": "code",
   "execution_count": 42,
   "id": "e2c5bd8d-6450-4002-967f-1aa40fd1c298",
   "metadata": {},
   "outputs": [
    {
     "data": {
      "text/plain": [
       "array([0.5, 2.5])"
      ]
     },
     "execution_count": 42,
     "metadata": {},
     "output_type": "execute_result"
    }
   ],
   "source": [
    "a.diagonal(offset=1)"
   ]
  },
  {
   "cell_type": "code",
   "execution_count": 43,
   "id": "b82f1089-7004-4f4d-bb50-407f984ff01c",
   "metadata": {},
   "outputs": [],
   "source": [
    "t = np.arange(36).reshape(3, 3, 4)"
   ]
  },
  {
   "cell_type": "code",
   "execution_count": 44,
   "id": "b5ef1057-d567-4ed6-99a1-6dc2e97c0c43",
   "metadata": {},
   "outputs": [
    {
     "data": {
      "text/plain": [
       "array([[[ 0,  1,  2,  3],\n",
       "        [ 4,  5,  6,  7],\n",
       "        [ 8,  9, 10, 11]],\n",
       "\n",
       "       [[12, 13, 14, 15],\n",
       "        [16, 17, 18, 19],\n",
       "        [20, 21, 22, 23]],\n",
       "\n",
       "       [[24, 25, 26, 27],\n",
       "        [28, 29, 30, 31],\n",
       "        [32, 33, 34, 35]]])"
      ]
     },
     "execution_count": 44,
     "metadata": {},
     "output_type": "execute_result"
    }
   ],
   "source": [
    "t"
   ]
  },
  {
   "cell_type": "code",
   "execution_count": 45,
   "id": "e84736d5-f912-4701-a1ed-16711c3dbc47",
   "metadata": {},
   "outputs": [
    {
     "data": {
      "text/plain": [
       "(3, 3, 4)"
      ]
     },
     "execution_count": 45,
     "metadata": {},
     "output_type": "execute_result"
    }
   ],
   "source": [
    "t.shape"
   ]
  },
  {
   "cell_type": "code",
   "execution_count": 46,
   "id": "ad1afd78-2d05-4ece-b0da-eca2970b2e5d",
   "metadata": {},
   "outputs": [
    {
     "data": {
      "text/plain": [
       "array([[ 0,  1,  2,  3],\n",
       "       [ 4,  5,  6,  7],\n",
       "       [ 8,  9, 10, 11]])"
      ]
     },
     "execution_count": 46,
     "metadata": {},
     "output_type": "execute_result"
    }
   ],
   "source": [
    "t[0]"
   ]
  },
  {
   "cell_type": "code",
   "execution_count": 47,
   "id": "80d71633-4d6f-4d18-8481-a85589413792",
   "metadata": {},
   "outputs": [
    {
     "data": {
      "text/plain": [
       "array([4, 5, 6, 7])"
      ]
     },
     "execution_count": 47,
     "metadata": {},
     "output_type": "execute_result"
    }
   ],
   "source": [
    "t[0, 1]"
   ]
  },
  {
   "cell_type": "code",
   "execution_count": 48,
   "id": "fab5cafe-de75-4f9a-8c30-f5cbcd851634",
   "metadata": {},
   "outputs": [
    {
     "data": {
      "text/plain": [
       "array([4, 5, 6, 7])"
      ]
     },
     "execution_count": 48,
     "metadata": {},
     "output_type": "execute_result"
    }
   ],
   "source": [
    "t[0][1]"
   ]
  },
  {
   "cell_type": "code",
   "execution_count": 50,
   "id": "5c058107-4c72-4261-a031-76f2ea7e1e51",
   "metadata": {},
   "outputs": [
    {
     "data": {
      "text/plain": [
       "True"
      ]
     },
     "execution_count": 50,
     "metadata": {},
     "output_type": "execute_result"
    }
   ],
   "source": [
    "t[1, 1, 3] == t[1, 1, 3]"
   ]
  },
  {
   "cell_type": "code",
   "execution_count": 51,
   "id": "6bc97116-fefb-458b-9af6-11512823cba2",
   "metadata": {},
   "outputs": [],
   "source": [
    "np.newaxis"
   ]
  },
  {
   "cell_type": "code",
   "execution_count": 52,
   "id": "b31ddb6d-dab8-4b41-b3f2-c75b9b536143",
   "metadata": {},
   "outputs": [
    {
     "data": {
      "text/plain": [
       "\u001b[1;31mType:\u001b[0m        NoneType\n",
       "\u001b[1;31mString form:\u001b[0m None\n",
       "\u001b[1;31mDocstring:\u001b[0m   <no docstring>\n"
      ]
     },
     "metadata": {},
     "output_type": "display_data"
    }
   ],
   "source": [
    "np.newaxis??"
   ]
  },
  {
   "cell_type": "code",
   "execution_count": 53,
   "id": "f986b06e-3be2-48ee-a737-c6ba6a0b1c91",
   "metadata": {},
   "outputs": [
    {
     "data": {
      "text/plain": [
       "\u001b[1;31mType:\u001b[0m        NoneType\n",
       "\u001b[1;31mString form:\u001b[0m None\n",
       "\u001b[1;31mDocstring:\u001b[0m   <no docstring>\n"
      ]
     },
     "metadata": {},
     "output_type": "display_data"
    }
   ],
   "source": [
    "np.newaxis?"
   ]
  },
  {
   "cell_type": "code",
   "execution_count": 55,
   "id": "a323f691-7e7d-492e-9e09-ac66714f12dc",
   "metadata": {},
   "outputs": [],
   "source": [
    "t = np.array([[1, 2, 3], [4, 5, 6]])"
   ]
  },
  {
   "cell_type": "code",
   "execution_count": 62,
   "id": "1afb3935-8c2f-4055-8a8d-04933545ee00",
   "metadata": {},
   "outputs": [],
   "source": [
    "u = t[np.newaxis,1, :]"
   ]
  },
  {
   "cell_type": "code",
   "execution_count": 63,
   "id": "001a4895-2246-441b-80cf-d97be2e98025",
   "metadata": {},
   "outputs": [
    {
     "data": {
      "text/plain": [
       "array([[4, 5, 6]])"
      ]
     },
     "execution_count": 63,
     "metadata": {},
     "output_type": "execute_result"
    }
   ],
   "source": [
    "u"
   ]
  },
  {
   "cell_type": "code",
   "execution_count": 64,
   "id": "685b4aab-c425-4ecb-ae4c-839d00f5f113",
   "metadata": {},
   "outputs": [],
   "source": [
    "t = np.arange(15).reshape(5, 3)"
   ]
  },
  {
   "cell_type": "code",
   "execution_count": 65,
   "id": "c5df45ff-9118-4f15-bbc0-3117e2e693d7",
   "metadata": {},
   "outputs": [
    {
     "data": {
      "text/plain": [
       "array([[ 0,  1,  2],\n",
       "       [ 3,  4,  5],\n",
       "       [ 6,  7,  8],\n",
       "       [ 9, 10, 11],\n",
       "       [12, 13, 14]])"
      ]
     },
     "execution_count": 65,
     "metadata": {},
     "output_type": "execute_result"
    }
   ],
   "source": [
    "t"
   ]
  },
  {
   "cell_type": "code",
   "execution_count": 68,
   "id": "eeeb65e3-8941-4a95-9012-acbc83a49164",
   "metadata": {},
   "outputs": [],
   "source": [
    "u = t[1:4, 0:2]"
   ]
  },
  {
   "cell_type": "markdown",
   "id": "70c79e92-9e94-4d77-9d99-dfbb1397dc4d",
   "metadata": {
    "tags": []
   },
   "source": [
    "*Con esto conseguimos crear un nuevo array utilizando de las filas 1 a 4 (sin incluir), y con las columnas 0 a 2 (sin incluir)*"
   ]
  },
  {
   "cell_type": "code",
   "execution_count": 67,
   "id": "96b2b7c6-3667-467b-a38c-98f647c91853",
   "metadata": {},
   "outputs": [
    {
     "data": {
      "text/plain": [
       "array([[ 3,  4],\n",
       "       [ 6,  7],\n",
       "       [ 9, 10]])"
      ]
     },
     "execution_count": 67,
     "metadata": {},
     "output_type": "execute_result"
    }
   ],
   "source": [
    "u"
   ]
  },
  {
   "cell_type": "code",
   "execution_count": 70,
   "id": "6e985596-bdbd-4507-8930-99a455f16965",
   "metadata": {},
   "outputs": [],
   "source": [
    "a = np.array([[1, 2, 3], [4, 5, 6]])\n",
    "b = np.array([[7, 8, 9], [10, 11, 12]])\n",
    "c = np.array([10, 100, 1000])\n",
    "d = np.array([10, 11])"
   ]
  },
  {
   "cell_type": "markdown",
   "id": "eaf51121-f4ea-4443-ae39-7bda41eb8fbb",
   "metadata": {
    "tags": []
   },
   "source": [
    "*Suma componente a componente*"
   ]
  },
  {
   "cell_type": "code",
   "execution_count": 73,
   "id": "0d2568e7-6495-45b7-ab42-eea5f26f3aca",
   "metadata": {},
   "outputs": [
    {
     "data": {
      "text/plain": [
       "array([[ 8, 10, 12],\n",
       "       [14, 16, 18]])"
      ]
     },
     "execution_count": 73,
     "metadata": {},
     "output_type": "execute_result"
    }
   ],
   "source": [
    "a + b"
   ]
  },
  {
   "cell_type": "markdown",
   "id": "b4c1a3c9-9371-4ffc-a607-29cae1ab989e",
   "metadata": {
    "tags": []
   },
   "source": [
    "*Lo mismo para resta, mult., división, potencia... lo hace, si tienen igual forma, componente a componente*"
   ]
  },
  {
   "cell_type": "code",
   "execution_count": 75,
   "id": "6a350ccc-036f-4d94-8f9f-e92b27db413e",
   "metadata": {},
   "outputs": [
    {
     "data": {
      "text/plain": [
       "array([[ 7, 16, 27],\n",
       "       [40, 55, 72]])"
      ]
     },
     "execution_count": 75,
     "metadata": {},
     "output_type": "execute_result"
    }
   ],
   "source": [
    "a * b\n",
    "# Esto no es matricial, es componente a componente!!"
   ]
  },
  {
   "cell_type": "code",
   "execution_count": 76,
   "id": "e02c6aaa-4065-459d-8938-8550c8db0083",
   "metadata": {},
   "outputs": [
    {
     "data": {
      "text/plain": [
       "array([[ 2,  4,  6],\n",
       "       [ 8, 10, 12]])"
      ]
     },
     "execution_count": 76,
     "metadata": {},
     "output_type": "execute_result"
    }
   ],
   "source": [
    "# Si las dimensiones son distintas se aplica el Broadcasting...\n",
    "2 * a"
   ]
  },
  {
   "cell_type": "code",
   "execution_count": 77,
   "id": "44e823dd-55e1-4fbc-9780-81a7f9a7790f",
   "metadata": {},
   "outputs": [
    {
     "data": {
      "text/plain": [
       "array([[  11,  102, 1003],\n",
       "       [  14,  105, 1006]])"
      ]
     },
     "execution_count": 77,
     "metadata": {},
     "output_type": "execute_result"
    }
   ],
   "source": [
    "# Broadcasting al hacer a + c\n",
    "# a matriz 2x3 y c vector longitud 3, pues se suma a cada fila el vector c...\n",
    "a + c"
   ]
  },
  {
   "cell_type": "code",
   "execution_count": 78,
   "id": "0b7b0a1e-f3fa-4cc0-ac68-619683aefe15",
   "metadata": {},
   "outputs": [],
   "source": [
    "# Lo mismo claro si hiciéramos a * c, a - c, a ** c, etc"
   ]
  },
  {
   "cell_type": "code",
   "execution_count": 80,
   "id": "16ac9b70-3423-4018-a0c0-2c39892b6b7a",
   "metadata": {},
   "outputs": [
    {
     "ename": "ValueError",
     "evalue": "operands could not be broadcast together with shapes (2,3) (2,) ",
     "output_type": "error",
     "traceback": [
      "\u001b[1;31m---------------------------------------------------------------------------\u001b[0m",
      "\u001b[1;31mValueError\u001b[0m                                Traceback (most recent call last)",
      "Input \u001b[1;32mIn [80]\u001b[0m, in \u001b[0;36m<cell line: 2>\u001b[1;34m()\u001b[0m\n\u001b[0;32m      1\u001b[0m \u001b[38;5;66;03m# Podremos hacer broadcast del vector d (2 componentes) con la matriz a???\u001b[39;00m\n\u001b[1;32m----> 2\u001b[0m \u001b[43ma\u001b[49m\u001b[43m \u001b[49m\u001b[38;5;241;43m+\u001b[39;49m\u001b[43m \u001b[49m\u001b[43md\u001b[49m\n",
      "\u001b[1;31mValueError\u001b[0m: operands could not be broadcast together with shapes (2,3) (2,) "
     ]
    }
   ],
   "source": [
    "# Podremos hacer broadcast del vector d (2 componentes) con la matriz a???\n",
    "a + d"
   ]
  },
  {
   "cell_type": "code",
   "execution_count": 83,
   "id": "dfc9627b-6e09-4d78-aae5-9850b9c9a0ac",
   "metadata": {},
   "outputs": [
    {
     "data": {
      "text/plain": [
       "array([[11, 12, 13],\n",
       "       [15, 16, 17]])"
      ]
     },
     "execution_count": 83,
     "metadata": {},
     "output_type": "execute_result"
    }
   ],
   "source": [
    "# No se puede, porque las filas tienen distinto tamaño...\n",
    "# podríamos arreglarlo transformando d en un vector columna de tamaño 2,\n",
    "# y entonces ya sí, pq la matriz a también tiene dos filas...\n",
    "d = d.reshape(2, 1)  \n",
    "a + d  # ahora se hace broadcast del vector d, a las distintas columnas "
   ]
  },
  {
   "cell_type": "markdown",
   "id": "bb5babf3-e480-4e3a-9000-012501ee3637",
   "metadata": {
    "tags": []
   },
   "source": [
    "# Módulo (magnitude en inglés)..."
   ]
  },
  {
   "cell_type": "code",
   "execution_count": 84,
   "id": "7a52e3b9-c043-41fc-b375-a19f33f31f66",
   "metadata": {},
   "outputs": [],
   "source": [
    "u = np.array([2, -4, 3])"
   ]
  },
  {
   "cell_type": "code",
   "execution_count": 96,
   "id": "b10e53e7-ebd0-4735-ae31-0a598b983c8c",
   "metadata": {},
   "outputs": [],
   "source": [
    "# Módulo\n",
    "modulo_u = np.sqrt(sum(u * u))  # también podría ser, claro, con math.sqrt....\n",
    "# también, si queremos podemos utilziar la función suma de numpy\n",
    "modulo_v2 = np.sqrt((u * u).sum())\n"
   ]
  },
  {
   "cell_type": "code",
   "execution_count": 97,
   "id": "c069c86f-bc6e-42a9-8fea-8136dd205799",
   "metadata": {},
   "outputs": [],
   "source": [
    "# Vector unitario...\n",
    "unit_u = u / modulo_u"
   ]
  },
  {
   "cell_type": "code",
   "execution_count": 98,
   "id": "2d77619f-caba-4f61-9fdb-66fd67282388",
   "metadata": {},
   "outputs": [
    {
     "data": {
      "text/plain": [
       "array([ 0.37139068, -0.74278135,  0.55708601])"
      ]
     },
     "execution_count": 98,
     "metadata": {},
     "output_type": "execute_result"
    }
   ],
   "source": [
    "unit_u"
   ]
  },
  {
   "cell_type": "code",
   "execution_count": 99,
   "id": "7fd252a7-4d0e-4e24-9018-ddd679361167",
   "metadata": {},
   "outputs": [],
   "source": [
    "# O sea, parece que no hay funciones para el cálculo del módulo ni del vector unitario!!!"
   ]
  },
  {
   "cell_type": "code",
   "execution_count": 114,
   "id": "003d925f-21ae-4fba-9476-e0190ff3c9ce",
   "metadata": {},
   "outputs": [],
   "source": [
    "# Transponer... con el reshape o más fácil con método transpose() o on .T\n",
    "# Cuidado, esto no afecta si son vectores... en este caso, si fueran vectores, tendríamos\n",
    "# que hacer el reshape\n",
    "v= np.array([1, 2, 3])\n",
    "v_t = v.T  # NO HACE NADA, pq es un vctor\n",
    "v_t = v.transpose()  # NO HACE NADA\n",
    "# Cuando es un vector, hay que hacer manualmente el transpose utilziando el resphape\n",
    "v_t = v.reshape(3, 1)"
   ]
  },
  {
   "cell_type": "code",
   "execution_count": 103,
   "id": "6baa81cc-6abc-4b0e-adf6-cce8f192b797",
   "metadata": {},
   "outputs": [
    {
     "data": {
      "text/plain": [
       "array([[1],\n",
       "       [2],\n",
       "       [3]])"
      ]
     },
     "execution_count": 103,
     "metadata": {},
     "output_type": "execute_result"
    }
   ],
   "source": [
    "v_t"
   ]
  },
  {
   "cell_type": "code",
   "execution_count": 109,
   "id": "fd280ef0-d3e6-4253-901d-5354951cfa84",
   "metadata": {},
   "outputs": [],
   "source": [
    "# Cuidado si ahora volvemos a hacer el transpose, o el reshape, no nos quedará el mismo vector\n",
    "v_t_t = v_t.T  # array([[1, 2, 3]])\n",
    "v_t_t = v_t.reshape(1, 3) # array([[1, 2, 3]])"
   ]
  },
  {
   "cell_type": "code",
   "execution_count": 115,
   "id": "e2516634-e170-4ec3-a1bf-1ecc555a0db5",
   "metadata": {},
   "outputs": [],
   "source": [
    "# A no ser que lo dejamos con una dimensión solo, claro entonces sí\n",
    "v_t_t = v_t.reshape(3)\n",
    "# Así sería un vector, antes era una matriz\n",
    "\n"
   ]
  },
  {
   "cell_type": "code",
   "execution_count": 116,
   "id": "6f26f554-30ca-4f2c-a5a5-88e7ccc55a7e",
   "metadata": {},
   "outputs": [
    {
     "data": {
      "text/plain": [
       "array([1, 2, 3])"
      ]
     },
     "execution_count": 116,
     "metadata": {},
     "output_type": "execute_result"
    }
   ],
   "source": [
    "v_t_t"
   ]
  },
  {
   "cell_type": "markdown",
   "id": "89f43592-a5f9-470f-b5e8-c77a6944880e",
   "metadata": {
    "tags": []
   },
   "source": [
    "# Producto escalar de vectores (dot product o producto interior)"
   ]
  },
  {
   "cell_type": "code",
   "execution_count": 118,
   "id": "bddc0ce2-a6dd-4d92-b071-07c08955a070",
   "metadata": {},
   "outputs": [],
   "source": [
    "# Propiedad geométrica.... a . b = |a| . |b| . cos(alpha)\n",
    "# Obviamente a . a = |a| ^ 2"
   ]
  },
  {
   "cell_type": "code",
   "execution_count": 119,
   "id": "570141b6-5e59-41c4-a2fd-97a55152d21d",
   "metadata": {},
   "outputs": [],
   "source": [
    "# Como básicamente es multiplicar componente a componente y sumar todo simplemnte la formula sería...\n",
    "# a . b = (a * b).sum() "
   ]
  },
  {
   "cell_type": "code",
   "execution_count": 120,
   "id": "bb4a049b-3bdb-4f9d-b54d-60dea7c5fee9",
   "metadata": {},
   "outputs": [],
   "source": [
    "a = np.array([1, 2, 3, 4])\n",
    "b = np.array([5, 6, 7, 8])\n",
    "producto_escalar = (a*b).sum()"
   ]
  },
  {
   "cell_type": "code",
   "execution_count": 121,
   "id": "cd7ab833-f45e-49c7-8188-7524ada810f5",
   "metadata": {},
   "outputs": [
    {
     "data": {
      "text/plain": [
       "70"
      ]
     },
     "execution_count": 121,
     "metadata": {},
     "output_type": "execute_result"
    }
   ],
   "source": [
    "producto_escalar"
   ]
  },
  {
   "cell_type": "code",
   "execution_count": 122,
   "id": "9d0afe22-57c5-406a-9362-4df67a3c0d94",
   "metadata": {},
   "outputs": [],
   "source": [
    "# YA EXISTE FUNCIÓN EN NUMPY\n",
    "producto_escalar = np.dot(a, b)"
   ]
  },
  {
   "cell_type": "code",
   "execution_count": 123,
   "id": "7d05d8a9-e5d0-4151-9359-1d96a4f1b5d2",
   "metadata": {},
   "outputs": [
    {
     "data": {
      "text/plain": [
       "70"
      ]
     },
     "execution_count": 123,
     "metadata": {},
     "output_type": "execute_result"
    }
   ],
   "source": [
    "producto_escalar"
   ]
  },
  {
   "cell_type": "code",
   "execution_count": 125,
   "id": "4ab653c3-f917-4fae-9a44-ff76f8b82409",
   "metadata": {},
   "outputs": [],
   "source": [
    "# Para calcular el coseno del ángulo que forman , simplemente\n",
    "# cos alpha = a . b / (|A| * |B|)\n",
    "coseno = np.dot(a, b) / np.sqrt(np.dot(a, a) * np.dot(b, b))"
   ]
  },
  {
   "cell_type": "code",
   "execution_count": 126,
   "id": "9c0fc2c7-ba1e-44e7-a326-40c2f5956b1d",
   "metadata": {},
   "outputs": [
    {
     "data": {
      "text/plain": [
       "0.9688639316269664"
      ]
     },
     "execution_count": 126,
     "metadata": {},
     "output_type": "execute_result"
    }
   ],
   "source": [
    "coseno"
   ]
  },
  {
   "cell_type": "code",
   "execution_count": 127,
   "id": "cf97eacc-92b4-4954-b58d-09880575cbf0",
   "metadata": {},
   "outputs": [],
   "source": [
    "angulo = np.arccos(coseno)"
   ]
  },
  {
   "cell_type": "code",
   "execution_count": 128,
   "id": "fc537224-b336-41f1-8ee9-3b2c4f9a730b",
   "metadata": {},
   "outputs": [
    {
     "data": {
      "text/plain": [
       "0.2501959204225109"
      ]
     },
     "execution_count": 128,
     "metadata": {},
     "output_type": "execute_result"
    }
   ],
   "source": [
    "angulo"
   ]
  },
  {
   "cell_type": "code",
   "execution_count": 130,
   "id": "5b827826-25c4-4fb2-be0c-38e335d75f9e",
   "metadata": {},
   "outputs": [],
   "source": [
    "# Lo pasamos de radianes a grados\n",
    "angulo_grados = angulo * 180 / np.pi"
   ]
  },
  {
   "cell_type": "code",
   "execution_count": 131,
   "id": "6cb28a7f-ab64-41f0-b7c0-1e15bda83669",
   "metadata": {},
   "outputs": [
    {
     "data": {
      "text/plain": [
       "14.335170291600873"
      ]
     },
     "execution_count": 131,
     "metadata": {},
     "output_type": "execute_result"
    }
   ],
   "source": [
    "angulo_grados"
   ]
  },
  {
   "cell_type": "markdown",
   "id": "5ff2b4bd-1498-46d7-a61c-0ecfaf4fe1e6",
   "metadata": {
    "tags": []
   },
   "source": [
    "# Proyección de a sobre b... (proj_b a)\n",
    "$$\n",
    "proj_{b}a = \\frac{a \\cdot b}{|b|^2} \\cdot\\vec{b}\n",
    "$$"
   ]
  },
  {
   "cell_type": "markdown",
   "id": "d279c487-3d2d-4e44-9c21-e2f295d650e6",
   "metadata": {
    "tags": []
   },
   "source": [
    "## Producto exterior de vectores... (pueden tener distinto tamaño)\n",
    "np nos proporciona el método np.outer\n",
    "Consiste básicamente en obtener una matriz, donde el elemnto ij es el producto del elemento i de a por el elemento j de b\n"
   ]
  },
  {
   "cell_type": "markdown",
   "id": "f9b5c888-dbb9-4094-bb6d-06d1718415f9",
   "metadata": {},
   "source": [
    "# Producto vectorial (cross product) de vectores\n",
    "**Sólo definido en 3D**  \n",
    "ES UN VECTOR (de ahí el nombre en español)  \n",
    "a x b = |a| |b| sin(alpha) vector normal\n",
    "$$\n",
    "\\vec{a} x \\vec{b} = |a| |b| \\sin(\\theta) \\cdot \\vec{n}\n",
    "$$"
   ]
  },
  {
   "cell_type": "code",
   "execution_count": 133,
   "id": "6601ea05-ba2b-40d5-8ede-be124ea53721",
   "metadata": {},
   "outputs": [],
   "source": [
    "# es el método np.cross"
   ]
  },
  {
   "cell_type": "markdown",
   "id": "d6768a30-1dd1-4b56-abfb-05174570d281",
   "metadata": {},
   "source": [
    "# Observación... en términos matriciales....\n",
    "y entendiendo que los vectores son vectores columna... originalmente\n",
    "Producto escalar a . b es simplemente el producto de las matrices aT b   (matriz fila 1xn por matriz columna nx1) --> genera matriz 1x1 = escalar\n",
    "Producto exterior a b es simplmenete a bT (matriz de nx1 por matriz de 1xm --> genera matriz nxm)"
   ]
  },
  {
   "cell_type": "markdown",
   "id": "f55f21a1-0fb7-4078-92a6-a7587c95072e",
   "metadata": {},
   "source": [
    "# Multiplicación de matrices... 2 posibilidades... funcionan bien ambas\n",
    "np.dot --> es lo mismo que hemos visto para realizar el prodcuto interior...  \n",
    "np.matmul.  \n",
    "**También podemos utilizar el operador @**  \n",
    "Observar que hay diferencias entre np.dot y np.matmul... pero no las hay para 1 y 2 dimensiones"
   ]
  },
  {
   "cell_type": "markdown",
   "id": "412fe7b0-dc67-4740-8997-42fdfd0541c9",
   "metadata": {},
   "source": [
    "# También está el producto de Kronecker de dos matrices...\n",
    "Básicamente es una supermatriz, gigantesca, construida por bloques...   \n",
    "para el primer bloque multiplicamos a00 por toda la matriz B, etc"
   ]
  },
  {
   "cell_type": "code",
   "execution_count": 139,
   "id": "2f417905-fd99-454e-a4a4-83e1ec26a02b",
   "metadata": {},
   "outputs": [],
   "source": [
    "# Una matriz M de mxn representa tb una transformación lineal entre puntos de Rm a puntos de Rn de esta forma...\n",
    "# x de Rm --> y = M . x de Rn\n",
    "# Ejemplo M matriz que representa transformación lineal de R4 a R2\n",
    "M = np.array([[1, 2, 3, 4], [5, 6, 7, 8]])\n",
    "x = np.array([11, 12, 13, 14])\n",
    "y = np.dot(M, x)"
   ]
  },
  {
   "cell_type": "code",
   "execution_count": 138,
   "id": "453a6cac-8917-425b-8304-f2137a2c81dc",
   "metadata": {},
   "outputs": [
    {
     "data": {
      "text/plain": [
       "array([130, 330])"
      ]
     },
     "execution_count": 138,
     "metadata": {},
     "output_type": "execute_result"
    }
   ],
   "source": [
    "y"
   ]
  },
  {
   "cell_type": "code",
   "execution_count": 140,
   "id": "7c406815-02ea-413a-9460-80babf4dc388",
   "metadata": {},
   "outputs": [],
   "source": [
    "# En el caso de matrices cuadradas, por ejemplo de 3x3, representan una transformación lineal de R3 en R3\n",
    "# Lo mismo para R2\n",
    "# Estas trans. son lineales, llevan el 0 al 0, propiedades lineales, etc\n",
    "# En particular las hay de tipo rotación..."
   ]
  },
  {
   "cell_type": "code",
   "execution_count": 143,
   "id": "9b269de4-eaec-498e-bc3f-26a736e55c65",
   "metadata": {},
   "outputs": [],
   "source": [
    "# Rotación en R2 con una matriz de giro... giro de 45 º\n",
    "alpha = np.pi / 4\n",
    "R = np.array([[np.cos(alpha), - np.sin(alpha)], [np.sin(alpha), np.cos(alpha)]])"
   ]
  },
  {
   "cell_type": "code",
   "execution_count": 144,
   "id": "8ca7b9f3-d868-4fe6-86f3-b8a599278f44",
   "metadata": {},
   "outputs": [
    {
     "data": {
      "text/plain": [
       "array([[ 0.70710678, -0.70710678],\n",
       "       [ 0.70710678,  0.70710678]])"
      ]
     },
     "execution_count": 144,
     "metadata": {},
     "output_type": "execute_result"
    }
   ],
   "source": [
    "R"
   ]
  },
  {
   "cell_type": "code",
   "execution_count": 145,
   "id": "f53f747d-6bef-4513-ba3f-29ce53fa7797",
   "metadata": {},
   "outputs": [],
   "source": [
    "# Lo mismo hay para R3... según el eje es distinta...\n",
    "Rx = np.array([[1, 0, 0], [0, np.cos(alpha), - np.sin(alpha)], [0, np.sin(alpha), np.cos(alpha)]])\n",
    "Ry = np.array([[np.cos(alpha),0, np.sin(alpha)], [0, 1, 0], [- np.sin(alpha), 0, np.cos(alpha)]])\n",
    "Rz = np.array([[np.cos(alpha), - np.sin(alpha), 0], [np.sin(alpha), np.cos(alpha), 0], [0, 0, 1]])\n"
   ]
  },
  {
   "cell_type": "code",
   "execution_count": 152,
   "id": "93794207-7b10-4c20-8cef-2a0ab577f65c",
   "metadata": {},
   "outputs": [],
   "source": [
    "# Si quisiéramos representar una transformación afín y = Ax + b también podríamos hacerlo de \n",
    "# forma parecida, simplemente añadiendo una columna y fila más a la matriz...\n",
    "# Ejemplo para R2: y = Ax + b con A = ((2, 1), (3, -4)) y b la traslación (5, 7)\n",
    "A = np.array([[2, 1], [3, -4]])\n",
    "b = np.array([2, 7])\n",
    "x = np.array([7, 9])\n",
    "nueva_A = np.array([[2, 1, 5], [3, -4, 7], [0, 0, 1]])\n",
    "nuevo_x = np.array([7, 9, 1])\n",
    "nuevo_y = np.dot(nueva_A, nuevo_x)\n"
   ]
  },
  {
   "cell_type": "code",
   "execution_count": 153,
   "id": "45e6e649-e4df-4e1c-9d4b-bc302615c1eb",
   "metadata": {},
   "outputs": [
    {
     "data": {
      "text/plain": [
       "array([28, -8,  1])"
      ]
     },
     "execution_count": 153,
     "metadata": {},
     "output_type": "execute_result"
    }
   ],
   "source": [
    "nuevo_y"
   ]
  },
  {
   "cell_type": "code",
   "execution_count": 154,
   "id": "b06ec482-e936-40ba-bdf3-4a505656d943",
   "metadata": {},
   "outputs": [],
   "source": [
    "# Luego el y correspondiente es (28, -8)"
   ]
  },
  {
   "cell_type": "code",
   "execution_count": 158,
   "id": "d27e02c8-0b7d-4a46-b32f-6d8169734cc3",
   "metadata": {},
   "outputs": [],
   "source": [
    "# La diagonal normalmente es sólo para matrices cuadradas, pero numpy tb la calcula para cualquiera\n",
    "# lo Mismo con la traza, que es la suma de la diagonal...\n",
    "b = np.array([[1,2,3,4],[5,6,7,8], [2, -3, -4, 0]])"
   ]
  },
  {
   "cell_type": "code",
   "execution_count": 159,
   "id": "b7c328af-3a5f-4e3a-aa93-f2c4bd47877b",
   "metadata": {},
   "outputs": [
    {
     "data": {
      "text/plain": [
       "array([[ 1,  2,  3,  4],\n",
       "       [ 5,  6,  7,  8],\n",
       "       [ 2, -3, -4,  0]])"
      ]
     },
     "execution_count": 159,
     "metadata": {},
     "output_type": "execute_result"
    }
   ],
   "source": [
    "b"
   ]
  },
  {
   "cell_type": "code",
   "execution_count": 160,
   "id": "7b71bd46-e489-49ea-90dc-d35bd50dc56b",
   "metadata": {},
   "outputs": [
    {
     "data": {
      "text/plain": [
       "array([ 1,  6, -4])"
      ]
     },
     "execution_count": 160,
     "metadata": {},
     "output_type": "execute_result"
    }
   ],
   "source": [
    "np.diag(b)"
   ]
  },
  {
   "cell_type": "code",
   "execution_count": 161,
   "id": "b84f480a-34e8-4480-b904-f8db246f72f3",
   "metadata": {},
   "outputs": [
    {
     "data": {
      "text/plain": [
       "3"
      ]
     },
     "execution_count": 161,
     "metadata": {},
     "output_type": "execute_result"
    }
   ],
   "source": [
    "np.trace(b)"
   ]
  },
  {
   "cell_type": "code",
   "execution_count": 162,
   "id": "bdf18b30-53f1-435e-b7a3-b8e7d3f7ef2d",
   "metadata": {},
   "outputs": [],
   "source": [
    "# Potencia de una Matriz... aunque se puede ir multiplicando por sí misma, lo\n",
    "# mejor es utilziar el método matrix_power (hay que importarlo desde numpy.linalg)\n",
    "A = np.array([[1, 2], [3, 4]])"
   ]
  },
  {
   "cell_type": "code",
   "execution_count": 164,
   "id": "629e3dde-27fd-4277-9b9d-6da01a2b0dca",
   "metadata": {},
   "outputs": [
    {
     "data": {
      "text/plain": [
       "array([[ 7, 10],\n",
       "       [15, 22]])"
      ]
     },
     "execution_count": 164,
     "metadata": {},
     "output_type": "execute_result"
    }
   ],
   "source": [
    "np.dot(A, A)"
   ]
  },
  {
   "cell_type": "code",
   "execution_count": 165,
   "id": "e050b97f-e931-4313-8efc-6398c05ed434",
   "metadata": {},
   "outputs": [
    {
     "data": {
      "text/plain": [
       "array([[ 7, 10],\n",
       "       [15, 22]])"
      ]
     },
     "execution_count": 165,
     "metadata": {},
     "output_type": "execute_result"
    }
   ],
   "source": [
    "from numpy.linalg import matrix_power\n",
    "matrix_power(A, 2)"
   ]
  },
  {
   "cell_type": "code",
   "execution_count": 168,
   "id": "cd95d3a8-deb4-4ca1-b902-2524395229df",
   "metadata": {},
   "outputs": [
    {
     "data": {
      "text/plain": [
       "array([[ 37,  54],\n",
       "       [ 81, 118]])"
      ]
     },
     "execution_count": 168,
     "metadata": {},
     "output_type": "execute_result"
    }
   ],
   "source": [
    "# Elevar al cubo es lioso multiplicando...\n",
    "np.dot(A, np.dot(A, A))"
   ]
  },
  {
   "cell_type": "code",
   "execution_count": 169,
   "id": "e4013c4a-edc5-42fb-96e5-67ccaa660de2",
   "metadata": {},
   "outputs": [
    {
     "data": {
      "text/plain": [
       "array([[199, 290],\n",
       "       [435, 634]])"
      ]
     },
     "execution_count": 169,
     "metadata": {},
     "output_type": "execute_result"
    }
   ],
   "source": [
    "# Aunque se puede usar el operador @ para el producto de matrices...\n",
    "# Veamos para elevar a la 4....\n",
    "A @ A @ A @ A"
   ]
  },
  {
   "cell_type": "code",
   "execution_count": 170,
   "id": "4fbc09cf-4d46-43d2-a215-2b2e57a269e0",
   "metadata": {},
   "outputs": [
    {
     "data": {
      "text/plain": [
       "array([[199, 290],\n",
       "       [435, 634]])"
      ]
     },
     "execution_count": 170,
     "metadata": {},
     "output_type": "execute_result"
    }
   ],
   "source": [
    "# Es más sencillo y optimizado utilziar matrix_power...\n",
    "matrix_power(A, 4)"
   ]
  },
  {
   "cell_type": "code",
   "execution_count": 171,
   "id": "fa49f351-2f3b-4723-b854-45c5679592a0",
   "metadata": {},
   "outputs": [
    {
     "data": {
      "text/plain": [
       "array([[ 4783807,  6972050],\n",
       "       [10458075, 15241882]])"
      ]
     },
     "execution_count": 171,
     "metadata": {},
     "output_type": "execute_result"
    }
   ],
   "source": [
    "matrix_power(A, 10)"
   ]
  },
  {
   "cell_type": "code",
   "execution_count": 172,
   "id": "a6b59216-25a2-44ae-80d1-bb42e9c31e88",
   "metadata": {},
   "outputs": [
    {
     "data": {
      "text/plain": [
       "array([[ 4783807,  6972050],\n",
       "       [10458075, 15241882]])"
      ]
     },
     "execution_count": 172,
     "metadata": {},
     "output_type": "execute_result"
    }
   ],
   "source": [
    "# Esto sería muy incómodo....\n",
    "A @ A @ A @ A @ A @ A @ A @ A @ A @ A"
   ]
  },
  {
   "cell_type": "markdown",
   "id": "7a2f63ad-1fff-421a-9e20-e85b2ba78054",
   "metadata": {},
   "source": [
    "# Generación de matrices especiales\n",
    "Podemos generar rápidamente matrices llenas de 0, 1, números aleatorios, etc"
   ]
  },
  {
   "cell_type": "code",
   "execution_count": 173,
   "id": "a0d68344-69d3-4b3f-940d-646f4ab3f6a0",
   "metadata": {},
   "outputs": [
    {
     "data": {
      "text/plain": [
       "array([[1., 1., 1.],\n",
       "       [1., 1., 1.],\n",
       "       [1., 1., 1.],\n",
       "       [1., 1., 1.]])"
      ]
     },
     "execution_count": 173,
     "metadata": {},
     "output_type": "execute_result"
    }
   ],
   "source": [
    "np.ones((4, 3))"
   ]
  },
  {
   "cell_type": "code",
   "execution_count": 176,
   "id": "934d1baf-5a18-45d9-b6f2-0c2805797d37",
   "metadata": {},
   "outputs": [
    {
     "data": {
      "text/plain": [
       "array([[0., 0., 0.],\n",
       "       [0., 0., 0.],\n",
       "       [0., 0., 0.],\n",
       "       [0., 0., 0.]])"
      ]
     },
     "execution_count": 176,
     "metadata": {},
     "output_type": "execute_result"
    }
   ],
   "source": [
    "np.zeros((4, 3))"
   ]
  },
  {
   "cell_type": "code",
   "execution_count": 177,
   "id": "a85c5603-9c03-4a55-b298-d54abccc13fe",
   "metadata": {},
   "outputs": [
    {
     "data": {
      "text/plain": [
       "array([[1., 0., 0., 0., 0.],\n",
       "       [0., 1., 0., 0., 0.],\n",
       "       [0., 0., 1., 0., 0.],\n",
       "       [0., 0., 0., 1., 0.],\n",
       "       [0., 0., 0., 0., 1.]])"
      ]
     },
     "execution_count": 177,
     "metadata": {},
     "output_type": "execute_result"
    }
   ],
   "source": [
    "np.identity(5)"
   ]
  },
  {
   "cell_type": "code",
   "execution_count": 178,
   "id": "a9912fc4-7ee3-4c97-9b56-6108dd2cf02d",
   "metadata": {},
   "outputs": [
    {
     "data": {
      "text/plain": [
       "array([[1, 0, 0, 0, 0],\n",
       "       [0, 1, 0, 0, 0],\n",
       "       [0, 0, 1, 0, 0],\n",
       "       [0, 0, 0, 1, 0],\n",
       "       [0, 0, 0, 0, 1]])"
      ]
     },
     "execution_count": 178,
     "metadata": {},
     "output_type": "execute_result"
    }
   ],
   "source": [
    "np.identity(5, dtype=int)"
   ]
  },
  {
   "cell_type": "code",
   "execution_count": 182,
   "id": "51a50472-ff5c-4284-b801-64d8df7ca9ce",
   "metadata": {},
   "outputs": [
    {
     "data": {
      "text/plain": [
       "array([[1, 0, 0, 0, 0, 0, 0],\n",
       "       [0, 1, 0, 0, 0, 0, 0],\n",
       "       [0, 0, 1, 0, 0, 0, 0],\n",
       "       [0, 0, 0, 1, 0, 0, 0],\n",
       "       [0, 0, 0, 0, 1, 0, 0],\n",
       "       [0, 0, 0, 0, 0, 1, 0],\n",
       "       [0, 0, 0, 0, 0, 0, 1]], dtype=int8)"
      ]
     },
     "execution_count": 182,
     "metadata": {},
     "output_type": "execute_result"
    }
   ],
   "source": [
    "# np.eye es exactamente lo mismo que np.identity es un alias...\n",
    "np.eye(7, dtype=np.int8)"
   ]
  },
  {
   "cell_type": "markdown",
   "id": "9fa7a61f-a019-4e77-b780-5326cf91a298",
   "metadata": {},
   "source": [
    "# Matrices triangulares\n",
    "np.triu (upper) nos devuelve la matriz triangular superior asociada a otra matriz (descartando los valores q están debajo)  \n",
    "np.tril  (lower) nos devuleve la matr. triang. inferior..."
   ]
  },
  {
   "cell_type": "code",
   "execution_count": 187,
   "id": "c3eaecf5-07e7-4ab9-8bcd-4de74fe51537",
   "metadata": {},
   "outputs": [],
   "source": [
    "A = np.arange(1, 17, 1).reshape(4, 4)"
   ]
  },
  {
   "cell_type": "code",
   "execution_count": 188,
   "id": "a6fa22a6-5d12-47b1-be8d-9947e7cd2fc8",
   "metadata": {},
   "outputs": [
    {
     "data": {
      "text/plain": [
       "array([[ 1,  2,  3,  4],\n",
       "       [ 5,  6,  7,  8],\n",
       "       [ 9, 10, 11, 12],\n",
       "       [13, 14, 15, 16]])"
      ]
     },
     "execution_count": 188,
     "metadata": {},
     "output_type": "execute_result"
    }
   ],
   "source": [
    "A"
   ]
  },
  {
   "cell_type": "code",
   "execution_count": 189,
   "id": "937be8d0-5ce2-4517-aac2-f640814888ce",
   "metadata": {},
   "outputs": [
    {
     "data": {
      "text/plain": [
       "array([[ 1,  2,  3,  4],\n",
       "       [ 0,  6,  7,  8],\n",
       "       [ 0,  0, 11, 12],\n",
       "       [ 0,  0,  0, 16]])"
      ]
     },
     "execution_count": 189,
     "metadata": {},
     "output_type": "execute_result"
    }
   ],
   "source": [
    "np.triu(A)"
   ]
  },
  {
   "cell_type": "code",
   "execution_count": 190,
   "id": "9f539800-eb9c-4237-874a-76d0bae086a9",
   "metadata": {},
   "outputs": [
    {
     "data": {
      "text/plain": [
       "array([[ 1,  0,  0,  0],\n",
       "       [ 5,  6,  0,  0],\n",
       "       [ 9, 10, 11,  0],\n",
       "       [13, 14, 15, 16]])"
      ]
     },
     "execution_count": 190,
     "metadata": {},
     "output_type": "execute_result"
    }
   ],
   "source": [
    "np.tril(A)"
   ]
  },
  {
   "cell_type": "markdown",
   "id": "89c0552c-a724-4d0c-b824-aa5b58749b7b",
   "metadata": {},
   "source": [
    "# Determinantes...\n",
    "np.linalg.det"
   ]
  },
  {
   "cell_type": "code",
   "execution_count": 196,
   "id": "2e99c38e-f32d-43de-8d2d-0e662bed5e70",
   "metadata": {},
   "outputs": [],
   "source": [
    "a = np.array([[1, 2], [3, 4]], dtype=int)"
   ]
  },
  {
   "cell_type": "code",
   "execution_count": 201,
   "id": "991d0654-bff0-4708-96a2-3a39e46381f7",
   "metadata": {},
   "outputs": [
    {
     "data": {
      "text/plain": [
       "-2.0000000000000004"
      ]
     },
     "execution_count": 201,
     "metadata": {},
     "output_type": "execute_result"
    }
   ],
   "source": [
    "np.linalg.det(a)"
   ]
  },
  {
   "cell_type": "code",
   "execution_count": 200,
   "id": "97efc4a4-5307-4007-8283-7f5a41fba657",
   "metadata": {},
   "outputs": [
    {
     "data": {
      "text/plain": [
       "1056.0"
      ]
     },
     "execution_count": 200,
     "metadata": {},
     "output_type": "execute_result"
    }
   ],
   "source": [
    "np.linalg.det(np.triu(A))"
   ]
  },
  {
   "cell_type": "markdown",
   "id": "72648825-165b-4526-8bb6-b748660725f1",
   "metadata": {
    "tags": []
   },
   "source": [
    "# Matriz inversa"
   ]
  },
  {
   "cell_type": "code",
   "execution_count": 205,
   "id": "3771c33c-cdf2-47fe-b7e5-24d294351e1b",
   "metadata": {},
   "outputs": [],
   "source": [
    "# usaremos np.linalg.inv\n",
    "# Sólo posible si es una matriz cuadrada cuyo determinante no es 0\n",
    "# Si fuera 0 no tiene inversa y se llama matriz singular"
   ]
  },
  {
   "cell_type": "code",
   "execution_count": 203,
   "id": "e8e5c44d-6afc-4430-b90a-e473fb714cd7",
   "metadata": {},
   "outputs": [],
   "source": [
    "a = np.array([[1,2,1],[2,1,2],[1,2,2]])"
   ]
  },
  {
   "cell_type": "code",
   "execution_count": 204,
   "id": "945a0e20-b4e3-4c30-98a9-68fab34efbcd",
   "metadata": {},
   "outputs": [
    {
     "data": {
      "text/plain": [
       "array([[1, 2, 1],\n",
       "       [2, 1, 2],\n",
       "       [1, 2, 2]])"
      ]
     },
     "execution_count": 204,
     "metadata": {},
     "output_type": "execute_result"
    }
   ],
   "source": [
    "a"
   ]
  },
  {
   "cell_type": "code",
   "execution_count": 207,
   "id": "35036acf-937c-42ad-9d7a-78e8847206ba",
   "metadata": {},
   "outputs": [],
   "source": [
    "b = np.linalg.inv(a)"
   ]
  },
  {
   "cell_type": "code",
   "execution_count": 208,
   "id": "d1df6e69-96d7-4962-aa9b-63ee706abaa2",
   "metadata": {},
   "outputs": [
    {
     "data": {
      "text/plain": [
       "array([[ 0.66666667,  0.66666667, -1.        ],\n",
       "       [ 0.66666667, -0.33333333,  0.        ],\n",
       "       [-1.        ,  0.        ,  1.        ]])"
      ]
     },
     "execution_count": 208,
     "metadata": {},
     "output_type": "execute_result"
    }
   ],
   "source": [
    "b"
   ]
  },
  {
   "cell_type": "code",
   "execution_count": 209,
   "id": "7d3ceffd-12ae-4f6b-a162-60ef0e305f84",
   "metadata": {},
   "outputs": [
    {
     "data": {
      "text/plain": [
       "array([[1., 0., 0.],\n",
       "       [0., 1., 0.],\n",
       "       [0., 0., 1.]])"
      ]
     },
     "execution_count": 209,
     "metadata": {},
     "output_type": "execute_result"
    }
   ],
   "source": [
    "# Comprobemos que el producto es la matriz identidad\n",
    "a @ b"
   ]
  },
  {
   "cell_type": "markdown",
   "id": "f0a6e257-ee6d-415a-a079-12b5948b9689",
   "metadata": {
    "tags": []
   },
   "source": [
    "# Vectores y valores propios (eigenvectors y eigenvalues)"
   ]
  },
  {
   "cell_type": "markdown",
   "id": "121cc6c7-b2d4-4a1c-906e-866544386e9f",
   "metadata": {},
   "source": [
    "Dada una matriz cuadrada hallar los vectores propios consiste en hallar los vectores para los que la transformación lineal y = Av nos da un vector con la misma dirección...\n",
    "O sea,\n",
    "$$\n",
    "A \\cdot \\vec{v} = \\lambda \\vec{v}\n",
    "$$\n",
    "\n",
    "O sea, el problema consiste en hallar los vectores (las direcciones) y sus multiplicadores (valores)"
   ]
  },
  {
   "cell_type": "code",
   "execution_count": 210,
   "id": "eb804342-dcd3-4fc7-9057-e710e45b0dce",
   "metadata": {},
   "outputs": [],
   "source": [
    "# Observar que para la matriz identidad, cualquier vector es un vector propio..."
   ]
  },
  {
   "cell_type": "code",
   "execution_count": null,
   "id": "6e890456-1e4f-4817-ac6a-2fee122eb26a",
   "metadata": {},
   "outputs": [],
   "source": []
  }
 ],
 "metadata": {
  "kernelspec": {
   "display_name": "Python 3 (ipykernel)",
   "language": "python",
   "name": "python3"
  },
  "language_info": {
   "codemirror_mode": {
    "name": "ipython",
    "version": 3
   },
   "file_extension": ".py",
   "mimetype": "text/x-python",
   "name": "python",
   "nbconvert_exporter": "python",
   "pygments_lexer": "ipython3",
   "version": "3.10.1"
  }
 },
 "nbformat": 4,
 "nbformat_minor": 5
}

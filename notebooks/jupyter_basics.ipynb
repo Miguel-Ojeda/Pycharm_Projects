{
 "cells": [
  {
   "cell_type": "code",
   "execution_count": 1,
   "id": "c378e277",
   "metadata": {},
   "outputs": [
    {
     "name": "stdout",
     "output_type": "stream",
     "text": [
      "Untitled.ipynb\n"
     ]
    }
   ],
   "source": [
    "!ls"
   ]
  },
  {
   "cell_type": "code",
   "execution_count": 2,
   "id": "faea948c",
   "metadata": {},
   "outputs": [
    {
     "name": "stdout",
     "output_type": "stream",
     "text": [
      "D:\\Documentos\\Repos\\Pycharm_Projects\n"
     ]
    }
   ],
   "source": [
    "cd ..\n"
   ]
  },
  {
   "cell_type": "code",
   "execution_count": 3,
   "id": "1b332af6",
   "metadata": {},
   "outputs": [
    {
     "name": "stdout",
     "output_type": "stream",
     "text": [
      "D:\\Documentos\\Repos\n"
     ]
    }
   ],
   "source": [
    "cd .."
   ]
  },
  {
   "cell_type": "code",
   "execution_count": 4,
   "id": "a60b473d",
   "metadata": {},
   "outputs": [
    {
     "name": "stdout",
     "output_type": "stream",
     "text": [
      " El volumen de la unidad D es LENOVO\n",
      " El n£mero de serie del volumen es: 5256-8106\n",
      "\n",
      " Directorio de D:\\Documentos\\Repos\n",
      "\n",
      "02/02/2022  16:31    <DIR>          .\n",
      "02/02/2022  16:31    <DIR>          ..\n",
      "21/01/2022  19:11    <DIR>          .idea\n",
      "08/12/2021  19:50    <DIR>          git_manual\n",
      "23/01/2022  20:28    <DIR>          Jupyter\n",
      "24/01/2022  19:11    <DIR>          pdf_2_csv\n",
      "13/03/2022  17:21    <DIR>          Pycharm_Projects\n",
      "02/02/2022  16:38    <DIR>          xml_to_csv\n",
      "               0 archivos              0 bytes\n",
      "               8 dirs  756.940.111.872 bytes libres\n"
     ]
    }
   ],
   "source": [
    "ls\n"
   ]
  },
  {
   "cell_type": "code",
   "execution_count": 5,
   "id": "44416095",
   "metadata": {},
   "outputs": [
    {
     "name": "stdout",
     "output_type": "stream",
     "text": [
      "D:\\Documentos\n"
     ]
    }
   ],
   "source": [
    "cd .."
   ]
  },
  {
   "cell_type": "code",
   "execution_count": 6,
   "id": "989475b8",
   "metadata": {},
   "outputs": [
    {
     "name": "stdout",
     "output_type": "stream",
     "text": [
      " El volumen de la unidad D es LENOVO\n",
      " El n£mero de serie del volumen es: 5256-8106\n",
      "\n",
      " Directorio de D:\\Documentos\n",
      "\n",
      "13/03/2022  17:54    <DIR>          .\n",
      "13/03/2022  17:54    <DIR>          ..\n",
      "15/09/2020  06:27           103.482 02_09_20_TRIBUNALES_ PL_GESO_2020.pdf\n",
      "15/09/2020  06:27           231.848 12_09_20_INSTRUCCIONES_ADMINISTRACION_PL_GESO_2020 .pdf\n",
      "29/06/2020  13:30           400.220 2020 06 29 presentacion declaracion.pdf\n",
      "18/06/2020  23:05           734.562 2020-06-18_23-58-04 pcmark 10 lenovo.png\n",
      "10/08/2021  18:12            11.173 2021 08 10 lo que se me debe.xlsx\n",
      "15/09/2021  20:21             8.198 actividad 1.xlsx\n",
      "15/09/2021  20:24             8.912 actividad 2.xlsx\n",
      "29/08/2021  11:23         1.842.278 aguila, scutum, ofiuco, serpiente, sagitario y escorpio.png\n",
      "29/08/2021  11:39         1.988.499 andromeda, pegaso, deneb, aguila, vega, triangulo verano, zayideh.png\n",
      "25/01/2014  22:43             5.522 arrancar win mac.txt\n",
      "07/03/2021  20:59           288.191 Ars infusa.pdf\n",
      "04/04/2021  22:25           244.819 astrologia.pdf\n",
      "31/08/2014  08:58           163.566 boc-2005-159-005 organizacion oferta educativa (aqu¡ est  a lo del 70%).pdf\n",
      "08/06/2020  23:17           357.518 bottle.svg\n",
      "19/12/2020  16:17           278.980 brazos sin fondo relleno blanco simplificado.xcf\n",
      "31/05/2020  15:35         1.137.212 brushes collection 01.svg\n",
      "01/06/2020  18:17           146.236 bug caligraphy within a group with mirror pe 1 (before crash).png\n",
      "01/06/2020  18:12           112.177 bug caligraphy within a group with mirror pe 2.png\n",
      "01/06/2020  17:52           175.831 bug pencil with clipboard shape within a group with mirror pe.png\n",
      "01/06/2020  17:44            10.754 bug pencil with clipboard shape within a group with mirror pe.svg\n",
      "10/11/2021  21:32             1.040 cards.csv\n",
      "26/08/2021  20:20           372.025 Carta_1.png\n",
      "24/01/2022  18:52    <DIR>          Certificaciones enviadas por los centros\n",
      "24/01/2022  18:20           534.875 Certificaciones enviadas por los centros.7z\n",
      "29/08/2021  11:34         1.974.120 cisne, vega, hercules, corona b, arturo.png\n",
      "05/09/2021  16:55             2.627 co via lactea.txt\n",
      "27/08/2021  00:40            16.505 Comprar un primer telescopio.docx\n",
      "11/07/2020  21:05           391.941 contestaci¢n para Freya.docx\n",
      "27/08/2021  07:46            28.377 coordenadas astron¢micas.xlsm\n",
      "24/08/2021  22:09            16.505 coordenadas astron¢micas.xlsx\n",
      "20/02/2022  08:40            87.577 curses-2.2.1+utf8-cp310-cp310-win_amd64.whl\n",
      "03/06/2020  16:52         1.180.429 curso.svg\n",
      "16/02/2022  16:39             4.240 dejar cerrada la puerta.svg\n",
      "05/07/2021  08:22           119.087 Documentaci¢n.zip\n",
      "03/11/2021  20:07               100 examenes.txt\n",
      "13/03/2022  17:54               230 fib.py\n",
      "23/11/2021  11:35           306.328 filezilla.log\n",
      "22/03/2021  17:52    <DIR>          fondos\n",
      "22/03/2021  17:52    <DIR>          fondos motivacion\n",
      "21/07/2019  18:50            14.463 formulas de fotograf¡a.xlsx\n",
      "01/06/2020  14:41           253.672 grid 30 grados con LPE.svg\n",
      "31/05/2020  20:24           480.003 grid 30 grados v2.svg\n",
      "31/05/2020  20:36           260.991 grid 30 grados v3.svg\n",
      "01/06/2020  14:04           226.530 grid 30 grados v4 con clones.svg\n",
      "01/06/2020  14:04           226.523 grid 30 grados v4 LPE.svg\n",
      "01/06/2020  13:59           224.347 grid 30 grados v4.svg\n",
      "01/06/2020  14:06           101.569 grid 30 grados.svg\n",
      "30/05/2020  20:43             3.183 grid 45.svg\n",
      "01/06/2020  18:14             2.542 group with mirror path effect (before crash).svg\n",
      "18/01/2022  18:25    <DIR>          HLC noviembre\n",
      "28/01/2022  22:57    <DIR>          HLC prueba\n",
      "24/05/2020  08:39         2.303.867 islas.svg\n",
      "31/07/2020  12:15            13.341 justificante.pdf\n",
      "29/08/2021  11:47         1.894.697 lacerta, cisne, vega.png\n",
      "14/02/2021  19:09               298 LEEME.txt\n",
      "15/06/2012  00:16        40.438.600 libro_completo CMC.pdf\n",
      "04/06/2020  14:49            10.696 libro20.xlsx\n",
      "04/06/2020  12:54            10.639 libro30.xlsx\n",
      "26/04/2012  08:30           113.772 ListadoCentrosPSSecundaria.pdf\n",
      "05/07/2021  17:24           299.360 los planetas.pdf\n",
      "28/05/2020  19:08            39.458 LPE stitch subpaths.svg\n",
      "07/08/2020  14:21            18.866 M15124791.pdf\n",
      "10/08/2021  22:47           468.212 M29 from COAST.png\n",
      "01/06/2020  14:04         2.001.731 Mandala art en Inkscape.docx\n",
      "02/06/2020  21:27           478.050 mandala repetido de otra forma.svg\n",
      "29/05/2020  21:03            77.434 mandala.svg\n",
      "28/07/2021  18:26         1.551.876 Moyse 12 estudios de chopin adaptados para flauta.pdf\n",
      "18/12/2021  19:42    <DIR>          My Digital Editions\n",
      "11/03/2022  20:28    <DIR>          My Kindle Content\n",
      "10/11/2021  21:32             1.040 mycards.csv\n",
      "09/09/2020  09:34            11.890 Nueva cuenta de gmail.docx\n",
      "16/09/2020  11:16           227.883 Orden del profesorado.pdf\n",
      "22/03/2021  17:52    <DIR>          Panoramicas\n",
      "23/12/2020  19:01            13.188 Planing limpieza.docx\n",
      "23/12/2020  19:02            73.087 Planing limpieza.pdf\n",
      "24/05/2012  21:48         5.295.960 PlanoGuiaAnverso.pdf\n",
      "24/05/2012  21:48         1.560.760 PlanoGuiaReverso.pdf\n",
      "18/05/2020  23:53    <DIR>          Plantillas personalizadas de Office\n",
      "19/02/2022  21:59    <DIR>          PowerShell\n",
      "28/05/2020  21:19             9.469 powerstroke.svg\n",
      "04/02/2022  22:51    <DIR>          Processing\n",
      "19/06/2020  15:12             3.480 Puntuaci¢n Computador General.xml\n",
      "29/06/2020  19:40           150.363 reclamacioines v2.docx\n",
      "22/03/2021  17:54    <DIR>          red guaguas\n",
      "02/02/2022  16:31    <DIR>          Repos\n",
      "03/10/2021  20:03            10.044 resolucion visual.xlsx\n",
      "29/08/2021  11:31         1.910.971 sagitario, escorpio, libra.png\n",
      "30/05/2020  20:20           648.581 sim 3.svg\n",
      "30/05/2020  13:11            62.572 simetria.svg\n",
      "29/12/2021  11:53    <DIR>          Snagit\n",
      "31/05/2020  21:46             7.164 tutorial.svg\n",
      "14/12/2021  17:10    <DIR>          VM\n",
      "19/02/2022  21:59    <DIR>          WindowsPowerShell\n",
      "19/11/2020  09:01    <DIR>          WinX YouTube Downloader\n",
      "05/02/2022  19:19    <DIR>          XML noviembre\n",
      "28/01/2022  17:37             8.932 xml.7z\n",
      "              78 archivos     74.796.088 bytes\n",
      "              20 dirs  756.940.111.872 bytes libres\n"
     ]
    }
   ],
   "source": [
    "ls"
   ]
  },
  {
   "cell_type": "code",
   "execution_count": 7,
   "id": "267ad258",
   "metadata": {},
   "outputs": [
    {
     "name": "stdout",
     "output_type": "stream",
     "text": [
      "[1, 1, 2, 3, 5, 8, 13, 21, 34, 55]\n"
     ]
    }
   ],
   "source": [
    "run fib"
   ]
  },
  {
   "cell_type": "code",
   "execution_count": 8,
   "id": "a41a9dd2",
   "metadata": {},
   "outputs": [
    {
     "name": "stdout",
     "output_type": "stream",
     "text": [
      "fib\t \n"
     ]
    }
   ],
   "source": [
    "who"
   ]
  },
  {
   "cell_type": "code",
   "execution_count": 9,
   "id": "5c437fc2",
   "metadata": {},
   "outputs": [],
   "source": [
    "fib??\n"
   ]
  },
  {
   "cell_type": "code",
   "execution_count": 10,
   "id": "cf0d0dd1",
   "metadata": {},
   "outputs": [
    {
     "name": "stdout",
     "output_type": "stream",
     "text": [
      " El volumen de la unidad D es LENOVO\n",
      " El n£mero de serie del volumen es: 5256-8106\n",
      "\n",
      " Directorio de D:\\Documentos\n",
      "\n",
      "13/03/2022  17:54    <DIR>          .\n",
      "13/03/2022  17:54    <DIR>          ..\n",
      "15/09/2020  06:27           103.482 02_09_20_TRIBUNALES_ PL_GESO_2020.pdf\n",
      "15/09/2020  06:27           231.848 12_09_20_INSTRUCCIONES_ADMINISTRACION_PL_GESO_2020 .pdf\n",
      "29/06/2020  13:30           400.220 2020 06 29 presentacion declaracion.pdf\n",
      "18/06/2020  23:05           734.562 2020-06-18_23-58-04 pcmark 10 lenovo.png\n",
      "10/08/2021  18:12            11.173 2021 08 10 lo que se me debe.xlsx\n",
      "15/09/2021  20:21             8.198 actividad 1.xlsx\n",
      "15/09/2021  20:24             8.912 actividad 2.xlsx\n",
      "29/08/2021  11:23         1.842.278 aguila, scutum, ofiuco, serpiente, sagitario y escorpio.png\n",
      "29/08/2021  11:39         1.988.499 andromeda, pegaso, deneb, aguila, vega, triangulo verano, zayideh.png\n",
      "25/01/2014  22:43             5.522 arrancar win mac.txt\n",
      "07/03/2021  20:59           288.191 Ars infusa.pdf\n",
      "04/04/2021  22:25           244.819 astrologia.pdf\n",
      "31/08/2014  08:58           163.566 boc-2005-159-005 organizacion oferta educativa (aqu¡ est  a lo del 70%).pdf\n",
      "08/06/2020  23:17           357.518 bottle.svg\n",
      "19/12/2020  16:17           278.980 brazos sin fondo relleno blanco simplificado.xcf\n",
      "31/05/2020  15:35         1.137.212 brushes collection 01.svg\n",
      "01/06/2020  18:17           146.236 bug caligraphy within a group with mirror pe 1 (before crash).png\n",
      "01/06/2020  18:12           112.177 bug caligraphy within a group with mirror pe 2.png\n",
      "01/06/2020  17:52           175.831 bug pencil with clipboard shape within a group with mirror pe.png\n",
      "01/06/2020  17:44            10.754 bug pencil with clipboard shape within a group with mirror pe.svg\n",
      "10/11/2021  21:32             1.040 cards.csv\n",
      "26/08/2021  20:20           372.025 Carta_1.png\n",
      "24/01/2022  18:52    <DIR>          Certificaciones enviadas por los centros\n",
      "24/01/2022  18:20           534.875 Certificaciones enviadas por los centros.7z\n",
      "29/08/2021  11:34         1.974.120 cisne, vega, hercules, corona b, arturo.png\n",
      "05/09/2021  16:55             2.627 co via lactea.txt\n",
      "27/08/2021  00:40            16.505 Comprar un primer telescopio.docx\n",
      "11/07/2020  21:05           391.941 contestaci¢n para Freya.docx\n",
      "27/08/2021  07:46            28.377 coordenadas astron¢micas.xlsm\n",
      "24/08/2021  22:09            16.505 coordenadas astron¢micas.xlsx\n",
      "20/02/2022  08:40            87.577 curses-2.2.1+utf8-cp310-cp310-win_amd64.whl\n",
      "03/06/2020  16:52         1.180.429 curso.svg\n",
      "16/02/2022  16:39             4.240 dejar cerrada la puerta.svg\n",
      "05/07/2021  08:22           119.087 Documentaci¢n.zip\n",
      "03/11/2021  20:07               100 examenes.txt\n",
      "13/03/2022  17:54               230 fib.py\n",
      "23/11/2021  11:35           306.328 filezilla.log\n",
      "22/03/2021  17:52    <DIR>          fondos\n",
      "22/03/2021  17:52    <DIR>          fondos motivacion\n",
      "21/07/2019  18:50            14.463 formulas de fotograf¡a.xlsx\n",
      "01/06/2020  14:41           253.672 grid 30 grados con LPE.svg\n",
      "31/05/2020  20:24           480.003 grid 30 grados v2.svg\n",
      "31/05/2020  20:36           260.991 grid 30 grados v3.svg\n",
      "01/06/2020  14:04           226.530 grid 30 grados v4 con clones.svg\n",
      "01/06/2020  14:04           226.523 grid 30 grados v4 LPE.svg\n",
      "01/06/2020  13:59           224.347 grid 30 grados v4.svg\n",
      "01/06/2020  14:06           101.569 grid 30 grados.svg\n",
      "30/05/2020  20:43             3.183 grid 45.svg\n",
      "01/06/2020  18:14             2.542 group with mirror path effect (before crash).svg\n",
      "18/01/2022  18:25    <DIR>          HLC noviembre\n",
      "28/01/2022  22:57    <DIR>          HLC prueba\n",
      "24/05/2020  08:39         2.303.867 islas.svg\n",
      "31/07/2020  12:15            13.341 justificante.pdf\n",
      "29/08/2021  11:47         1.894.697 lacerta, cisne, vega.png\n",
      "14/02/2021  19:09               298 LEEME.txt\n",
      "15/06/2012  00:16        40.438.600 libro_completo CMC.pdf\n",
      "04/06/2020  14:49            10.696 libro20.xlsx\n",
      "04/06/2020  12:54            10.639 libro30.xlsx\n",
      "26/04/2012  08:30           113.772 ListadoCentrosPSSecundaria.pdf\n",
      "05/07/2021  17:24           299.360 los planetas.pdf\n",
      "28/05/2020  19:08            39.458 LPE stitch subpaths.svg\n",
      "07/08/2020  14:21            18.866 M15124791.pdf\n",
      "10/08/2021  22:47           468.212 M29 from COAST.png\n",
      "01/06/2020  14:04         2.001.731 Mandala art en Inkscape.docx\n",
      "02/06/2020  21:27           478.050 mandala repetido de otra forma.svg\n",
      "29/05/2020  21:03            77.434 mandala.svg\n",
      "28/07/2021  18:26         1.551.876 Moyse 12 estudios de chopin adaptados para flauta.pdf\n",
      "18/12/2021  19:42    <DIR>          My Digital Editions\n",
      "11/03/2022  20:28    <DIR>          My Kindle Content\n",
      "10/11/2021  21:32             1.040 mycards.csv\n",
      "09/09/2020  09:34            11.890 Nueva cuenta de gmail.docx\n",
      "16/09/2020  11:16           227.883 Orden del profesorado.pdf\n",
      "22/03/2021  17:52    <DIR>          Panoramicas\n",
      "23/12/2020  19:01            13.188 Planing limpieza.docx\n",
      "23/12/2020  19:02            73.087 Planing limpieza.pdf\n",
      "24/05/2012  21:48         5.295.960 PlanoGuiaAnverso.pdf\n",
      "24/05/2012  21:48         1.560.760 PlanoGuiaReverso.pdf\n",
      "18/05/2020  23:53    <DIR>          Plantillas personalizadas de Office\n",
      "19/02/2022  21:59    <DIR>          PowerShell\n",
      "28/05/2020  21:19             9.469 powerstroke.svg\n",
      "04/02/2022  22:51    <DIR>          Processing\n",
      "19/06/2020  15:12             3.480 Puntuaci¢n Computador General.xml\n",
      "29/06/2020  19:40           150.363 reclamacioines v2.docx\n",
      "22/03/2021  17:54    <DIR>          red guaguas\n",
      "02/02/2022  16:31    <DIR>          Repos\n",
      "03/10/2021  20:03            10.044 resolucion visual.xlsx\n",
      "29/08/2021  11:31         1.910.971 sagitario, escorpio, libra.png\n",
      "30/05/2020  20:20           648.581 sim 3.svg\n",
      "30/05/2020  13:11            62.572 simetria.svg\n",
      "29/12/2021  11:53    <DIR>          Snagit\n",
      "31/05/2020  21:46             7.164 tutorial.svg\n",
      "14/12/2021  17:10    <DIR>          VM\n",
      "19/02/2022  21:59    <DIR>          WindowsPowerShell\n",
      "19/11/2020  09:01    <DIR>          WinX YouTube Downloader\n",
      "05/02/2022  19:19    <DIR>          XML noviembre\n",
      "28/01/2022  17:37             8.932 xml.7z\n",
      "              78 archivos     74.796.088 bytes\n",
      "              20 dirs  756.940.111.872 bytes libres\n"
     ]
    }
   ],
   "source": [
    "ls"
   ]
  },
  {
   "cell_type": "code",
   "execution_count": 11,
   "id": "b37da84a",
   "metadata": {},
   "outputs": [
    {
     "data": {
      "text/plain": [
       "'D:\\\\Documentos'"
      ]
     },
     "execution_count": 11,
     "metadata": {},
     "output_type": "execute_result"
    }
   ],
   "source": [
    "pwd"
   ]
  },
  {
   "cell_type": "code",
   "execution_count": 12,
   "id": "0bbbb3fb",
   "metadata": {},
   "outputs": [
    {
     "name": "stdout",
     "output_type": "stream",
     "text": [
      "D:\\Documentos\\Repos\n"
     ]
    }
   ],
   "source": [
    "cd Repos/"
   ]
  },
  {
   "cell_type": "code",
   "execution_count": 13,
   "id": "3805f50e",
   "metadata": {},
   "outputs": [
    {
     "name": "stdout",
     "output_type": "stream",
     "text": [
      "D:\\Documentos\\Repos\\Pycharm_Projects\\Classic_CS_problems\n"
     ]
    }
   ],
   "source": [
    "cd Pycharm_Projects/Classic_CS_problems/"
   ]
  },
  {
   "cell_type": "code",
   "execution_count": 14,
   "id": "47986060",
   "metadata": {},
   "outputs": [
    {
     "name": "stdout",
     "output_type": "stream",
     "text": [
      " El volumen de la unidad D es LENOVO\n",
      " El n£mero de serie del volumen es: 5256-8106\n",
      "\n",
      " Directorio de D:\\Documentos\\Repos\\Pycharm_Projects\\Classic_CS_problems\n",
      "\n",
      "13/03/2022  17:21    <DIR>          .\n",
      "13/03/2022  17:21    <DIR>          ..\n",
      "10/03/2022  19:48    <DIR>          .idea\n",
      "25/02/2022  20:16    <DIR>          ch 01\n",
      "06/03/2022  17:00    <DIR>          ch 03 constraint-satisfaction problems\n",
      "08/03/2022  18:03    <DIR>          ch 04 graph problems\n",
      "08/03/2022  18:03    <DIR>          ch_02_search_problems\n",
      "10/03/2022  20:32    <DIR>          ch_05_genetic_algorithms\n",
      "13/03/2022  17:21    <DIR>          ch_07 Neural networks\n",
      "02/03/2022  18:48               150 Pipfile\n",
      "02/03/2022  18:48               763 Pipfile.lock\n",
      "               2 archivos            913 bytes\n",
      "               9 dirs  756.940.111.872 bytes libres\n"
     ]
    }
   ],
   "source": [
    "ls\n"
   ]
  },
  {
   "cell_type": "code",
   "execution_count": 15,
   "id": "3aa00e91",
   "metadata": {},
   "outputs": [
    {
     "name": "stdout",
     "output_type": "stream",
     "text": [
      "D:\\Documentos\\Repos\\Pycharm_Projects\\Classic_CS_problems\\ch 03 constraint-satisfaction problems\n"
     ]
    }
   ],
   "source": [
    "cd \"ch 03 constraint-satisfaction problems\""
   ]
  },
  {
   "cell_type": "code",
   "execution_count": 16,
   "id": "1eac4d6e",
   "metadata": {},
   "outputs": [
    {
     "name": "stdout",
     "output_type": "stream",
     "text": [
      " El volumen de la unidad D es LENOVO\n",
      " El n£mero de serie del volumen es: 5256-8106\n",
      "\n",
      " Directorio de D:\\Documentos\\Repos\\Pycharm_Projects\\Classic_CS_problems\\ch 03 constraint-satisfaction problems\n",
      "\n",
      "06/03/2022  17:00    <DIR>          .\n",
      "06/03/2022  17:00    <DIR>          ..\n",
      "06/03/2022  17:00             1.585 8 reinas.py\n",
      "06/03/2022  17:00             2.235 australian_map_coloring.py\n",
      "06/03/2022  17:00             3.886 circuit_ex_1.py\n",
      "06/03/2022  17:00             3.954 contraint_satisfaction_problem.py\n",
      "06/03/2022  17:00             6.298 csp_repetido.py\n",
      "06/03/2022  17:00             2.237 send_more_money.py\n",
      "06/03/2022  17:00            15.676 sudoku_solver_ex_3.py\n",
      "06/03/2022  17:00             3.667 word_search.py\n",
      "06/03/2022  17:00             5.286 word_search_exercise 1.py\n",
      "               9 archivos         44.824 bytes\n",
      "               2 dirs  756.940.087.296 bytes libres\n"
     ]
    }
   ],
   "source": [
    "ls\n"
   ]
  },
  {
   "cell_type": "code",
   "execution_count": 18,
   "id": "4d5d78aa",
   "metadata": {},
   "outputs": [
    {
     "name": "stdout",
     "output_type": "stream",
     "text": [
      "         125260256 function calls (125222633 primitive calls) in 75.813 seconds\n",
      "\n",
      "   Ordered by: standard name\n",
      "\n",
      "   ncalls  tottime  percall  cumtime  percall filename:lineno(function)\n",
      " 54942059   12.724    0.000   21.142    0.000 <string>:1(<lambda>)\n",
      "        1    0.000    0.000   75.813   75.813 <string>:1(<module>)\n",
      "   338409    0.388    0.000   75.022    0.000 csp_repetido.py:42(consistent)\n",
      "  37624/1    0.412    0.000   75.813   75.813 csp_repetido.py:48(backtracking_search)\n",
      "    37623    0.212    0.000    0.212    0.000 csp_repetido.py:53(<listcomp>)\n",
      "   338409    5.828    0.000   74.634    0.000 sudoku_solver_ex_3.py:25(satisfied)\n",
      "  2178286   27.577    0.000   41.193    0.000 sudoku_solver_ex_3.py:29(<setcomp>)\n",
      "  2178286    1.791    0.000    1.791    0.000 sudoku_solver_ex_3.py:32(<setcomp>)\n",
      "   871588   10.943    0.000   15.994    0.000 sudoku_solver_ex_3.py:37(<setcomp>)\n",
      "   871588    0.708    0.000    0.708    0.000 sudoku_solver_ex_3.py:40(<setcomp>)\n",
      "   418127    5.596    0.000    8.071    0.000 sudoku_solver_ex_3.py:47(<setcomp>)\n",
      "   418127    0.342    0.000    0.342    0.000 sudoku_solver_ex_3.py:51(<setcomp>)\n",
      " 54942059    8.418    0.000    8.418    0.000 {built-in method __new__ of type object at 0x00007FF9A6500920}\n",
      "        1    0.000    0.000   75.813   75.813 {built-in method builtins.exec}\n",
      "  7011250    0.671    0.000    0.671    0.000 {built-in method builtins.len}\n",
      "   338409    0.157    0.000    0.157    0.000 {method 'copy' of 'dict' objects}\n",
      "        1    0.000    0.000    0.000    0.000 {method 'disable' of '_lsprof.Profiler' objects}\n",
      "   338409    0.045    0.000    0.045    0.000 {method 'keys' of 'dict' objects}\n",
      "\n",
      "\n",
      "         2781175 function calls (2780636 primitive calls) in 1.516 seconds\n",
      "\n",
      "   Ordered by: standard name\n",
      "\n",
      "   ncalls  tottime  percall  cumtime  percall filename:lineno(function)\n",
      "  1250796    0.288    0.000    0.478    0.000 <string>:1(<lambda>)\n",
      "        1    0.000    0.000    1.516    1.516 <string>:1(<module>)\n",
      "     4653    0.005    0.000    0.974    0.000 csp_repetido.py:42(consistent)\n",
      "    540/1    0.007    0.000    1.516    1.516 csp_repetido.py:77(backtracking_search_heuristic)\n",
      "      539    0.003    0.000    0.003    0.000 csp_repetido.py:90(<listcomp>)\n",
      "      539    0.013    0.000    0.529    0.001 csp_repetido.py:91(<listcomp>)\n",
      "     4653    0.077    0.000    0.969    0.000 sudoku_solver_ex_3.py:25(satisfied)\n",
      "    31895    0.401    0.000    0.585    0.000 sudoku_solver_ex_3.py:29(<setcomp>)\n",
      "    31895    0.024    0.000    0.024    0.000 sudoku_solver_ex_3.py:32(<setcomp>)\n",
      "     9085    0.113    0.000    0.165    0.000 sudoku_solver_ex_3.py:37(<setcomp>)\n",
      "     9085    0.007    0.000    0.007    0.000 sudoku_solver_ex_3.py:40(<setcomp>)\n",
      "     5093    0.067    0.000    0.097    0.000 sudoku_solver_ex_3.py:47(<setcomp>)\n",
      "     5093    0.004    0.000    0.004    0.000 sudoku_solver_ex_3.py:51(<setcomp>)\n",
      "    14580    0.040    0.000    0.516    0.000 sudoku_solver_ex_3.py:58(heuristica)\n",
      "    14580    0.095    0.000    0.175    0.000 sudoku_solver_ex_3.py:65(<setcomp>)\n",
      "    14580    0.076    0.000    0.140    0.000 sudoku_solver_ex_3.py:69(<setcomp>)\n",
      "    14580    0.090    0.000    0.159    0.000 sudoku_solver_ex_3.py:77(<setcomp>)\n",
      "  1250796    0.190    0.000    0.190    0.000 {built-in method __new__ of type object at 0x00007FF9A6500920}\n",
      "        1    0.000    0.000    1.516    1.516 {built-in method builtins.exec}\n",
      "   107806    0.010    0.000    0.010    0.000 {built-in method builtins.len}\n",
      "      539    0.000    0.000    0.000    0.000 {built-in method builtins.max}\n",
      "     4653    0.002    0.000    0.002    0.000 {method 'copy' of 'dict' objects}\n",
      "        1    0.000    0.000    0.000    0.000 {method 'disable' of '_lsprof.Profiler' objects}\n",
      "      539    0.000    0.000    0.000    0.000 {method 'index' of 'list' objects}\n",
      "     4653    0.001    0.000    0.001    0.000 {method 'keys' of 'dict' objects}\n",
      "\n",
      "\n",
      "         1880378 function calls (1879839 primitive calls) in 0.966 seconds\n",
      "\n",
      "   Ordered by: standard name\n",
      "\n",
      "   ncalls  tottime  percall  cumtime  percall filename:lineno(function)\n",
      "   806950    0.188    0.000    0.312    0.000 <string>:1(<lambda>)\n",
      "        1    0.000    0.000    0.966    0.966 <string>:1(<module>)\n",
      "    540/1    0.024    0.000    0.966    0.966 csp_repetido.py:107(bts_heuristic_con_restriccion)\n",
      "      539    0.003    0.000    0.003    0.000 csp_repetido.py:118(<listcomp>)\n",
      "      948    0.001    0.000    0.353    0.000 csp_repetido.py:42(consistent)\n",
      "    14580    0.092    0.000    0.161    0.000 sudoku_solver_ex_3.py:102(<setcomp>)\n",
      "    91306    0.017    0.000    0.017    0.000 sudoku_solver_ex_3.py:108(<genexpr>)\n",
      "    14580    0.009    0.000    0.009    0.000 sudoku_solver_ex_3.py:109(<listcomp>)\n",
      "      948    0.028    0.000    0.351    0.000 sudoku_solver_ex_3.py:25(satisfied)\n",
      "     6818    0.085    0.000    0.124    0.000 sudoku_solver_ex_3.py:29(<setcomp>)\n",
      "     6818    0.006    0.000    0.006    0.000 sudoku_solver_ex_3.py:32(<setcomp>)\n",
      "     4851    0.063    0.000    0.091    0.000 sudoku_solver_ex_3.py:37(<setcomp>)\n",
      "     4851    0.004    0.000    0.004    0.000 sudoku_solver_ex_3.py:40(<setcomp>)\n",
      "     4851    0.064    0.000    0.091    0.000 sudoku_solver_ex_3.py:47(<setcomp>)\n",
      "     4851    0.004    0.000    0.004    0.000 sudoku_solver_ex_3.py:51(<setcomp>)\n",
      "    14580    0.073    0.000    0.583    0.000 sudoku_solver_ex_3.py:86(heuristica_con_restriccion)\n",
      "    14580    0.096    0.000    0.179    0.000 sudoku_solver_ex_3.py:90(<setcomp>)\n",
      "    14580    0.077    0.000    0.142    0.000 sudoku_solver_ex_3.py:94(<setcomp>)\n",
      "   806950    0.124    0.000    0.124    0.000 {built-in method __new__ of type object at 0x00007FF9A6500920}\n",
      "        1    0.000    0.000    0.966    0.966 {built-in method builtins.exec}\n",
      "    48700    0.005    0.000    0.005    0.000 {built-in method builtins.len}\n",
      "      539    0.000    0.000    0.000    0.000 {built-in method builtins.max}\n",
      "    14580    0.002    0.000    0.002    0.000 {method 'append' of 'list' objects}\n",
      "      948    0.001    0.000    0.001    0.000 {method 'copy' of 'dict' objects}\n",
      "        1    0.000    0.000    0.000    0.000 {method 'disable' of '_lsprof.Profiler' objects}\n",
      "      539    0.000    0.000    0.000    0.000 {method 'index' of 'list' objects}\n",
      "      948    0.000    0.000    0.000    0.000 {method 'keys' of 'dict' objects}\n",
      "\n",
      "\n"
     ]
    }
   ],
   "source": [
    "run sudoku_solver_ex_3.py"
   ]
  },
  {
   "cell_type": "code",
   "execution_count": 19,
   "id": "4eaf1897",
   "metadata": {},
   "outputs": [
    {
     "name": "stdout",
     "output_type": "stream",
     "text": [
      "CSP\t Constraint\t Dict\t List\t Literal\t NamedTuple\t Numero_1_al_9\t Optional\t SudokuConstraint\t \n",
      "SudokuLocation\t ascii_uppercase\t assginment_inicial_1\t assginment_inicial_2\t assginment_inicial_3\t cProfile\t choice\t csp\t dataclass\t \n",
      "domains\t fib\t heuristica\t heuristica_con_restriccion\t locations\t pprint\t sys\t \n"
     ]
    }
   ],
   "source": [
    "who"
   ]
  },
  {
   "cell_type": "code",
   "execution_count": 20,
   "id": "d6fa52ce",
   "metadata": {},
   "outputs": [
    {
     "name": "stdout",
     "output_type": "stream",
     "text": [
      " El volumen de la unidad D es LENOVO\n",
      " El n£mero de serie del volumen es: 5256-8106\n",
      "\n",
      " Directorio de D:\\Documentos\\Repos\\Pycharm_Projects\\Classic_CS_problems\\ch 03 constraint-satisfaction problems\n",
      "\n",
      "13/03/2022  18:20    <DIR>          .\n",
      "13/03/2022  18:20    <DIR>          ..\n",
      "13/03/2022  18:20    <DIR>          __pycache__\n",
      "06/03/2022  17:00             1.585 8 reinas.py\n",
      "06/03/2022  17:00             2.235 australian_map_coloring.py\n",
      "06/03/2022  17:00             3.886 circuit_ex_1.py\n",
      "06/03/2022  17:00             3.954 contraint_satisfaction_problem.py\n",
      "06/03/2022  17:00             6.298 csp_repetido.py\n",
      "06/03/2022  17:00             2.237 send_more_money.py\n",
      "06/03/2022  17:00            15.676 sudoku_solver_ex_3.py\n",
      "06/03/2022  17:00             3.667 word_search.py\n",
      "06/03/2022  17:00             5.286 word_search_exercise 1.py\n",
      "               9 archivos         44.824 bytes\n",
      "               3 dirs  756.940.075.008 bytes libres\n"
     ]
    }
   ],
   "source": [
    "ls\n"
   ]
  },
  {
   "cell_type": "code",
   "execution_count": null,
   "id": "ceb68db7",
   "metadata": {},
   "outputs": [],
   "source": []
  },
  {
   "cell_type": "code",
   "execution_count": null,
   "id": "5600d06e",
   "metadata": {},
   "outputs": [],
   "source": []
  }
 ],
 "metadata": {
  "kernelspec": {
   "display_name": "Python 3 (ipykernel)",
   "language": "python",
   "name": "python3"
  },
  "language_info": {
   "codemirror_mode": {
    "name": "ipython",
    "version": 3
   },
   "file_extension": ".py",
   "mimetype": "text/x-python",
   "name": "python",
   "nbconvert_exporter": "python",
   "pygments_lexer": "ipython3",
   "version": "3.10.1"
  }
 },
 "nbformat": 4,
 "nbformat_minor": 5
}

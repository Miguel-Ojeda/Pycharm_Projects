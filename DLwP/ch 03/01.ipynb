{
 "cells": [
  {
   "cell_type": "code",
   "execution_count": 1,
   "id": "93d5a92f-9ecb-4443-84ff-26c25d3d9e95",
   "metadata": {},
   "outputs": [],
   "source": [
    "import tensorflow as tf"
   ]
  },
  {
   "cell_type": "code",
   "execution_count": 3,
   "id": "5058a482-5c3b-4075-ab58-641f8565262d",
   "metadata": {},
   "outputs": [],
   "source": [
    "x = tf.ones(shape=(2, 1))"
   ]
  },
  {
   "cell_type": "code",
   "execution_count": 4,
   "id": "ec96cc4b-9781-4f2f-b89b-93bd30a7b8e9",
   "metadata": {},
   "outputs": [
    {
     "data": {
      "text/plain": [
       "<tf.Tensor: shape=(2, 1), dtype=float32, numpy=\n",
       "array([[1.],\n",
       "       [1.]], dtype=float32)>"
      ]
     },
     "execution_count": 4,
     "metadata": {},
     "output_type": "execute_result"
    }
   ],
   "source": [
    "x  # Es un objeto de la clase Tensor"
   ]
  },
  {
   "cell_type": "code",
   "execution_count": 7,
   "id": "f8927ea8-b658-4710-92e2-981e10918b52",
   "metadata": {},
   "outputs": [],
   "source": [
    "# También podemos crear un Tensor utilizando tf.zeros\n",
    "x = tf.zeros(shape=[2, 1])  # para indicar la forma simplemente dar una secuencia, da igual tupla, que lista..."
   ]
  },
  {
   "cell_type": "code",
   "execution_count": 6,
   "id": "7ec3a26f-42dd-465d-ae15-05dff1f2f995",
   "metadata": {},
   "outputs": [
    {
     "data": {
      "text/plain": [
       "<tf.Tensor: shape=(2, 1), dtype=float32, numpy=\n",
       "array([[0.],\n",
       "       [0.]], dtype=float32)>"
      ]
     },
     "execution_count": 6,
     "metadata": {},
     "output_type": "execute_result"
    }
   ],
   "source": [
    "x"
   ]
  },
  {
   "cell_type": "markdown",
   "id": "f9ba4a6b-ccc1-4263-9490-68ef7c2eec17",
   "metadata": {
    "tags": []
   },
   "source": [
    "# también podemos crear tensores utilizando distribuciones de probabilidad...\n",
    "* Normal\n",
    "* Uniforme\n"
   ]
  },
  {
   "cell_type": "code",
   "execution_count": 8,
   "id": "c441c87f-0a35-4ee0-9cf5-6b483fc3136b",
   "metadata": {},
   "outputs": [],
   "source": [
    "x = tf.random.normal(shape=(3, 1), mean=0., stddev=1.)"
   ]
  },
  {
   "cell_type": "code",
   "execution_count": 11,
   "id": "17446062-4148-4b8f-b224-8cf3963581a5",
   "metadata": {},
   "outputs": [],
   "source": [
    "y = tf.random.uniform(shape=(1, 3), minval=0., maxval=1.)"
   ]
  },
  {
   "cell_type": "code",
   "execution_count": 12,
   "id": "414e8e36-d754-413e-b7a7-687b7df30382",
   "metadata": {},
   "outputs": [
    {
     "data": {
      "text/plain": [
       "<tf.Tensor: shape=(1, 3), dtype=float32, numpy=array([[0.1783613, 0.779842 , 0.8865706]], dtype=float32)>"
      ]
     },
     "execution_count": 12,
     "metadata": {},
     "output_type": "execute_result"
    }
   ],
   "source": [
    "y"
   ]
  },
  {
   "cell_type": "code",
   "execution_count": 14,
   "id": "b60ae0a9-662b-4624-bbed-3b42f1eb7cd4",
   "metadata": {},
   "outputs": [
    {
     "data": {
      "text/plain": [
       "array([[1., 1., 1.],\n",
       "       [1., 1., 1.]])"
      ]
     },
     "execution_count": 14,
     "metadata": {},
     "output_type": "execute_result"
    }
   ],
   "source": [
    "# Cuidado, los tensores, a diferencia de los arrays de numpy, NO SON ASIGNABLES\n",
    "import numpy as np\n",
    "x = np.ones((2, 3))\n",
    "x"
   ]
  },
  {
   "cell_type": "code",
   "execution_count": 16,
   "id": "1bc943ec-6780-423e-bef5-7b6f2cb0fd53",
   "metadata": {},
   "outputs": [
    {
     "data": {
      "text/plain": [
       "array([[ 1. ,  1. ,  1. ],\n",
       "       [ 1. , 14.3,  1. ]])"
      ]
     },
     "execution_count": 16,
     "metadata": {},
     "output_type": "execute_result"
    }
   ],
   "source": [
    "x[1, 1] = 14.3\n",
    "x"
   ]
  },
  {
   "cell_type": "code",
   "execution_count": null,
   "id": "e6d050a3-9375-4f4f-b811-7136eef61be9",
   "metadata": {},
   "outputs": [
    {
     "ename": "TypeError",
     "evalue": "'tensorflow.python.framework.ops.EagerTensor' object does not support item assignment",
     "output_type": "error",
     "traceback": [
      "\u001b[1;31m---------------------------------------------------------------------------\u001b[0m",
      "\u001b[1;31mTypeError\u001b[0m                                 Traceback (most recent call last)",
      "Input \u001b[1;32mIn [18]\u001b[0m, in \u001b[0;36m<cell line: 2>\u001b[1;34m()\u001b[0m\n\u001b[0;32m      1\u001b[0m x \u001b[38;5;241m=\u001b[39m tf\u001b[38;5;241m.\u001b[39mones(shape\u001b[38;5;241m=\u001b[39m(\u001b[38;5;241m2\u001b[39m, \u001b[38;5;241m2\u001b[39m))\n\u001b[1;32m----> 2\u001b[0m x[\u001b[38;5;241m1\u001b[39m, \u001b[38;5;241m1\u001b[39m] \u001b[38;5;241m=\u001b[39m \u001b[38;5;241m14.3\u001b[39m\n",
      "\u001b[1;31mTypeError\u001b[0m: 'tensorflow.python.framework.ops.EagerTensor' object does not support item assignment"
     ]
    }
   ],
   "source": [
    "x = tf.ones(shape=(2, 2))\n",
    "x[1, 1] = 14.3  # Error.... los tensores no soportan asignación!!!!"
   ]
  },
  {
   "cell_type": "code",
   "execution_count": 21,
   "id": "de4e8a84-2157-46b9-9341-71a734cc250c",
   "metadata": {},
   "outputs": [
    {
     "data": {
      "text/plain": [
       "<tf.Variable 'Variable:0' shape=(2, 2) dtype=float32, numpy=\n",
       "array([[1., 1.],\n",
       "       [1., 1.]], dtype=float32)>"
      ]
     },
     "execution_count": 21,
     "metadata": {},
     "output_type": "execute_result"
    }
   ],
   "source": [
    "# Cómo hacemos entonces para cambiar los tensores de una red neuronal???\n",
    "# Utilizaremos tf.Variable.... \n",
    "v = tf.Variable(initial_value=tf.ones(shape=(2, 2)))\n",
    "v  # Es de tipo tf.Variable !"
   ]
  },
  {
   "cell_type": "code",
   "execution_count": 24,
   "id": "bcd65730-25b5-4d00-9239-0c8cb0ac4733",
   "metadata": {},
   "outputs": [
    {
     "data": {
      "text/plain": [
       "<tf.Variable 'UnreadVariable' shape=(2, 2) dtype=float32, numpy=\n",
       "array([[-0.97796005, -1.7390875 ],\n",
       "       [ 0.07311287,  0.66391504]], dtype=float32)>"
      ]
     },
     "execution_count": 24,
     "metadata": {},
     "output_type": "execute_result"
    }
   ],
   "source": [
    "# Para cambiar el valor utilizar método... no vale con índices\n",
    "v.assign(tf.random.normal(shape=(2, 2)))  # Cuidado, debe ser de la misma shape..."
   ]
  },
  {
   "cell_type": "code",
   "execution_count": 27,
   "id": "ff2d3e76-f19c-437a-859f-81901f2e103c",
   "metadata": {},
   "outputs": [
    {
     "data": {
      "text/plain": [
       "<tf.Variable 'UnreadVariable' shape=(2, 2) dtype=float32, numpy=\n",
       "array([[1.2       , 1.3       ],\n",
       "       [0.07311287, 0.66391504]], dtype=float32)>"
      ]
     },
     "execution_count": 27,
     "metadata": {},
     "output_type": "execute_result"
    }
   ],
   "source": [
    "# También podemos cambiar algún rango de subíndices..\n",
    "v[0].assign([1.2, 1.3])"
   ]
  },
  {
   "cell_type": "code",
   "execution_count": 28,
   "id": "06a4f500-4582-4674-906f-2c19104e1e5e",
   "metadata": {},
   "outputs": [
    {
     "data": {
      "text/plain": [
       "<tf.Variable 'UnreadVariable' shape=(2, 2) dtype=float32, numpy=\n",
       "array([[ 1.2       ,  1.3       ],\n",
       "       [ 0.07311287, 13.2       ]], dtype=float32)>"
      ]
     },
     "execution_count": 28,
     "metadata": {},
     "output_type": "execute_result"
    }
   ],
   "source": [
    "v[1, 1].assign(13.2)"
   ]
  },
  {
   "cell_type": "code",
   "execution_count": 29,
   "id": "d327f7d7-ce6d-47e4-8895-8356d0355c55",
   "metadata": {},
   "outputs": [
    {
     "data": {
      "text/plain": [
       "<tf.Variable 'UnreadVariable' shape=(2, 2) dtype=float32, numpy=\n",
       "array([[ 2.2      ,  2.3      ],\n",
       "       [ 1.0731128, 14.2      ]], dtype=float32)>"
      ]
     },
     "execution_count": 29,
     "metadata": {},
     "output_type": "execute_result"
    }
   ],
   "source": [
    "# Y podemos sumarle y restarle cosas y otro tipo de operaciones...\n",
    "v.assign_add(tf.ones((2, 2)))  # esto es como hacer +="
   ]
  },
  {
   "cell_type": "code",
   "execution_count": 30,
   "id": "9469d8aa-2206-48fe-aa07-b672762e299a",
   "metadata": {},
   "outputs": [
    {
     "data": {
      "text/plain": [
       "<tf.Variable 'UnreadVariable' shape=(2, 2) dtype=float32, numpy=\n",
       "array([[ 1.2       ,  1.3       ],\n",
       "       [ 0.07311285, 13.2       ]], dtype=float32)>"
      ]
     },
     "execution_count": 30,
     "metadata": {},
     "output_type": "execute_result"
    }
   ],
   "source": [
    "v.assign_sub(tf.ones((2, 2)))  # Esto es como -="
   ]
  },
  {
   "cell_type": "markdown",
   "id": "c131ffbd-c800-42bc-9815-aa85b43c753d",
   "metadata": {
    "tags": []
   },
   "source": [
    "# Operaciones con tensores"
   ]
  },
  {
   "cell_type": "code",
   "execution_count": 32,
   "id": "70b45ea5-095c-42fd-95ef-80a8c96e5bac",
   "metadata": {},
   "outputs": [
    {
     "data": {
      "text/plain": [
       "<tf.Tensor: shape=(2, 2), dtype=float32, numpy=\n",
       "array([[2., 2.],\n",
       "       [2., 2.]], dtype=float32)>"
      ]
     },
     "execution_count": 32,
     "metadata": {},
     "output_type": "execute_result"
    }
   ],
   "source": [
    "a = 2 * tf.ones((2, 2))\n",
    "a"
   ]
  },
  {
   "cell_type": "code",
   "execution_count": 35,
   "id": "5c68cdb5-c56e-490f-9704-5bfdd8a350c4",
   "metadata": {},
   "outputs": [
    {
     "data": {
      "text/plain": [
       "<tf.Tensor: shape=(2, 2), dtype=float32, numpy=\n",
       "array([[7., 7.],\n",
       "       [7., 7.]], dtype=float32)>"
      ]
     },
     "execution_count": 35,
     "metadata": {},
     "output_type": "execute_result"
    }
   ],
   "source": [
    "b = 3 + tf.square(a)\n",
    "b  # eleva cada uno de los elementos de la matriz a, y luego le suma 3 a cada uno de ellos"
   ]
  },
  {
   "cell_type": "code",
   "execution_count": 36,
   "id": "87a9de76-9465-44c6-9e7f-b14d250a70ab",
   "metadata": {},
   "outputs": [
    {
     "data": {
      "text/plain": [
       "<tf.Tensor: shape=(2, 2), dtype=float32, numpy=\n",
       "array([[2.6457512, 2.6457512],\n",
       "       [2.6457512, 2.6457512]], dtype=float32)>"
      ]
     },
     "execution_count": 36,
     "metadata": {},
     "output_type": "execute_result"
    }
   ],
   "source": [
    "c = tf.sqrt(b)\n",
    "c"
   ]
  },
  {
   "cell_type": "code",
   "execution_count": 38,
   "id": "42c8a684-aa5c-4891-88be-cf1558e18d75",
   "metadata": {},
   "outputs": [
    {
     "data": {
      "text/plain": [
       "<tf.Tensor: shape=(2, 2), dtype=float32, numpy=\n",
       "array([[9.645751, 9.645751],\n",
       "       [9.645751, 9.645751]], dtype=float32)>"
      ]
     },
     "execution_count": 38,
     "metadata": {},
     "output_type": "execute_result"
    }
   ],
   "source": [
    "d = b + c\n",
    "d"
   ]
  },
  {
   "cell_type": "code",
   "execution_count": 40,
   "id": "519098e5-456a-4361-bafa-778d6d6099f4",
   "metadata": {},
   "outputs": [
    {
     "data": {
      "text/plain": [
       "<tf.Tensor: shape=(2, 2), dtype=float32, numpy=\n",
       "array([[28., 28.],\n",
       "       [28., 28.]], dtype=float32)>"
      ]
     },
     "execution_count": 40,
     "metadata": {},
     "output_type": "execute_result"
    }
   ],
   "source": [
    "e = tf.matmul(a, b)\n",
    "e"
   ]
  },
  {
   "cell_type": "code",
   "execution_count": 42,
   "id": "14773701-9574-4673-bec2-f523d97694d9",
   "metadata": {},
   "outputs": [
    {
     "data": {
      "text/plain": [
       "<tf.Tensor: shape=(2, 2), dtype=float32, numpy=\n",
       "array([[270.08102, 270.08102],\n",
       "       [270.08102, 270.08102]], dtype=float32)>"
      ]
     },
     "execution_count": 42,
     "metadata": {},
     "output_type": "execute_result"
    }
   ],
   "source": [
    "e *= d\n",
    "e"
   ]
  },
  {
   "cell_type": "markdown",
   "id": "7945acf9-4d96-44ae-9413-baafffca693f",
   "metadata": {
    "tags": []
   },
   "source": [
    "### GradientTape API"
   ]
  },
  {
   "cell_type": "code",
   "execution_count": 44,
   "id": "88ef9af6-173f-4d23-9ce0-43d10dae978b",
   "metadata": {},
   "outputs": [
    {
     "data": {
      "text/plain": [
       "<tf.Tensor: shape=(), dtype=float32, numpy=6.0>"
      ]
     },
     "execution_count": 44,
     "metadata": {},
     "output_type": "execute_result"
    }
   ],
   "source": [
    "input_var = tf.Variable(initial_value=3.)\n",
    "with tf.GradientTape() as tape:\n",
    "    result = tf.square(input_var)\n",
    "gradient = tape.gradient(result, input_var)\n",
    "gradient\n",
    "# La derivada de result = x ^2 respecto a x sería 2x, que si x vale 3 se evalúa a 6"
   ]
  },
  {
   "cell_type": "code",
   "execution_count": 48,
   "id": "334209ea-beb2-42c2-b45c-a320efefc636",
   "metadata": {},
   "outputs": [
    {
     "data": {
      "text/plain": [
       "<tf.Tensor: shape=(), dtype=float32, numpy=10.0>"
      ]
     },
     "execution_count": 48,
     "metadata": {},
     "output_type": "execute_result"
    }
   ],
   "source": [
    "input_var.assign(5)\n",
    "with tf.GradientTape() as tape:\n",
    "    result = tf.square(input_var)\n",
    "gradient = tape.gradient(result, input_var)\n",
    "gradient  # Como la derivada es 2x, si la variable x vale 5, el valor será 10"
   ]
  },
  {
   "cell_type": "code",
   "execution_count": 51,
   "id": "4dcb5c36-4c26-4ab0-b888-2a278f467d78",
   "metadata": {},
   "outputs": [
    {
     "data": {
      "text/plain": [
       "<tf.Tensor: shape=(), dtype=float32, numpy=42.0>"
      ]
     },
     "execution_count": 51,
     "metadata": {},
     "output_type": "execute_result"
    }
   ],
   "source": [
    "# Ahora si y = 2x ^3 - 3x ^2 + 6x - 8\n",
    "# La derivada es y' = 6x ^2 - 6 x\n",
    "# La derivada en -2 sería  y'(-2) = 6 x^2 - 6x + 6 = 24 + 12 + 6 = 42\n",
    "x = tf.Variable(initial_value=-2.0)\n",
    "with tf.GradientTape() as tape:\n",
    "    y = 2 * tf.square(x) * x - 3 * tf.square(x) + 6 * x - 8\n",
    "gradient = tape.gradient(y, x)\n",
    "gradient"
   ]
  },
  {
   "cell_type": "code",
   "execution_count": 54,
   "id": "ca168674-5cd3-4d63-a286-f0daa61295ee",
   "metadata": {},
   "outputs": [
    {
     "data": {
      "text/plain": [
       "(<tf.Tensor: shape=(), dtype=float32, numpy=-120.0>,\n",
       " <tf.Tensor: shape=(), dtype=float32, numpy=60.0>)"
      ]
     },
     "execution_count": 54,
     "metadata": {},
     "output_type": "execute_result"
    }
   ],
   "source": [
    "# Ahora una superficie...\n",
    "x = tf.Variable(initial_value=-2.0)\n",
    "y = tf.Variable(initial_value=6.0)\n",
    "with tf.GradientTape() as tape:\n",
    "    z = 2 * tf.square(x) * y - 3 * x * tf.square(y) + 6 * x * y - 8 * y + 14\n",
    "gradient = tape.gradient(z, (x, y))\n",
    "gradient"
   ]
  },
  {
   "cell_type": "code",
   "execution_count": 55,
   "id": "49d9ac16-9a7a-4ca7-b30f-0d69a36719d7",
   "metadata": {},
   "outputs": [],
   "source": [
    "# El gradiente sale...\n",
    "# Derivada parcial de z respecto a x: 4xy - 3y2 + 6y = -48 - 108 + 36  = -120\n",
    "# Derivada parcial de z respecto a y: 2x2 - 6xy + 6x - 8 = 8 + 72 - 12 - 8 = 60 "
   ]
  },
  {
   "cell_type": "code",
   "execution_count": 59,
   "id": "f79e87f9-cf58-431e-bb0a-af753cb972e0",
   "metadata": {},
   "outputs": [],
   "source": [
    "# GradientTape sirve tb. para otro tipo de tensores, aunque no sean variables\n",
    "# Pero por defecto sólo vigila las variables trainables (los pesos)..\n",
    "input_const = tf.constant(3.)\n",
    "with tf.GradientTape() as tape:\n",
    "    result = tf.square(input_const)\n",
    "gradient = tape.gradient(result, input_const)"
   ]
  },
  {
   "cell_type": "code",
   "execution_count": 61,
   "id": "f96532df-f05d-4c01-9956-f75461a2b7dc",
   "metadata": {},
   "outputs": [
    {
     "name": "stdout",
     "output_type": "stream",
     "text": [
      "None\n"
     ]
    }
   ],
   "source": [
    "print(gradient)"
   ]
  },
  {
   "cell_type": "code",
   "execution_count": 64,
   "id": "411742fa-28e6-4c44-979b-d9b5662fa7de",
   "metadata": {},
   "outputs": [],
   "source": [
    "# Esto ocurre pq hay que decirle que tenga en cuenta el tensor input_const....!!!\n",
    "input_const = tf.constant(3.)\n",
    "with tf.GradientTape() as tape:\n",
    "    tape.watch(input_const)  # Hace falta decirle esto!!!\n",
    "    result = tf.square(input_const)\n",
    "gradient = tape.gradient(result, input_const)"
   ]
  },
  {
   "cell_type": "code",
   "execution_count": 63,
   "id": "b9202dfe-b06d-48d3-8da9-264b483e2e56",
   "metadata": {},
   "outputs": [
    {
     "data": {
      "text/plain": [
       "<tf.Tensor: shape=(), dtype=float32, numpy=6.0>"
      ]
     },
     "execution_count": 63,
     "metadata": {},
     "output_type": "execute_result"
    }
   ],
   "source": [
    "gradient"
   ]
  },
  {
   "cell_type": "code",
   "execution_count": 71,
   "id": "f1c9fb89-49c0-463e-9aab-cc0e0cbf128c",
   "metadata": {},
   "outputs": [],
   "source": [
    "# También se pueden calcular las derivadas parciales de segundo orden, segundas derivadas, etc...\n",
    "time = tf.Variable(2.)\n",
    "with tf.GradientTape() as outer_tape:\n",
    "    with tf.GradientTape() as inner_tape:\n",
    "        position = 4.9 * time ** 2\n",
    "    speed = inner_tape.gradient(position, time)\n",
    "acceleration = outer_tape.gradient(speed, time)"
   ]
  },
  {
   "cell_type": "code",
   "execution_count": 69,
   "id": "886f7cbd-07f4-458e-8fe5-f06e71a06e4b",
   "metadata": {},
   "outputs": [
    {
     "data": {
      "text/plain": [
       "<tf.Tensor: shape=(), dtype=float32, numpy=9.8>"
      ]
     },
     "execution_count": 69,
     "metadata": {},
     "output_type": "execute_result"
    }
   ],
   "source": [
    "acceleration"
   ]
  },
  {
   "cell_type": "code",
   "execution_count": 72,
   "id": "8d3ddaae-b799-4072-8924-7bb505131877",
   "metadata": {},
   "outputs": [
    {
     "data": {
      "text/plain": [
       "<tf.Tensor: shape=(), dtype=float32, numpy=19.6>"
      ]
     },
     "execution_count": 72,
     "metadata": {},
     "output_type": "execute_result"
    }
   ],
   "source": [
    "speed"
   ]
  },
  {
   "cell_type": "code",
   "execution_count": null,
   "id": "1a0c2fbe-47a0-457a-b0b1-aaa7e88bba81",
   "metadata": {},
   "outputs": [],
   "source": []
  }
 ],
 "metadata": {
  "kernelspec": {
   "display_name": "Python 3 (ipykernel)",
   "language": "python",
   "name": "python3"
  },
  "language_info": {
   "codemirror_mode": {
    "name": "ipython",
    "version": 3
   },
   "file_extension": ".py",
   "mimetype": "text/x-python",
   "name": "python",
   "nbconvert_exporter": "python",
   "pygments_lexer": "ipython3",
   "version": "3.10.1"
  }
 },
 "nbformat": 4,
 "nbformat_minor": 5
}

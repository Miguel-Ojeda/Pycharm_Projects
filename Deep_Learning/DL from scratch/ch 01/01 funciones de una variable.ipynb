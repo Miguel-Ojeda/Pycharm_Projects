{
 "cells": [
  {
   "cell_type": "code",
   "execution_count": 66,
   "id": "c1469a7a-27a2-453e-aafa-6e375edc975c",
   "metadata": {},
   "outputs": [],
   "source": [
    "# IMPORTS\n",
    "import numpy as np\n",
    "from typing import Callable, List\n",
    "import matplotlib\n",
    "import matplotlib.pyplot as plt"
   ]
  },
  {
   "cell_type": "code",
   "execution_count": 36,
   "id": "3fc4fa55-9959-4e36-b607-c172d4a2b1ba",
   "metadata": {},
   "outputs": [],
   "source": [
    "ArrayFunction = Callable[[np.ndarray], np.ndarray]  # Definimos un alias para simplificar todo\n",
    "Chain = List[ArrayFunction]  # Definimos una lista de funciones, para definir la función compuesta luego                         "
   ]
  },
  {
   "cell_type": "code",
   "execution_count": 14,
   "id": "c312721e-8d38-467a-8fc4-42153458e2ec",
   "metadata": {},
   "outputs": [],
   "source": [
    "def square(x: np.ndarray) -> np.ndarray:\n",
    "    return np.power(x, 2)"
   ]
  },
  {
   "cell_type": "code",
   "execution_count": 5,
   "id": "218eb4f3-bbf8-4d3c-bff8-2771eb119dff",
   "metadata": {},
   "outputs": [],
   "source": [
    "def leaky_relu(x: np.array) -> np.array:\n",
    "    return np.maximum(x * 0.2, x)"
   ]
  },
  {
   "cell_type": "code",
   "execution_count": 10,
   "id": "90ccd118-3deb-4371-98fd-8e84d86d4213",
   "metadata": {},
   "outputs": [],
   "source": [
    "# Derivada de una función real de variable real, pero que le podemos\n",
    "# pasar un array si queremos que calcule las imágenes del array entero\n",
    "def derivada(funcion: Callable[[np.ndarray], np.ndarray],\n",
    "             input: np.ndarray,\n",
    "             delta: float = 0.001) -> np.ndarray:\n",
    "    # Evaluates the derivative of a function \"func\" at every element in the input_\" array.\n",
    "    return (funcion(input + delta) - funcion(input - delta)) / (2 * delta)"
   ]
  },
  {
   "cell_type": "code",
   "execution_count": 11,
   "id": "3f79e328-7241-4e66-ac0b-4c18be2a1a5c",
   "metadata": {},
   "outputs": [],
   "source": [
    "# Ejemplo... función y = x2\n",
    "# La derivada es y' = 2x\n",
    "def x_al_cuadrado(input: np.ndarray) -> np.ndarray:\n",
    "    return np.power(input, 2)"
   ]
  },
  {
   "cell_type": "code",
   "execution_count": 31,
   "id": "fd48e184-30c9-4b0b-9a96-bdc8781f0d2f",
   "metadata": {},
   "outputs": [
    {
     "data": {
      "text/plain": [
       "array([ 4.,  9., 16.])"
      ]
     },
     "execution_count": 31,
     "metadata": {},
     "output_type": "execute_result"
    }
   ],
   "source": [
    "x = np.array([2., 3., 4.])\n",
    "x_al_cuadrado(x)"
   ]
  },
  {
   "cell_type": "code",
   "execution_count": 28,
   "id": "56bbc496-a1fa-4ab4-ad65-d281563c5475",
   "metadata": {},
   "outputs": [
    {
     "data": {
      "text/plain": [
       "array([2., 4., 6.])"
      ]
     },
     "execution_count": 28,
     "metadata": {},
     "output_type": "execute_result"
    }
   ],
   "source": [
    "derivada(x_al_cuadrado, x)"
   ]
  },
  {
   "cell_type": "code",
   "execution_count": 29,
   "id": "fb38dd93-81e3-45b1-bb80-d43250b6416f",
   "metadata": {},
   "outputs": [],
   "source": [
    "# Ejemplo... función y = x3\n",
    "# La derivada es y' = 3x2\n",
    "def x_al_cubo(input: np.ndarray) -> np.ndarray:\n",
    "    return np.power(input, 3)"
   ]
  },
  {
   "cell_type": "code",
   "execution_count": 33,
   "id": "0896aad2-b3f2-4887-81a6-38f616dffa9f",
   "metadata": {},
   "outputs": [
    {
     "data": {
      "text/plain": [
       "array([12.000001, 27.000001, 48.000001])"
      ]
     },
     "execution_count": 33,
     "metadata": {},
     "output_type": "execute_result"
    }
   ],
   "source": [
    "derivada(x_al_cubo, x)"
   ]
  },
  {
   "cell_type": "code",
   "execution_count": 47,
   "id": "441b787b-77fb-4f56-a043-ff7cf4357f34",
   "metadata": {},
   "outputs": [],
   "source": [
    "def funcion_compuesta(chain: Chain, input: np.ndarray) -> np.ndarray:\n",
    "    valor = input\n",
    "    for funcion in chain:\n",
    "        valor = funcion(valor)\n",
    "    return valor"
   ]
  },
  {
   "cell_type": "code",
   "execution_count": 50,
   "id": "24add63e-cd8b-4891-98a2-05ba637ce2ef",
   "metadata": {},
   "outputs": [],
   "source": [
    "# test\n",
    "def f1(input: np.ndarray) -> np.ndarray:  # 2x + 1\n",
    "    return 2 * input + 1\n",
    "\n",
    "def f2(input: np.ndarray) -> np.ndarray:  # x2\n",
    "    return np.power(input, 2)"
   ]
  },
  {
   "cell_type": "code",
   "execution_count": 51,
   "id": "49dca6fb-aea3-4989-bda0-772651d47792",
   "metadata": {},
   "outputs": [
    {
     "data": {
      "text/plain": [
       "array([ 9., 19., 33.])"
      ]
     },
     "execution_count": 51,
     "metadata": {},
     "output_type": "execute_result"
    }
   ],
   "source": [
    "chain_1 : Chain = [f2, f1]\n",
    "# f1 o f2 = 2x2 + 1\n",
    "funcion_compuesta(chain_1, x)"
   ]
  },
  {
   "cell_type": "code",
   "execution_count": 49,
   "id": "6015d118-4403-4579-ad2d-a135face883c",
   "metadata": {},
   "outputs": [
    {
     "data": {
      "text/plain": [
       "array([25., 49., 81.])"
      ]
     },
     "execution_count": 49,
     "metadata": {},
     "output_type": "execute_result"
    }
   ],
   "source": [
    "chain_2 : Chain = [f1, f2]\n",
    "# f2 o f1 = 4x2 + 4x + 1\n",
    "funcion_compuesta(chain_2, x)"
   ]
  },
  {
   "cell_type": "code",
   "execution_count": 84,
   "id": "5d37f863-4616-4040-82a6-590e0a581609",
   "metadata": {},
   "outputs": [],
   "source": [
    "def sigmoid(input: np.ndarray) -> np.ndarray:\n",
    "    return 1 / (1 + np.exp(-input))"
   ]
  },
  {
   "cell_type": "code",
   "execution_count": 55,
   "id": "377dd2fa-5c39-4d78-b9f0-53cf3a100a87",
   "metadata": {},
   "outputs": [],
   "source": [
    "def derivada_funcion_compuesta_v0(chain: Chain, input: np.ndarray) -> np.ndarray:\n",
    "    assert len(chain) == 2, \"This function requires 'Chain' objects of length 2\"\n",
    "    f1, f2 = chain\n",
    "    f1_x = f1(input)\n",
    "    df1_x = derivada(f1, input)\n",
    "    df2_u = derivada(f2, f1_x)\n",
    "    return df1_x * df2_u"
   ]
  },
  {
   "cell_type": "code",
   "execution_count": 60,
   "id": "ec01682f-7a7c-4b72-a710-a08fec62963e",
   "metadata": {},
   "outputs": [],
   "source": [
    "def derivada_funcion_compuesta(chain: Chain, input: np.ndarray) -> np.ndarray:\n",
    "    nuevo_x = input\n",
    "    valor_derivada = 1\n",
    "    for funcion in chain:\n",
    "        imagen = funcion(nuevo_x)\n",
    "        valor_derivada *= derivada(funcion, nuevo_x)\n",
    "        nuevo_x = imagen\n",
    "        \n",
    "    return valor_derivada"
   ]
  },
  {
   "cell_type": "code",
   "execution_count": 59,
   "id": "7e074846-6705-4c75-98bc-7f5f006bd279",
   "metadata": {},
   "outputs": [
    {
     "data": {
      "text/plain": [
       "array([ 8., 12., 16.])"
      ]
     },
     "execution_count": 59,
     "metadata": {},
     "output_type": "execute_result"
    }
   ],
   "source": [
    "chain_1 : Chain = [f2, f1]\n",
    "# f1 o f2 = 2x2 + 1\n",
    "# derivada es 4x\n",
    "derivada_funcion_compuesta(chain_1, x)"
   ]
  },
  {
   "cell_type": "code",
   "execution_count": 61,
   "id": "adaf52c4-cdd5-4da1-8adf-f9084b886b18",
   "metadata": {},
   "outputs": [
    {
     "data": {
      "text/plain": [
       "array([20., 28., 36.])"
      ]
     },
     "execution_count": 61,
     "metadata": {},
     "output_type": "execute_result"
    }
   ],
   "source": [
    "chain_2 : Chain = [f1, f2]\n",
    "# f2 o f1 = 4x2 + 4x + 1\n",
    "# derivada es 8x + 4\n",
    "derivada_funcion_compuesta(chain_2, x)"
   ]
  },
  {
   "cell_type": "code",
   "execution_count": 132,
   "id": "9bd9ac3e-fee0-4ef7-94b0-e34c60f82b2e",
   "metadata": {},
   "outputs": [],
   "source": [
    "# Hagamos unas gráficas a modo de comprobación\n",
    "PLOT_RANGE = np.arange(-3, 3, 0.01)\n",
    "chain_1 = [square, sigmoid]\n",
    "chain_2 = [sigmoid, square]\n",
    "chain_3 = [leaky_relu, sigmoid, square]"
   ]
  },
  {
   "cell_type": "code",
   "execution_count": 130,
   "id": "eb954049-f31b-49d4-ac88-025665c2147b",
   "metadata": {},
   "outputs": [
    {
     "data": {
      "text/plain": [
       "[<matplotlib.lines.Line2D at 0x233aff24d90>]"
      ]
     },
     "execution_count": 130,
     "metadata": {},
     "output_type": "execute_result"
    },
    {
     "data": {
      "image/png": "[encoded data removed]",
      "text/plain": [
       "<Figure size 432x288 with 1 Axes>"
      ]
     },
     "metadata": {
      "needs_background": "light"
     },
     "output_type": "display_data"
    }
   ],
   "source": [
    "plt.plot(PLOT_RANGE, funcion_compuesta(chain_1, PLOT_RANGE))\n",
    "plt.plot(PLOT_RANGE, derivada_funcion_compuesta(chain_1, PLOT_RANGE))"
   ]
  },
  {
   "cell_type": "code",
   "execution_count": 131,
   "id": "27d5321d-cd1c-494f-b4e5-c94797f6127f",
   "metadata": {},
   "outputs": [
    {
     "data": {
      "text/plain": [
       "[<matplotlib.lines.Line2D at 0x233b049eb30>]"
      ]
     },
     "execution_count": 131,
     "metadata": {},
     "output_type": "execute_result"
    },
    {
     "data": {
      "image/png": "[encoded data removed]",
      "text/plain": [
       "<Figure size 432x288 with 1 Axes>"
      ]
     },
     "metadata": {
      "needs_background": "light"
     },
     "output_type": "display_data"
    }
   ],
   "source": [
    "plt.plot(PLOT_RANGE, funcion_compuesta(chain_2, PLOT_RANGE))\n",
    "plt.plot(PLOT_RANGE, derivada_funcion_compuesta(chain_2, PLOT_RANGE))"
   ]
  },
  {
   "cell_type": "code",
   "execution_count": 133,
   "id": "f7c6fd98-2afc-4aaa-8132-49e44feab139",
   "metadata": {},
   "outputs": [
    {
     "data": {
      "text/plain": [
       "[<matplotlib.lines.Line2D at 0x233b035ad40>]"
      ]
     },
     "execution_count": 133,
     "metadata": {},
     "output_type": "execute_result"
    },
    {
     "data": {
      "image/png": "[encoded data removed]",
      "text/plain": [
       "<Figure size 432x288 with 1 Axes>"
      ]
     },
     "metadata": {
      "needs_background": "light"
     },
     "output_type": "display_data"
    }
   ],
   "source": [
    "plt.plot(PLOT_RANGE, funcion_compuesta(chain_3, PLOT_RANGE))\n",
    "plt.plot(PLOT_RANGE, derivada_funcion_compuesta(chain_3, PLOT_RANGE))"
   ]
  },
  {
   "cell_type": "code",
   "execution_count": null,
   "id": "f4e926e7-9844-4a0a-b8c6-9566804eb600",
   "metadata": {},
   "outputs": [],
   "source": []
  }
 ],
 "metadata": {
  "kernelspec": {
   "display_name": "Python 3 (ipykernel)",
   "language": "python",
   "name": "python3"
  },
  "language_info": {
   "codemirror_mode": {
    "name": "ipython",
    "version": 3
   },
   "file_extension": ".py",
   "mimetype": "text/x-python",
   "name": "python",
   "nbconvert_exporter": "python",
   "pygments_lexer": "ipython3",
   "version": "3.10.1"
  }
 },
 "nbformat": 4,
 "nbformat_minor": 5
}

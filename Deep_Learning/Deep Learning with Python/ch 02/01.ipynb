{
 "cells": [
  {
   "cell_type": "code",
   "execution_count": 1,
   "id": "930e454b-6fc0-4220-8b15-3d47e33a542e",
   "metadata": {},
   "outputs": [],
   "source": [
    "import numpy as  np"
   ]
  },
  {
   "cell_type": "code",
   "execution_count": 4,
   "id": "486ba059-a02b-4afc-b6bb-9dd7d842547b",
   "metadata": {},
   "outputs": [
    {
     "data": {
      "text/plain": [
       "0"
      ]
     },
     "execution_count": 4,
     "metadata": {},
     "output_type": "execute_result"
    }
   ],
   "source": [
    "# Tensor con ndim (rango o número de ejes) 0 --> escalar\n",
    "x = np.array(12)\n",
    "x.ndim"
   ]
  },
  {
   "cell_type": "code",
   "execution_count": 18,
   "id": "6c6dd57f-51e5-4194-809a-6e037308a0d2",
   "metadata": {},
   "outputs": [
    {
     "data": {
      "text/plain": [
       "1"
      ]
     },
     "execution_count": 18,
     "metadata": {},
     "output_type": "execute_result"
    }
   ],
   "source": [
    "# Tensor con ndim (rango o número de ejes) 1 --> vector\n",
    "x = np.array([12, 5, 17 -8])\n",
    "x.ndim"
   ]
  },
  {
   "cell_type": "code",
   "execution_count": 19,
   "id": "df114af2-1b98-4b3f-b9e4-be507d12542d",
   "metadata": {},
   "outputs": [
    {
     "data": {
      "text/plain": [
       "(3,)"
      ]
     },
     "execution_count": 19,
     "metadata": {},
     "output_type": "execute_result"
    }
   ],
   "source": [
    "x.shape"
   ]
  },
  {
   "cell_type": "code",
   "execution_count": 16,
   "id": "1d76dbfa-a220-4f1c-9fb9-07e8b29a2d29",
   "metadata": {},
   "outputs": [
    {
     "data": {
      "text/plain": [
       "2"
      ]
     },
     "execution_count": 16,
     "metadata": {},
     "output_type": "execute_result"
    }
   ],
   "source": [
    "# Tensor con ndim (rango o número de ejes) 2 --> matriz\n",
    "x = np.array([[5, 78, 2, 34, 0],\n",
    "              [6, 79, 3, 35, 1],\n",
    "              [7, 80, 4, 36, 2],\n",
    "              [-2, 4, 7, 3, -9]])\n",
    "x.ndim"
   ]
  },
  {
   "cell_type": "code",
   "execution_count": 7,
   "id": "cec7f563-f1ce-42fe-953d-6f15cd13a3ac",
   "metadata": {},
   "outputs": [
    {
     "data": {
      "text/plain": [
       "(4, 5)"
      ]
     },
     "execution_count": 7,
     "metadata": {},
     "output_type": "execute_result"
    }
   ],
   "source": [
    "x.shape"
   ]
  },
  {
   "cell_type": "code",
   "execution_count": 9,
   "id": "c27556c5-f4be-4176-a4dd-070b43ac830d",
   "metadata": {},
   "outputs": [
    {
     "data": {
      "text/plain": [
       "array([ 6, 79,  3, 35,  1])"
      ]
     },
     "execution_count": 9,
     "metadata": {},
     "output_type": "execute_result"
    }
   ],
   "source": [
    "x[1]"
   ]
  },
  {
   "cell_type": "code",
   "execution_count": 10,
   "id": "9b1a5ef1-338b-4052-b108-697cddbb0794",
   "metadata": {},
   "outputs": [
    {
     "data": {
      "text/plain": [
       "array([ 5,  6,  7, -2])"
      ]
     },
     "execution_count": 10,
     "metadata": {},
     "output_type": "execute_result"
    }
   ],
   "source": [
    "x[:,0]"
   ]
  },
  {
   "cell_type": "code",
   "execution_count": 15,
   "id": "43690d75-6067-4d29-bab7-fc224d425b3c",
   "metadata": {},
   "outputs": [],
   "source": [
    "# Tensor con ndim (rango o número de ejes) 3\n",
    "x = np.array([[[5, 78, 2, 34, 0], [6, 79, 3, 35, 1], [7, 80, 4, 36, 2]],\n",
    "              [[5, 78, 2, 34, 0], [6, 79, 3, 35, 1],[7, 80, 4, 36, 2]],\n",
    "              [[5, 78, 2, 34, 0], [6, 79, 3, 35, 1], [7, 80, 4, 36, 2]]])"
   ]
  },
  {
   "cell_type": "code",
   "execution_count": 13,
   "id": "d40a0143-0e2e-4bdf-a37e-e6e8fc8bd479",
   "metadata": {},
   "outputs": [
    {
     "data": {
      "text/plain": [
       "3"
      ]
     },
     "execution_count": 13,
     "metadata": {},
     "output_type": "execute_result"
    }
   ],
   "source": [
    "x.ndim"
   ]
  },
  {
   "cell_type": "code",
   "execution_count": 14,
   "id": "09672c42-f989-4a6b-848c-a146898c253c",
   "metadata": {},
   "outputs": [
    {
     "data": {
      "text/plain": [
       "(3, 3, 5)"
      ]
     },
     "execution_count": 14,
     "metadata": {},
     "output_type": "execute_result"
    }
   ],
   "source": [
    "x.shape"
   ]
  },
  {
   "cell_type": "code",
   "execution_count": 20,
   "id": "41666c75-7667-40b3-8c38-330c56d078aa",
   "metadata": {},
   "outputs": [
    {
     "data": {
      "text/plain": [
       "\u001b[1;31mType:\u001b[0m        module\n",
       "\u001b[1;31mString form:\u001b[0m <module 'numpy.random' from 'C:\\\\Users\\\\Miguel\\\\AppData\\\\Local\\\\Programs\\\\Python\\\\Python310\\\\lib\\\\site-packages\\\\numpy\\\\random\\\\__init__.py'>\n",
       "\u001b[1;31mFile:\u001b[0m        c:\\users\\miguel\\appdata\\local\\programs\\python\\python310\\lib\\site-packages\\numpy\\random\\__init__.py\n",
       "\u001b[1;31mDocstring:\u001b[0m  \n",
       "========================\n",
       "Random Number Generation\n",
       "========================\n",
       "\n",
       "Use ``default_rng()`` to create a `Generator` and call its methods.\n",
       "\n",
       "=============== =========================================================\n",
       "Generator\n",
       "--------------- ---------------------------------------------------------\n",
       "Generator       Class implementing all of the random number distributions\n",
       "default_rng     Default constructor for ``Generator``\n",
       "=============== =========================================================\n",
       "\n",
       "============================================= ===\n",
       "BitGenerator Streams that work with Generator\n",
       "--------------------------------------------- ---\n",
       "MT19937\n",
       "PCG64\n",
       "PCG64DXSM\n",
       "Philox\n",
       "SFC64\n",
       "============================================= ===\n",
       "\n",
       "============================================= ===\n",
       "Getting entropy to initialize a BitGenerator\n",
       "--------------------------------------------- ---\n",
       "SeedSequence\n",
       "============================================= ===\n",
       "\n",
       "\n",
       "Legacy\n",
       "------\n",
       "\n",
       "For backwards compatibility with previous versions of numpy before 1.17, the\n",
       "various aliases to the global `RandomState` methods are left alone and do not\n",
       "use the new `Generator` API.\n",
       "\n",
       "==================== =========================================================\n",
       "Utility functions\n",
       "-------------------- ---------------------------------------------------------\n",
       "random               Uniformly distributed floats over ``[0, 1)``\n",
       "bytes                Uniformly distributed random bytes.\n",
       "permutation          Randomly permute a sequence / generate a random sequence.\n",
       "shuffle              Randomly permute a sequence in place.\n",
       "choice               Random sample from 1-D array.\n",
       "==================== =========================================================\n",
       "\n",
       "==================== =========================================================\n",
       "Compatibility\n",
       "functions - removed\n",
       "in the new API\n",
       "-------------------- ---------------------------------------------------------\n",
       "rand                 Uniformly distributed values.\n",
       "randn                Normally distributed values.\n",
       "ranf                 Uniformly distributed floating point numbers.\n",
       "random_integers      Uniformly distributed integers in a given range.\n",
       "                     (deprecated, use ``integers(..., closed=True)`` instead)\n",
       "random_sample        Alias for `random_sample`\n",
       "randint              Uniformly distributed integers in a given range\n",
       "seed                 Seed the legacy random number generator.\n",
       "==================== =========================================================\n",
       "\n",
       "==================== =========================================================\n",
       "Univariate\n",
       "distributions\n",
       "-------------------- ---------------------------------------------------------\n",
       "beta                 Beta distribution over ``[0, 1]``.\n",
       "binomial             Binomial distribution.\n",
       "chisquare            :math:`\\chi^2` distribution.\n",
       "exponential          Exponential distribution.\n",
       "f                    F (Fisher-Snedecor) distribution.\n",
       "gamma                Gamma distribution.\n",
       "geometric            Geometric distribution.\n",
       "gumbel               Gumbel distribution.\n",
       "hypergeometric       Hypergeometric distribution.\n",
       "laplace              Laplace distribution.\n",
       "logistic             Logistic distribution.\n",
       "lognormal            Log-normal distribution.\n",
       "logseries            Logarithmic series distribution.\n",
       "negative_binomial    Negative binomial distribution.\n",
       "noncentral_chisquare Non-central chi-square distribution.\n",
       "noncentral_f         Non-central F distribution.\n",
       "normal               Normal / Gaussian distribution.\n",
       "pareto               Pareto distribution.\n",
       "poisson              Poisson distribution.\n",
       "power                Power distribution.\n",
       "rayleigh             Rayleigh distribution.\n",
       "triangular           Triangular distribution.\n",
       "uniform              Uniform distribution.\n",
       "vonmises             Von Mises circular distribution.\n",
       "wald                 Wald (inverse Gaussian) distribution.\n",
       "weibull              Weibull distribution.\n",
       "zipf                 Zipf's distribution over ranked data.\n",
       "==================== =========================================================\n",
       "\n",
       "==================== ==========================================================\n",
       "Multivariate\n",
       "distributions\n",
       "-------------------- ----------------------------------------------------------\n",
       "dirichlet            Multivariate generalization of Beta distribution.\n",
       "multinomial          Multivariate generalization of the binomial distribution.\n",
       "multivariate_normal  Multivariate generalization of the normal distribution.\n",
       "==================== ==========================================================\n",
       "\n",
       "==================== =========================================================\n",
       "Standard\n",
       "distributions\n",
       "-------------------- ---------------------------------------------------------\n",
       "standard_cauchy      Standard Cauchy-Lorentz distribution.\n",
       "standard_exponential Standard exponential distribution.\n",
       "standard_gamma       Standard Gamma distribution.\n",
       "standard_normal      Standard normal distribution.\n",
       "standard_t           Standard Student's t-distribution.\n",
       "==================== =========================================================\n",
       "\n",
       "==================== =========================================================\n",
       "Internal functions\n",
       "-------------------- ---------------------------------------------------------\n",
       "get_state            Get tuple representing internal state of generator.\n",
       "set_state            Set state of generator.\n",
       "==================== =========================================================\n"
      ]
     },
     "metadata": {},
     "output_type": "display_data"
    }
   ],
   "source": [
    "x= np.random?"
   ]
  },
  {
   "cell_type": "code",
   "execution_count": null,
   "id": "a96c0623-bb92-476b-a8a6-426d25685c20",
   "metadata": {},
   "outputs": [],
   "source": [
    "x= np.random"
   ]
  },
  {
   "cell_type": "code",
   "execution_count": 21,
   "id": "107e0d13-7901-4051-a1ed-26d49573c01d",
   "metadata": {},
   "outputs": [
    {
     "data": {
      "text/plain": [
       "\u001b[1;31mType:\u001b[0m        module\n",
       "\u001b[1;31mString form:\u001b[0m <module 'numpy.random' from 'C:\\\\Users\\\\Miguel\\\\AppData\\\\Local\\\\Programs\\\\Python\\\\Python310\\\\lib\\\\site-packages\\\\numpy\\\\random\\\\__init__.py'>\n",
       "\u001b[1;31mFile:\u001b[0m        c:\\users\\miguel\\appdata\\local\\programs\\python\\python310\\lib\\site-packages\\numpy\\random\\__init__.py\n",
       "\u001b[1;31mSource:\u001b[0m     \n",
       "\u001b[1;34m\"\"\"\n",
       "========================\n",
       "Random Number Generation\n",
       "========================\n",
       "\n",
       "Use ``default_rng()`` to create a `Generator` and call its methods.\n",
       "\n",
       "=============== =========================================================\n",
       "Generator\n",
       "--------------- ---------------------------------------------------------\n",
       "Generator       Class implementing all of the random number distributions\n",
       "default_rng     Default constructor for ``Generator``\n",
       "=============== =========================================================\n",
       "\n",
       "============================================= ===\n",
       "BitGenerator Streams that work with Generator\n",
       "--------------------------------------------- ---\n",
       "MT19937\n",
       "PCG64\n",
       "PCG64DXSM\n",
       "Philox\n",
       "SFC64\n",
       "============================================= ===\n",
       "\n",
       "============================================= ===\n",
       "Getting entropy to initialize a BitGenerator\n",
       "--------------------------------------------- ---\n",
       "SeedSequence\n",
       "============================================= ===\n",
       "\n",
       "\n",
       "Legacy\n",
       "------\n",
       "\n",
       "For backwards compatibility with previous versions of numpy before 1.17, the\n",
       "various aliases to the global `RandomState` methods are left alone and do not\n",
       "use the new `Generator` API.\n",
       "\n",
       "==================== =========================================================\n",
       "Utility functions\n",
       "-------------------- ---------------------------------------------------------\n",
       "random               Uniformly distributed floats over ``[0, 1)``\n",
       "bytes                Uniformly distributed random bytes.\n",
       "permutation          Randomly permute a sequence / generate a random sequence.\n",
       "shuffle              Randomly permute a sequence in place.\n",
       "choice               Random sample from 1-D array.\n",
       "==================== =========================================================\n",
       "\n",
       "==================== =========================================================\n",
       "Compatibility\n",
       "functions - removed\n",
       "in the new API\n",
       "-------------------- ---------------------------------------------------------\n",
       "rand                 Uniformly distributed values.\n",
       "randn                Normally distributed values.\n",
       "ranf                 Uniformly distributed floating point numbers.\n",
       "random_integers      Uniformly distributed integers in a given range.\n",
       "                     (deprecated, use ``integers(..., closed=True)`` instead)\n",
       "random_sample        Alias for `random_sample`\n",
       "randint              Uniformly distributed integers in a given range\n",
       "seed                 Seed the legacy random number generator.\n",
       "==================== =========================================================\n",
       "\n",
       "==================== =========================================================\n",
       "Univariate\n",
       "distributions\n",
       "-------------------- ---------------------------------------------------------\n",
       "beta                 Beta distribution over ``[0, 1]``.\n",
       "binomial             Binomial distribution.\n",
       "chisquare            :math:`\\\\chi^2` distribution.\n",
       "exponential          Exponential distribution.\n",
       "f                    F (Fisher-Snedecor) distribution.\n",
       "gamma                Gamma distribution.\n",
       "geometric            Geometric distribution.\n",
       "gumbel               Gumbel distribution.\n",
       "hypergeometric       Hypergeometric distribution.\n",
       "laplace              Laplace distribution.\n",
       "logistic             Logistic distribution.\n",
       "lognormal            Log-normal distribution.\n",
       "logseries            Logarithmic series distribution.\n",
       "negative_binomial    Negative binomial distribution.\n",
       "noncentral_chisquare Non-central chi-square distribution.\n",
       "noncentral_f         Non-central F distribution.\n",
       "normal               Normal / Gaussian distribution.\n",
       "pareto               Pareto distribution.\n",
       "poisson              Poisson distribution.\n",
       "power                Power distribution.\n",
       "rayleigh             Rayleigh distribution.\n",
       "triangular           Triangular distribution.\n",
       "uniform              Uniform distribution.\n",
       "vonmises             Von Mises circular distribution.\n",
       "wald                 Wald (inverse Gaussian) distribution.\n",
       "weibull              Weibull distribution.\n",
       "zipf                 Zipf's distribution over ranked data.\n",
       "==================== =========================================================\n",
       "\n",
       "==================== ==========================================================\n",
       "Multivariate\n",
       "distributions\n",
       "-------------------- ----------------------------------------------------------\n",
       "dirichlet            Multivariate generalization of Beta distribution.\n",
       "multinomial          Multivariate generalization of the binomial distribution.\n",
       "multivariate_normal  Multivariate generalization of the normal distribution.\n",
       "==================== ==========================================================\n",
       "\n",
       "==================== =========================================================\n",
       "Standard\n",
       "distributions\n",
       "-------------------- ---------------------------------------------------------\n",
       "standard_cauchy      Standard Cauchy-Lorentz distribution.\n",
       "standard_exponential Standard exponential distribution.\n",
       "standard_gamma       Standard Gamma distribution.\n",
       "standard_normal      Standard normal distribution.\n",
       "standard_t           Standard Student's t-distribution.\n",
       "==================== =========================================================\n",
       "\n",
       "==================== =========================================================\n",
       "Internal functions\n",
       "-------------------- ---------------------------------------------------------\n",
       "get_state            Get tuple representing internal state of generator.\n",
       "set_state            Set state of generator.\n",
       "==================== =========================================================\n",
       "\n",
       "\n",
       "\"\"\"\u001b[0m\u001b[1;33m\n",
       "\u001b[0m\u001b[0m__all__\u001b[0m \u001b[1;33m=\u001b[0m \u001b[1;33m[\u001b[0m\u001b[1;33m\n",
       "\u001b[0m    \u001b[1;34m'beta'\u001b[0m\u001b[1;33m,\u001b[0m\u001b[1;33m\n",
       "\u001b[0m    \u001b[1;34m'binomial'\u001b[0m\u001b[1;33m,\u001b[0m\u001b[1;33m\n",
       "\u001b[0m    \u001b[1;34m'bytes'\u001b[0m\u001b[1;33m,\u001b[0m\u001b[1;33m\n",
       "\u001b[0m    \u001b[1;34m'chisquare'\u001b[0m\u001b[1;33m,\u001b[0m\u001b[1;33m\n",
       "\u001b[0m    \u001b[1;34m'choice'\u001b[0m\u001b[1;33m,\u001b[0m\u001b[1;33m\n",
       "\u001b[0m    \u001b[1;34m'dirichlet'\u001b[0m\u001b[1;33m,\u001b[0m\u001b[1;33m\n",
       "\u001b[0m    \u001b[1;34m'exponential'\u001b[0m\u001b[1;33m,\u001b[0m\u001b[1;33m\n",
       "\u001b[0m    \u001b[1;34m'f'\u001b[0m\u001b[1;33m,\u001b[0m\u001b[1;33m\n",
       "\u001b[0m    \u001b[1;34m'gamma'\u001b[0m\u001b[1;33m,\u001b[0m\u001b[1;33m\n",
       "\u001b[0m    \u001b[1;34m'geometric'\u001b[0m\u001b[1;33m,\u001b[0m\u001b[1;33m\n",
       "\u001b[0m    \u001b[1;34m'get_state'\u001b[0m\u001b[1;33m,\u001b[0m\u001b[1;33m\n",
       "\u001b[0m    \u001b[1;34m'gumbel'\u001b[0m\u001b[1;33m,\u001b[0m\u001b[1;33m\n",
       "\u001b[0m    \u001b[1;34m'hypergeometric'\u001b[0m\u001b[1;33m,\u001b[0m\u001b[1;33m\n",
       "\u001b[0m    \u001b[1;34m'laplace'\u001b[0m\u001b[1;33m,\u001b[0m\u001b[1;33m\n",
       "\u001b[0m    \u001b[1;34m'logistic'\u001b[0m\u001b[1;33m,\u001b[0m\u001b[1;33m\n",
       "\u001b[0m    \u001b[1;34m'lognormal'\u001b[0m\u001b[1;33m,\u001b[0m\u001b[1;33m\n",
       "\u001b[0m    \u001b[1;34m'logseries'\u001b[0m\u001b[1;33m,\u001b[0m\u001b[1;33m\n",
       "\u001b[0m    \u001b[1;34m'multinomial'\u001b[0m\u001b[1;33m,\u001b[0m\u001b[1;33m\n",
       "\u001b[0m    \u001b[1;34m'multivariate_normal'\u001b[0m\u001b[1;33m,\u001b[0m\u001b[1;33m\n",
       "\u001b[0m    \u001b[1;34m'negative_binomial'\u001b[0m\u001b[1;33m,\u001b[0m\u001b[1;33m\n",
       "\u001b[0m    \u001b[1;34m'noncentral_chisquare'\u001b[0m\u001b[1;33m,\u001b[0m\u001b[1;33m\n",
       "\u001b[0m    \u001b[1;34m'noncentral_f'\u001b[0m\u001b[1;33m,\u001b[0m\u001b[1;33m\n",
       "\u001b[0m    \u001b[1;34m'normal'\u001b[0m\u001b[1;33m,\u001b[0m\u001b[1;33m\n",
       "\u001b[0m    \u001b[1;34m'pareto'\u001b[0m\u001b[1;33m,\u001b[0m\u001b[1;33m\n",
       "\u001b[0m    \u001b[1;34m'permutation'\u001b[0m\u001b[1;33m,\u001b[0m\u001b[1;33m\n",
       "\u001b[0m    \u001b[1;34m'poisson'\u001b[0m\u001b[1;33m,\u001b[0m\u001b[1;33m\n",
       "\u001b[0m    \u001b[1;34m'power'\u001b[0m\u001b[1;33m,\u001b[0m\u001b[1;33m\n",
       "\u001b[0m    \u001b[1;34m'rand'\u001b[0m\u001b[1;33m,\u001b[0m\u001b[1;33m\n",
       "\u001b[0m    \u001b[1;34m'randint'\u001b[0m\u001b[1;33m,\u001b[0m\u001b[1;33m\n",
       "\u001b[0m    \u001b[1;34m'randn'\u001b[0m\u001b[1;33m,\u001b[0m\u001b[1;33m\n",
       "\u001b[0m    \u001b[1;34m'random'\u001b[0m\u001b[1;33m,\u001b[0m\u001b[1;33m\n",
       "\u001b[0m    \u001b[1;34m'random_integers'\u001b[0m\u001b[1;33m,\u001b[0m\u001b[1;33m\n",
       "\u001b[0m    \u001b[1;34m'random_sample'\u001b[0m\u001b[1;33m,\u001b[0m\u001b[1;33m\n",
       "\u001b[0m    \u001b[1;34m'ranf'\u001b[0m\u001b[1;33m,\u001b[0m\u001b[1;33m\n",
       "\u001b[0m    \u001b[1;34m'rayleigh'\u001b[0m\u001b[1;33m,\u001b[0m\u001b[1;33m\n",
       "\u001b[0m    \u001b[1;34m'sample'\u001b[0m\u001b[1;33m,\u001b[0m\u001b[1;33m\n",
       "\u001b[0m    \u001b[1;34m'seed'\u001b[0m\u001b[1;33m,\u001b[0m\u001b[1;33m\n",
       "\u001b[0m    \u001b[1;34m'set_state'\u001b[0m\u001b[1;33m,\u001b[0m\u001b[1;33m\n",
       "\u001b[0m    \u001b[1;34m'shuffle'\u001b[0m\u001b[1;33m,\u001b[0m\u001b[1;33m\n",
       "\u001b[0m    \u001b[1;34m'standard_cauchy'\u001b[0m\u001b[1;33m,\u001b[0m\u001b[1;33m\n",
       "\u001b[0m    \u001b[1;34m'standard_exponential'\u001b[0m\u001b[1;33m,\u001b[0m\u001b[1;33m\n",
       "\u001b[0m    \u001b[1;34m'standard_gamma'\u001b[0m\u001b[1;33m,\u001b[0m\u001b[1;33m\n",
       "\u001b[0m    \u001b[1;34m'standard_normal'\u001b[0m\u001b[1;33m,\u001b[0m\u001b[1;33m\n",
       "\u001b[0m    \u001b[1;34m'standard_t'\u001b[0m\u001b[1;33m,\u001b[0m\u001b[1;33m\n",
       "\u001b[0m    \u001b[1;34m'triangular'\u001b[0m\u001b[1;33m,\u001b[0m\u001b[1;33m\n",
       "\u001b[0m    \u001b[1;34m'uniform'\u001b[0m\u001b[1;33m,\u001b[0m\u001b[1;33m\n",
       "\u001b[0m    \u001b[1;34m'vonmises'\u001b[0m\u001b[1;33m,\u001b[0m\u001b[1;33m\n",
       "\u001b[0m    \u001b[1;34m'wald'\u001b[0m\u001b[1;33m,\u001b[0m\u001b[1;33m\n",
       "\u001b[0m    \u001b[1;34m'weibull'\u001b[0m\u001b[1;33m,\u001b[0m\u001b[1;33m\n",
       "\u001b[0m    \u001b[1;34m'zipf'\u001b[0m\u001b[1;33m,\u001b[0m\u001b[1;33m\n",
       "\u001b[0m\u001b[1;33m]\u001b[0m\u001b[1;33m\n",
       "\u001b[0m\u001b[1;33m\n",
       "\u001b[0m\u001b[1;31m# add these for module-freeze analysis (like PyInstaller)\u001b[0m\u001b[1;33m\n",
       "\u001b[0m\u001b[1;32mfrom\u001b[0m \u001b[1;33m.\u001b[0m \u001b[1;32mimport\u001b[0m \u001b[0m_pickle\u001b[0m\u001b[1;33m\n",
       "\u001b[0m\u001b[1;32mfrom\u001b[0m \u001b[1;33m.\u001b[0m \u001b[1;32mimport\u001b[0m \u001b[0m_common\u001b[0m\u001b[1;33m\n",
       "\u001b[0m\u001b[1;32mfrom\u001b[0m \u001b[1;33m.\u001b[0m \u001b[1;32mimport\u001b[0m \u001b[0m_bounded_integers\u001b[0m\u001b[1;33m\n",
       "\u001b[0m\u001b[1;33m\n",
       "\u001b[0m\u001b[1;32mfrom\u001b[0m \u001b[1;33m.\u001b[0m\u001b[0m_generator\u001b[0m \u001b[1;32mimport\u001b[0m \u001b[0mGenerator\u001b[0m\u001b[1;33m,\u001b[0m \u001b[0mdefault_rng\u001b[0m\u001b[1;33m\n",
       "\u001b[0m\u001b[1;32mfrom\u001b[0m \u001b[1;33m.\u001b[0m\u001b[0mbit_generator\u001b[0m \u001b[1;32mimport\u001b[0m \u001b[0mSeedSequence\u001b[0m\u001b[1;33m,\u001b[0m \u001b[0mBitGenerator\u001b[0m\u001b[1;33m\n",
       "\u001b[0m\u001b[1;32mfrom\u001b[0m \u001b[1;33m.\u001b[0m\u001b[0m_mt19937\u001b[0m \u001b[1;32mimport\u001b[0m \u001b[0mMT19937\u001b[0m\u001b[1;33m\n",
       "\u001b[0m\u001b[1;32mfrom\u001b[0m \u001b[1;33m.\u001b[0m\u001b[0m_pcg64\u001b[0m \u001b[1;32mimport\u001b[0m \u001b[0mPCG64\u001b[0m\u001b[1;33m,\u001b[0m \u001b[0mPCG64DXSM\u001b[0m\u001b[1;33m\n",
       "\u001b[0m\u001b[1;32mfrom\u001b[0m \u001b[1;33m.\u001b[0m\u001b[0m_philox\u001b[0m \u001b[1;32mimport\u001b[0m \u001b[0mPhilox\u001b[0m\u001b[1;33m\n",
       "\u001b[0m\u001b[1;32mfrom\u001b[0m \u001b[1;33m.\u001b[0m\u001b[0m_sfc64\u001b[0m \u001b[1;32mimport\u001b[0m \u001b[0mSFC64\u001b[0m\u001b[1;33m\n",
       "\u001b[0m\u001b[1;32mfrom\u001b[0m \u001b[1;33m.\u001b[0m\u001b[0mmtrand\u001b[0m \u001b[1;32mimport\u001b[0m \u001b[1;33m*\u001b[0m\u001b[1;33m\n",
       "\u001b[0m\u001b[1;33m\n",
       "\u001b[0m\u001b[0m__all__\u001b[0m \u001b[1;33m+=\u001b[0m \u001b[1;33m[\u001b[0m\u001b[1;34m'Generator'\u001b[0m\u001b[1;33m,\u001b[0m \u001b[1;34m'RandomState'\u001b[0m\u001b[1;33m,\u001b[0m \u001b[1;34m'SeedSequence'\u001b[0m\u001b[1;33m,\u001b[0m \u001b[1;34m'MT19937'\u001b[0m\u001b[1;33m,\u001b[0m\u001b[1;33m\n",
       "\u001b[0m            \u001b[1;34m'Philox'\u001b[0m\u001b[1;33m,\u001b[0m \u001b[1;34m'PCG64'\u001b[0m\u001b[1;33m,\u001b[0m \u001b[1;34m'PCG64DXSM'\u001b[0m\u001b[1;33m,\u001b[0m \u001b[1;34m'SFC64'\u001b[0m\u001b[1;33m,\u001b[0m \u001b[1;34m'default_rng'\u001b[0m\u001b[1;33m,\u001b[0m\u001b[1;33m\n",
       "\u001b[0m            \u001b[1;34m'BitGenerator'\u001b[0m\u001b[1;33m]\u001b[0m\u001b[1;33m\n",
       "\u001b[0m\u001b[1;33m\n",
       "\u001b[0m\u001b[1;33m\n",
       "\u001b[0m\u001b[1;32mdef\u001b[0m \u001b[0m__RandomState_ctor\u001b[0m\u001b[1;33m(\u001b[0m\u001b[1;33m)\u001b[0m\u001b[1;33m:\u001b[0m\u001b[1;33m\n",
       "\u001b[0m    \u001b[1;34m\"\"\"Return a RandomState instance.\n",
       "\n",
       "    This function exists solely to assist (un)pickling.\n",
       "\n",
       "    Note that the state of the RandomState returned here is irrelevant, as this\n",
       "    function's entire purpose is to return a newly allocated RandomState whose\n",
       "    state pickle can set.  Consequently the RandomState returned by this function\n",
       "    is a freshly allocated copy with a seed=0.\n",
       "\n",
       "    See https://github.com/numpy/numpy/issues/4763 for a detailed discussion\n",
       "\n",
       "    \"\"\"\u001b[0m\u001b[1;33m\n",
       "\u001b[0m    \u001b[1;32mreturn\u001b[0m \u001b[0mRandomState\u001b[0m\u001b[1;33m(\u001b[0m\u001b[0mseed\u001b[0m\u001b[1;33m=\u001b[0m\u001b[1;36m0\u001b[0m\u001b[1;33m)\u001b[0m\u001b[1;33m\n",
       "\u001b[0m\u001b[1;33m\n",
       "\u001b[0m\u001b[1;33m\n",
       "\u001b[0m\u001b[1;32mfrom\u001b[0m \u001b[0mnumpy\u001b[0m\u001b[1;33m.\u001b[0m\u001b[0m_pytesttester\u001b[0m \u001b[1;32mimport\u001b[0m \u001b[0mPytestTester\u001b[0m\u001b[1;33m\n",
       "\u001b[0m\u001b[0mtest\u001b[0m \u001b[1;33m=\u001b[0m \u001b[0mPytestTester\u001b[0m\u001b[1;33m(\u001b[0m\u001b[0m__name__\u001b[0m\u001b[1;33m)\u001b[0m\u001b[1;33m\n",
       "\u001b[0m\u001b[1;32mdel\u001b[0m \u001b[0mPytestTester\u001b[0m\u001b[1;33m\u001b[0m\u001b[1;33m\u001b[0m\u001b[0m\n"
      ]
     },
     "metadata": {},
     "output_type": "display_data"
    }
   ],
   "source": [
    "x= np.random??"
   ]
  },
  {
   "cell_type": "code",
   "execution_count": null,
   "id": "c8b4fb62-140a-4aff-b113-8a3f621a69cf",
   "metadata": {},
   "outputs": [],
   "source": [
    "x= np.random"
   ]
  },
  {
   "cell_type": "code",
   "execution_count": 22,
   "id": "357560c3-6953-4bfe-bc1c-f1049fc963f6",
   "metadata": {},
   "outputs": [
    {
     "data": {
      "text/plain": [
       "\u001b[1;31mDocstring:\u001b[0m\n",
       "randint(low, high=None, size=None, dtype=int)\n",
       "\n",
       "Return random integers from `low` (inclusive) to `high` (exclusive).\n",
       "\n",
       "Return random integers from the \"discrete uniform\" distribution of\n",
       "the specified dtype in the \"half-open\" interval [`low`, `high`). If\n",
       "`high` is None (the default), then results are from [0, `low`).\n",
       "\n",
       ".. note::\n",
       "    New code should use the ``integers`` method of a ``default_rng()``\n",
       "    instance instead; please see the :ref:`random-quick-start`.\n",
       "\n",
       "Parameters\n",
       "----------\n",
       "low : int or array-like of ints\n",
       "    Lowest (signed) integers to be drawn from the distribution (unless\n",
       "    ``high=None``, in which case this parameter is one above the\n",
       "    *highest* such integer).\n",
       "high : int or array-like of ints, optional\n",
       "    If provided, one above the largest (signed) integer to be drawn\n",
       "    from the distribution (see above for behavior if ``high=None``).\n",
       "    If array-like, must contain integer values\n",
       "size : int or tuple of ints, optional\n",
       "    Output shape.  If the given shape is, e.g., ``(m, n, k)``, then\n",
       "    ``m * n * k`` samples are drawn.  Default is None, in which case a\n",
       "    single value is returned.\n",
       "dtype : dtype, optional\n",
       "    Desired dtype of the result. Byteorder must be native.\n",
       "    The default value is int.\n",
       "\n",
       "    .. versionadded:: 1.11.0\n",
       "\n",
       "Returns\n",
       "-------\n",
       "out : int or ndarray of ints\n",
       "    `size`-shaped array of random integers from the appropriate\n",
       "    distribution, or a single such random int if `size` not provided.\n",
       "\n",
       "See Also\n",
       "--------\n",
       "random_integers : similar to `randint`, only for the closed\n",
       "    interval [`low`, `high`], and 1 is the lowest value if `high` is\n",
       "    omitted.\n",
       "Generator.integers: which should be used for new code.\n",
       "\n",
       "Examples\n",
       "--------\n",
       ">>> np.random.randint(2, size=10)\n",
       "array([1, 0, 0, 0, 1, 1, 0, 0, 1, 0]) # random\n",
       ">>> np.random.randint(1, size=10)\n",
       "array([0, 0, 0, 0, 0, 0, 0, 0, 0, 0])\n",
       "\n",
       "Generate a 2 x 4 array of ints between 0 and 4, inclusive:\n",
       "\n",
       ">>> np.random.randint(5, size=(2, 4))\n",
       "array([[4, 0, 2, 1], # random\n",
       "       [3, 2, 2, 0]])\n",
       "\n",
       "Generate a 1 x 3 array with 3 different upper bounds\n",
       "\n",
       ">>> np.random.randint(1, [3, 5, 10])\n",
       "array([2, 2, 9]) # random\n",
       "\n",
       "Generate a 1 by 3 array with 3 different lower bounds\n",
       "\n",
       ">>> np.random.randint([1, 5, 7], 10)\n",
       "array([9, 8, 7]) # random\n",
       "\n",
       "Generate a 2 by 4 array using broadcasting with dtype of uint8\n",
       "\n",
       ">>> np.random.randint([1, 3, 5, 7], [[10], [20]], dtype=np.uint8)\n",
       "array([[ 8,  6,  9,  7], # random\n",
       "       [ 1, 16,  9, 12]], dtype=uint8)\n",
       "\u001b[1;31mType:\u001b[0m      builtin_function_or_method\n"
      ]
     },
     "metadata": {},
     "output_type": "display_data"
    }
   ],
   "source": [
    "x= np.random.randint??"
   ]
  },
  {
   "cell_type": "code",
   "execution_count": null,
   "id": "969161a2-a3c6-4224-a5bc-463d7367adbd",
   "metadata": {},
   "outputs": [],
   "source": [
    "x= np.random.randint"
   ]
  },
  {
   "cell_type": "code",
   "execution_count": 23,
   "id": "3144fc15-81c2-4a1a-9f98-f37a9e297159",
   "metadata": {},
   "outputs": [],
   "source": [
    "x1 = np.random.randint(0, 100, size=(5, 7))"
   ]
  },
  {
   "cell_type": "code",
   "execution_count": 24,
   "id": "1660b52f-2cb3-4aec-b7b9-2a0136fd538d",
   "metadata": {},
   "outputs": [
    {
     "data": {
      "text/plain": [
       "array([[37, 44, 80, 88, 91, 21, 18],\n",
       "       [63, 89, 70, 36, 84, 99, 75],\n",
       "       [19, 91, 50, 73,  3, 12, 61],\n",
       "       [18, 81, 39, 89, 80, 53, 10],\n",
       "       [82, 47, 87, 27, 48, 73, 92]])"
      ]
     },
     "execution_count": 24,
     "metadata": {},
     "output_type": "execute_result"
    }
   ],
   "source": [
    "x1"
   ]
  },
  {
   "cell_type": "code",
   "execution_count": 26,
   "id": "a3599ab8-cd1b-4f4e-b212-6a352c6b9c8b",
   "metadata": {},
   "outputs": [],
   "source": [
    "x2= np.random.randint(0, 10, size=(5, 7))"
   ]
  },
  {
   "cell_type": "code",
   "execution_count": 27,
   "id": "8344863b-4bfc-4c49-99c0-428ec52d0b66",
   "metadata": {},
   "outputs": [
    {
     "data": {
      "text/plain": [
       "array([[0, 7, 6, 2, 5, 3, 7],\n",
       "       [4, 6, 7, 2, 9, 3, 7],\n",
       "       [8, 3, 2, 9, 3, 3, 8],\n",
       "       [3, 3, 8, 5, 3, 4, 1],\n",
       "       [6, 8, 9, 0, 2, 6, 5]])"
      ]
     },
     "execution_count": 27,
     "metadata": {},
     "output_type": "execute_result"
    }
   ],
   "source": [
    "x2"
   ]
  },
  {
   "cell_type": "code",
   "execution_count": 28,
   "id": "7b2ab5ad-1411-42fe-b31e-9b80e49f7893",
   "metadata": {},
   "outputs": [],
   "source": [
    "x= x1 + x2"
   ]
  },
  {
   "cell_type": "code",
   "execution_count": 29,
   "id": "95b0fad5-972e-4abb-ac8e-2e74fa7ce0cc",
   "metadata": {},
   "outputs": [
    {
     "data": {
      "text/plain": [
       "array([[ 37,  51,  86,  90,  96,  24,  25],\n",
       "       [ 67,  95,  77,  38,  93, 102,  82],\n",
       "       [ 27,  94,  52,  82,   6,  15,  69],\n",
       "       [ 21,  84,  47,  94,  83,  57,  11],\n",
       "       [ 88,  55,  96,  27,  50,  79,  97]])"
      ]
     },
     "execution_count": 29,
     "metadata": {},
     "output_type": "execute_result"
    }
   ],
   "source": [
    "x"
   ]
  },
  {
   "cell_type": "code",
   "execution_count": 32,
   "id": "c059bfff-0692-4842-a14d-1a2ecb27a76f",
   "metadata": {},
   "outputs": [],
   "source": [
    "x3 = np.empty(x1.shape)\n",
    "for row in range(x1.shape[0]):\n",
    "    for col in range(x1.shape[1]):\n",
    "        x3[row, col] = x1[row, col] + x2[row, col]"
   ]
  },
  {
   "cell_type": "code",
   "execution_count": 33,
   "id": "ba8c8f97-df4e-470c-ae66-33376d9e3ef0",
   "metadata": {},
   "outputs": [
    {
     "data": {
      "text/plain": [
       "array([[ 37.,  51.,  86.,  90.,  96.,  24.,  25.],\n",
       "       [ 67.,  95.,  77.,  38.,  93., 102.,  82.],\n",
       "       [ 27.,  94.,  52.,  82.,   6.,  15.,  69.],\n",
       "       [ 21.,  84.,  47.,  94.,  83.,  57.,  11.],\n",
       "       [ 88.,  55.,  96.,  27.,  50.,  79.,  97.]])"
      ]
     },
     "execution_count": 33,
     "metadata": {},
     "output_type": "execute_result"
    }
   ],
   "source": [
    "x3"
   ]
  },
  {
   "cell_type": "code",
   "execution_count": 34,
   "id": "ae3b6c63-9a19-4f6c-afea-d0c63f7b2810",
   "metadata": {},
   "outputs": [
    {
     "data": {
      "text/plain": [
       "array([[0., 0., 0., 0., 0., 0., 0.],\n",
       "       [0., 0., 0., 0., 0., 0., 0.],\n",
       "       [0., 0., 0., 0., 0., 0., 0.],\n",
       "       [0., 0., 0., 0., 0., 0., 0.],\n",
       "       [0., 0., 0., 0., 0., 0., 0.]])"
      ]
     },
     "execution_count": 34,
     "metadata": {},
     "output_type": "execute_result"
    }
   ],
   "source": [
    "x3 - x"
   ]
  },
  {
   "cell_type": "code",
   "execution_count": 36,
   "id": "64f553cc-9206-4f87-a7fb-1e803ceb3bc1",
   "metadata": {},
   "outputs": [
    {
     "name": "stdout",
     "output_type": "stream",
     "text": [
      "Took: 0.01 s\n"
     ]
    }
   ],
   "source": [
    "import time\n",
    "x = np.random.random((20, 100))\n",
    "y = np.random.random((20, 100))\n",
    "t0 = time.time()\n",
    "for _ in range(1000):\n",
    "    z = x + y\n",
    "    z = np.maximum(z, 0.)\n",
    "print(\"Took: {0:.2f} s\".format(time.time() - t0))"
   ]
  },
  {
   "cell_type": "code",
   "execution_count": 38,
   "id": "f3198fd1-0a33-4462-8b46-5485e535f06e",
   "metadata": {},
   "outputs": [
    {
     "data": {
      "text/plain": [
       "(20, 100)"
      ]
     },
     "execution_count": 38,
     "metadata": {},
     "output_type": "execute_result"
    }
   ],
   "source": [
    "x.shape"
   ]
  },
  {
   "cell_type": "code",
   "execution_count": 39,
   "id": "641bf024-236b-4f94-a8b3-b845b04b1bad",
   "metadata": {},
   "outputs": [],
   "source": [
    "def naive_relu(x):\n",
    "    assert len(x.shape) == 2\n",
    "    x = x.copy()\n",
    "    for i in range(x.shape[0]):\n",
    "        for j in range(x.shape[1]):\n",
    "            x[i, j] = max(x[i, j], 0)\n",
    "    return x"
   ]
  },
  {
   "cell_type": "code",
   "execution_count": 40,
   "id": "0a8aa72f-1403-46f5-9f81-80ce16a30ae3",
   "metadata": {},
   "outputs": [],
   "source": [
    "def naive_add(x, y):\n",
    "    assert len(x.shape) == 2\n",
    "    assert x.shape == y.shape\n",
    "    x = x.copy()\n",
    "    for i in range(x.shape[0]):\n",
    "        for j in range(x.shape[1]):\n",
    "            x[i, j] += y[i, j]\n",
    "    return x"
   ]
  },
  {
   "cell_type": "code",
   "execution_count": 41,
   "id": "1c476402-d665-4973-b516-011f3a5b9b34",
   "metadata": {},
   "outputs": [
    {
     "name": "stdout",
     "output_type": "stream",
     "text": [
      "Took: 2.32 s\n"
     ]
    }
   ],
   "source": [
    "t0 = time.time()\n",
    "for _ in range(1000):\n",
    "    z = naive_add(x, y)\n",
    "    z = naive_relu(z)\n",
    "print(\"Took: {0:.2f} s\".format(time.time() - t0))"
   ]
  },
  {
   "cell_type": "markdown",
   "id": "6aec51d1-15b2-4f49-ba16-c639904c30b4",
   "metadata": {
    "tags": []
   },
   "source": [
    "# Broadcasting"
   ]
  },
  {
   "cell_type": "code",
   "execution_count": 52,
   "id": "e27767ac-fbca-4728-aed6-c1169b9e3c04",
   "metadata": {},
   "outputs": [],
   "source": [
    "X = np.random.random((32, 10))\n",
    "y = np.random.random((10,))"
   ]
  },
  {
   "cell_type": "markdown",
   "id": "2c017017-af4a-4637-a8d9-779ab9aca24a",
   "metadata": {},
   "source": [
    "Si quisiéramos operar (por ejemplo sumando) los dos arrays... se haría  \n",
    "automáticamente un broadcast del pequeño (el segundo) para convertirlo  \n",
    "a la misma forma que el grande, y después hacer la operación elemento a elemento  \n",
    "Veamos el broadcasting manual de y... (no hace falta pq numpy lo hace solo, sólo  \n",
    "lo hacemos para ver cómo se hace"
   ]
  },
  {
   "cell_type": "code",
   "execution_count": 53,
   "id": "ed661997-739f-4aec-b23a-8329d41b026a",
   "metadata": {},
   "outputs": [
    {
     "data": {
      "text/plain": [
       "(10,)"
      ]
     },
     "execution_count": 53,
     "metadata": {},
     "output_type": "execute_result"
    }
   ],
   "source": [
    "y.shape"
   ]
  },
  {
   "cell_type": "code",
   "execution_count": 57,
   "id": "dea6557c-ab5a-4228-9573-edfb84bf584d",
   "metadata": {},
   "outputs": [
    {
     "data": {
      "text/plain": [
       "(1, 10)"
      ]
     },
     "execution_count": 57,
     "metadata": {},
     "output_type": "execute_result"
    }
   ],
   "source": [
    "y = np.expand_dims(y, axis=0)  # le añadimos un eje X, ahora ya sería una matriz\n",
    "y.shape"
   ]
  },
  {
   "cell_type": "code",
   "execution_count": 58,
   "id": "0c3997d3-41ac-4045-b42e-2e53f5254b33",
   "metadata": {},
   "outputs": [],
   "source": [
    "Y = np.concatenate([y] * 32, axis=0)"
   ]
  },
  {
   "cell_type": "code",
   "execution_count": 59,
   "id": "8cdfd302-d5dc-4a9f-8977-5a4a186064d4",
   "metadata": {},
   "outputs": [
    {
     "data": {
      "text/plain": [
       "(32, 10)"
      ]
     },
     "execution_count": 59,
     "metadata": {},
     "output_type": "execute_result"
    }
   ],
   "source": [
    "Y\n",
    "Y.shape"
   ]
  },
  {
   "cell_type": "code",
   "execution_count": 60,
   "id": "a8e77774-06dd-4883-88b9-e7b3ec56b615",
   "metadata": {},
   "outputs": [],
   "source": [
    "# Ahora ya podríamos operar..."
   ]
  },
  {
   "cell_type": "code",
   "execution_count": 61,
   "id": "59ff8743-0c2f-45f0-bd25-f9a6d7de23bf",
   "metadata": {},
   "outputs": [],
   "source": [
    "# Por supuesto, esto no lo haremos nunca, lo hace automático numpy"
   ]
  },
  {
   "cell_type": "code",
   "execution_count": 63,
   "id": "c1848408-f0af-4121-82b4-3660448c49f1",
   "metadata": {},
   "outputs": [],
   "source": [
    "# Producto de tensores (producto interno, dot product, como el escalar si fueran vectores)\n",
    "# Es el producto normal de matrices..."
   ]
  },
  {
   "cell_type": "code",
   "execution_count": 66,
   "id": "14a579b2-f756-4eb3-8502-2a7d3a270e9d",
   "metadata": {},
   "outputs": [
    {
     "data": {
      "text/plain": [
       "(32,)"
      ]
     },
     "execution_count": 66,
     "metadata": {},
     "output_type": "execute_result"
    }
   ],
   "source": [
    "x = np.random.random(32)\n",
    "y = np.random.random(32)\n",
    "x.shape"
   ]
  },
  {
   "cell_type": "code",
   "execution_count": 67,
   "id": "bc79415b-0505-4ca7-830f-b959f9d54a21",
   "metadata": {},
   "outputs": [
    {
     "data": {
      "text/plain": [
       "7.202931512084453"
      ]
     },
     "execution_count": 67,
     "metadata": {},
     "output_type": "execute_result"
    }
   ],
   "source": [
    "np.dot(x,y)  # aquí sería un producto escalar de vectores, simplemente"
   ]
  },
  {
   "cell_type": "code",
   "execution_count": 71,
   "id": "9edf5149-35a5-4311-a4be-9efdd65a77ed",
   "metadata": {},
   "outputs": [
    {
     "data": {
      "text/plain": [
       "(8, 5)"
      ]
     },
     "execution_count": 71,
     "metadata": {},
     "output_type": "execute_result"
    }
   ],
   "source": [
    "A = np.random.random((8, 14))\n",
    "B = np.random.random((14, 5))\n",
    "C = np.dot(A, B)  # esto es el producto de matrices... (es como el pro. escalar... cada fila por cada una de las columnas)\n",
    "C.shape  # A es mxn y b debe ser n x p.... el resultado es m x p"
   ]
  },
  {
   "cell_type": "code",
   "execution_count": 72,
   "id": "6e788173-011f-43b3-b350-8b047b6d9149",
   "metadata": {},
   "outputs": [],
   "source": [
    "# Tensor reshaping"
   ]
  },
  {
   "cell_type": "code",
   "execution_count": 73,
   "id": "82ae3d08-9ef2-4f96-b937-ff2280316994",
   "metadata": {},
   "outputs": [],
   "source": [
    "A = np.random.randint(0, 101, (5, 6, 4))"
   ]
  },
  {
   "cell_type": "code",
   "execution_count": 74,
   "id": "c5d9a3db-0470-4ed4-951a-761d1c26179d",
   "metadata": {},
   "outputs": [
    {
     "data": {
      "text/plain": [
       "array([[[ 15,  39,  81,  71],\n",
       "        [ 48,  85,  99,  92],\n",
       "        [ 40,  93,  38,   9],\n",
       "        [ 40,  37,  39,  95],\n",
       "        [ 93,  67,   3,  66],\n",
       "        [ 19,  29,  53,  82]],\n",
       "\n",
       "       [[ 11,  13,  23,  56],\n",
       "        [ 25,  80,  72,  96],\n",
       "        [ 62,  96,  74,  82],\n",
       "        [ 42,   0,  76,  30],\n",
       "        [ 67,   8,   1,  61],\n",
       "        [ 69,  18,  32,  77]],\n",
       "\n",
       "       [[  4,   7,  19,   0],\n",
       "        [ 73,  12, 100,  90],\n",
       "        [  2,  90,  70,  41],\n",
       "        [ 61,  25,  97,  50],\n",
       "        [ 58,  58,  39,  94],\n",
       "        [ 38,  27,  22,  52]],\n",
       "\n",
       "       [[ 98,  62,   3,  46],\n",
       "        [ 27,  68,  86,  10],\n",
       "        [ 68,  47,  35,  21],\n",
       "        [ 69,  22,  39, 100],\n",
       "        [ 67,  82,   5,   8],\n",
       "        [ 27,   8,   4,  77]],\n",
       "\n",
       "       [[ 80,  45,  95,  55],\n",
       "        [ 19,  56,  19,   4],\n",
       "        [ 27,  64,  26,  29],\n",
       "        [ 73,  76,  26,  68],\n",
       "        [ 57,  51,  33,  34],\n",
       "        [ 25,  75,  73,  41]]])"
      ]
     },
     "execution_count": 74,
     "metadata": {},
     "output_type": "execute_result"
    }
   ],
   "source": [
    "A"
   ]
  },
  {
   "cell_type": "code",
   "execution_count": 75,
   "id": "cf3cad25-9028-4c6d-9364-f0b85d42c2a0",
   "metadata": {},
   "outputs": [],
   "source": [
    "A = A.reshape((5, 24))"
   ]
  },
  {
   "cell_type": "code",
   "execution_count": 76,
   "id": "96c4bc31-67b9-4840-8ce5-e2db61475a15",
   "metadata": {},
   "outputs": [
    {
     "data": {
      "text/plain": [
       "array([[ 15,  39,  81,  71,  48,  85,  99,  92,  40,  93,  38,   9,  40,\n",
       "         37,  39,  95,  93,  67,   3,  66,  19,  29,  53,  82],\n",
       "       [ 11,  13,  23,  56,  25,  80,  72,  96,  62,  96,  74,  82,  42,\n",
       "          0,  76,  30,  67,   8,   1,  61,  69,  18,  32,  77],\n",
       "       [  4,   7,  19,   0,  73,  12, 100,  90,   2,  90,  70,  41,  61,\n",
       "         25,  97,  50,  58,  58,  39,  94,  38,  27,  22,  52],\n",
       "       [ 98,  62,   3,  46,  27,  68,  86,  10,  68,  47,  35,  21,  69,\n",
       "         22,  39, 100,  67,  82,   5,   8,  27,   8,   4,  77],\n",
       "       [ 80,  45,  95,  55,  19,  56,  19,   4,  27,  64,  26,  29,  73,\n",
       "         76,  26,  68,  57,  51,  33,  34,  25,  75,  73,  41]])"
      ]
     },
     "execution_count": 76,
     "metadata": {},
     "output_type": "execute_result"
    }
   ],
   "source": [
    "A"
   ]
  },
  {
   "cell_type": "code",
   "execution_count": 77,
   "id": "8438b3db-c20f-42f9-8ff0-11b6311e0d77",
   "metadata": {},
   "outputs": [],
   "source": [
    "# Una forma sencilla de reshape el simpelemtne la transpuesta\n",
    "A = np.transpose(A)   # o A = A.T o A = A.tranpose"
   ]
  },
  {
   "cell_type": "code",
   "execution_count": 78,
   "id": "adee7063-38a4-4fed-baa0-9bdde5023e33",
   "metadata": {},
   "outputs": [
    {
     "data": {
      "text/plain": [
       "array([[ 15,  11,   4,  98,  80],\n",
       "       [ 39,  13,   7,  62,  45],\n",
       "       [ 81,  23,  19,   3,  95],\n",
       "       [ 71,  56,   0,  46,  55],\n",
       "       [ 48,  25,  73,  27,  19],\n",
       "       [ 85,  80,  12,  68,  56],\n",
       "       [ 99,  72, 100,  86,  19],\n",
       "       [ 92,  96,  90,  10,   4],\n",
       "       [ 40,  62,   2,  68,  27],\n",
       "       [ 93,  96,  90,  47,  64],\n",
       "       [ 38,  74,  70,  35,  26],\n",
       "       [  9,  82,  41,  21,  29],\n",
       "       [ 40,  42,  61,  69,  73],\n",
       "       [ 37,   0,  25,  22,  76],\n",
       "       [ 39,  76,  97,  39,  26],\n",
       "       [ 95,  30,  50, 100,  68],\n",
       "       [ 93,  67,  58,  67,  57],\n",
       "       [ 67,   8,  58,  82,  51],\n",
       "       [  3,   1,  39,   5,  33],\n",
       "       [ 66,  61,  94,   8,  34],\n",
       "       [ 19,  69,  38,  27,  25],\n",
       "       [ 29,  18,  27,   8,  75],\n",
       "       [ 53,  32,  22,   4,  73],\n",
       "       [ 82,  77,  52,  77,  41]])"
      ]
     },
     "execution_count": 78,
     "metadata": {},
     "output_type": "execute_result"
    }
   ],
   "source": [
    "A"
   ]
  },
  {
   "cell_type": "code",
   "execution_count": 80,
   "id": "23daba28-d7cc-4872-9ef0-77d39bd2090c",
   "metadata": {},
   "outputs": [],
   "source": [
    "# Transformación lineal (como giro o escala): y = Matriz dot x\n",
    "# Trnasformación afín : y = Matriz dot x + b\n",
    "# Una dense layer sin función de activación es una layer afín"
   ]
  },
  {
   "cell_type": "code",
   "execution_count": 81,
   "id": "9b4e4834-5eb8-4aa7-8604-5a67b1354b5a",
   "metadata": {},
   "outputs": [],
   "source": [
    "# Es fácil ver que la composición de transformaciones afines es simplemente una transf. afín\n",
    "# O sea, podemos resumir muchas tras. afines, una acoplada tras otra, utilizando sólo una trans. afín\n",
    "# es por ello que si tenemos una red neuronal compuesta de muchas dense layer simplemente afines...\n",
    "# podemos conseguir lo mismo sólo con una layer...\n",
    "# Es por ello por lo que se utilizan en las layer las funciones de activación, como ReLU, etc"
   ]
  },
  {
   "cell_type": "markdown",
   "id": "c31235f2-bd3f-452b-bb8b-4ca2fcb7ba05",
   "metadata": {},
   "source": [
    "Thanks to activation functions, a chain of Dense layers can be made  \n",
    "to implement very complex, non-linear geometric transformations, resulting  \n",
    "in very rich hypothesis spaces for your deep neural networks. "
   ]
  },
  {
   "cell_type": "code",
   "execution_count": null,
   "id": "8a37549d-238f-4c6e-bb82-85855f06ddf4",
   "metadata": {},
   "outputs": [],
   "source": []
  }
 ],
 "metadata": {
  "kernelspec": {
   "display_name": "Python 3 (ipykernel)",
   "language": "python",
   "name": "python3"
  },
  "language_info": {
   "codemirror_mode": {
    "name": "ipython",
    "version": 3
   },
   "file_extension": ".py",
   "mimetype": "text/x-python",
   "name": "python",
   "nbconvert_exporter": "python",
   "pygments_lexer": "ipython3",
   "version": "3.10.1"
  }
 },
 "nbformat": 4,
 "nbformat_minor": 5
}

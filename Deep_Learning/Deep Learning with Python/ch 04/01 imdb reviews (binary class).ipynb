{
 "cells": [
  {
   "cell_type": "code",
   "execution_count": 1,
   "id": "d9eb9530-1deb-4b44-9f17-f0fef8733266",
   "metadata": {},
   "outputs": [],
   "source": [
    "from tensorflow.keras.datasets import imdb"
   ]
  },
  {
   "cell_type": "code",
   "execution_count": 3,
   "id": "dc3445a1-1b54-4e2e-b017-0f6932120c1b",
   "metadata": {},
   "outputs": [
    {
     "name": "stdout",
     "output_type": "stream",
     "text": [
      "Downloading data from https://storage.googleapis.com/tensorflow/tf-keras-datasets/imdb.npz\n",
      "17465344/17464789 [==============================] - 4s 0us/step\n",
      "17473536/17464789 [==============================] - 4s 0us/step\n"
     ]
    }
   ],
   "source": [
    "(train_data, train_labels), (test_data, test_labels) = imdb.load_data(num_words=10_000)"
   ]
  },
  {
   "cell_type": "code",
   "execution_count": 11,
   "id": "8fac4444-1ed6-4fe1-a819-2307b6b86ad2",
   "metadata": {},
   "outputs": [
    {
     "name": "stdout",
     "output_type": "stream",
     "text": [
      "12500 12500\n"
     ]
    }
   ],
   "source": [
    "positives = 0\n",
    "negatives = 0\n",
    "for label in train_labels:\n",
    "    if label:\n",
    "        positives += 1\n",
    "    else:\n",
    "        negatives += 1\n",
    "print(positives, negatives)"
   ]
  },
  {
   "cell_type": "code",
   "execution_count": 15,
   "id": "f9874d28-f1ce-41f7-a034-b1e06d642b93",
   "metadata": {},
   "outputs": [],
   "source": [
    "max(palabra\n",
    "    for review in train_data\n",
    "    for palabra in review)"
   ]
  },
  {
   "cell_type": "code",
   "execution_count": 17,
   "id": "e0d1730d-480c-46c1-baf6-b77c85a7f353",
   "metadata": {},
   "outputs": [
    {
     "data": {
      "text/plain": [
       "int"
      ]
     },
     "execution_count": 17,
     "metadata": {},
     "output_type": "execute_result"
    }
   ],
   "source": [
    "type(train_data[0][1])"
   ]
  },
  {
   "cell_type": "code",
   "execution_count": 31,
   "id": "b7d4c6ef-3e80-4bfb-b86a-f82cc38c06d0",
   "metadata": {},
   "outputs": [],
   "source": [
    "# Una review es simplemente un listado indicando el índice de palabras...\n",
    "# si quisiéramos obtener la review podríamos hacer...\n",
    "# word_index is a dictionary mapping words to an integer index.\n",
    "from typing import List\n",
    "word_index = imdb.get_word_index()\n",
    "reverse_word_index = {value: key for key, value in word_index.items()}\n",
    "def get_review_string(review_integer: List[int]) -> str:\n",
    "    review = []\n",
    "    for valor in review_integer:\n",
    "        review.append(reverse_word_index.get(valor - 3, \"?\"))\n",
    "    return ' '.join(review)"
   ]
  },
  {
   "cell_type": "code",
   "execution_count": 33,
   "id": "328f615a-2b43-4365-a041-0f63ce993852",
   "metadata": {},
   "outputs": [
    {
     "data": {
      "text/plain": [
       "\"? this has to be one of the worst films of the 1990s when my friends i were watching this film being the target audience it was aimed at we just sat watched the first half an hour with our jaws touching the floor at how bad it really was the rest of the time everyone else in the theatre just started talking to each other leaving or generally crying into their popcorn that they actually paid money they had ? working to watch this feeble excuse for a film it must have looked like a great idea on paper but on film it looks like no one in the film has a clue what is going on crap acting crap costumes i can't get across how ? this is to watch save yourself an hour a bit of your life\""
      ]
     },
     "execution_count": 33,
     "metadata": {},
     "output_type": "execute_result"
    }
   ],
   "source": [
    "get_review_string(train_data[2])"
   ]
  },
  {
   "cell_type": "code",
   "execution_count": 34,
   "id": "47aee9f8-8fd6-47f2-89e4-b0a9ef78c4f3",
   "metadata": {},
   "outputs": [
    {
     "data": {
      "text/plain": [
       "\"? i came across an ? nightmare while looking for offbeat independent films and glad to say it did not disappoint this crazy half hour ride had me wondering all the way through and the ending was excellent one of those ? moments that really stays with you i've shown it to a number of people and everyone seems to agree hands down the little ? girl was very talented and i think her performance stole the show she ? the heck out of me i can say that much ? did a great job putting this short together all the pieces just fell into place and you can tell that she's a great writer from what she did with this script so well written it's undoubtedly the strongest part of the film the directing was great and the acting was enjoyable but the most important factor here is the strength of the screenplay good job to this girl i can't wait to see more\""
      ]
     },
     "execution_count": 34,
     "metadata": {},
     "output_type": "execute_result"
    }
   ],
   "source": [
    "get_review_string(train_data[16968])"
   ]
  },
  {
   "cell_type": "markdown",
   "id": "afec5661-6848-49fa-82b3-2ae41a744468",
   "metadata": {},
   "source": [
    "Cómo preparar los datos para nuestra red neuronal...  \n",
    "cada sample es una lista, de longitud variable, con los enteros que indican las palabras utilizadas las listas, lógicamente, son de distinta longitud...  \n",
    "Tenemos dos opciones:\n",
    "* hacer padding para que todas las listas tengan igual longitud...y luego convertirlas en un tensor entero de shape (samples, max_length)\n",
    "* Multi-hot encode... o sea, transformar la review en un vector de 10.000 componentes donde las palabras que aparecen tienen un 1, y las que no aparecen, que serán casi todas, un 0.\n",
    "\n",
    "La elección elegida es la multi-hot, la verdad es que no me convence... además, no se podría anotar el orden de la review...\n",
    " "
   ]
  },
  {
   "cell_type": "code",
   "execution_count": 36,
   "id": "54f79074-eadf-4a21-b782-0db4293bdfb1",
   "metadata": {},
   "outputs": [],
   "source": [
    "# Encoding the integer sequences via multi-hot encoding\n",
    "# esto codifica a la vez todas las reviews!!!\n",
    "import numpy as np\n",
    "def vectorize_sequences(reviews: List[int], dimension=10_000) -> np.ndarray:\n",
    "    results = np.zeros((len(reviews), dimension))\n",
    "    for i, review in enumerate(reviews):\n",
    "        for indice_palabra in review:\n",
    "            results[i, indice_palabra] = 1\n",
    "    return results\n",
    "\n",
    "\n",
    "# Hacemos el multi-hot encoding...\n",
    "x_train = vectorize_sequences(train_data)\n",
    "x_test = vectorize_sequences(test_data)"
   ]
  },
  {
   "cell_type": "code",
   "execution_count": 40,
   "id": "eb41cce2-96b1-426b-81c8-2c7c02712cc4",
   "metadata": {},
   "outputs": [],
   "source": [
    "# Vectorizar las labels es inmediato...\n",
    "y_train = np.asarray(train_labels).astype(\"float32\")\n",
    "y_test = np.asarray(test_labels).astype(\"float32\")"
   ]
  },
  {
   "cell_type": "code",
   "execution_count": 48,
   "id": "c4b7bc6f-4234-43a5-a2cf-3ff4d78629f8",
   "metadata": {},
   "outputs": [
    {
     "name": "stdout",
     "output_type": "stream",
     "text": [
      "(25000, 10000) (25000, 10000)\n"
     ]
    }
   ],
   "source": [
    "print(x_train.shape, x_test.shape)"
   ]
  },
  {
   "cell_type": "code",
   "execution_count": 49,
   "id": "2c354821-b37e-4eda-a296-3ac81b56809a",
   "metadata": {},
   "outputs": [
    {
     "name": "stdout",
     "output_type": "stream",
     "text": [
      "(25000,) (25000,)\n"
     ]
    }
   ],
   "source": [
    "print(y_train.shape, y_test.shape)"
   ]
  },
  {
   "cell_type": "markdown",
   "id": "9b5490ae-0a60-4282-ab16-643407965487",
   "metadata": {},
   "source": [
    "El input data son vectores (eso sí, de 10.000 componentes) y la salida es un escalar!!!  \n",
    "Utilizaremos el siguiente diseño:  \n",
    "* Dos capas intermedias de 16 neuronas\n",
    "* 1 capa final de una neurona sola (ya que es un escalar simplemente)\n",
    "\n",
    "Un modelo que funciona bien en estos casos en una serie de layers de tipo denso, con   \n",
    "activación relu..."
   ]
  },
  {
   "cell_type": "code",
   "execution_count": 42,
   "id": "d14d605d-4141-49f1-af39-827570a95a9e",
   "metadata": {},
   "outputs": [],
   "source": [
    "from tensorflow import keras\n",
    "from tensorflow.keras import layers"
   ]
  },
  {
   "cell_type": "code",
   "execution_count": 43,
   "id": "435897c5-dea7-400a-b76f-8e4f4dcda295",
   "metadata": {},
   "outputs": [],
   "source": [
    "model = keras.Sequential([\n",
    "    layers.Dense(units=16, activation=\"relu\"),\n",
    "    layers.Dense(units=16, activation=\"relu\"),\n",
    "    layers.Dense(units=1, activation=\"sigmoid\"),\n",
    "])"
   ]
  },
  {
   "cell_type": "code",
   "execution_count": 44,
   "id": "caea76b8-0833-492a-9eaf-99eb953d7752",
   "metadata": {},
   "outputs": [],
   "source": [
    "# Observar que cada capa densa con activación relu simplemente hace...\n",
    "# output = relu(dot(input, W) + b)   donde W es la matriz de pesos y b el bias...\n",
    "# o sea, hacemos la transformación lineal input . W + b y luego aplicacmos la activación...\n",
    "# y esa salida iría para la layer siguiente...\n",
    "# Además observar que la salida va a ser la sigmoide, o sea, un avalor entre 0 y 1\n",
    "# que nos va a medir la probabilidad q la review sea clasificada como negativa (0) y positiva(1)"
   ]
  },
  {
   "cell_type": "code",
   "execution_count": 45,
   "id": "8d602688-f1be-404b-80e3-5b0be05605e5",
   "metadata": {},
   "outputs": [],
   "source": [
    "# La matriz W con la que haremos el producto matricial input x W, es por tanto del tipo\n",
    "# dim_input x neuronas... en este caso son del tipo input (que para la primera capa es 10000) x 16\n",
    "# Observar que la transformación de cada layer... input x W + b nos transforma del espacio\n",
    "# inicial (de dim input) a un espacio de dimensión 16 (o 1 para la layer final)"
   ]
  },
  {
   "cell_type": "code",
   "execution_count": 46,
   "id": "14752e32-73c3-45e6-8e54-d6bdee150fc0",
   "metadata": {},
   "outputs": [],
   "source": [
    "# Utilizaremos como función de pérdida (loss, error) adecuado para cuando la salida es una probabilidad,\n",
    "# la crossentropy, en este caso la binaria\n",
    "# como optimizador de la solución el rmsprop\n",
    "# la mñetrica no tiene impacto en el algoritmo de la red neuronal, pero nos sirve para medir el resultado\n",
    "# podríamos dar un listado de métricas para evaluar el rendimiento de la red...\n",
    "model.compile(optimizer=\"rmsprop\",\n",
    "              loss=\"binary_crossentropy\",\n",
    "              metrics=[\"accuracy\"])"
   ]
  },
  {
   "cell_type": "code",
   "execution_count": 99,
   "id": "c931f3ad-dc13-404e-8733-5eeb7fbce14e",
   "metadata": {},
   "outputs": [],
   "source": [
    "# Validación del modelo...\n",
    "# es una práctica estándar usar un set para validar la precisión del modelo durante el entreno\n",
    "# Lo haremos, apartando 10_000 items del set de entrenamiento para utilizarlos como validación\n",
    "x_validation = x_train[:10_000]\n",
    "y_validation = y_train[:10_000]\n",
    "x_partial_train = x_train[10_000:]\n",
    "y_partial_train = y_train[10_000:]"
   ]
  },
  {
   "cell_type": "code",
   "execution_count": 104,
   "id": "522c7d5f-4e1e-407b-85e1-614f300ee9ca",
   "metadata": {},
   "outputs": [
    {
     "data": {
      "text/plain": [
       "10000"
      ]
     },
     "execution_count": 104,
     "metadata": {},
     "output_type": "execute_result"
    }
   ],
   "source": [
    "len(y_validation)"
   ]
  },
  {
   "cell_type": "code",
   "execution_count": 58,
   "id": "338a607f-fe97-47e7-b734-d469483b43d0",
   "metadata": {},
   "outputs": [],
   "source": [
    "# Entreno... entrenaremos durante 20 epochs... (recorreremos por tanto\n",
    "# el set del partial_train 20 veces...\n",
    "# Haremos un proceso en mini_batches de 512 ítems del set, con lo que para \n",
    "# completar cada epoch habrá que utilizar... 15_000 samples de entreno / 512 por mini_batch = 30 ciclos..\n",
    "# Tras cada epoch se validará la red neuronal con el set que hemos apartado para la validación...\n",
    "# y con ello nos imprimirá la estadística del accuracy..."
   ]
  },
  {
   "cell_type": "code",
   "execution_count": 88,
   "id": "d3061f26-f5c7-42ce-abaa-8146d8103efb",
   "metadata": {},
   "outputs": [
    {
     "name": "stdout",
     "output_type": "stream",
     "text": [
      "Epoch 1/20\n",
      "30/30 [==============================] - 2s 63ms/step - loss: 0.6252 - accuracy: 0.8563 - val_loss: 0.4313 - val_accuracy: 0.8602\n",
      "Epoch 2/20\n",
      "30/30 [==============================] - 1s 19ms/step - loss: 0.3130 - accuracy: 0.8903 - val_loss: 0.3627 - val_accuracy: 0.8629\n",
      "Epoch 3/20\n",
      "30/30 [==============================] - 1s 19ms/step - loss: 0.2395 - accuracy: 0.9098 - val_loss: 0.3253 - val_accuracy: 0.8709\n",
      "Epoch 4/20\n",
      "30/30 [==============================] - 1s 19ms/step - loss: 0.1989 - accuracy: 0.9255 - val_loss: 0.3253 - val_accuracy: 0.8748\n",
      "Epoch 5/20\n",
      "30/30 [==============================] - 1s 19ms/step - loss: 0.1615 - accuracy: 0.9415 - val_loss: 0.3452 - val_accuracy: 0.8732\n",
      "Epoch 6/20\n",
      "30/30 [==============================] - 1s 19ms/step - loss: 0.1342 - accuracy: 0.9513 - val_loss: 0.3598 - val_accuracy: 0.8741\n",
      "Epoch 7/20\n",
      "30/30 [==============================] - 1s 19ms/step - loss: 0.1084 - accuracy: 0.9615 - val_loss: 0.3857 - val_accuracy: 0.8714\n",
      "Epoch 8/20\n",
      "30/30 [==============================] - 1s 19ms/step - loss: 0.0862 - accuracy: 0.9713 - val_loss: 0.4087 - val_accuracy: 0.8744\n",
      "Epoch 9/20\n",
      "30/30 [==============================] - 1s 19ms/step - loss: 0.0678 - accuracy: 0.9784 - val_loss: 0.4446 - val_accuracy: 0.8704\n",
      "Epoch 10/20\n",
      "30/30 [==============================] - 1s 19ms/step - loss: 0.0540 - accuracy: 0.9829 - val_loss: 0.4738 - val_accuracy: 0.8740\n",
      "Epoch 11/20\n",
      "30/30 [==============================] - 1s 19ms/step - loss: 0.0399 - accuracy: 0.9883 - val_loss: 0.5147 - val_accuracy: 0.8732\n",
      "Epoch 12/20\n",
      "30/30 [==============================] - 1s 19ms/step - loss: 0.0294 - accuracy: 0.9926 - val_loss: 0.5625 - val_accuracy: 0.8712\n",
      "Epoch 13/20\n",
      "30/30 [==============================] - 1s 19ms/step - loss: 0.0211 - accuracy: 0.9955 - val_loss: 0.6244 - val_accuracy: 0.8705\n",
      "Epoch 14/20\n",
      "30/30 [==============================] - 1s 20ms/step - loss: 0.0161 - accuracy: 0.9965 - val_loss: 0.6440 - val_accuracy: 0.8721\n",
      "Epoch 15/20\n",
      "30/30 [==============================] - 1s 19ms/step - loss: 0.0101 - accuracy: 0.9978 - val_loss: 0.6985 - val_accuracy: 0.8709\n",
      "Epoch 16/20\n",
      "30/30 [==============================] - 1s 19ms/step - loss: 0.0070 - accuracy: 0.9989 - val_loss: 0.7488 - val_accuracy: 0.8704\n",
      "Epoch 17/20\n",
      "30/30 [==============================] - 1s 19ms/step - loss: 0.0045 - accuracy: 0.9995 - val_loss: 0.8134 - val_accuracy: 0.8695\n",
      "Epoch 18/20\n",
      "30/30 [==============================] - 1s 19ms/step - loss: 0.0031 - accuracy: 0.9998 - val_loss: 0.8488 - val_accuracy: 0.8688\n",
      "Epoch 19/20\n",
      "30/30 [==============================] - 1s 21ms/step - loss: 0.0017 - accuracy: 0.9998 - val_loss: 0.9246 - val_accuracy: 0.8677\n",
      "Epoch 20/20\n",
      "30/30 [==============================] - 1s 19ms/step - loss: 0.0012 - accuracy: 0.9999 - val_loss: 0.9751 - val_accuracy: 0.8690\n"
     ]
    }
   ],
   "source": [
    "history = model.fit(x_partial_train, y_partial_train, \n",
    "                    epochs=20, batch_size=512,\n",
    "                    validation_data=(x_validation, y_validation))"
   ]
  },
  {
   "cell_type": "code",
   "execution_count": 61,
   "id": "546a5177-11d0-45b3-8443-3fba4d99b382",
   "metadata": {},
   "outputs": [
    {
     "name": "stdout",
     "output_type": "stream",
     "text": [
      "dict_keys(['loss', 'accuracy', 'val_loss', 'val_accuracy'])\n"
     ]
    },
    {
     "data": {
      "text/plain": [
       "{'loss': [0.5185487270355225,\n",
       "  0.3140522837638855,\n",
       "  0.22932863235473633,\n",
       "  0.18351998925209045,\n",
       "  0.14577403664588928,\n",
       "  0.11993783712387085,\n",
       "  0.10053785145282745,\n",
       "  0.08306679874658585,\n",
       "  0.06990418583154678,\n",
       "  0.05713823065161705,\n",
       "  0.04737775772809982,\n",
       "  0.04028349369764328,\n",
       "  0.030679654330015182,\n",
       "  0.024828124791383743,\n",
       "  0.020399965345859528,\n",
       "  0.01674751751124859,\n",
       "  0.012172159738838673,\n",
       "  0.009785549715161324,\n",
       "  0.006619365885853767,\n",
       "  0.007021078374236822],\n",
       " 'accuracy': [0.7910666465759277,\n",
       "  0.9016000032424927,\n",
       "  0.9266666769981384,\n",
       "  0.9403333067893982,\n",
       "  0.9549999833106995,\n",
       "  0.9657333493232727,\n",
       "  0.9710000157356262,\n",
       "  0.9769333600997925,\n",
       "  0.9810666441917419,\n",
       "  0.9862666726112366,\n",
       "  0.9890666604042053,\n",
       "  0.9908000230789185,\n",
       "  0.9937333464622498,\n",
       "  0.9954000115394592,\n",
       "  0.9964666962623596,\n",
       "  0.9972666501998901,\n",
       "  0.9984666705131531,\n",
       "  0.9989333152770996,\n",
       "  0.9994666576385498,\n",
       "  0.9990666508674622],\n",
       " 'val_loss': [0.39080068469047546,\n",
       "  0.3237793743610382,\n",
       "  0.2793086767196655,\n",
       "  0.27035942673683167,\n",
       "  0.2808662950992584,\n",
       "  0.30227571725845337,\n",
       "  0.3018912076950073,\n",
       "  0.31775471568107605,\n",
       "  0.3389413058757782,\n",
       "  0.37371793389320374,\n",
       "  0.3873065114021301,\n",
       "  0.416858047246933,\n",
       "  0.49602797627449036,\n",
       "  0.4834527373313904,\n",
       "  0.5119527578353882,\n",
       "  0.5363283157348633,\n",
       "  0.5756668448448181,\n",
       "  0.6138113141059875,\n",
       "  0.6481335759162903,\n",
       "  0.6809306144714355],\n",
       " 'val_accuracy': [0.8704000115394592,\n",
       "  0.8737000226974487,\n",
       "  0.8888999819755554,\n",
       "  0.8907999992370605,\n",
       "  0.8860999941825867,\n",
       "  0.8808000087738037,\n",
       "  0.8817999958992004,\n",
       "  0.8812999725341797,\n",
       "  0.8792999982833862,\n",
       "  0.8773000240325928,\n",
       "  0.876800000667572,\n",
       "  0.8737999796867371,\n",
       "  0.8668000102043152,\n",
       "  0.8719000220298767,\n",
       "  0.8708999752998352,\n",
       "  0.8694000244140625,\n",
       "  0.8669000267982483,\n",
       "  0.8657000064849854,\n",
       "  0.8651000261306763,\n",
       "  0.8657000064849854]}"
      ]
     },
     "execution_count": 61,
     "metadata": {},
     "output_type": "execute_result"
    }
   ],
   "source": [
    "history_dictionary = history.history\n",
    "print(history_dictionary.keys())\n",
    "history_dictionary\n",
    "# Nos muestra el histórico de cada epoch para estos 4 aspectos...\n",
    "# observar que loss y accuray son la media en el epoch... mientras que val_... es el que da la red\n",
    "# luego del epoch con los datos de validación..."
   ]
  },
  {
   "cell_type": "code",
   "execution_count": 62,
   "id": "8603c3d7-bd23-4575-9103-c5b4a061aad5",
   "metadata": {},
   "outputs": [],
   "source": [
    "# ??? el training_loss va para abajo pero el del validation_loss aumenta??"
   ]
  },
  {
   "cell_type": "code",
   "execution_count": 73,
   "id": "3e5e3e3c-8ec9-4fa5-aa62-1ee3b04426b2",
   "metadata": {},
   "outputs": [
    {
     "data": {
      "text/plain": [
       "[<matplotlib.lines.Line2D at 0x17eb42043a0>,\n",
       " <matplotlib.lines.Line2D at 0x17eb42043d0>]"
      ]
     },
     "execution_count": 73,
     "metadata": {},
     "output_type": "execute_result"
    },
    {
     "data": {
      "image/png": "[encoded data removed]",
      "text/plain": [
       "<Figure size 432x288 with 1 Axes>"
      ]
     },
     "metadata": {
      "needs_background": "light"
     },
     "output_type": "display_data"
    }
   ],
   "source": [
    "import matplotlib.pyplot as plt\n",
    "plt.plot(range(1, 21), history_dictionary['loss'], 'blue', history_dictionary['val_loss'], 'red')"
   ]
  },
  {
   "cell_type": "code",
   "execution_count": 74,
   "id": "9f610b2c-f83d-4ac1-8b9b-b1de20e9a5c9",
   "metadata": {},
   "outputs": [],
   "source": [
    "# Observamos que la pérdida tras cada epoch va disminuyendo..\n",
    "# mientras que la pérdida evaluada en el set de validación aumenta!!!"
   ]
  },
  {
   "cell_type": "code",
   "execution_count": 75,
   "id": "93c2413e-3014-4a34-b3a9-f6a264cb127d",
   "metadata": {},
   "outputs": [
    {
     "data": {
      "text/plain": [
       "[<matplotlib.lines.Line2D at 0x17eb426d4b0>,\n",
       " <matplotlib.lines.Line2D at 0x17eb426d4e0>]"
      ]
     },
     "execution_count": 75,
     "metadata": {},
     "output_type": "execute_result"
    },
    {
     "data": {
      "image/png": "[encoded data removed]",
      "text/plain": [
       "<Figure size 432x288 with 1 Axes>"
      ]
     },
     "metadata": {
      "needs_background": "light"
     },
     "output_type": "display_data"
    }
   ],
   "source": [
    "# Veamos ahora el accuracy... tanto del training tras cada epoch... como después\n",
    "# de cada epoch con el set de validación...\n",
    "plt.plot(range(1, 21), history_dictionary['accuracy'], 'blue', history_dictionary['val_accuracy'], 'red')"
   ]
  },
  {
   "cell_type": "code",
   "execution_count": 76,
   "id": "be1a1823-e5bb-496e-ba8b-d7799568022a",
   "metadata": {},
   "outputs": [],
   "source": [
    "# pasa algo similar... el accuracy en el set de entrenamiento se vuelve casi del 100 %\n",
    "# mientras que la del set de validación es del 87 %"
   ]
  },
  {
   "cell_type": "code",
   "execution_count": 81,
   "id": "02507f9d-e1c3-4393-8205-9d2829bca5db",
   "metadata": {},
   "outputs": [
    {
     "data": {
      "text/plain": [
       "<matplotlib.legend.Legend at 0x17eb43fec20>"
      ]
     },
     "execution_count": 81,
     "metadata": {},
     "output_type": "execute_result"
    },
    {
     "data": {
      "image/png": "[encoded data removed]",
      "text/plain": [
       "<Figure size 432x288 with 1 Axes>"
      ]
     },
     "metadata": {
      "needs_background": "light"
     },
     "output_type": "display_data"
    }
   ],
   "source": [
    "# Otra forma más fina...\n",
    "epochs = range(1, 21) \n",
    "plt.plot(epochs, history.history['loss'], \"blue\", label=\"Training loss\")\n",
    "plt.plot(epochs, history.history['val_loss'],'red', label=\"Validation loss\")\n",
    "plt.title(\"Training and validation loss\")\n",
    "plt.xlabel(\"Epochs\")\n",
    "plt.ylabel(\"Loss\")\n",
    "plt.legend()\n",
    "plt.show()"
   ]
  },
  {
   "cell_type": "code",
   "execution_count": 82,
   "id": "0071a118-cea2-448f-b51a-e2eab2886f9c",
   "metadata": {},
   "outputs": [
    {
     "data": {
      "image/png": "[encoded data removed]",
      "text/plain": [
       "<Figure size 432x288 with 1 Axes>"
      ]
     },
     "metadata": {
      "needs_background": "light"
     },
     "output_type": "display_data"
    }
   ],
   "source": [
    "# Ahora con el accuracy\n",
    "epochs = range(1, 21) \n",
    "plt.plot(epochs, history.history['accuracy'], \"blue\", label=\"Training accuracy\")\n",
    "plt.plot(epochs, history.history['val_accuracy'],'red', label=\"Validation accuracy\")\n",
    "plt.title(\"Training and validation accuracy\")\n",
    "plt.xlabel(\"Epochs\")\n",
    "plt.ylabel(\"Accuracy\")\n",
    "plt.legend()\n",
    "plt.show()"
   ]
  },
  {
   "cell_type": "code",
   "execution_count": 83,
   "id": "2bea4dac-1d5c-40e9-bc6d-76fd35132e1f",
   "metadata": {},
   "outputs": [],
   "source": [
    "# Observar que el pico tanto del accuracy como de la pérdida para el set de validación ocurre tras el cuarto epoch\n",
    "# This is an example of what we warned against earlier: \n",
    "# a model that performs better on the training data isn’t necessarily a model that will\n",
    "# do better on data it has never seen before.\n",
    "# In precise terms, what you’re seeing is overfitting: after the fourth epoch, you’re overoptimizing on the training data, and you\n",
    "# end up learning representations that are specific to the training data and don’t generalize to data outside of the training set.\n",
    "# In this case, to prevent overfitting, you could stop training after four epochs.\n",
    "# In general, you can use a range of techniques to mitigate overfitting, which we’ll cover in chapter 5"
   ]
  },
  {
   "cell_type": "code",
   "execution_count": 84,
   "id": "c284a93f-1e49-4f98-8afd-e540b30a25b0",
   "metadata": {},
   "outputs": [],
   "source": [
    "# O sea, para evitar el sobreentrenamiento, entranaremos otra vez, pero sólo durante 4 epochs...\n",
    "# y leugo evaluaremos en los datos de test..."
   ]
  },
  {
   "cell_type": "code",
   "execution_count": 89,
   "id": "59012110-d082-49bc-aeb0-1c44c38e436f",
   "metadata": {},
   "outputs": [
    {
     "name": "stdout",
     "output_type": "stream",
     "text": [
      "Epoch 1/4\n",
      "49/49 [==============================] - 1s 14ms/step - loss: 0.4654 - accuracy: 0.8178\n",
      "Epoch 2/4\n",
      "49/49 [==============================] - 1s 13ms/step - loss: 0.2665 - accuracy: 0.9107\n",
      "Epoch 3/4\n",
      "49/49 [==============================] - 1s 13ms/step - loss: 0.2028 - accuracy: 0.9286\n",
      "Epoch 4/4\n",
      "49/49 [==============================] - 1s 13ms/step - loss: 0.1704 - accuracy: 0.9408\n",
      "782/782 [==============================] - 2s 2ms/step - loss: 0.2915 - accuracy: 0.8852\n"
     ]
    }
   ],
   "source": [
    "# Todo desde 0, ya sabiendo que tenemos que pararnos en 4 epochs...\n",
    "model = keras.Sequential([\n",
    "    layers.Dense(16, activation=\"relu\"),\n",
    "    layers.Dense(16, activation=\"relu\"),\n",
    "    layers.Dense(1, activation=\"sigmoid\"),\n",
    "])\n",
    "model.compile(optimizer=\"rmsprop\", loss=\"binary_crossentropy\", metrics=[\"accuracy\"])\n",
    "# Ahora ya no nos interesa el historial, ni utilizar la validación,\n",
    "# también, en el entreno utilziaremos todo el set del train.. (no como antes que reservábamos algunos para validar el modelo)\n",
    "model.fit(x_train, y_train, epochs=4, batch_size=512)\n",
    "results = model.evaluate(x_test, y_test)"
   ]
  },
  {
   "cell_type": "code",
   "execution_count": 95,
   "id": "6404fc33-cdf2-435f-9c96-e3aeaa09ffec",
   "metadata": {},
   "outputs": [
    {
     "data": {
      "text/plain": [
       "[0.2815724313259125, 0.8863999843597412]"
      ]
     },
     "execution_count": 95,
     "metadata": {},
     "output_type": "execute_result"
    }
   ],
   "source": [
    "results"
   ]
  },
  {
   "cell_type": "code",
   "execution_count": 96,
   "id": "e8dff322-1d04-4963-8e3e-b874095c6f3b",
   "metadata": {},
   "outputs": [
    {
     "data": {
      "text/plain": [
       "array([[0.86916596],\n",
       "       [0.03901845],\n",
       "       [0.02978572],\n",
       "       [0.04250407],\n",
       "       [0.9784135 ],\n",
       "       [0.02911198],\n",
       "       [0.91154695],\n",
       "       [0.57610935],\n",
       "       [0.04085487],\n",
       "       [0.07627279],\n",
       "       [0.9741254 ],\n",
       "       [0.974913  ],\n",
       "       [0.25206113],\n",
       "       [0.911839  ],\n",
       "       [0.8637403 ]], dtype=float32)"
      ]
     },
     "execution_count": 96,
     "metadata": {},
     "output_type": "execute_result"
    }
   ],
   "source": [
    "# Using a trained model to generate predictions on new data\n",
    "model.predict(x_test[10:25])"
   ]
  },
  {
   "cell_type": "code",
   "execution_count": 97,
   "id": "b5f17ed2-d405-4272-80b8-4aa3c618ea8a",
   "metadata": {},
   "outputs": [],
   "source": [
    "# Observa que para algunos nos da poca seguridad, como uno que pone 0.25 en este caso\n",
    "# Otro pone 0.57 !!! ufff"
   ]
  },
  {
   "cell_type": "markdown",
   "id": "970fc622-7002-4d45-b9ef-32d3608f0115",
   "metadata": {
    "tags": []
   },
   "source": [
    "# Further experiments\n",
    "The following experiments will help convince you that the architecture choices you’ve made are all fairly reasonable, although there’s still room for improvement:\n",
    "* You used two representation layers before the final classification layer. Try using one or three representation layers, and see how doing so affects validation and test accuracy.\n",
    "* Try using layers with more units or fewer units: 32 units, 64 units, and so on.\n",
    "* Try using the mse loss function instead of binary_crossentropy.\n",
    "* Try using the tanh activation (an activation that was popular in the early days of neural networks) instead of relu."
   ]
  },
  {
   "cell_type": "code",
   "execution_count": 107,
   "id": "6460a91a-f838-4e27-9ab3-904310a775e0",
   "metadata": {},
   "outputs": [
    {
     "name": "stdout",
     "output_type": "stream",
     "text": [
      "Epoch 1/20\n",
      "30/30 [==============================] - 2s 32ms/step - loss: 0.5721 - accuracy: 0.7425 - val_loss: 0.4461 - val_accuracy: 0.8585\n",
      "Epoch 2/20\n",
      "30/30 [==============================] - 1s 18ms/step - loss: 0.3439 - accuracy: 0.8955 - val_loss: 0.3603 - val_accuracy: 0.8581\n",
      "Epoch 3/20\n",
      "30/30 [==============================] - 1s 17ms/step - loss: 0.2288 - accuracy: 0.9289 - val_loss: 0.3335 - val_accuracy: 0.8671\n",
      "Epoch 4/20\n",
      "30/30 [==============================] - 1s 17ms/step - loss: 0.1730 - accuracy: 0.9439 - val_loss: 0.3037 - val_accuracy: 0.8776\n",
      "Epoch 5/20\n",
      "30/30 [==============================] - 1s 18ms/step - loss: 0.1370 - accuracy: 0.9575 - val_loss: 0.3259 - val_accuracy: 0.8744\n",
      "Epoch 6/20\n",
      "30/30 [==============================] - 1s 19ms/step - loss: 0.1133 - accuracy: 0.9658 - val_loss: 0.3474 - val_accuracy: 0.8768\n",
      "Epoch 7/20\n",
      "30/30 [==============================] - 1s 17ms/step - loss: 0.0900 - accuracy: 0.9737 - val_loss: 0.3491 - val_accuracy: 0.8747\n",
      "Epoch 8/20\n",
      "30/30 [==============================] - 1s 17ms/step - loss: 0.0759 - accuracy: 0.9790 - val_loss: 0.3798 - val_accuracy: 0.8767\n",
      "Epoch 9/20\n",
      "30/30 [==============================] - 1s 17ms/step - loss: 0.0591 - accuracy: 0.9851 - val_loss: 0.4032 - val_accuracy: 0.8727\n",
      "Epoch 10/20\n",
      "30/30 [==============================] - 1s 18ms/step - loss: 0.0467 - accuracy: 0.9899 - val_loss: 0.4716 - val_accuracy: 0.8738\n",
      "Epoch 11/20\n",
      "30/30 [==============================] - 1s 18ms/step - loss: 0.0432 - accuracy: 0.9887 - val_loss: 0.4712 - val_accuracy: 0.8753\n",
      "Epoch 12/20\n",
      "30/30 [==============================] - 1s 18ms/step - loss: 0.0312 - accuracy: 0.9929 - val_loss: 0.5071 - val_accuracy: 0.8758\n",
      "Epoch 13/20\n",
      "30/30 [==============================] - 1s 17ms/step - loss: 0.0266 - accuracy: 0.9942 - val_loss: 0.5352 - val_accuracy: 0.8735\n",
      "Epoch 14/20\n",
      "30/30 [==============================] - 1s 17ms/step - loss: 0.0215 - accuracy: 0.9950 - val_loss: 0.5849 - val_accuracy: 0.8747\n",
      "Epoch 15/20\n",
      "30/30 [==============================] - 1s 17ms/step - loss: 0.0109 - accuracy: 0.9989 - val_loss: 0.6000 - val_accuracy: 0.8660\n",
      "Epoch 16/20\n",
      "30/30 [==============================] - 1s 18ms/step - loss: 0.0200 - accuracy: 0.9949 - val_loss: 0.6475 - val_accuracy: 0.8705\n",
      "Epoch 17/20\n",
      "30/30 [==============================] - 1s 17ms/step - loss: 0.0056 - accuracy: 0.9994 - val_loss: 0.7762 - val_accuracy: 0.8642\n",
      "Epoch 18/20\n",
      "30/30 [==============================] - 1s 18ms/step - loss: 0.0126 - accuracy: 0.9967 - val_loss: 0.7220 - val_accuracy: 0.8678\n",
      "Epoch 19/20\n",
      "30/30 [==============================] - 1s 19ms/step - loss: 0.0033 - accuracy: 0.9997 - val_loss: 0.7535 - val_accuracy: 0.8644\n",
      "Epoch 20/20\n",
      "30/30 [==============================] - 1s 18ms/step - loss: 0.0196 - accuracy: 0.9941 - val_loss: 0.8051 - val_accuracy: 0.8663\n"
     ]
    }
   ],
   "source": [
    "# experimento 1, tres layers...\n",
    "model = keras.Sequential([\n",
    "    layers.Dense(units=16, activation=\"relu\"),\n",
    "    layers.Dense(units=16, activation=\"relu\"),\n",
    "    layers.Dense(units=16, activation=\"relu\"),\n",
    "    layers.Dense(units=1, activation=\"sigmoid\"),\n",
    "])\n",
    "model.compile(optimizer=\"rmsprop\", loss=\"binary_crossentropy\", metrics=[\"accuracy\"])\n",
    "history = model.fit(x_partial_train, y_partial_train,\n",
    "                    epochs=20, batch_size=512,\n",
    "                    validation_data=(x_validation, y_validation))"
   ]
  },
  {
   "cell_type": "code",
   "execution_count": 119,
   "id": "66c63c33-1375-4c23-b69e-23bf9bb009d8",
   "metadata": {},
   "outputs": [
    {
     "data": {
      "text/plain": [
       "<matplotlib.legend.Legend at 0x17eb79d9570>"
      ]
     },
     "execution_count": 119,
     "metadata": {},
     "output_type": "execute_result"
    },
    {
     "data": {
      "image/png": "[encoded data removed]",
      "text/plain": [
       "<Figure size 432x288 with 1 Axes>"
      ]
     },
     "metadata": {
      "needs_background": "light"
     },
     "output_type": "display_data"
    }
   ],
   "source": [
    "plt.plot(range(1, 21), history.history['loss'], color='b', label=\"Training loss\")\n",
    "plt.plot(range(1, 21), history.history['accuracy'], 'green', label=\"Training accuracy\")\n",
    "plt.plot(range(1, 21), history.history['val_loss'], label=\"Validation loss\", color='r')\n",
    "plt.plot(range(1, 21), history.history['val_accuracy'], color='orange',label=\"Validation accuracy\")  \n",
    "plt.legend()"
   ]
  },
  {
   "cell_type": "code",
   "execution_count": 120,
   "id": "6a4d4a2c-ba85-46dd-951a-f09935427f28",
   "metadata": {},
   "outputs": [],
   "source": [
    "# Ufff, lo mismo que antes... tras 4 epochs se observa overfitting... ahora lo hago parando a los 4..."
   ]
  },
  {
   "cell_type": "code",
   "execution_count": 121,
   "id": "ecb12728-4dfc-460f-aaf5-35ce2d066050",
   "metadata": {},
   "outputs": [
    {
     "name": "stdout",
     "output_type": "stream",
     "text": [
      "Epoch 1/4\n",
      "49/49 [==============================] - 1s 13ms/step - loss: 0.4521 - accuracy: 0.8134\n",
      "Epoch 2/4\n",
      "49/49 [==============================] - 1s 12ms/step - loss: 0.2501 - accuracy: 0.9091\n",
      "Epoch 3/4\n",
      "49/49 [==============================] - 1s 12ms/step - loss: 0.1946 - accuracy: 0.9280\n",
      "Epoch 4/4\n",
      "49/49 [==============================] - 1s 12ms/step - loss: 0.1660 - accuracy: 0.9405\n",
      "782/782 [==============================] - 2s 2ms/step - loss: 0.3335 - accuracy: 0.8718\n",
      "[0.33353015780448914, 0.8718000054359436]\n"
     ]
    }
   ],
   "source": [
    "model = keras.Sequential([\n",
    "    layers.Dense(units=16, activation=\"relu\"),\n",
    "    layers.Dense(units=16, activation=\"relu\"),\n",
    "    layers.Dense(units=16, activation=\"relu\"),\n",
    "    layers.Dense(units=1, activation=\"sigmoid\"),\n",
    "])\n",
    "model.compile(optimizer=\"rmsprop\", loss=\"binary_crossentropy\", metrics=[\"accuracy\"])\n",
    "model.fit(x_train, y_train, epochs=4, batch_size=512)\n",
    "results = model.evaluate(x_test, y_test)\n",
    "print(results)"
   ]
  },
  {
   "cell_type": "code",
   "execution_count": 122,
   "id": "31bf805d-3e4f-4fa1-8b38-a45bb55d4984",
   "metadata": {},
   "outputs": [],
   "source": [
    "# Similar a lo de antes!!!"
   ]
  },
  {
   "cell_type": "code",
   "execution_count": 123,
   "id": "a17449da-b4dc-480b-b91c-a4dba99a669f",
   "metadata": {},
   "outputs": [],
   "source": [
    "# Ultima prueba... vectorizando de otra forma los valores...\n",
    "def vectorize_sequences(reviews: List[int], dimension=10_000) -> np.ndarray:\n",
    "    results = np.zeros((len(reviews), dimension))\n",
    "    for i, review in enumerate(reviews):\n",
    "        for indice_palabra in review:\n",
    "            results[i, indice_palabra] = 1\n",
    "    return results\n",
    "\n",
    "def vectorize_sequences_2(reviews: List[int], dimension=10_000) -> np.ndarray:\n",
    "    results = np.zeros((len(reviews), dimension))\n",
    "    for i, review in enumerate(reviews):\n",
    "        for indice_palabra in review:\n",
    "            results[i, indice_palabra] += 1\n",
    "    return results"
   ]
  },
  {
   "cell_type": "code",
   "execution_count": 126,
   "id": "e45d728d-de7c-4543-9c5f-4ce1e897e047",
   "metadata": {},
   "outputs": [],
   "source": [
    "# Hacemos el multi-hot-variado... encoding...\n",
    "x_train = vectorize_sequences_2(train_data)\n",
    "x_test = vectorize_sequences_2(test_data)\n",
    "# Vectorizar las labels es inmediato...\n",
    "y_train = np.asarray(train_labels).astype(\"float32\")\n",
    "y_test = np.asarray(test_labels).astype(\"float32\")\n",
    "x_validation = x_train[:10_000]\n",
    "y_validation = y_train[:10_000]\n",
    "x_partial_train = x_train[10_000:]\n",
    "y_partial_train = y_train[10_000:]"
   ]
  },
  {
   "cell_type": "code",
   "execution_count": 127,
   "id": "c3a23975-3c4e-4b6f-8454-12472ae7c52e",
   "metadata": {},
   "outputs": [
    {
     "name": "stdout",
     "output_type": "stream",
     "text": [
      "Epoch 1/20\n",
      "30/30 [==============================] - 2s 34ms/step - loss: 0.5495 - accuracy: 0.7337 - val_loss: 0.4199 - val_accuracy: 0.8536\n",
      "Epoch 2/20\n",
      "30/30 [==============================] - 1s 20ms/step - loss: 0.3489 - accuracy: 0.8865 - val_loss: 0.3272 - val_accuracy: 0.8876\n",
      "Epoch 3/20\n",
      "30/30 [==============================] - 1s 20ms/step - loss: 0.2685 - accuracy: 0.9123 - val_loss: 0.3302 - val_accuracy: 0.8771\n",
      "Epoch 4/20\n",
      "30/30 [==============================] - 1s 27ms/step - loss: 0.2147 - accuracy: 0.9313 - val_loss: 0.2808 - val_accuracy: 0.8944\n",
      "Epoch 5/20\n",
      "30/30 [==============================] - 1s 26ms/step - loss: 0.1829 - accuracy: 0.9415 - val_loss: 0.2876 - val_accuracy: 0.8900\n",
      "Epoch 6/20\n",
      "30/30 [==============================] - 1s 22ms/step - loss: 0.1537 - accuracy: 0.9521 - val_loss: 0.2909 - val_accuracy: 0.8890\n",
      "Epoch 7/20\n",
      "30/30 [==============================] - 1s 23ms/step - loss: 0.1356 - accuracy: 0.9569 - val_loss: 0.2892 - val_accuracy: 0.8929\n",
      "Epoch 8/20\n",
      "30/30 [==============================] - 1s 21ms/step - loss: 0.1150 - accuracy: 0.9644 - val_loss: 0.3884 - val_accuracy: 0.8625\n",
      "Epoch 9/20\n",
      "30/30 [==============================] - 1s 22ms/step - loss: 0.0985 - accuracy: 0.9709 - val_loss: 0.3121 - val_accuracy: 0.8870\n",
      "Epoch 10/20\n",
      "30/30 [==============================] - 1s 25ms/step - loss: 0.0863 - accuracy: 0.9750 - val_loss: 0.3248 - val_accuracy: 0.8859\n",
      "Epoch 11/20\n",
      "30/30 [==============================] - 1s 21ms/step - loss: 0.0734 - accuracy: 0.9802 - val_loss: 0.3393 - val_accuracy: 0.8841\n",
      "Epoch 12/20\n",
      "30/30 [==============================] - 1s 20ms/step - loss: 0.0622 - accuracy: 0.9842 - val_loss: 0.3554 - val_accuracy: 0.8837\n",
      "Epoch 13/20\n",
      "30/30 [==============================] - 1s 22ms/step - loss: 0.0565 - accuracy: 0.9858 - val_loss: 0.3759 - val_accuracy: 0.8814\n",
      "Epoch 14/20\n",
      "30/30 [==============================] - 1s 21ms/step - loss: 0.0514 - accuracy: 0.9867 - val_loss: 0.3969 - val_accuracy: 0.8802\n",
      "Epoch 15/20\n",
      "30/30 [==============================] - 1s 21ms/step - loss: 0.0358 - accuracy: 0.9931 - val_loss: 0.4690 - val_accuracy: 0.8682\n",
      "Epoch 16/20\n",
      "30/30 [==============================] - 1s 20ms/step - loss: 0.0342 - accuracy: 0.9926 - val_loss: 0.4741 - val_accuracy: 0.8733\n",
      "Epoch 17/20\n",
      "30/30 [==============================] - 1s 22ms/step - loss: 0.0212 - accuracy: 0.9973 - val_loss: 0.4681 - val_accuracy: 0.8749\n",
      "Epoch 18/20\n",
      "30/30 [==============================] - 1s 22ms/step - loss: 0.0334 - accuracy: 0.9927 - val_loss: 0.4833 - val_accuracy: 0.8753\n",
      "Epoch 19/20\n",
      "30/30 [==============================] - 1s 22ms/step - loss: 0.0135 - accuracy: 0.9988 - val_loss: 0.5229 - val_accuracy: 0.8715\n",
      "Epoch 20/20\n",
      "30/30 [==============================] - 1s 20ms/step - loss: 0.0288 - accuracy: 0.9937 - val_loss: 0.5267 - val_accuracy: 0.8736\n"
     ]
    }
   ],
   "source": [
    "model = keras.Sequential([\n",
    "    layers.Dense(units=16, activation=\"relu\"),\n",
    "    layers.Dense(units=16, activation=\"relu\"),\n",
    "    layers.Dense(units=1, activation=\"sigmoid\"),\n",
    "])\n",
    "\n",
    "model.compile(optimizer=\"rmsprop\",\n",
    "              loss=\"binary_crossentropy\",\n",
    "              metrics=[\"accuracy\"])\n",
    "\n",
    "history = model.fit(x_partial_train, y_partial_train, \n",
    "                    epochs=20, batch_size=512,\n",
    "                    validation_data=(x_validation, y_validation))"
   ]
  },
  {
   "cell_type": "code",
   "execution_count": 128,
   "id": "ef4bac24-cec5-4ff4-a5c4-6e058e483346",
   "metadata": {},
   "outputs": [
    {
     "data": {
      "text/plain": [
       "<matplotlib.legend.Legend at 0x17eb7247a90>"
      ]
     },
     "execution_count": 128,
     "metadata": {},
     "output_type": "execute_result"
    },
    {
     "data": {
      "image/png": "[encoded data removed]",
      "text/plain": [
       "<Figure size 432x288 with 1 Axes>"
      ]
     },
     "metadata": {
      "needs_background": "light"
     },
     "output_type": "display_data"
    }
   ],
   "source": [
    "plt.plot(range(1, 21), history.history['loss'], color='b', label=\"Training loss\")\n",
    "plt.plot(range(1, 21), history.history['accuracy'], 'green', label=\"Training accuracy\")\n",
    "plt.plot(range(1, 21), history.history['val_loss'], label=\"Validation loss\", color='r')\n",
    "plt.plot(range(1, 21), history.history['val_accuracy'], color='orange',label=\"Validation accuracy\")  \n",
    "plt.legend()"
   ]
  },
  {
   "cell_type": "code",
   "execution_count": 129,
   "id": "27339070-a4a8-4056-b294-103a7d5d724b",
   "metadata": {},
   "outputs": [],
   "source": [
    "# Parece que hay overfitting tras 3l cuarto epoch...\n",
    "# de todas formas parece mejor que el resultado anterior... simplemente cambiando\n",
    "# la forma de codificar los datos!!"
   ]
  },
  {
   "cell_type": "code",
   "execution_count": 130,
   "id": "507669e5-88ba-459c-879d-5a859e3d9c6f",
   "metadata": {},
   "outputs": [
    {
     "name": "stdout",
     "output_type": "stream",
     "text": [
      "Epoch 1/4\n",
      "49/49 [==============================] - 1s 13ms/step - loss: 0.5037 - accuracy: 0.7846\n",
      "Epoch 2/4\n",
      "49/49 [==============================] - 1s 13ms/step - loss: 0.2976 - accuracy: 0.8928\n",
      "Epoch 3/4\n",
      "49/49 [==============================] - 1s 13ms/step - loss: 0.2350 - accuracy: 0.9153\n",
      "Epoch 4/4\n",
      "49/49 [==============================] - 1s 13ms/step - loss: 0.1966 - accuracy: 0.9310\n",
      "782/782 [==============================] - 2s 2ms/step - loss: 0.2908 - accuracy: 0.8874\n"
     ]
    }
   ],
   "source": [
    "# Test final...\n",
    "model = keras.Sequential([\n",
    "    layers.Dense(units=16, activation=\"relu\"),\n",
    "    layers.Dense(units=16, activation=\"relu\"),\n",
    "    layers.Dense(units=1, activation=\"sigmoid\"),\n",
    "])\n",
    "\n",
    "model.compile(optimizer=\"rmsprop\",\n",
    "              loss=\"binary_crossentropy\",\n",
    "              metrics=[\"accuracy\"])\n",
    "\n",
    "model.fit(x_train, y_train, epochs=4, batch_size=512)\n",
    "results = model.evaluate(x_test, y_test)\n"
   ]
  },
  {
   "cell_type": "code",
   "execution_count": 131,
   "id": "76ba97fb-2b1a-43b1-88e9-9d7929e8d568",
   "metadata": {},
   "outputs": [
    {
     "data": {
      "text/plain": [
       "[0.29078084230422974, 0.8873599767684937]"
      ]
     },
     "execution_count": 131,
     "metadata": {},
     "output_type": "execute_result"
    }
   ],
   "source": [
    "results"
   ]
  },
  {
   "cell_type": "code",
   "execution_count": null,
   "id": "47c3f415-3edc-4698-88dd-aeaa08a0f472",
   "metadata": {},
   "outputs": [],
   "source": [
    "# Puyes no, parece similar!!"
   ]
  }
 ],
 "metadata": {
  "kernelspec": {
   "display_name": "Python 3 (ipykernel)",
   "language": "python",
   "name": "python3"
  },
  "language_info": {
   "codemirror_mode": {
    "name": "ipython",
    "version": 3
   },
   "file_extension": ".py",
   "mimetype": "text/x-python",
   "name": "python",
   "nbconvert_exporter": "python",
   "pygments_lexer": "ipython3",
   "version": "3.10.4"
  }
 },
 "nbformat": 4,
 "nbformat_minor": 5
}

{
 "cells": [
  {
   "cell_type": "code",
   "execution_count": 27,
   "id": "ef068790-18bc-41ae-83d1-51f04fb4a052",
   "metadata": {},
   "outputs": [],
   "source": [
    "import numpy as np\n",
    "from tensorflow.keras.datasets import reuters\n",
    "(train_data, train_labels), (test_data, test_labels) = reuters.load_data(num_words=10_000)"
   ]
  },
  {
   "cell_type": "code",
   "execution_count": 4,
   "id": "5e5e1f2e-5112-48b7-9d93-900cb4931ce1",
   "metadata": {},
   "outputs": [
    {
     "data": {
      "text/plain": [
       "45"
      ]
     },
     "execution_count": 4,
     "metadata": {},
     "output_type": "execute_result"
    }
   ],
   "source": [
    "# El objetivo es entrenar para interpretar estas noticias reuters...\n",
    "# Están clasificadas en 46 categorías (single-label multi class) de 0 4 45\n",
    "max(train_labels)"
   ]
  },
  {
   "cell_type": "code",
   "execution_count": 6,
   "id": "ffe5b308-36b3-4b25-86b6-4e013f4c21f3",
   "metadata": {},
   "outputs": [
    {
     "data": {
      "text/plain": [
       "(8982, 2246)"
      ]
     },
     "execution_count": 6,
     "metadata": {},
     "output_type": "execute_result"
    }
   ],
   "source": [
    "# Los datos para entrenar son 8982\n",
    "# Los datos para luego testear la red son 2246\n",
    "len(train_data), len(test_data)"
   ]
  },
  {
   "cell_type": "code",
   "execution_count": 7,
   "id": "c3f9e30d-1f73-4860-b073-5f6ae1e6b403",
   "metadata": {},
   "outputs": [],
   "source": [
    "# Los mensajes están codificados como antes, cada mensajes es realmente una lista con enteros... donde cada\n",
    "# enteros es el índice de la palabra en un diccionario de palabras... las que tienen número más bajo son las\n",
    "# que más se repiten... nosotros cargamos la lista con las 10_000 más probables"
   ]
  },
  {
   "cell_type": "code",
   "execution_count": 9,
   "id": "0c0c099f-2ef1-43e8-b7ac-64ddd262d25d",
   "metadata": {},
   "outputs": [
    {
     "data": {
      "text/plain": [
       "[1,\n",
       " 2,\n",
       " 2,\n",
       " 8,\n",
       " 43,\n",
       " 10,\n",
       " 447,\n",
       " 5,\n",
       " 25,\n",
       " 207,\n",
       " 270,\n",
       " 5,\n",
       " 3095,\n",
       " 111,\n",
       " 16,\n",
       " 369,\n",
       " 186,\n",
       " 90,\n",
       " 67,\n",
       " 7,\n",
       " 89,\n",
       " 5,\n",
       " 19,\n",
       " 102,\n",
       " 6,\n",
       " 19,\n",
       " 124,\n",
       " 15,\n",
       " 90,\n",
       " 67,\n",
       " 84,\n",
       " 22,\n",
       " 482,\n",
       " 26,\n",
       " 7,\n",
       " 48,\n",
       " 4,\n",
       " 49,\n",
       " 8,\n",
       " 864,\n",
       " 39,\n",
       " 209,\n",
       " 154,\n",
       " 6,\n",
       " 151,\n",
       " 6,\n",
       " 83,\n",
       " 11,\n",
       " 15,\n",
       " 22,\n",
       " 155,\n",
       " 11,\n",
       " 15,\n",
       " 7,\n",
       " 48,\n",
       " 9,\n",
       " 4579,\n",
       " 1005,\n",
       " 504,\n",
       " 6,\n",
       " 258,\n",
       " 6,\n",
       " 272,\n",
       " 11,\n",
       " 15,\n",
       " 22,\n",
       " 134,\n",
       " 44,\n",
       " 11,\n",
       " 15,\n",
       " 16,\n",
       " 8,\n",
       " 197,\n",
       " 1245,\n",
       " 90,\n",
       " 67,\n",
       " 52,\n",
       " 29,\n",
       " 209,\n",
       " 30,\n",
       " 32,\n",
       " 132,\n",
       " 6,\n",
       " 109,\n",
       " 15,\n",
       " 17,\n",
       " 12]"
      ]
     },
     "execution_count": 9,
     "metadata": {},
     "output_type": "execute_result"
    }
   ],
   "source": [
    "train_data[0]  # este es el mensaje 0"
   ]
  },
  {
   "cell_type": "code",
   "execution_count": 19,
   "id": "5d74c75a-1f68-4c17-803c-13e23d0b4f8c",
   "metadata": {},
   "outputs": [],
   "source": [
    "# Podemos recuperaarlo...\n",
    "word_index = reuters.get_word_index()\n",
    "index_to_word: dict = {value: key for key, value in word_index.items()}\n",
    "from typing import List\n",
    "def integer_to_text(int_mensaje: List[int]) -> str:\n",
    "    mensaje = []\n",
    "    for entero in int_mensaje:\n",
    "        mensaje.append(index_to_word.get(entero - 3, '?'))\n",
    "    return ' '.join(mensaje)"
   ]
  },
  {
   "cell_type": "code",
   "execution_count": 20,
   "id": "78b138e3-1caa-46ec-ab9b-778a93862f77",
   "metadata": {},
   "outputs": [
    {
     "data": {
      "text/plain": [
       "'? ? ? said as a result of its december acquisition of space co it expects earnings per share in 1987 of 1 15 to 1 30 dlrs per share up from 70 cts in 1986 the company said pretax net should rise to nine to 10 mln dlrs from six mln dlrs in 1986 and rental operation revenues to 19 to 22 mln dlrs from 12 5 mln dlrs it said cash flow per share this year should be 2 50 to three dlrs reuter 3'"
      ]
     },
     "execution_count": 20,
     "metadata": {},
     "output_type": "execute_result"
    }
   ],
   "source": [
    "integer_to_text(train_data[0])"
   ]
  },
  {
   "cell_type": "code",
   "execution_count": 22,
   "id": "c4569e2d-b843-447a-a9d5-29521ecf6d10",
   "metadata": {},
   "outputs": [
    {
     "data": {
      "text/plain": [
       "\"? jacobs ? ag lt ? z hopes for another excellent year in 1987 after a 27 pct increase in 1986 net profit results in the first few months show it heading in the right direction company president ? jacobs said the group reported 1986 net profit of 190 9 mln swiss francs compared with 150 4 mln in 1985 and raised its dividend per bearer share to 160 francs from 155 francs jacobs said the increase in profit which far exceeded the company's target of five pct real annual growth had been made possible by restructuring measures introduced in january 1986 which had also made some major acquisitions possible last year hermann ? general director in charge of economic affairs said the 2 7 pct decline in group turnover to 5 24 billion francs was due to currency factors a 5 2 pct negative currency influence was partially offset by growth in operations and by structural changes within the group turnover in the coffee business fell to 3 10 billion francs from 3 56 billion in 1985 while turnover in the chocolate sector rose to 2 14 billion francs from 1 82 billion the tonnage sold in both sectors declined due to higher prices and lower consumer demand especially in france and west germany jacobs ? increased its market share in west germany to 44 9 pct from 39 9 pct in 1985 largely as a result of acquisitions market share in france was little changed at 25 pct against 25 3 pct ? said the group's average tax rate rose to 32 5 pct from 28 8 pct because of the higher profits and despite write offs on the losses of new acquisitions a further increase in tax levels was expected in future taxes jumped 51 3 pct to 92 mln francs in 1986 from 61 mln the previous year reuter 3\""
      ]
     },
     "execution_count": 22,
     "metadata": {},
     "output_type": "execute_result"
    }
   ],
   "source": [
    "integer_to_text(train_data[141])"
   ]
  },
  {
   "cell_type": "code",
   "execution_count": 23,
   "id": "b1612aa7-0790-4988-894a-eedf51021c10",
   "metadata": {},
   "outputs": [],
   "source": [
    "# Preparación de los datos...\n",
    "# Las labels son enteros 0 hasta 46...\n",
    "# Podemos codificar cada respuesta como un tensor entero, con la técnica del one.hot.encoding como antes...\n",
    "# Esto se llama CATEGORICAL ENCODING... por ejemplo si la respuesta es 6 el label transformado sería\n",
    "# (0, 0, 0, 0, 0, 0, 1, 0, 0 .......) o sea, un vector de enteros... de 46 componentes, donde todas son 0 excepto la 6ª compon. que vale 1"
   ]
  },
  {
   "cell_type": "code",
   "execution_count": 34,
   "id": "1ab5b323-fd08-4bd6-bb59-2ad47cdde7ae",
   "metadata": {},
   "outputs": [],
   "source": [
    "# Lo podemos hacer manualmente...\n",
    "def to_one_hot(labels: np.ndarray, dimension=46) -> np.ndarray:\n",
    "    respuesta = np.zeros((len(labels), dimension))\n",
    "    for index, label in enumerate(labels):\n",
    "        respuesta[index, label] = 1\n",
    "    return respuesta"
   ]
  },
  {
   "cell_type": "code",
   "execution_count": 38,
   "id": "930c22cc-b80d-4311-b3f0-0916bf3c87af",
   "metadata": {},
   "outputs": [
    {
     "data": {
      "text/plain": [
       "4"
      ]
     },
     "execution_count": 38,
     "metadata": {},
     "output_type": "execute_result"
    }
   ],
   "source": [
    "test_labels[3]"
   ]
  },
  {
   "cell_type": "code",
   "execution_count": 37,
   "id": "2ccf507d-a813-442e-a0ae-3df6b200f403",
   "metadata": {},
   "outputs": [],
   "source": [
    "y_train = to_one_hot(train_labels)\n",
    "y_test = to_one_hot(test_labels)"
   ]
  },
  {
   "cell_type": "code",
   "execution_count": 39,
   "id": "29acef96-4c20-472d-be6d-bad34ec413d6",
   "metadata": {},
   "outputs": [
    {
     "data": {
      "text/plain": [
       "array([0., 0., 0., 0., 1., 0., 0., 0., 0., 0., 0., 0., 0., 0., 0., 0., 0.,\n",
       "       0., 0., 0., 0., 0., 0., 0., 0., 0., 0., 0., 0., 0., 0., 0., 0., 0.,\n",
       "       0., 0., 0., 0., 0., 0., 0., 0., 0., 0., 0., 0.])"
      ]
     },
     "execution_count": 39,
     "metadata": {},
     "output_type": "execute_result"
    }
   ],
   "source": [
    "y_test[3]"
   ]
  },
  {
   "cell_type": "code",
   "execution_count": 40,
   "id": "e476685e-bacf-4f5b-8a57-5fdd818fd252",
   "metadata": {},
   "outputs": [],
   "source": [
    "# Observar que ya hay una función en tensorflow que hace esto automáticamente...\n",
    "# o sea, si tenemos un entero, lo transforma en un vector de todo 0, excepto la componente con el valor\n",
    "# que toma el valor 1\n",
    "from tensorflow.keras.utils import to_categorical\n",
    "y_train = to_categorical(train_labels)\n",
    "y_test = to_categorical(test_labels)"
   ]
  },
  {
   "cell_type": "code",
   "execution_count": 41,
   "id": "0ad56861-cc90-4851-96ca-aff4430fe173",
   "metadata": {},
   "outputs": [
    {
     "data": {
      "text/plain": [
       "array([0., 0., 0., 0., 1., 0., 0., 0., 0., 0., 0., 0., 0., 0., 0., 0., 0.,\n",
       "       0., 0., 0., 0., 0., 0., 0., 0., 0., 0., 0., 0., 0., 0., 0., 0., 0.,\n",
       "       0., 0., 0., 0., 0., 0., 0., 0., 0., 0., 0., 0.], dtype=float32)"
      ]
     },
     "execution_count": 41,
     "metadata": {},
     "output_type": "execute_result"
    }
   ],
   "source": [
    "y_test[3]"
   ]
  },
  {
   "cell_type": "code",
   "execution_count": 43,
   "id": "f4b5a4d4-fcb9-4201-8a44-54ce180f06ce",
   "metadata": {},
   "outputs": [],
   "source": [
    "# COn respecto a los samples, podemos vectorizarlos exactamente igual que antes...\n",
    "# Para cada sample o mensaje, creamos un vector de 10-000 componentes, todo \n",
    "# ceros, en los índices de las palabaras... ahí le ponemos un 1...\n",
    "# Una vaiación sería poner += 1\n",
    "def vectorize_sequences(reviews: List[int], dimension=10_000) -> np.ndarray:\n",
    "    results = np.zeros((len(reviews), dimension))\n",
    "    for i, review in enumerate(reviews):\n",
    "        for indice_palabra in review:\n",
    "            results[i, indice_palabra] = 1\n",
    "            # results[i, indice_palabra] += 1\n",
    "    return results"
   ]
  },
  {
   "cell_type": "code",
   "execution_count": 46,
   "id": "c67f0bea-7974-4c4a-9b98-e6d48a7ab37e",
   "metadata": {},
   "outputs": [],
   "source": [
    "x_train = vectorize_sequences(train_data)\n",
    "x_test = vectorize_sequences(test_data)"
   ]
  },
  {
   "cell_type": "code",
   "execution_count": 45,
   "id": "6f06ec36-8325-4eeb-a6c5-7f046fdb8cb8",
   "metadata": {},
   "outputs": [],
   "source": [
    "# Este modelo no valdía con capas de 16 neuronas... ya que cada layer realmente es una transformación\n",
    "# de un espacio de tensores de dimension la del input, a una dimension de salida...\n",
    "# con lo que si hay pocas neuronas, se perdería información...\n",
    "# utilizaremos layers de 64 neuronas"
   ]
  },
  {
   "cell_type": "code",
   "execution_count": 48,
   "id": "dd31443d-0293-4021-8858-b0a3ac670450",
   "metadata": {},
   "outputs": [],
   "source": [
    "from tensorflow import keras\n",
    "from tensorflow.keras import layers"
   ]
  },
  {
   "cell_type": "code",
   "execution_count": 49,
   "id": "90a19925-f503-4cee-a7d1-7f14ae7059d0",
   "metadata": {},
   "outputs": [],
   "source": [
    "model = keras.Sequential([\n",
    "    layers.Dense(units=64, activation='relu'),\n",
    "    layers.Dense(units=64, activation='relu'),\n",
    "    layers.Dense(46, activation=\"softmax\"),  # La de salida son el número de categorías...\n",
    "])"
   ]
  },
  {
   "cell_type": "code",
   "execution_count": 50,
   "id": "a42d4bd3-baf5-4b51-80b5-889f88f253ae",
   "metadata": {},
   "outputs": [],
   "source": [
    "# Softmax como salida lo que hace es asociar una probabilidad a cada una de las 46 clases, de forma que la suma sea 1\n",
    "# Para estos casos, la mejor función de error es la cross_entropy que nos calcula como el error cometido\n",
    "# cuando se asocia una probabilidad en lugar de otra conocida..."
   ]
  },
  {
   "cell_type": "code",
   "execution_count": 51,
   "id": "f2af21bc-979a-40a0-93b2-5f69137f11bd",
   "metadata": {},
   "outputs": [],
   "source": [
    "model.compile(optimizer=\"rmsprop\", loss=\"categorical_crossentropy\", metrics=[\"accuracy\"])"
   ]
  },
  {
   "cell_type": "code",
   "execution_count": 52,
   "id": "56faa38c-d5ec-4b37-bde7-cc2bfa4385f8",
   "metadata": {},
   "outputs": [],
   "source": [
    "# Como antes, apartamos 1000 samples del set de training para hacer la validación\n",
    "# y así poder estimar cuando ocurre el overfitting (en qué epoch)"
   ]
  },
  {
   "cell_type": "code",
   "execution_count": 53,
   "id": "ad50722f-61bc-4b8a-98db-d112d2852f60",
   "metadata": {},
   "outputs": [],
   "source": [
    "x_val = x_train[:1_000]\n",
    "y_val = y_train[:1_000]\n",
    "x_partial_train = x_train[1_000:]\n",
    "y_partial_train = y_train[1_000:]"
   ]
  },
  {
   "cell_type": "code",
   "execution_count": 54,
   "id": "87975fd1-c9cf-402a-99cd-8323d32f8829",
   "metadata": {},
   "outputs": [
    {
     "data": {
      "text/plain": [
       "(1000, 1000, 7982, 7982)"
      ]
     },
     "execution_count": 54,
     "metadata": {},
     "output_type": "execute_result"
    }
   ],
   "source": [
    "len(x_val), len(y_val), len(x_partial_train), len(y_partial_train)"
   ]
  },
  {
   "cell_type": "code",
   "execution_count": 57,
   "id": "e4e8c5f9-82ad-4822-b6f3-e8567fa564a2",
   "metadata": {},
   "outputs": [
    {
     "name": "stdout",
     "output_type": "stream",
     "text": [
      "Epoch 1/20\n",
      "16/16 [==============================] - 1s 46ms/step - loss: 2.5259 - accuracy: 0.5431 - val_loss: 1.6784 - val_accuracy: 0.6420\n",
      "Epoch 2/20\n",
      "16/16 [==============================] - 0s 30ms/step - loss: 1.3553 - accuracy: 0.7129 - val_loss: 1.2876 - val_accuracy: 0.7180\n",
      "Epoch 3/20\n",
      "16/16 [==============================] - 1s 31ms/step - loss: 1.0130 - accuracy: 0.7830 - val_loss: 1.1153 - val_accuracy: 0.7610\n",
      "Epoch 4/20\n",
      "16/16 [==============================] - 0s 31ms/step - loss: 0.7993 - accuracy: 0.8290 - val_loss: 1.0215 - val_accuracy: 0.7850\n",
      "Epoch 5/20\n",
      "16/16 [==============================] - 0s 30ms/step - loss: 0.6360 - accuracy: 0.8656 - val_loss: 0.9541 - val_accuracy: 0.8030\n",
      "Epoch 6/20\n",
      "16/16 [==============================] - 1s 31ms/step - loss: 0.5089 - accuracy: 0.8955 - val_loss: 0.9202 - val_accuracy: 0.8140\n",
      "Epoch 7/20\n",
      "16/16 [==============================] - 0s 30ms/step - loss: 0.4093 - accuracy: 0.9159 - val_loss: 0.9326 - val_accuracy: 0.8000\n",
      "Epoch 8/20\n",
      "16/16 [==============================] - 1s 30ms/step - loss: 0.3396 - accuracy: 0.9276 - val_loss: 0.9148 - val_accuracy: 0.8120\n",
      "Epoch 9/20\n",
      "16/16 [==============================] - 0s 30ms/step - loss: 0.2757 - accuracy: 0.9392 - val_loss: 0.8945 - val_accuracy: 0.8180\n",
      "Epoch 10/20\n",
      "16/16 [==============================] - 1s 31ms/step - loss: 0.2347 - accuracy: 0.9448 - val_loss: 0.8937 - val_accuracy: 0.8190\n",
      "Epoch 11/20\n",
      "16/16 [==============================] - 0s 31ms/step - loss: 0.2002 - accuracy: 0.9493 - val_loss: 0.9424 - val_accuracy: 0.8030\n",
      "Epoch 12/20\n",
      "16/16 [==============================] - 0s 30ms/step - loss: 0.1758 - accuracy: 0.9531 - val_loss: 0.9909 - val_accuracy: 0.8050\n",
      "Epoch 13/20\n",
      "16/16 [==============================] - 0s 31ms/step - loss: 0.1614 - accuracy: 0.9544 - val_loss: 0.9822 - val_accuracy: 0.8070\n",
      "Epoch 14/20\n",
      "16/16 [==============================] - 0s 31ms/step - loss: 0.1448 - accuracy: 0.9554 - val_loss: 0.9760 - val_accuracy: 0.8070\n",
      "Epoch 15/20\n",
      "16/16 [==============================] - 1s 32ms/step - loss: 0.1355 - accuracy: 0.9575 - val_loss: 1.0106 - val_accuracy: 0.8070\n",
      "Epoch 16/20\n",
      "16/16 [==============================] - 0s 31ms/step - loss: 0.1294 - accuracy: 0.9574 - val_loss: 1.0375 - val_accuracy: 0.8070\n",
      "Epoch 17/20\n",
      "16/16 [==============================] - 0s 30ms/step - loss: 0.1229 - accuracy: 0.9579 - val_loss: 1.1084 - val_accuracy: 0.7990\n",
      "Epoch 18/20\n",
      "16/16 [==============================] - 1s 32ms/step - loss: 0.1164 - accuracy: 0.9573 - val_loss: 1.0808 - val_accuracy: 0.8050\n",
      "Epoch 19/20\n",
      "16/16 [==============================] - 1s 34ms/step - loss: 0.1151 - accuracy: 0.9583 - val_loss: 1.0450 - val_accuracy: 0.8060\n",
      "Epoch 20/20\n",
      "16/16 [==============================] - 1s 32ms/step - loss: 0.1151 - accuracy: 0.9558 - val_loss: 1.0847 - val_accuracy: 0.8140\n"
     ]
    }
   ],
   "source": [
    "# Hagamos el entreno para 20 epochs a ver...\n",
    "history = model.fit(x_partial_train, y_partial_train,\n",
    "                    epochs=20, batch_size=512,\n",
    "                    validation_data=(x_val, y_val))"
   ]
  },
  {
   "cell_type": "code",
   "execution_count": 61,
   "id": "ebee4db0-4b19-4f14-b5a6-e24d556e1c7e",
   "metadata": {},
   "outputs": [
    {
     "data": {
      "image/png": "[encoded data removed]",
      "text/plain": [
       "<Figure size 432x288 with 1 Axes>"
      ]
     },
     "metadata": {
      "needs_background": "light"
     },
     "output_type": "display_data"
    }
   ],
   "source": [
    "import matplotlib.pyplot as plt\n",
    "history_dictionary = history.history\n",
    "plt.plot(range(1, 21), history_dictionary['loss'], 'blue', label=\"Training loss\")\n",
    "plt.plot(range(1, 21), history_dictionary['val_loss'], 'red', label='Validation loss')\n",
    "plt.title(\"Training and validation loss\")\n",
    "plt.xlabel(\"Epochs\")\n",
    "plt.ylabel(\"Loss\")\n",
    "plt.legend()\n",
    "plt.show()"
   ]
  },
  {
   "cell_type": "code",
   "execution_count": 62,
   "id": "9a2c595b-c0b6-4a14-8b4c-8cafe68ab257",
   "metadata": {},
   "outputs": [
    {
     "data": {
      "image/png": "[encoded data removed]",
      "text/plain": [
       "<Figure size 432x288 with 1 Axes>"
      ]
     },
     "metadata": {
      "needs_background": "light"
     },
     "output_type": "display_data"
    }
   ],
   "source": [
    "plt.plot(range(1, 21), history_dictionary['accuracy'], 'blue', label=\"Training accuracy\")\n",
    "plt.plot(range(1, 21), history_dictionary['val_accuracy'], 'red', label='Validation accuracy')\n",
    "plt.title(\"Training and validation accuracy\")\n",
    "plt.xlabel(\"Epochs\")\n",
    "plt.ylabel(\"Loss\")\n",
    "plt.legend()\n",
    "plt.show()"
   ]
  },
  {
   "cell_type": "code",
   "execution_count": 63,
   "id": "be21180a-2ab4-4018-8281-532bb60bbefd",
   "metadata": {},
   "outputs": [],
   "source": [
    "# Parece que después de 9 o 10 epochs hay overfitting!!!"
   ]
  },
  {
   "cell_type": "code",
   "execution_count": 65,
   "id": "cefe1e8f-6027-4441-8768-18368aca5dde",
   "metadata": {},
   "outputs": [
    {
     "name": "stdout",
     "output_type": "stream",
     "text": [
      "Epoch 1/9\n",
      "18/18 [==============================] - 1s 27ms/step - loss: 2.4923 - accuracy: 0.5490\n",
      "Epoch 2/9\n",
      "18/18 [==============================] - 1s 28ms/step - loss: 1.3529 - accuracy: 0.7188\n",
      "Epoch 3/9\n",
      "18/18 [==============================] - 0s 28ms/step - loss: 1.0103 - accuracy: 0.7889\n",
      "Epoch 4/9\n",
      "18/18 [==============================] - 0s 27ms/step - loss: 0.7966 - accuracy: 0.8294\n",
      "Epoch 5/9\n",
      "18/18 [==============================] - 1s 28ms/step - loss: 0.6369 - accuracy: 0.8627\n",
      "Epoch 6/9\n",
      "18/18 [==============================] - 0s 28ms/step - loss: 0.5046 - accuracy: 0.8931\n",
      "Epoch 7/9\n",
      "18/18 [==============================] - 1s 28ms/step - loss: 0.4071 - accuracy: 0.9132\n",
      "Epoch 8/9\n",
      "18/18 [==============================] - 0s 27ms/step - loss: 0.3323 - accuracy: 0.9256\n",
      "Epoch 9/9\n",
      "18/18 [==============================] - 0s 27ms/step - loss: 0.2775 - accuracy: 0.9385\n",
      "71/71 [==============================] - 0s 3ms/step - loss: 0.9699 - accuracy: 0.7845\n"
     ]
    }
   ],
   "source": [
    "# Hagamos el modelo de nuevo desde 0 y entrenémoslo con 9 epochs...\n",
    "model = keras.Sequential([\n",
    "    layers.Dense(units=64, activation='relu'),\n",
    "    layers.Dense(units=64, activation='relu'),\n",
    "    layers.Dense(46, activation=\"softmax\"),  # La de salida son el número de categorías...\n",
    "])\n",
    "model.compile(optimizer=\"rmsprop\", loss=\"categorical_crossentropy\", metrics=[\"accuracy\"])\n",
    "model.fit(x_train, y_train, epochs=9, batch_size=512)\n",
    "results = model.evaluate(x_test, y_test)"
   ]
  },
  {
   "cell_type": "code",
   "execution_count": 68,
   "id": "c1287ee1-6fed-4bab-bd25-ca12f2d74696",
   "metadata": {},
   "outputs": [
    {
     "name": "stdout",
     "output_type": "stream",
     "text": [
      "Epoch 1/9\n",
      "18/18 [==============================] - 1s 30ms/step - loss: 2.4634 - accuracy: 0.5275\n",
      "Epoch 2/9\n",
      "18/18 [==============================] - 1s 29ms/step - loss: 1.3300 - accuracy: 0.7271\n",
      "Epoch 3/9\n",
      "18/18 [==============================] - 1s 29ms/step - loss: 0.9893 - accuracy: 0.7901\n",
      "Epoch 4/9\n",
      "18/18 [==============================] - 1s 34ms/step - loss: 0.7789 - accuracy: 0.8344\n",
      "Epoch 5/9\n",
      "18/18 [==============================] - 1s 28ms/step - loss: 0.6122 - accuracy: 0.8758\n",
      "Epoch 6/9\n",
      "18/18 [==============================] - 1s 30ms/step - loss: 0.4904 - accuracy: 0.9005\n",
      "Epoch 7/9\n",
      "18/18 [==============================] - 1s 28ms/step - loss: 0.3922 - accuracy: 0.9181\n",
      "Epoch 8/9\n",
      "18/18 [==============================] - 1s 28ms/step - loss: 0.3218 - accuracy: 0.9322\n",
      "Epoch 9/9\n",
      "18/18 [==============================] - 0s 27ms/step - loss: 0.2673 - accuracy: 0.9418\n",
      "71/71 [==============================] - 0s 3ms/step - loss: 0.9525 - accuracy: 0.7956\n"
     ]
    }
   ],
   "source": [
    "# Otra forma distinta de codificar las labels en el modelo...\n",
    "# Ya hicimos ahora el one-hot-encoding...\n",
    "# también podíamos haber hecho...\n",
    "y_train = np.array(train_labels)\n",
    "y_test = np.array(test_labels)\n",
    "\n",
    "# Lo único que necesitaríamos cambiar, es la función para evaluar la pérdida...\n",
    "# sparse_categorical_crossentropy en vez de  categorical_crossentropy\n",
    "# Realmente la función hace lo mismo, pero en la de antes actuaba comprando con un vector de probabildiades\n",
    "# y ahora con un número que nos indica la clase a la que pertenece (podría ser, por ejemplo 42.57)\n",
    "model = keras.Sequential([\n",
    "    layers.Dense(units=64, activation='relu'),\n",
    "    layers.Dense(units=64, activation='relu'),\n",
    "    layers.Dense(46, activation=\"softmax\"),  # La de salida son el número de categorías...\n",
    "])\n",
    "model.compile(optimizer=\"rmsprop\", loss=\"sparse_categorical_crossentropy\", metrics=[\"accuracy\"])\n",
    "model.fit(x_train, y_train, epochs=9, batch_size=512)\n",
    "results = model.evaluate(x_test, y_test)"
   ]
  },
  {
   "cell_type": "code",
   "execution_count": null,
   "id": "9b89a8e8-01df-4425-a0aa-353d455c6038",
   "metadata": {},
   "outputs": [],
   "source": []
  }
 ],
 "metadata": {
  "kernelspec": {
   "display_name": "Python 3 (ipykernel)",
   "language": "python",
   "name": "python3"
  },
  "language_info": {
   "codemirror_mode": {
    "name": "ipython",
    "version": 3
   },
   "file_extension": ".py",
   "mimetype": "text/x-python",
   "name": "python",
   "nbconvert_exporter": "python",
   "pygments_lexer": "ipython3",
   "version": "3.10.4"
  }
 },
 "nbformat": 4,
 "nbformat_minor": 5
}

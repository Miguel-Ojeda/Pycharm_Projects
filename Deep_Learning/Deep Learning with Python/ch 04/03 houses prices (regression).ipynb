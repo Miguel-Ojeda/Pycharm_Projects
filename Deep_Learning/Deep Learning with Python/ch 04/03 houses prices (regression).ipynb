{
 "cells": [
  {
   "cell_type": "code",
   "execution_count": 2,
   "id": "35597f13-caa0-4f30-acb4-74fe2d2111e2",
   "metadata": {},
   "outputs": [],
   "source": [
    "from tensorflow.keras.datasets import boston_housing\n",
    "(train_data, train_targets), (test_data, test_targets) = boston_housing.load_data()"
   ]
  },
  {
   "cell_type": "code",
   "execution_count": 3,
   "id": "2c21fb99-df58-4597-8fab-efdba3b589bb",
   "metadata": {},
   "outputs": [
    {
     "data": {
      "text/plain": [
       "((404, 13), (102, 13))"
      ]
     },
     "execution_count": 3,
     "metadata": {},
     "output_type": "execute_result"
    }
   ],
   "source": [
    "train_data.shape, test_data.shape\n",
    "# SOn muy pocos datos, 404 para entrenar y 102 para testeo"
   ]
  },
  {
   "cell_type": "code",
   "execution_count": 4,
   "id": "274ad9f4-4afa-4eb9-94a4-15364fb51721",
   "metadata": {},
   "outputs": [
    {
     "data": {
      "text/plain": [
       "array([  1.23247,   0.     ,   8.14   ,   0.     ,   0.538  ,   6.142  ,\n",
       "        91.7    ,   3.9769 ,   4.     , 307.     ,  21.     , 396.9    ,\n",
       "        18.72   ])"
      ]
     },
     "execution_count": 4,
     "metadata": {},
     "output_type": "execute_result"
    }
   ],
   "source": [
    "train_data[0]\n",
    "# Cada sample es un vector con 13 características...\n",
    "# such as per capita crime rate, average number of rooms per dwelling, accessibility to highways, and so on."
   ]
  },
  {
   "cell_type": "code",
   "execution_count": 6,
   "id": "52fc6262-5487-474b-a62e-ae7ba02d479c",
   "metadata": {},
   "outputs": [
    {
     "data": {
      "text/plain": [
       "42.3"
      ]
     },
     "execution_count": 6,
     "metadata": {},
     "output_type": "execute_result"
    }
   ],
   "source": [
    "train_targets[0]  # es como el precio, en miles de dólares\n",
    "train_targets[1]"
   ]
  },
  {
   "cell_type": "code",
   "execution_count": 5,
   "id": "310e70fe-47ae-4081-a008-88dcb86d7de9",
   "metadata": {},
   "outputs": [],
   "source": [
    "# Problema... las componentes de train_data tienen rango muy dispares!!!\n",
    "# Se suele normalizar: para cada feature we subtract the mean of the feature and divide by the standard deviation,\n",
    "# so that the feature is centered around 0 and has a unit standard deviation. This is easily done in NumPy."
   ]
  },
  {
   "cell_type": "code",
   "execution_count": 7,
   "id": "d162c247-ee9b-43ab-97bb-5a873abad4c9",
   "metadata": {},
   "outputs": [],
   "source": [
    "import numpy as np\n",
    "def normalize(datos: np.ndarray) -> np.ndarray:\n",
    "    mean = datos.mean(axis=0)  # para que haga la media de cada columna!!! de cada una de las 13 características\n",
    "    std = datos.std(axis=0)  # es el vector con las desviaciones estándar de cada columna\n",
    "    datos -= mean  # nos centra en la media, cada columna con su media\n",
    "    datos /= std\n",
    "    return datos"
   ]
  },
  {
   "cell_type": "code",
   "execution_count": 8,
   "id": "e06187ba-4bde-4ff4-bb7b-cb42c835fd20",
   "metadata": {},
   "outputs": [],
   "source": [
    "train_data = normalize(train_data)\n",
    "test_data = normalize(test_data)"
   ]
  },
  {
   "cell_type": "code",
   "execution_count": 11,
   "id": "06037826-c7f4-47c3-8178-7c2d8ae68c82",
   "metadata": {},
   "outputs": [
    {
     "data": {
      "text/plain": [
       "array([-0.40342651,  2.99178419, -1.33391162, -0.25683275, -1.21518188,\n",
       "        1.89434613, -1.91036058,  1.24758524, -0.85646254, -0.34843254,\n",
       "       -1.71818909,  0.43190599, -1.32920239])"
      ]
     },
     "execution_count": 11,
     "metadata": {},
     "output_type": "execute_result"
    }
   ],
   "source": [
    "train_data[1]  # el mismo sample que mostramos antes, totalmente normalizado!!"
   ]
  },
  {
   "cell_type": "code",
   "execution_count": 12,
   "id": "ebade9bb-a4b3-42cf-9ecb-20583b4cf949",
   "metadata": {},
   "outputs": [],
   "source": [
    "from tensorflow import keras\n",
    "from tensorflow.keras import layers"
   ]
  },
  {
   "cell_type": "code",
   "execution_count": 13,
   "id": "cf56cd06-35f8-408d-a213-ee2e1d10a270",
   "metadata": {},
   "outputs": [],
   "source": [
    "# Necesitaremos instanciar el modelo varias veces, así que crearemos con una función\n",
    "def build_model():\n",
    "    model = keras.Sequential([\n",
    "        layers.Dense(64, activation=\"relu\"),\n",
    "        layers.Dense(64, activation=\"relu\"),\n",
    "        layers.Dense(1)\n",
    "    ])\n",
    "    model.compile(optimizer=\"rmsprop\", loss=\"mse\", metrics=[\"mae\"])\n",
    "    return model"
   ]
  },
  {
   "cell_type": "code",
   "execution_count": 11,
   "id": "6e98424d-7ced-4bdc-b7a5-5c7b9553d406",
   "metadata": {},
   "outputs": [],
   "source": [
    "# Observar que la capa de salida no tiene activación... esto es normal en los modelos de regresión\n",
    "# por ejemplo, si utilizamo sigmoide estaríamos restringiendo entre 0 y 1, etc\n",
    "# El error usado es mse: mean squared error, clásico en estos problemas de regresión!!\n",
    "# Como métrica usaremos mae, mean absolute error (por ejemplo, si fuera 0.5 significaría un error absoluto de 500 dólares)"
   ]
  },
  {
   "cell_type": "code",
   "execution_count": 12,
   "id": "6aa0f3b2-0c07-4234-a2d9-5efa1fd467bb",
   "metadata": {},
   "outputs": [],
   "source": [
    "# Validaremos usando k-fold validation... ESTO ES PORQUE EL TRAINING ES MUY PEQUEÑO\n",
    "# Y SI ENCIMA TENEMOS QUE APARTAR UN MINISET PARA VALIDAR PUES ...\n",
    "# Consiste en dividir nuestro trainning data en k particiones (normalmente 4 o 5)\n",
    "# instanciar k modelos idénticos, y entrenar cada uno de esos modelos con k - 1 particiones\n",
    "# y validarlo con la restante... (de esa forma cada modelo se validará con 1 de las particiones\n",
    "# y se entrenará con las otras k -1\n",
    "# Luego como score del modelo es la media de las k scores\n",
    "# Al tema..."
   ]
  },
  {
   "cell_type": "code",
   "execution_count": 14,
   "id": "584e567d-488f-4a23-9ca7-db0bea62aa14",
   "metadata": {},
   "outputs": [
    {
     "name": "stdout",
     "output_type": "stream",
     "text": [
      "Procesando el fold #0\n",
      "Procesando el fold #1\n",
      "Procesando el fold #2\n",
      "Procesando el fold #3\n"
     ]
    }
   ],
   "source": [
    "k = 4  # lo normal es 4 o 5\n",
    "num_val_samples = len(train_data) // k\n",
    "all_scores = []  # aquí guardaremos el score de cada uno de las k evaluaciones que hagamos\n",
    "num_epochs = 100\n",
    "for i in range(k):\n",
    "    print(f'Procesando el fold #{i}')\n",
    "    val_data = train_data[i * num_val_samples: (i + 1) * num_val_samples]\n",
    "    val_targets = train_targets[i * num_val_samples: (i + 1) * num_val_samples]\n",
    "    partial_train_data = np.concatenate(\n",
    "        [train_data[:i * num_val_samples],\n",
    "        train_data[(i + 1) * num_val_samples:]],\n",
    "        axis=0)  # Lo del axis es para que concatene las matrices por filas...\n",
    "    partial_train_targets = np.concatenate(\n",
    "        [train_targets[:i * num_val_samples],\n",
    "        train_targets[(i + 1) * num_val_samples:]],\n",
    "        axis=0)\n",
    "    model = build_model()\n",
    "    model.fit(partial_train_data, partial_train_targets,\n",
    "              epochs=num_epochs, batch_size=16, verbose=0)  # Ponemos en silencio\n",
    "    # Obtenemos el error mse, y la métrica mae\n",
    "    val_mse, val_mae = model.evaluate(val_data, val_targets, verbose=0)\n",
    "    all_scores.append(val_mae)"
   ]
  },
  {
   "cell_type": "code",
   "execution_count": 16,
   "id": "a52fa727-c00e-41eb-804f-d1be40b9d0db",
   "metadata": {},
   "outputs": [
    {
     "data": {
      "text/plain": [
       "[1.9942104816436768, 2.664018392562866, 2.5027122497558594, 2.3554604053497314]"
      ]
     },
     "execution_count": 16,
     "metadata": {},
     "output_type": "execute_result"
    }
   ],
   "source": [
    "all_scores"
   ]
  },
  {
   "cell_type": "code",
   "execution_count": 17,
   "id": "457a10fc-214d-4cb7-8594-757a5cd79af3",
   "metadata": {},
   "outputs": [
    {
     "data": {
      "text/plain": [
       "2.3791003823280334"
      ]
     },
     "execution_count": 17,
     "metadata": {},
     "output_type": "execute_result"
    }
   ],
   "source": [
    "np.mean(all_scores)"
   ]
  },
  {
   "cell_type": "code",
   "execution_count": 16,
   "id": "0be20260-fcaf-4b96-89df-bf8d90104cc2",
   "metadata": {},
   "outputs": [],
   "source": [
    "# La media es de 2400 dolares de error"
   ]
  },
  {
   "cell_type": "code",
   "execution_count": 18,
   "id": "6957a297-11c9-4cf0-a021-2bed77b82e2b",
   "metadata": {},
   "outputs": [
    {
     "name": "stdout",
     "output_type": "stream",
     "text": [
      "Processing fold #0\n",
      "Processing fold #1\n",
      "Processing fold #2\n",
      "Processing fold #3\n"
     ]
    }
   ],
   "source": [
    "# Hagamos a ver con más epochs... a ver si la cosa mejora...\n",
    "num_epochs = 500\n",
    "all_mae_histories = []\n",
    "for i in range(k):\n",
    "    print(f\"Processing fold #{i}\")\n",
    "    val_data = train_data[i * num_val_samples: (i + 1) * num_val_samples]\n",
    "    val_targets = train_targets[i * num_val_samples: (i + 1) * num_val_samples]\n",
    "    partial_train_data = np.concatenate([train_data[:i * num_val_samples],\n",
    "    train_data[(i + 1) * num_val_samples:]],axis=0)\n",
    "    partial_train_targets = np.concatenate(\n",
    "        [train_targets[:i * num_val_samples],\n",
    "         train_targets[(i + 1) * num_val_samples:]],\n",
    "        axis=0)\n",
    "    model = build_model()\n",
    "    history = model.fit(partial_train_data, partial_train_targets,\n",
    "                        validation_data=(val_data, val_targets),\n",
    "                        epochs=num_epochs, batch_size=16, verbose=0)\n",
    "    \n",
    "    mae_history = history.history[\"val_mae\"]\n",
    "    all_mae_histories.append(mae_history)"
   ]
  },
  {
   "cell_type": "code",
   "execution_count": 19,
   "id": "2619f607-0573-40a8-907b-90f42d01d607",
   "metadata": {},
   "outputs": [],
   "source": [
    "# We can then compute the average of the per-epoch MAE scores for all folds\n",
    "average_mae_history = [np.mean([x[i] for x in all_mae_histories]) for i in range(num_epochs)]"
   ]
  },
  {
   "cell_type": "code",
   "execution_count": 20,
   "id": "f7456ff4-8c66-4e5d-9cd7-9341d3667f11",
   "metadata": {},
   "outputs": [
    {
     "data": {
      "image/png": "[encoded data removed]",
      "text/plain": [
       "<Figure size 432x288 with 1 Axes>"
      ]
     },
     "metadata": {
      "needs_background": "light"
     },
     "output_type": "display_data"
    }
   ],
   "source": [
    "import matplotlib.pyplot as plt\n",
    "plt.plot(range(1, len(average_mae_history) + 1), average_mae_history)\n",
    "plt.xlabel(\"Epochs\")\n",
    "plt.ylabel(\"Validation MAE\")\n",
    "plt.show()"
   ]
  },
  {
   "cell_type": "code",
   "execution_count": 21,
   "id": "3801ab48-444b-4dc6-909a-5baa1d374bb6",
   "metadata": {},
   "outputs": [
    {
     "data": {
      "image/png": "[encoded data removed]",
      "text/plain": [
       "<Figure size 432x288 with 1 Axes>"
      ]
     },
     "metadata": {
      "needs_background": "light"
     },
     "output_type": "display_data"
    }
   ],
   "source": [
    "truncated_mae_history = average_mae_history[10:]\n",
    "plt.plot(range(1, len(truncated_mae_history) + 1), truncated_mae_history)\n",
    "plt.xlabel(\"Epochs\")\n",
    "plt.ylabel(\"Validation MAE\")\n",
    "plt.show()"
   ]
  },
  {
   "cell_type": "code",
   "execution_count": 22,
   "id": "cb1cf787-8e79-4524-a44d-dc2425c5de12",
   "metadata": {},
   "outputs": [],
   "source": [
    "# Se ve que el overfitting empieza a partir más o menos de 120..."
   ]
  },
  {
   "cell_type": "code",
   "execution_count": 23,
   "id": "3de6c5c7-e6ab-456c-91ba-30a28cccbf96",
   "metadata": {},
   "outputs": [
    {
     "name": "stdout",
     "output_type": "stream",
     "text": [
      "4/4 [==============================] - 0s 0s/step - loss: 13.5187 - mae: 2.6864\n"
     ]
    }
   ],
   "source": [
    "# Así que creemos nuestrao production model...\n",
    "model = build_model()\n",
    "model.fit(train_data, train_targets,\n",
    "epochs=130, batch_size=16, verbose=0)\n",
    "test_mse_score, test_mae_score = model.evaluate(test_data, test_targets)"
   ]
  },
  {
   "cell_type": "code",
   "execution_count": null,
   "id": "8af39418-2480-489a-b3dd-cfc79bf23566",
   "metadata": {},
   "outputs": [],
   "source": []
  }
 ],
 "metadata": {
  "kernelspec": {
   "display_name": "Python 3 (ipykernel)",
   "language": "python",
   "name": "python3"
  },
  "language_info": {
   "codemirror_mode": {
    "name": "ipython",
    "version": 3
   },
   "file_extension": ".py",
   "mimetype": "text/x-python",
   "name": "python",
   "nbconvert_exporter": "python",
   "pygments_lexer": "ipython3",
   "version": "3.10.1"
  }
 },
 "nbformat": 4,
 "nbformat_minor": 5
}
